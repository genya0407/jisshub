{
 "cells": [
  {
   "cell_type": "code",
   "execution_count": 1,
   "metadata": {
    "collapsed": false
   },
   "outputs": [
    {
     "data": {
      "application/javascript": [
       "if(window['d3'] === undefined ||\n",
       "   window['Nyaplot'] === undefined){\n",
       "    var path = {\"d3\":\"https://cdnjs.cloudflare.com/ajax/libs/d3/3.5.5/d3.min\",\"downloadable\":\"http://cdn.rawgit.com/domitry/d3-downloadable/master/d3-downloadable\"};\n",
       "\n",
       "\n",
       "\n",
       "    var shim = {\"d3\":{\"exports\":\"d3\"},\"downloadable\":{\"exports\":\"downloadable\"}};\n",
       "\n",
       "    require.config({paths: path, shim:shim});\n",
       "\n",
       "\n",
       "require(['d3'], function(d3){window['d3']=d3;console.log('finished loading d3');require(['downloadable'], function(downloadable){window['downloadable']=downloadable;console.log('finished loading downloadable');\n",
       "\n",
       "\tvar script = d3.select(\"head\")\n",
       "\t    .append(\"script\")\n",
       "\t    .attr(\"src\", \"http://cdn.rawgit.com/domitry/Nyaplotjs/master/release/nyaplot.js\")\n",
       "\t    .attr(\"async\", true);\n",
       "\n",
       "\tscript[0][0].onload = script[0][0].onreadystatechange = function(){\n",
       "\n",
       "\n",
       "\t    var event = document.createEvent(\"HTMLEvents\");\n",
       "\t    event.initEvent(\"load_nyaplot\",false,false);\n",
       "\t    window.dispatchEvent(event);\n",
       "\t    console.log('Finished loading Nyaplotjs');\n",
       "\n",
       "\t};\n",
       "\n",
       "\n",
       "});});\n",
       "}\n"
      ],
      "text/plain": [
       "\"if(window['d3'] === undefined ||\\n   window['Nyaplot'] === undefined){\\n    var path = {\\\"d3\\\":\\\"https://cdnjs.cloudflare.com/ajax/libs/d3/3.5.5/d3.min\\\",\\\"downloadable\\\":\\\"http://cdn.rawgit.com/domitry/d3-downloadable/master/d3-downloadable\\\"};\\n\\n\\n\\n    var shim = {\\\"d3\\\":{\\\"exports\\\":\\\"d3\\\"},\\\"downloadable\\\":{\\\"exports\\\":\\\"downloadable\\\"}};\\n\\n    require.config({paths: path, shim:shim});\\n\\n\\nrequire(['d3'], function(d3){window['d3']=d3;console.log('finished loading d3');require(['downloadable'], function(downloadable){window['downloadable']=downloadable;console.log('finished loading downloadable');\\n\\n\\tvar script = d3.select(\\\"head\\\")\\n\\t    .append(\\\"script\\\")\\n\\t    .attr(\\\"src\\\", \\\"http://cdn.rawgit.com/domitry/Nyaplotjs/master/release/nyaplot.js\\\")\\n\\t    .attr(\\\"async\\\", true);\\n\\n\\tscript[0][0].onload = script[0][0].onreadystatechange = function(){\\n\\n\\n\\t    var event = document.createEvent(\\\"HTMLEvents\\\");\\n\\t    event.initEvent(\\\"load_nyaplot\\\",false,false);\\n\\t    window.dispatchEvent(event);\\n\\t    console.log('Finished loading Nyaplotjs');\\n\\n\\t};\\n\\n\\n});});\\n}\\n\""
      ]
     },
     "metadata": {},
     "output_type": "display_data"
    },
    {
     "data": {
      "text/plain": [
       ":daru_dataframe"
      ]
     },
     "execution_count": 1,
     "metadata": {},
     "output_type": "execute_result"
    }
   ],
   "source": [
    "require 'daru'\n",
    "require 'daru_plotting_plotly'\n",
    "require 'rbplotly'\n",
    "require 'csv'\n",
    "\n",
    "Daru.plotting_library = :plotly\n",
    "\n",
    "class Numeric\n",
    "  def mili\n",
    "    (self * 10 ** (-3)).to_f\n",
    "  end\n",
    "  \n",
    "  def micro\n",
    "    (self * 10 ** (-6)).to_f\n",
    "  end\n",
    "end\n",
    "\n",
    "class HashGenerator\n",
    "  require 'deep_merge'\n",
    "\n",
    "  class << self\n",
    "    def create\n",
    "      inst = self.new\n",
    "      yield inst\n",
    "      inst\n",
    "    end\n",
    "  end\n",
    "  \n",
    "  def headers *names\n",
    "    @names = names\n",
    "    @hash = names.map { |name| [name.to_sym, []] }.to_h\n",
    "  end\n",
    "  \n",
    "  def body data_str\n",
    "    data = data_str.split(\"\\n\").map do |row_str|\n",
    "      row_str.split(\",\").map do |cell_str|\n",
    "        eval cell_str\n",
    "      end\n",
    "    end\n",
    "    \n",
    "    data.each do |row|\n",
    "      row.each_with_index do |cell, index|\n",
    "        @hash.deep_merge! @names[index] => [cell]\n",
    "      end\n",
    "    end\n",
    "    \n",
    "  end\n",
    "  \n",
    "  def daru_dataframe\n",
    "    Daru::DataFrame.new(@hash)\n",
    "  end\n",
    "end"
   ]
  },
  {
   "cell_type": "markdown",
   "metadata": {},
   "source": [
    "# red"
   ]
  },
  {
   "cell_type": "code",
   "execution_count": 28,
   "metadata": {
    "collapsed": false
   },
   "outputs": [
    {
     "data": {
      "text/html": [
       "\n",
       "  <script>\n",
       "  requirejs.config({paths: { 'plotly': ['https://cdn.plot.ly/plotly-latest.min'] }})\n",
       "  </script>\n",
       "\n",
       "\n",
       "<div id=\"f8e4ec9b-1826-474f-857b-a4bbdefb9cea\" style=\"height: 100%; width: 100%;\"></div>\n",
       "\n",
       "<script>\n",
       " require(['plotly'], function(Plotly) { \n",
       "Plotly.newPlot(\n",
       "  'f8e4ec9b-1826-474f-857b-a4bbdefb9cea',\n",
       "  [{\"x\":[0.54,1.076,1.629,1.72,1.78,1.863,1.934,1.996],\"y\":[1.0e-14,2.0e-14,6.0e-06,0.00068,0.0023,0.006,0.011,0.0146],\"type\":\"scatter\",\"mode\":\"\",\"name\":\"i\"}],\n",
       "  {\"width\":1000,\"height\":500},\n",
       "  {\"linkText\":\"Export to plot.ly\",\"showLink\":true}\n",
       ")\n",
       "\n",
       "window.addEventListener('resize', function() {\n",
       "  Plotly.Plots.resize(document.getElementById('f8e4ec9b-1826-474f-857b-a4bbdefb9cea'))\n",
       "})\n",
       " }) \n",
       "</script>"
      ],
      "text/plain": [
       "#<Plotly::Offline::HTML:0x007f88f2ae8080 @id=\"f8e4ec9b-1826-474f-857b-a4bbdefb9cea\", @data=[{:x=>[0.54, 1.076, 1.629, 1.72, 1.78, 1.863, 1.934, 1.996], :y=>[1.0e-14, 2.0e-14, 6.0e-06, 0.00068, 0.0023, 0.006, 0.011, 0.0146], :type=>:scatter, :mode=>\"\", :name=>:i}], @layout={:width=>1000, :height=>500}, @config={:linkText=>\"Export to plot.ly\", :showLink=>true}, @embedded=true>"
      ]
     },
     "metadata": {},
     "output_type": "display_data"
    },
    {
     "data": {
      "text/html": [
       "\n",
       "  <script>\n",
       "  requirejs.config({paths: { 'plotly': ['https://cdn.plot.ly/plotly-latest.min'] }})\n",
       "  </script>\n",
       "\n",
       "\n",
       "<div id=\"13f1c5cf-369e-4a3e-a504-78d8785f07b1\" style=\"height: 100%; width: 100%;\"></div>\n",
       "\n",
       "<script>\n",
       " require(['plotly'], function(Plotly) { \n",
       "Plotly.newPlot(\n",
       "  '13f1c5cf-369e-4a3e-a504-78d8785f07b1',\n",
       "  [{\"x\":[0.54,1.076,1.629,1.72,1.78,1.863,1.934,1.996],\"y\":[1.0e-14,2.0e-14,6.0e-06,0.00068,0.0023,0.006,0.011,0.0146],\"type\":\"scatter\",\"mode\":\"\",\"name\":\"i\"}],\n",
       "  {\"width\":1000,\"height\":500,\"yaxis\":{\"type\":\"log\"}},\n",
       "  {\"linkText\":\"Export to plot.ly\",\"showLink\":true}\n",
       ")\n",
       "\n",
       "window.addEventListener('resize', function() {\n",
       "  Plotly.Plots.resize(document.getElementById('13f1c5cf-369e-4a3e-a504-78d8785f07b1'))\n",
       "})\n",
       " }) \n",
       "</script>"
      ],
      "text/plain": [
       "#<Plotly::Offline::HTML:0x007f88f2a79860 @id=\"13f1c5cf-369e-4a3e-a504-78d8785f07b1\", @data=[{:x=>[0.54, 1.076, 1.629, 1.72, 1.78, 1.863, 1.934, 1.996], :y=>[1.0e-14, 2.0e-14, 6.0e-06, 0.00068, 0.0023, 0.006, 0.011, 0.0146], :type=>:scatter, :mode=>\"\", :name=>:i}], @layout={:width=>1000, :height=>500, :yaxis=>{:type=>:log}}, @config={:linkText=>\"Export to plot.ly\", :showLink=>true}, @embedded=true>"
      ]
     },
     "metadata": {},
     "output_type": "display_data"
    }
   ],
   "source": [
    "hg = HashGenerator.create do |gen|\n",
    "  gen.headers :i, :v\n",
    "  gen.body <<-BODY\n",
    "0.00000001.micro, 540.mili\n",
    "0.00000002.micro, 1076.mili\n",
    "6.micro, 1629.mili\n",
    "0.68.mili, 1720.mili\n",
    "2.3.mili, 1780.mili\n",
    "6.mili, 1863.mili\n",
    "11.mili, 1934.mili\n",
    "14.6.mili, 1996.mili\n",
    "BODY\n",
    "end.daru_dataframe.tap do |df|\n",
    "  df.plot(x: :v, y: :i)\n",
    "  df.plot(x: :v, y: :i, layout: { yaxis: { type: :log } })\n",
    "  df.write_csv('red.csv')\n",
    "end\n",
    "nil"
   ]
  },
  {
   "cell_type": "markdown",
   "metadata": {},
   "source": [
    "# yellow"
   ]
  },
  {
   "cell_type": "code",
   "execution_count": 29,
   "metadata": {
    "collapsed": false
   },
   "outputs": [
    {
     "data": {
      "text/html": [
       "\n",
       "  <script>\n",
       "  requirejs.config({paths: { 'plotly': ['https://cdn.plot.ly/plotly-latest.min'] }})\n",
       "  </script>\n",
       "\n",
       "\n",
       "<div id=\"cba31b41-a594-429a-9ef1-1fd2fce3d1b4\" style=\"height: 100%; width: 100%;\"></div>\n",
       "\n",
       "<script>\n",
       " require(['plotly'], function(Plotly) { \n",
       "Plotly.newPlot(\n",
       "  'cba31b41-a594-429a-9ef1-1fd2fce3d1b4',\n",
       "  [{\"x\":[1.62,1.768,1.817,1.897,1.945,1.983,2.01],\"y\":[2.8e-05,0.000505,0.0013000000000000002,0.004900000000000001,0.0087,0.012400000000000001,0.0162],\"type\":\"scatter\",\"mode\":\"\",\"name\":\"i\"}],\n",
       "  {\"width\":1000,\"height\":500},\n",
       "  {\"linkText\":\"Export to plot.ly\",\"showLink\":true}\n",
       ")\n",
       "\n",
       "window.addEventListener('resize', function() {\n",
       "  Plotly.Plots.resize(document.getElementById('cba31b41-a594-429a-9ef1-1fd2fce3d1b4'))\n",
       "})\n",
       " }) \n",
       "</script>"
      ],
      "text/plain": [
       "#<Plotly::Offline::HTML:0x007f88f29337a8 @id=\"cba31b41-a594-429a-9ef1-1fd2fce3d1b4\", @data=[{:x=>[1.62, 1.768, 1.817, 1.897, 1.945, 1.983, 2.01], :y=>[2.8e-05, 0.000505, 0.0013000000000000002, 0.004900000000000001, 0.0087, 0.012400000000000001, 0.0162], :type=>:scatter, :mode=>\"\", :name=>:i}], @layout={:width=>1000, :height=>500}, @config={:linkText=>\"Export to plot.ly\", :showLink=>true}, @embedded=true>"
      ]
     },
     "metadata": {},
     "output_type": "display_data"
    },
    {
     "data": {
      "text/html": [
       "\n",
       "  <script>\n",
       "  requirejs.config({paths: { 'plotly': ['https://cdn.plot.ly/plotly-latest.min'] }})\n",
       "  </script>\n",
       "\n",
       "\n",
       "<div id=\"2aa369ed-27ba-41d5-9248-cf2b22d30ad3\" style=\"height: 100%; width: 100%;\"></div>\n",
       "\n",
       "<script>\n",
       " require(['plotly'], function(Plotly) { \n",
       "Plotly.newPlot(\n",
       "  '2aa369ed-27ba-41d5-9248-cf2b22d30ad3',\n",
       "  [{\"x\":[1.62,1.768,1.817,1.897,1.945,1.983,2.01],\"y\":[2.8e-05,0.000505,0.0013000000000000002,0.004900000000000001,0.0087,0.012400000000000001,0.0162],\"type\":\"scatter\",\"mode\":\"\",\"name\":\"i\"}],\n",
       "  {\"width\":1000,\"height\":500,\"yaxis\":{\"type\":\"log\"}},\n",
       "  {\"linkText\":\"Export to plot.ly\",\"showLink\":true}\n",
       ")\n",
       "\n",
       "window.addEventListener('resize', function() {\n",
       "  Plotly.Plots.resize(document.getElementById('2aa369ed-27ba-41d5-9248-cf2b22d30ad3'))\n",
       "})\n",
       " }) \n",
       "</script>"
      ],
      "text/plain": [
       "#<Plotly::Offline::HTML:0x007f88f28ab7e0 @id=\"2aa369ed-27ba-41d5-9248-cf2b22d30ad3\", @data=[{:x=>[1.62, 1.768, 1.817, 1.897, 1.945, 1.983, 2.01], :y=>[2.8e-05, 0.000505, 0.0013000000000000002, 0.004900000000000001, 0.0087, 0.012400000000000001, 0.0162], :type=>:scatter, :mode=>\"\", :name=>:i}], @layout={:width=>1000, :height=>500, :yaxis=>{:type=>:log}}, @config={:linkText=>\"Export to plot.ly\", :showLink=>true}, @embedded=true>"
      ]
     },
     "metadata": {},
     "output_type": "display_data"
    }
   ],
   "source": [
    "hg = HashGenerator.create do |gen|\n",
    "  gen.headers :i, :v\n",
    "  gen.body <<-BODY\n",
    "28.micro, 1620.mili\n",
    "505.micro, 1768.mili\n",
    "1.3.mili, 1817.mili\n",
    "4.9.mili, 1897.mili\n",
    "8.7.mili, 1945.mili\n",
    "12.4.mili, 1983.mili\n",
    "16.2.mili, 2.01\n",
    "BODY\n",
    "end.daru_dataframe.tap do |df|\n",
    "  df.plot(x: :v, y: :i)\n",
    "  df.plot(x: :v, y: :i, layout: { yaxis: { type: :log } })\n",
    "  df.write_csv('yellow.csv')\n",
    "end\n",
    "nil"
   ]
  },
  {
   "cell_type": "markdown",
   "metadata": {},
   "source": []
  }
 ],
 "metadata": {
  "kernelspec": {
   "display_name": "Ruby 2.3.0",
   "language": "ruby",
   "name": "ruby"
  },
  "language_info": {
   "file_extension": ".rb",
   "mimetype": "application/x-ruby",
   "name": "ruby",
   "version": "2.3.0"
  }
 },
 "nbformat": 4,
 "nbformat_minor": 0
}
