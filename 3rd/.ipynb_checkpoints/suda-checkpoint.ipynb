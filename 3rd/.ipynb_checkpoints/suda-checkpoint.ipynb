{
 "cells": [
  {
   "cell_type": "code",
   "execution_count": 1,
   "metadata": {
    "collapsed": false
   },
   "outputs": [
    {
     "data": {
      "application/javascript": [
       "if(window['d3'] === undefined ||\n",
       "   window['Nyaplot'] === undefined){\n",
       "    var path = {\"d3\":\"https://cdnjs.cloudflare.com/ajax/libs/d3/3.5.5/d3.min\",\"downloadable\":\"http://cdn.rawgit.com/domitry/d3-downloadable/master/d3-downloadable\"};\n",
       "\n",
       "\n",
       "\n",
       "    var shim = {\"d3\":{\"exports\":\"d3\"},\"downloadable\":{\"exports\":\"downloadable\"}};\n",
       "\n",
       "    require.config({paths: path, shim:shim});\n",
       "\n",
       "\n",
       "require(['d3'], function(d3){window['d3']=d3;console.log('finished loading d3');require(['downloadable'], function(downloadable){window['downloadable']=downloadable;console.log('finished loading downloadable');\n",
       "\n",
       "\tvar script = d3.select(\"head\")\n",
       "\t    .append(\"script\")\n",
       "\t    .attr(\"src\", \"http://cdn.rawgit.com/domitry/Nyaplotjs/master/release/nyaplot.js\")\n",
       "\t    .attr(\"async\", true);\n",
       "\n",
       "\tscript[0][0].onload = script[0][0].onreadystatechange = function(){\n",
       "\n",
       "\n",
       "\t    var event = document.createEvent(\"HTMLEvents\");\n",
       "\t    event.initEvent(\"load_nyaplot\",false,false);\n",
       "\t    window.dispatchEvent(event);\n",
       "\t    console.log('Finished loading Nyaplotjs');\n",
       "\n",
       "\t};\n",
       "\n",
       "\n",
       "});});\n",
       "}\n"
      ],
      "text/plain": [
       "\"if(window['d3'] === undefined ||\\n   window['Nyaplot'] === undefined){\\n    var path = {\\\"d3\\\":\\\"https://cdnjs.cloudflare.com/ajax/libs/d3/3.5.5/d3.min\\\",\\\"downloadable\\\":\\\"http://cdn.rawgit.com/domitry/d3-downloadable/master/d3-downloadable\\\"};\\n\\n\\n\\n    var shim = {\\\"d3\\\":{\\\"exports\\\":\\\"d3\\\"},\\\"downloadable\\\":{\\\"exports\\\":\\\"downloadable\\\"}};\\n\\n    require.config({paths: path, shim:shim});\\n\\n\\nrequire(['d3'], function(d3){window['d3']=d3;console.log('finished loading d3');require(['downloadable'], function(downloadable){window['downloadable']=downloadable;console.log('finished loading downloadable');\\n\\n\\tvar script = d3.select(\\\"head\\\")\\n\\t    .append(\\\"script\\\")\\n\\t    .attr(\\\"src\\\", \\\"http://cdn.rawgit.com/domitry/Nyaplotjs/master/release/nyaplot.js\\\")\\n\\t    .attr(\\\"async\\\", true);\\n\\n\\tscript[0][0].onload = script[0][0].onreadystatechange = function(){\\n\\n\\n\\t    var event = document.createEvent(\\\"HTMLEvents\\\");\\n\\t    event.initEvent(\\\"load_nyaplot\\\",false,false);\\n\\t    window.dispatchEvent(event);\\n\\t    console.log('Finished loading Nyaplotjs');\\n\\n\\t};\\n\\n\\n});});\\n}\\n\""
      ]
     },
     "metadata": {},
     "output_type": "display_data"
    },
    {
     "data": {
      "text/plain": [
       ":daru_dataframe"
      ]
     },
     "execution_count": 1,
     "metadata": {},
     "output_type": "execute_result"
    }
   ],
   "source": [
    "require 'daru'\n",
    "require 'daru_plotting_plotly'\n",
    "require 'rbplotly'\n",
    "require 'csv'\n",
    "\n",
    "Daru.plotting_library = :plotly\n",
    "\n",
    "class Numeric\n",
    "  def mili\n",
    "    (self * 10 ** (-3)).to_f\n",
    "  end\n",
    "  \n",
    "  def micro\n",
    "    (self * 10 ** (-6)).to_f\n",
    "  end\n",
    "end\n",
    "\n",
    "class HashGenerator\n",
    "  require 'deep_merge'\n",
    "\n",
    "  class << self\n",
    "    def create\n",
    "      inst = self.new\n",
    "      yield inst\n",
    "      inst\n",
    "    end\n",
    "  end\n",
    "  \n",
    "  def headers *names\n",
    "    @names = names\n",
    "    @hash = names.map { |name| [name.to_sym, []] }.to_h\n",
    "  end\n",
    "  \n",
    "  def body data_str\n",
    "    data = data_str.split(\"\\n\").map do |row_str|\n",
    "      row_str.split(\",\").map do |cell_str|\n",
    "        eval cell_str\n",
    "      end\n",
    "    end\n",
    "    \n",
    "    data.each do |row|\n",
    "      row.each_with_index do |cell, index|\n",
    "        @hash.deep_merge! @names[index] => [cell]\n",
    "      end\n",
    "    end\n",
    "    \n",
    "  end\n",
    "  \n",
    "  def daru_dataframe\n",
    "    Daru::DataFrame.new(@hash)\n",
    "  end\n",
    "end"
   ]
  },
  {
   "cell_type": "markdown",
   "metadata": {},
   "source": [
    "# 直列２つ"
   ]
  },
  {
   "cell_type": "code",
   "execution_count": 2,
   "metadata": {
    "collapsed": false
   },
   "outputs": [
    {
     "ename": "NameError",
     "evalue": "uninitialized constant #<Class:Daru::IO>::Spreadsheet",
     "output_type": "error",
     "traceback": [
      "\u001b[31mNameError\u001b[0m: uninitialized constant #<Class:Daru::IO>::Spreadsheet",
      "\u001b[37m/Users/sangenya/.rbenv/versions/2.3.0/lib/ruby/gems/2.3.0/gems/daru-0.1.4.1/lib/daru/io/io.rb:61:in `dataframe_write_excel'\u001b[0m",
      "\u001b[37m/Users/sangenya/.rbenv/versions/2.3.0/lib/ruby/gems/2.3.0/gems/daru-0.1.4.1/lib/daru/dataframe.rb:1811:in `write_excel'\u001b[0m",
      "\u001b[37m<main>:13:in `block in <main>'\u001b[0m",
      "\u001b[37m<main>:11:in `tap'\u001b[0m",
      "\u001b[37m<main>:11:in `<main>'\u001b[0m",
      "\u001b[37m/Users/sangenya/.rbenv/versions/2.3.0/lib/ruby/gems/2.3.0/gems/iruby-0.2.9/lib/iruby/backend.rb:44:in `eval'\u001b[0m",
      "\u001b[37m/Users/sangenya/.rbenv/versions/2.3.0/lib/ruby/gems/2.3.0/gems/iruby-0.2.9/lib/iruby/backend.rb:44:in `eval'\u001b[0m",
      "\u001b[37m/Users/sangenya/.rbenv/versions/2.3.0/lib/ruby/gems/2.3.0/gems/iruby-0.2.9/lib/iruby/backend.rb:12:in `eval'\u001b[0m",
      "\u001b[37m/Users/sangenya/.rbenv/versions/2.3.0/lib/ruby/gems/2.3.0/gems/iruby-0.2.9/lib/iruby/kernel.rb:87:in `execute_request'\u001b[0m",
      "\u001b[37m/Users/sangenya/.rbenv/versions/2.3.0/lib/ruby/gems/2.3.0/gems/iruby-0.2.9/lib/iruby/kernel.rb:47:in `dispatch'\u001b[0m",
      "\u001b[37m/Users/sangenya/.rbenv/versions/2.3.0/lib/ruby/gems/2.3.0/gems/iruby-0.2.9/lib/iruby/kernel.rb:37:in `run'\u001b[0m",
      "\u001b[37m/Users/sangenya/.rbenv/versions/2.3.0/lib/ruby/gems/2.3.0/gems/iruby-0.2.9/lib/iruby/command.rb:70:in `run_kernel'\u001b[0m",
      "\u001b[37m/Users/sangenya/.rbenv/versions/2.3.0/lib/ruby/gems/2.3.0/gems/iruby-0.2.9/lib/iruby/command.rb:34:in `run'\u001b[0m",
      "\u001b[37m/Users/sangenya/.rbenv/versions/2.3.0/lib/ruby/gems/2.3.0/gems/iruby-0.2.9/bin/iruby:5:in `<top (required)>'\u001b[0m",
      "\u001b[37m/Users/sangenya/.rbenv/versions/2.3.0/bin/iruby:23:in `load'\u001b[0m",
      "\u001b[37m/Users/sangenya/.rbenv/versions/2.3.0/bin/iruby:23:in `<main>'\u001b[0m"
     ]
    }
   ],
   "source": [
    "HashGenerator.create do |gen|\n",
    "  gen.headers :i, :v\n",
    "  gen.body <<-BODY\n",
    "-9.96.mili, 1073.mili\n",
    "-19.0.mili, 1056.mili\n",
    "-29.9.mili, 1040.mili\n",
    "-40.2.mili, 1022.mili\n",
    "-51.4.mili, 986.mili\n",
    "-74.0.mili, 902.mili\n",
    "-81.9.mili, 530.mili\n",
    "BODY\n",
    "end.daru_dataframe.tap do |df|\n",
    "  df.write_csv('2_series.csv')\n",
    "  df.write_excel('hoge.xlsx')\n",
    "end\n",
    "nil"
   ]
  },
  {
   "cell_type": "markdown",
   "metadata": {},
   "source": [
    "# 並列２つ"
   ]
  },
  {
   "cell_type": "code",
   "execution_count": 3,
   "metadata": {
    "collapsed": false
   },
   "outputs": [],
   "source": [
    "HashGenerator.create do |gen|\n",
    "  gen.headers :i, :v\n",
    "  gen.body <<-BODY\n",
    "-98.0.mili, 496.mili\n",
    "-79.0.mili, 507.mili\n",
    "-60.4.mili, 515.mili\n",
    "-52.2.mili, 518.mili\n",
    "-42.8.mili, 521.mili\n",
    "-32.9.mili, 524.mili\n",
    "-25.4.mili, 526.mili\n",
    "-18.4.mili, 528.mili\n",
    "-12.2.mili, 529.mili\n",
    "-7.6.mili, 530.mili\n",
    "-3.5.mili, 529.mili\n",
    "-2.56.mili, 529.mili\n",
    "BODY\n",
    "end.daru_dataframe.tap do |df|\n",
    "  df.write_csv('2_parallel.csv')\n",
    "end\n",
    "nil"
   ]
  },
  {
   "cell_type": "markdown",
   "metadata": {},
   "source": [
    "# 一つ"
   ]
  },
  {
   "cell_type": "code",
   "execution_count": 4,
   "metadata": {
    "collapsed": false
   },
   "outputs": [],
   "source": [
    "HashGenerator.create do |gen|\n",
    "  gen.headers :i, :v\n",
    "  gen.body <<-BODY\n",
    "-80.mili, 369.mili\n",
    "-62.3.mili, 486.mili\n",
    "-43.6.mili, 510.mili\n",
    "-31.4.mili, 521.mili\n",
    "-23.2.mili, 526.mili\n",
    "-16.3.mili, 530.mili\n",
    "-10.6.mili, 532.mili\n",
    "-6.3.mili, 534.mili\n",
    "-5.0.mili, 534.mili\n",
    "BODY\n",
    "end.daru_dataframe.tap do |df|\n",
    "  df.write_csv('mono.csv')\n",
    "end\n",
    "nil"
   ]
  },
  {
   "cell_type": "markdown",
   "metadata": {},
   "source": [
    "# ３つ並列"
   ]
  },
  {
   "cell_type": "code",
   "execution_count": 5,
   "metadata": {
    "collapsed": false
   },
   "outputs": [],
   "source": [
    "HashGenerator.create do |gen|\n",
    "  gen.headers :i, :v\n",
    "  gen.body <<-BODY\n",
    "-113.6.mili, 497.mili\n",
    "-92.0.mili, 505.mili\n",
    "-66.5.mili, 515.mili\n",
    "-45.0.mili, 521.mili\n",
    "-33.4.mili, 524.mili\n",
    "-21.9.mili, 527.mili\n",
    "-13.4.mili, 529.mili\n",
    "-7.9.mili, 530.mili\n",
    "-5.0.mili, 531.mili\n",
    "BODY\n",
    "end.daru_dataframe.tap do |df|\n",
    "  df.write_csv('3_parallel.csv')\n",
    "end\n",
    "nil"
   ]
  },
  {
   "cell_type": "code",
   "execution_count": 6,
   "metadata": {
    "collapsed": true
   },
   "outputs": [],
   "source": [
    "HashGenerator.create do |gen|\n",
    "  gen.headers :i, :v\n",
    "  gen.body <<-BODY\n",
    "-116.mili, 534.mili\n",
    "-102.mili, 936.mili\n",
    "-73.5.mili, 996.mili\n",
    "-58.2.mili, 1013.mili\n",
    "-44.2.mili, 1028.mili\n",
    "-33.6.mili, 1036.mili\n",
    "-22.0.mili, 1045.mili\n",
    "-12.0.mili, 1051.mili\n",
    "-9.9.mili, 1051.mili\n",
    "BODY\n",
    "end.daru_dataframe.tap do |df|\n",
    "  df.write_csv('2p_2s.csv')\n",
    "end\n",
    "nil"
   ]
  },
  {
   "cell_type": "code",
   "execution_count": 7,
   "metadata": {
    "collapsed": false
   },
   "outputs": [],
   "source": [
    "HashGenerator.create do |gen|\n",
    "  gen.headers :i, :v\n",
    "  gen.body <<-BODY\n",
    "-81.8.mili, 439.mili\n",
    "-58.5.mili, 982.mili\n",
    "-39.3.mili, 1012.mili\n",
    "-21.8.mili, 1037.mili\n",
    "-12.1.mili, 1047.mili\n",
    "-9.8.mili, 1050.mili\n",
    "BODY\n",
    "end.daru_dataframe.tap do |df|\n",
    "  df.write_csv('2_series_new.csv')\n",
    "end\n",
    "nil"
   ]
  },
  {
   "cell_type": "code",
   "execution_count": 8,
   "metadata": {
    "collapsed": false
   },
   "outputs": [],
   "source": [
    "HashGenerator.create do |gen|\n",
    "  gen.headers :i, :v\n",
    "  gen.body <<-BODY\n",
    "-66.7.mili, 260.mili\n",
    "-67.0.mili, 1010.mili\n",
    "-50.2.mili, 1480.mili\n",
    "-41.6.mili, 1507.mili\n",
    "-28.0.mili, 1540.mili\n",
    "-18.0.mili, 1560.mili\n",
    "BODY\n",
    "end.daru_dataframe.tap do |df|\n",
    "  df.write_csv('3_series.csv')\n",
    "end\n",
    "nil"
   ]
  },
  {
   "cell_type": "code",
   "execution_count": 9,
   "metadata": {
    "collapsed": false
   },
   "outputs": [],
   "source": [
    "HashGenerator.create do |gen|\n",
    "  gen.headers :i, :v\n",
    "  gen.body <<-BODY\n",
    "-94.1.mili, 440.mili\n",
    "-95.7.mili, 990.mili\n",
    "-70.6.mili, 1450.mili\n",
    "-50.2.mili, 1494.mili\n",
    "-37.9.mili, 1515.mili\n",
    "BODY\n",
    "end.daru_dataframe.tap do |df|\n",
    "  df.write_csv('2p_3s.csv')\n",
    "end\n",
    "nil"
   ]
  },
  {
   "cell_type": "code",
   "execution_count": 10,
   "metadata": {
    "collapsed": true
   },
   "outputs": [],
   "source": [
    "HashGenerator.create do |gen|\n",
    "  gen.headers :i, :v\n",
    "  gen.body <<-BODY\n",
    "-133.mili, 680.mili\n",
    "-132.mili, 980.mili\n",
    "-110.mili, 1384.mili\n",
    "-70.8.mili, 1474.mili\n",
    "-63.5.mili, 1485.mili\n",
    "-48.5.mili, 1503.mili\n",
    "-31.4.mili, 1522.mili\n",
    "BODY\n",
    "end.daru_dataframe.tap do |df|\n",
    "  df.write_csv('3p_3s.csv')\n",
    "end\n",
    "nil"
   ]
  },
  {
   "cell_type": "code",
   "execution_count": 11,
   "metadata": {
    "collapsed": true
   },
   "outputs": [],
   "source": [
    "HashGenerator.create do |gen|\n",
    "  gen.headers :i, :v\n",
    "  gen.body <<-BODY\n",
    "-19.2.mili, 120.mili\n",
    "-18.8.mili, 1853.mili\n",
    "BODY\n",
    "end.daru_dataframe.tap do |df|\n",
    "  df.write_csv('1p_9s.csv')\n",
    "end\n",
    "nil"
   ]
  },
  {
   "cell_type": "code",
   "execution_count": 12,
   "metadata": {
    "collapsed": true
   },
   "outputs": [],
   "source": [
    "HashGenerator.create do |gen|\n",
    "  gen.headers :i, :v\n",
    "  gen.body <<-BODY\n",
    "-28.0.mili, 157.mili\n",
    "-26.7.mili, 985.mili\n",
    "-22.7.mili, 2.47\n",
    "BODY\n",
    "end.daru_dataframe.tap do |df|\n",
    "  df.write_csv('1p_5s.csv')\n",
    "end\n",
    "nil"
   ]
  },
  {
   "cell_type": "code",
   "execution_count": null,
   "metadata": {
    "collapsed": true
   },
   "outputs": [],
   "source": [
    "HashGenerator.create do |gen|\n",
    "  gen.headers :i, :v\n",
    "  gen.body <<-BODY\n",
    "-30.9.mili, 195.mili\n",
    "-26.5.mili, 1942.mili\n",
    "-22.8.mili, 1977.mili\n",
    "-18.6.mili, 2\n",
    "BODY\n",
    "end.daru_dataframe.tap do |df|\n",
    "  df.write_csv('1p_4s.csv')\n",
    "end\n",
    "nil"
   ]
  },
  {
   "cell_type": "code",
   "execution_count": null,
   "metadata": {
    "collapsed": true
   },
   "outputs": [],
   "source": [
    "HashGenerator.create do |gen|\n",
    "  gen.headers :i, :v\n",
    "  gen.body <<-BODY\n",
    "-136.mili, 712.mili\n",
    "-92.0.mili, 1049.mili\n",
    "-79.8.mili, 1067.mili\n",
    "-52.3.mili, 1097.mili\n",
    "-44.0.mili, 1104.mili\n",
    "-34.2.mili, 1113.mili\n",
    "-29.3.mili, 1117.mili\n",
    "-20.5.mili, 1123.mili\n",
    "-13.9.mili, 1128.mili\n",
    "-10.5.mili, 1130.mili\n",
    "BODY\n",
    "end.daru_dataframe.tap do |df|\n",
    "  df.write_csv('extra.csv')\n",
    "end\n",
    "nil"
   ]
  },
  {
   "cell_type": "code",
   "execution_count": 22,
   "metadata": {
    "collapsed": false
   },
   "outputs": [
    {
     "data": {
      "text/html": [
       "\n",
       "  <script>\n",
       "  requirejs.config({paths: { 'plotly': ['https://cdn.plot.ly/plotly-latest.min'] }})\n",
       "  </script>\n",
       "\n",
       "\n",
       "<div id=\"ca2c99e0-32ea-4f19-aa98-2e3f08547c20\" style=\"height: 100%; width: 100%;\"></div>\n",
       "\n",
       "<script>\n",
       " require(['plotly'], function(Plotly) { \n",
       "Plotly.newPlot(\n",
       "  'ca2c99e0-32ea-4f19-aa98-2e3f08547c20',\n",
       "  [{\"x\":[1.073,1.056,1.04,1.022,0.986,0.902,0.53],\"y\":[-0.009960000000000002,-0.019,-0.0299,-0.04020000000000001,-0.0514,-0.074,-0.0819],\"type\":\"scatter\",\"name\":\"2_series.csv\"},{\"x\":[0.496,0.507,0.515,0.518,0.521,0.524,0.526,0.528,0.529,0.53,null,null],\"y\":[-0.098,-0.079,-0.0604,-0.0522,-0.0428,-0.0329,-0.0254,-0.0184,-0.012199999999999999,-0.0076,-0.0035,-0.00256],\"type\":\"scatter\",\"name\":\"2_parallel.csv\"},{\"x\":[0.369,0.486,0.51,0.521,0.526,0.53,0.532,0.534,null],\"y\":[-0.08,-0.0623,-0.0436,-0.0314,-0.0232,-0.016300000000000002,-0.0106,-0.0063,-0.005],\"type\":\"scatter\",\"name\":\"mono.csv\"},{\"x\":[0.497,0.505,0.515,0.521,0.524,0.527,0.529,0.53,0.531],\"y\":[-0.11359999999999999,-0.092,-0.0665,-0.045,-0.0334,-0.0219,-0.0134,-0.0079,-0.005],\"type\":\"scatter\",\"name\":\"3_parallel.csv\"},{\"x\":[0.534,0.936,0.996,1.013,1.028,1.036,1.045,1.051,null],\"y\":[-0.116,-0.102,-0.0735,-0.0582,-0.0442,-0.033600000000000005,-0.022,-0.012,-0.0099],\"type\":\"scatter\",\"name\":\"2p_2s.csv\"},{\"x\":[0.44,0.99,1.45,1.494,1.515],\"y\":[-0.0941,-0.09570000000000001,-0.0706,-0.0502,-0.037899999999999996],\"type\":\"scatter\",\"name\":\"2p_3s.csv\"},{\"x\":[0.68,0.98,1.384,1.474,1.485,1.503,1.522],\"y\":[-0.133,-0.132,-0.11,-0.0708,-0.0635,-0.0485,-0.0314],\"type\":\"scatter\",\"name\":\"3p_3s.csv\"},{\"x\":[0.12,1.853],\"y\":[-0.0192,-0.0188],\"type\":\"scatter\",\"name\":\"1p_9s.csv\"},{\"x\":[0.157,0.985,2.47],\"y\":[-0.028,-0.0267,-0.0227],\"type\":\"scatter\",\"name\":\"1p_5s.csv\"},{\"x\":[0.195,1.942,1.977,2],\"y\":[-0.0309,-0.0265,-0.0228,-0.018600000000000002],\"type\":\"scatter\",\"name\":\"1p_4s.csv\"},{\"x\":[0.439,0.982,1.012,1.037,1.047,1.05],\"y\":[-0.0818,-0.0585,-0.039299999999999995,-0.0218,-0.0121,-0.009800000000000001],\"type\":\"scatter\",\"name\":\"2_series_new.csv\"},{\"x\":[0.26,1.01,1.48,1.507,1.54,1.56],\"y\":[-0.06670000000000001,-0.067,-0.0502,-0.041600000000000005,-0.028,-0.018000000000000002],\"type\":\"scatter\",\"name\":\"3_series.csv\"},{\"x\":[0.712,1.049,1.067,1.097,1.104,1.113,1.117,1.123,1.128,1.13],\"y\":[-0.136,-0.092,-0.0798,-0.0523,-0.044,-0.0342,-0.0293,-0.0205,-0.013900000000000001,-0.0105],\"type\":\"scatter\",\"name\":\"extra.csv\"},{\"x\":[0.63],\"y\":[-0.114],\"type\":\"scatter\",\"name\":\"3p_3s_new.csv\"}],\n",
       "  {\"xaxis\":{\"range\":[0,3]},\"yasix\":{\"range\":[0,-0.2]}},\n",
       "  {\"linkText\":\"Export to plot.ly\",\"showLink\":true}\n",
       ")\n",
       "\n",
       "window.addEventListener('resize', function() {\n",
       "  Plotly.Plots.resize(document.getElementById('ca2c99e0-32ea-4f19-aa98-2e3f08547c20'))\n",
       "})\n",
       " }) \n",
       "</script>"
      ],
      "text/plain": [
       "#<Plotly::Offline::HTML:0x007fb1059cfb40 @id=\"ca2c99e0-32ea-4f19-aa98-2e3f08547c20\", @data=[{:x=>[1.073, 1.056, 1.04, 1.022, 0.986, 0.902, 0.53], :y=>[-0.009960000000000002, -0.019, -0.0299, -0.04020000000000001, -0.0514, -0.074, -0.0819], :type=>:scatter, :name=>\"2_series.csv\"}, {:x=>[0.496, 0.507, 0.515, 0.518, 0.521, 0.524, 0.526, 0.528, 0.529, 0.53, nil, nil], :y=>[-0.098, -0.079, -0.0604, -0.0522, -0.0428, -0.0329, -0.0254, -0.0184, -0.012199999999999999, -0.0076, -0.0035, -0.00256], :type=>:scatter, :name=>\"2_parallel.csv\"}, {:x=>[0.369, 0.486, 0.51, 0.521, 0.526, 0.53, 0.532, 0.534, nil], :y=>[-0.08, -0.0623, -0.0436, -0.0314, -0.0232, -0.016300000000000002, -0.0106, -0.0063, -0.005], :type=>:scatter, :name=>\"mono.csv\"}, {:x=>[0.497, 0.505, 0.515, 0.521, 0.524, 0.527, 0.529, 0.53, 0.531], :y=>[-0.11359999999999999, -0.092, -0.0665, -0.045, -0.0334, -0.0219, -0.0134, -0.0079, -0.005], :type=>:scatter, :name=>\"3_parallel.csv\"}, {:x=>[0.534, 0.936, 0.996, 1.013, 1.028, 1.036, 1.045, 1.051, nil], :y=>[-0.116, -0.102, -0.0735, -0.0582, -0.0442, -0.033600000000000005, -0.022, -0.012, -0.0099], :type=>:scatter, :name=>\"2p_2s.csv\"}, {:x=>[0.44, 0.99, 1.45, 1.494, 1.515], :y=>[-0.0941, -0.09570000000000001, -0.0706, -0.0502, -0.037899999999999996], :type=>:scatter, :name=>\"2p_3s.csv\"}, {:x=>[0.68, 0.98, 1.384, 1.474, 1.485, 1.503, 1.522], :y=>[-0.133, -0.132, -0.11, -0.0708, -0.0635, -0.0485, -0.0314], :type=>:scatter, :name=>\"3p_3s.csv\"}, {:x=>[0.12, 1.853], :y=>[-0.0192, -0.0188], :type=>:scatter, :name=>\"1p_9s.csv\"}, {:x=>[0.157, 0.985, 2.47], :y=>[-0.028, -0.0267, -0.0227], :type=>:scatter, :name=>\"1p_5s.csv\"}, {:x=>[0.195, 1.942, 1.977, 2], :y=>[-0.0309, -0.0265, -0.0228, -0.018600000000000002], :type=>:scatter, :name=>\"1p_4s.csv\"}, {:x=>[0.439, 0.982, 1.012, 1.037, 1.047, 1.05], :y=>[-0.0818, -0.0585, -0.039299999999999995, -0.0218, -0.0121, -0.009800000000000001], :type=>:scatter, :name=>\"2_series_new.csv\"}, {:x=>[0.26, 1.01, 1.48, 1.507, 1.54, 1.56], :y=>[-0.06670000000000001, -0.067, -0.0502, -0.041600000000000005, -0.028, -0.018000000000000002], :type=>:scatter, :name=>\"3_series.csv\"}, {:x=>[0.712, 1.049, 1.067, 1.097, 1.104, 1.113, 1.117, 1.123, 1.128, 1.13], :y=>[-0.136, -0.092, -0.0798, -0.0523, -0.044, -0.0342, -0.0293, -0.0205, -0.013900000000000001, -0.0105], :type=>:scatter, :name=>\"extra.csv\"}, {:x=>[0.63], :y=>[-0.114], :type=>:scatter, :name=>\"3p_3s_new.csv\"}], @layout={:xaxis=>{:range=>[0, 3]}, :yasix=>{:range=>[0, -0.2]}}, @config={:linkText=>\"Export to plot.ly\", :showLink=>true}, @embedded=true>"
      ]
     },
     "metadata": {},
     "output_type": "display_data"
    },
    {
     "data": {
      "text/plain": [
       "[\"3p_3s.csv\", 0.15224]"
      ]
     },
     "execution_count": 22,
     "metadata": {},
     "output_type": "execute_result"
    }
   ],
   "source": [
    "HashGenerator.create do |gen|\n",
    "  gen.headers :i, :v\n",
    "  gen.body <<-BODY\n",
    "-114.mili, 630.mili\n",
    "-82.1.mili, 1473.mili\n",
    "\n",
    "BODY\n",
    "end.daru_dataframe.tap do |df|\n",
    "  df.write_csv('3p_3s_new.csv')\n",
    "end\n",
    "nil\n",
    "\n",
    "[\n",
    "  '2_series.csv',\n",
    "  '2_parallel.csv',\n",
    "  'mono.csv',\n",
    "  '3_parallel.csv',\n",
    "  '2p_2s.csv',\n",
    "  '2p_3s.csv',\n",
    "  '3p_3s.csv',\n",
    "  '1p_9s.csv',\n",
    "  '1p_5s.csv',\n",
    "  '1p_4s.csv',\n",
    "  '2_series_new.csv',\n",
    "  '3_series.csv',\n",
    "  'extra.csv',\n",
    "  '3p_3s_new.csv',\n",
    "].map { |name| [name, Daru::DataFrame.from_csv(name)] }.map do |name, df|\n",
    "  { x: df['v'].to_a, y: df['i'].to_a, type: :scatter, name: name }\n",
    "end.tap do |data|\n",
    "  Plotly::Plot.new(data: data, layout: { xaxis: { range: [0, 3] }, yasix: { range: [0, -0.2] }}).show\n",
    "end\n",
    "nil\n",
    "\n",
    "[\n",
    "  '2_series.csv',\n",
    "  '2_parallel.csv',\n",
    "  'mono.csv',\n",
    "  '3_parallel.csv',\n",
    "  '2p_2s.csv',\n",
    "  '2p_3s.csv',\n",
    "  '3p_3s.csv',\n",
    "  '1p_9s.csv',\n",
    "  '1p_5s.csv',\n",
    "  '1p_4s.csv',\n",
    "  '2_series_new.csv',\n",
    "  '3_series.csv',\n",
    "  'extra.csv',\n",
    "  '3p_3s_new.csv',\n",
    "].map { |name| [name, Daru::DataFrame.from_csv(name)] }.map do |name, df|\n",
    "  w = df.map_rows do |row|\n",
    "    if !row['v'].nil? && !row['i'].nil?\n",
    "      (row['v'] * row['i']).abs\n",
    "    else\n",
    "      0\n",
    "    end\n",
    "  end.max\n",
    "  [name, w]\n",
    "end.max_by { |name, w| w }"
   ]
  }
 ],
 "metadata": {
  "kernelspec": {
   "display_name": "Ruby 2.3.0",
   "language": "ruby",
   "name": "ruby"
  },
  "language_info": {
   "file_extension": ".rb",
   "mimetype": "application/x-ruby",
   "name": "ruby",
   "version": "2.3.0"
  }
 },
 "nbformat": 4,
 "nbformat_minor": 0
}
