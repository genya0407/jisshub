{
 "cells": [
  {
   "cell_type": "code",
   "execution_count": 1,
   "metadata": {
    "collapsed": false
   },
   "outputs": [
    {
     "data": {
      "application/javascript": [
       "if(window['d3'] === undefined ||\n",
       "   window['Nyaplot'] === undefined){\n",
       "    var path = {\"d3\":\"https://cdnjs.cloudflare.com/ajax/libs/d3/3.5.5/d3.min\",\"downloadable\":\"http://cdn.rawgit.com/domitry/d3-downloadable/master/d3-downloadable\"};\n",
       "\n",
       "\n",
       "\n",
       "    var shim = {\"d3\":{\"exports\":\"d3\"},\"downloadable\":{\"exports\":\"downloadable\"}};\n",
       "\n",
       "    require.config({paths: path, shim:shim});\n",
       "\n",
       "\n",
       "require(['d3'], function(d3){window['d3']=d3;console.log('finished loading d3');require(['downloadable'], function(downloadable){window['downloadable']=downloadable;console.log('finished loading downloadable');\n",
       "\n",
       "\tvar script = d3.select(\"head\")\n",
       "\t    .append(\"script\")\n",
       "\t    .attr(\"src\", \"http://cdn.rawgit.com/domitry/Nyaplotjs/master/release/nyaplot.js\")\n",
       "\t    .attr(\"async\", true);\n",
       "\n",
       "\tscript[0][0].onload = script[0][0].onreadystatechange = function(){\n",
       "\n",
       "\n",
       "\t    var event = document.createEvent(\"HTMLEvents\");\n",
       "\t    event.initEvent(\"load_nyaplot\",false,false);\n",
       "\t    window.dispatchEvent(event);\n",
       "\t    console.log('Finished loading Nyaplotjs');\n",
       "\n",
       "\t};\n",
       "\n",
       "\n",
       "});});\n",
       "}\n"
      ],
      "text/plain": [
       "\"if(window['d3'] === undefined ||\\n   window['Nyaplot'] === undefined){\\n    var path = {\\\"d3\\\":\\\"https://cdnjs.cloudflare.com/ajax/libs/d3/3.5.5/d3.min\\\",\\\"downloadable\\\":\\\"http://cdn.rawgit.com/domitry/d3-downloadable/master/d3-downloadable\\\"};\\n\\n\\n\\n    var shim = {\\\"d3\\\":{\\\"exports\\\":\\\"d3\\\"},\\\"downloadable\\\":{\\\"exports\\\":\\\"downloadable\\\"}};\\n\\n    require.config({paths: path, shim:shim});\\n\\n\\nrequire(['d3'], function(d3){window['d3']=d3;console.log('finished loading d3');require(['downloadable'], function(downloadable){window['downloadable']=downloadable;console.log('finished loading downloadable');\\n\\n\\tvar script = d3.select(\\\"head\\\")\\n\\t    .append(\\\"script\\\")\\n\\t    .attr(\\\"src\\\", \\\"http://cdn.rawgit.com/domitry/Nyaplotjs/master/release/nyaplot.js\\\")\\n\\t    .attr(\\\"async\\\", true);\\n\\n\\tscript[0][0].onload = script[0][0].onreadystatechange = function(){\\n\\n\\n\\t    var event = document.createEvent(\\\"HTMLEvents\\\");\\n\\t    event.initEvent(\\\"load_nyaplot\\\",false,false);\\n\\t    window.dispatchEvent(event);\\n\\t    console.log('Finished loading Nyaplotjs');\\n\\n\\t};\\n\\n\\n});});\\n}\\n\""
      ]
     },
     "metadata": {},
     "output_type": "display_data"
    },
    {
     "data": {
      "text/plain": [
       ":daru_dataframe"
      ]
     },
     "execution_count": 1,
     "metadata": {},
     "output_type": "execute_result"
    }
   ],
   "source": [
    "require 'daru'\n",
    "require 'daru_plotting_plotly'\n",
    "require 'rbplotly'\n",
    "require 'csv'\n",
    "\n",
    "Daru.plotting_library = :plotly\n",
    "\n",
    "class Numeric\n",
    "  def mili\n",
    "    (self * 10 ** (-3)).to_f\n",
    "  end\n",
    "  \n",
    "  def micro\n",
    "    (self * 10 ** (-6)).to_f\n",
    "  end\n",
    "end\n",
    "\n",
    "class HashGenerator\n",
    "  require 'deep_merge'\n",
    "\n",
    "  class << self\n",
    "    def create\n",
    "      inst = self.new\n",
    "      yield inst\n",
    "      inst\n",
    "    end\n",
    "  end\n",
    "  \n",
    "  def headers *names\n",
    "    @names = names\n",
    "    @hash = names.map { |name| [name.to_sym, []] }.to_h\n",
    "  end\n",
    "  \n",
    "  def body data_str\n",
    "    data = data_str.split(\"\\n\").map do |row_str|\n",
    "      row_str.split(\",\").map do |cell_str|\n",
    "        eval cell_str\n",
    "      end\n",
    "    end\n",
    "    \n",
    "    data.each do |row|\n",
    "      row.each_with_index do |cell, index|\n",
    "        @hash.deep_merge! @names[index] => [cell]\n",
    "      end\n",
    "    end\n",
    "    \n",
    "  end\n",
    "  \n",
    "  def daru_dataframe\n",
    "    Daru::DataFrame.new(@hash)\n",
    "  end\n",
    "end"
   ]
  },
  {
   "cell_type": "markdown",
   "metadata": {},
   "source": [
    "# 全部"
   ]
  },
  {
   "cell_type": "code",
   "execution_count": 2,
   "metadata": {
    "collapsed": false
   },
   "outputs": [
    {
     "data": {
      "text/html": [
       "\n",
       "  <script>\n",
       "  requirejs.config({paths: { 'plotly': ['https://cdn.plot.ly/plotly-latest.min'] }})\n",
       "  </script>\n",
       "\n",
       "\n",
       "<div id=\"18ddd2c6-dcdd-4a44-8d25-9dbf58d7b58e\" style=\"height: 100%; width: 100%;\"></div>\n",
       "\n",
       "<script>\n",
       " require(['plotly'], function(Plotly) { \n",
       "Plotly.newPlot(\n",
       "  '18ddd2c6-dcdd-4a44-8d25-9dbf58d7b58e',\n",
       "  [{\"x\":[1.073,1.056,1.04,1.022,0.986,0.902,0.53],\"y\":[-0.009960000000000002,-0.019,-0.0299,-0.04020000000000001,-0.0514,-0.074,-0.0819],\"type\":\"scatter\",\"name\":\"2_series.csv\"},{\"x\":[0.496,0.507,0.515,0.518,0.521,0.524,0.526,0.528,0.529,0.53,null,null],\"y\":[-0.098,-0.079,-0.0604,-0.0522,-0.0428,-0.0329,-0.0254,-0.0184,-0.012199999999999999,-0.0076,-0.0035,-0.00256],\"type\":\"scatter\",\"name\":\"2_parallel.csv\"},{\"x\":[0.369,0.486,0.51,0.521,0.526,0.53,0.532,0.534,null],\"y\":[-0.08,-0.0623,-0.0436,-0.0314,-0.0232,-0.016300000000000002,-0.0106,-0.0063,-0.005],\"type\":\"scatter\",\"name\":\"mono.csv\"},{\"x\":[0.497,0.505,0.515,0.521,0.524,0.527,0.529,0.53,0.531],\"y\":[-0.11359999999999999,-0.092,-0.0665,-0.045,-0.0334,-0.0219,-0.0134,-0.0079,-0.005],\"type\":\"scatter\",\"name\":\"3_parallel.csv\"},{\"x\":[0.534,0.936,0.996,1.013,1.028,1.036,1.045,1.051,null],\"y\":[-0.116,-0.102,-0.0735,-0.0582,-0.0442,-0.033600000000000005,-0.022,-0.012,-0.0099],\"type\":\"scatter\",\"name\":\"2p_2s.csv\"},{\"x\":[0.44,0.99,1.45,1.494,1.515],\"y\":[-0.0941,-0.09570000000000001,-0.0706,-0.0502,-0.037899999999999996],\"type\":\"scatter\",\"name\":\"2p_3s.csv\"},{\"x\":[0.68,0.98,1.384,1.474,1.485,1.503,1.522],\"y\":[-0.133,-0.132,-0.11,-0.0708,-0.0635,-0.0485,-0.0314],\"type\":\"scatter\",\"name\":\"3p_3s.csv\"},{\"x\":[0.12,1.853],\"y\":[-0.0192,-0.0188],\"type\":\"scatter\",\"name\":\"1p_9s.csv\"},{\"x\":[0.157,0.985,2.47],\"y\":[-0.028,-0.0267,-0.0227],\"type\":\"scatter\",\"name\":\"1p_5s.csv\"},{\"x\":[0.195,1.942,1.977,2],\"y\":[-0.0309,-0.0265,-0.0228,-0.018600000000000002],\"type\":\"scatter\",\"name\":\"1p_4s.csv\"},{\"x\":[0.439,0.982,1.012,1.037,1.047,1.05],\"y\":[-0.0818,-0.0585,-0.039299999999999995,-0.0218,-0.0121,-0.009800000000000001],\"type\":\"scatter\",\"name\":\"2_series_new.csv\"},{\"x\":[0.26,1.01,1.48,1.507,1.54,1.56],\"y\":[-0.06670000000000001,-0.067,-0.0502,-0.041600000000000005,-0.028,-0.018000000000000002],\"type\":\"scatter\",\"name\":\"3_series.csv\"},{\"x\":[0.712,1.049,1.067,1.097,1.104,1.113,1.117,1.123,1.128,1.13],\"y\":[-0.136,-0.092,-0.0798,-0.0523,-0.044,-0.0342,-0.0293,-0.0205,-0.013900000000000001,-0.0105],\"type\":\"scatter\",\"name\":\"extra.csv\"},{\"x\":[0.63,1.02,1.473,1.517,1.53,1.542],\"y\":[-0.114,-0.1184,-0.08209999999999999,-0.05,-0.038700000000000005,-0.0252],\"type\":\"scatter\",\"name\":\"3p_3s_new.csv\"}],\n",
       "  {\"xaxis\":{\"range\":[0,3]},\"yasix\":{\"range\":[0,-0.2]}},\n",
       "  {\"linkText\":\"Export to plot.ly\",\"showLink\":true}\n",
       ")\n",
       "\n",
       "window.addEventListener('resize', function() {\n",
       "  Plotly.Plots.resize(document.getElementById('18ddd2c6-dcdd-4a44-8d25-9dbf58d7b58e'))\n",
       "})\n",
       " }) \n",
       "</script>"
      ],
      "text/plain": [
       "#<Plotly::Offline::HTML:0x007fa79493b938 @id=\"18ddd2c6-dcdd-4a44-8d25-9dbf58d7b58e\", @data=[{:x=>[1.073, 1.056, 1.04, 1.022, 0.986, 0.902, 0.53], :y=>[-0.009960000000000002, -0.019, -0.0299, -0.04020000000000001, -0.0514, -0.074, -0.0819], :type=>:scatter, :name=>\"2_series.csv\"}, {:x=>[0.496, 0.507, 0.515, 0.518, 0.521, 0.524, 0.526, 0.528, 0.529, 0.53, nil, nil], :y=>[-0.098, -0.079, -0.0604, -0.0522, -0.0428, -0.0329, -0.0254, -0.0184, -0.012199999999999999, -0.0076, -0.0035, -0.00256], :type=>:scatter, :name=>\"2_parallel.csv\"}, {:x=>[0.369, 0.486, 0.51, 0.521, 0.526, 0.53, 0.532, 0.534, nil], :y=>[-0.08, -0.0623, -0.0436, -0.0314, -0.0232, -0.016300000000000002, -0.0106, -0.0063, -0.005], :type=>:scatter, :name=>\"mono.csv\"}, {:x=>[0.497, 0.505, 0.515, 0.521, 0.524, 0.527, 0.529, 0.53, 0.531], :y=>[-0.11359999999999999, -0.092, -0.0665, -0.045, -0.0334, -0.0219, -0.0134, -0.0079, -0.005], :type=>:scatter, :name=>\"3_parallel.csv\"}, {:x=>[0.534, 0.936, 0.996, 1.013, 1.028, 1.036, 1.045, 1.051, nil], :y=>[-0.116, -0.102, -0.0735, -0.0582, -0.0442, -0.033600000000000005, -0.022, -0.012, -0.0099], :type=>:scatter, :name=>\"2p_2s.csv\"}, {:x=>[0.44, 0.99, 1.45, 1.494, 1.515], :y=>[-0.0941, -0.09570000000000001, -0.0706, -0.0502, -0.037899999999999996], :type=>:scatter, :name=>\"2p_3s.csv\"}, {:x=>[0.68, 0.98, 1.384, 1.474, 1.485, 1.503, 1.522], :y=>[-0.133, -0.132, -0.11, -0.0708, -0.0635, -0.0485, -0.0314], :type=>:scatter, :name=>\"3p_3s.csv\"}, {:x=>[0.12, 1.853], :y=>[-0.0192, -0.0188], :type=>:scatter, :name=>\"1p_9s.csv\"}, {:x=>[0.157, 0.985, 2.47], :y=>[-0.028, -0.0267, -0.0227], :type=>:scatter, :name=>\"1p_5s.csv\"}, {:x=>[0.195, 1.942, 1.977, 2], :y=>[-0.0309, -0.0265, -0.0228, -0.018600000000000002], :type=>:scatter, :name=>\"1p_4s.csv\"}, {:x=>[0.439, 0.982, 1.012, 1.037, 1.047, 1.05], :y=>[-0.0818, -0.0585, -0.039299999999999995, -0.0218, -0.0121, -0.009800000000000001], :type=>:scatter, :name=>\"2_series_new.csv\"}, {:x=>[0.26, 1.01, 1.48, 1.507, 1.54, 1.56], :y=>[-0.06670000000000001, -0.067, -0.0502, -0.041600000000000005, -0.028, -0.018000000000000002], :type=>:scatter, :name=>\"3_series.csv\"}, {:x=>[0.712, 1.049, 1.067, 1.097, 1.104, 1.113, 1.117, 1.123, 1.128, 1.13], :y=>[-0.136, -0.092, -0.0798, -0.0523, -0.044, -0.0342, -0.0293, -0.0205, -0.013900000000000001, -0.0105], :type=>:scatter, :name=>\"extra.csv\"}, {:x=>[0.63, 1.02, 1.473, 1.517, 1.53, 1.542], :y=>[-0.114, -0.1184, -0.08209999999999999, -0.05, -0.038700000000000005, -0.0252], :type=>:scatter, :name=>\"3p_3s_new.csv\"}], @layout={:xaxis=>{:range=>[0, 3]}, :yasix=>{:range=>[0, -0.2]}}, @config={:linkText=>\"Export to plot.ly\", :showLink=>true}, @embedded=true>"
      ]
     },
     "metadata": {},
     "output_type": "display_data"
    }
   ],
   "source": [
    "names = [\n",
    "  '2_series.csv',\n",
    "  '2_parallel.csv',\n",
    "  'mono.csv',\n",
    "  '3_parallel.csv',\n",
    "  '2p_2s.csv',\n",
    "  '2p_3s.csv',\n",
    "  '3p_3s.csv',\n",
    "  '1p_9s.csv',\n",
    "  '1p_5s.csv',\n",
    "  '1p_4s.csv',\n",
    "  '2_series_new.csv',\n",
    "  '3_series.csv',\n",
    "  'extra.csv',\n",
    "  '3p_3s_new.csv',\n",
    "]\n",
    "\n",
    "names.map { |name| [name, Daru::DataFrame.from_csv(name)] }.map do |name, df|\n",
    "  { x: df['v'].to_a, y: df['i'].to_a, type: :scatter, name: name }\n",
    "end.tap do |data|\n",
    "  Plotly::Plot.new(data: data, layout: { xaxis: { range: [0, 3] }, yasix: { range: [0, -0.2] }}).show\n",
    "end\n",
    "nil"
   ]
  },
  {
   "cell_type": "markdown",
   "metadata": {},
   "source": [
    "# 直列"
   ]
  },
  {
   "cell_type": "code",
   "execution_count": 3,
   "metadata": {
    "collapsed": false
   },
   "outputs": [
    {
     "data": {
      "text/html": [
       "\n",
       "  <script>\n",
       "  requirejs.config({paths: { 'plotly': ['https://cdn.plot.ly/plotly-latest.min'] }})\n",
       "  </script>\n",
       "\n",
       "\n",
       "<div id=\"30c2171f-da5e-4459-a062-1624270d36c6\" style=\"height: 100%; width: 100%;\"></div>\n",
       "\n",
       "<script>\n",
       " require(['plotly'], function(Plotly) { \n",
       "Plotly.newPlot(\n",
       "  '30c2171f-da5e-4459-a062-1624270d36c6',\n",
       "  [{\"x\":[0.369,0.486,0.51,0.521,0.526,0.53,0.532,0.534,null],\"y\":[-0.08,-0.0623,-0.0436,-0.0314,-0.0232,-0.016300000000000002,-0.0106,-0.0063,-0.005],\"type\":\"scatter\",\"name\":\"mono.csv\"},{\"x\":[1.073,1.056,1.04,1.022,0.986,0.902,0.53],\"y\":[-0.009960000000000002,-0.019,-0.0299,-0.04020000000000001,-0.0514,-0.074,-0.0819],\"type\":\"scatter\",\"name\":\"2_series.csv\"},{\"x\":[0.439,0.982,1.012,1.037,1.047,1.05],\"y\":[-0.0818,-0.0585,-0.039299999999999995,-0.0218,-0.0121,-0.009800000000000001],\"type\":\"scatter\",\"name\":\"2_series_new.csv\"},{\"x\":[0.26,1.01,1.48,1.507,1.54,1.56],\"y\":[-0.06670000000000001,-0.067,-0.0502,-0.041600000000000005,-0.028,-0.018000000000000002],\"type\":\"scatter\",\"name\":\"3_series.csv\"},{\"x\":[0.195,1.942,1.977,2],\"y\":[-0.0309,-0.0265,-0.0228,-0.018600000000000002],\"type\":\"scatter\",\"name\":\"1p_4s.csv\"},{\"x\":[0.157,0.985,2.47],\"y\":[-0.028,-0.0267,-0.0227],\"type\":\"scatter\",\"name\":\"1p_5s.csv\"},{\"x\":[0.12,1.853],\"y\":[-0.0192,-0.0188],\"type\":\"scatter\",\"name\":\"1p_9s.csv\"}],\n",
       "  {\"xaxis\":{\"range\":[0,3]},\"yasix\":{\"range\":[0,-0.2]}},\n",
       "  {\"linkText\":\"Export to plot.ly\",\"showLink\":true}\n",
       ")\n",
       "\n",
       "window.addEventListener('resize', function() {\n",
       "  Plotly.Plots.resize(document.getElementById('30c2171f-da5e-4459-a062-1624270d36c6'))\n",
       "})\n",
       " }) \n",
       "</script>"
      ],
      "text/plain": [
       "#<Plotly::Offline::HTML:0x007fa7943c5968 @id=\"30c2171f-da5e-4459-a062-1624270d36c6\", @data=[{:x=>[0.369, 0.486, 0.51, 0.521, 0.526, 0.53, 0.532, 0.534, nil], :y=>[-0.08, -0.0623, -0.0436, -0.0314, -0.0232, -0.016300000000000002, -0.0106, -0.0063, -0.005], :type=>:scatter, :name=>\"mono.csv\"}, {:x=>[1.073, 1.056, 1.04, 1.022, 0.986, 0.902, 0.53], :y=>[-0.009960000000000002, -0.019, -0.0299, -0.04020000000000001, -0.0514, -0.074, -0.0819], :type=>:scatter, :name=>\"2_series.csv\"}, {:x=>[0.439, 0.982, 1.012, 1.037, 1.047, 1.05], :y=>[-0.0818, -0.0585, -0.039299999999999995, -0.0218, -0.0121, -0.009800000000000001], :type=>:scatter, :name=>\"2_series_new.csv\"}, {:x=>[0.26, 1.01, 1.48, 1.507, 1.54, 1.56], :y=>[-0.06670000000000001, -0.067, -0.0502, -0.041600000000000005, -0.028, -0.018000000000000002], :type=>:scatter, :name=>\"3_series.csv\"}, {:x=>[0.195, 1.942, 1.977, 2], :y=>[-0.0309, -0.0265, -0.0228, -0.018600000000000002], :type=>:scatter, :name=>\"1p_4s.csv\"}, {:x=>[0.157, 0.985, 2.47], :y=>[-0.028, -0.0267, -0.0227], :type=>:scatter, :name=>\"1p_5s.csv\"}, {:x=>[0.12, 1.853], :y=>[-0.0192, -0.0188], :type=>:scatter, :name=>\"1p_9s.csv\"}], @layout={:xaxis=>{:range=>[0, 3]}, :yasix=>{:range=>[0, -0.2]}}, @config={:linkText=>\"Export to plot.ly\", :showLink=>true}, @embedded=true>"
      ]
     },
     "metadata": {},
     "output_type": "display_data"
    }
   ],
   "source": [
    "names = [\n",
    "  'mono.csv',\n",
    "  '2_series.csv',\n",
    "  '2_series_new.csv',\n",
    "  '3_series.csv',\n",
    "  '1p_4s.csv',\n",
    "  '1p_5s.csv',\n",
    "  '1p_9s.csv',\n",
    "]\n",
    "\n",
    "names.map { |name| [name, Daru::DataFrame.from_csv(name)] }.map do |name, df|\n",
    "  { x: df['v'].to_a, y: df['i'].to_a, type: :scatter, name: name }\n",
    "end.tap do |data|\n",
    "  Plotly::Plot.new(data: data, layout: { xaxis: { range: [0, 3] }, yasix: { range: [0, -0.2] }}).show\n",
    "end\n",
    "nil"
   ]
  },
  {
   "cell_type": "markdown",
   "metadata": {},
   "source": [
    "# 並列"
   ]
  },
  {
   "cell_type": "code",
   "execution_count": 4,
   "metadata": {
    "collapsed": false
   },
   "outputs": [
    {
     "data": {
      "text/html": [
       "\n",
       "  <script>\n",
       "  requirejs.config({paths: { 'plotly': ['https://cdn.plot.ly/plotly-latest.min'] }})\n",
       "  </script>\n",
       "\n",
       "\n",
       "<div id=\"0663aee1-4d60-4a9a-8b59-8954209aef12\" style=\"height: 100%; width: 100%;\"></div>\n",
       "\n",
       "<script>\n",
       " require(['plotly'], function(Plotly) { \n",
       "Plotly.newPlot(\n",
       "  '0663aee1-4d60-4a9a-8b59-8954209aef12',\n",
       "  [{\"x\":[0.369,0.486,0.51,0.521,0.526,0.53,0.532,0.534,null],\"y\":[-0.08,-0.0623,-0.0436,-0.0314,-0.0232,-0.016300000000000002,-0.0106,-0.0063,-0.005],\"type\":\"scatter\",\"name\":\"mono.csv\"},{\"x\":[0.496,0.507,0.515,0.518,0.521,0.524,0.526,0.528,0.529,0.53,null,null],\"y\":[-0.098,-0.079,-0.0604,-0.0522,-0.0428,-0.0329,-0.0254,-0.0184,-0.012199999999999999,-0.0076,-0.0035,-0.00256],\"type\":\"scatter\",\"name\":\"2_parallel.csv\"},{\"x\":[0.534,0.936,0.996,1.013,1.028,1.036,1.045,1.051,null],\"y\":[-0.116,-0.102,-0.0735,-0.0582,-0.0442,-0.033600000000000005,-0.022,-0.012,-0.0099],\"type\":\"scatter\",\"name\":\"2p_2s.csv\"},{\"x\":[0.44,0.99,1.45,1.494,1.515],\"y\":[-0.0941,-0.09570000000000001,-0.0706,-0.0502,-0.037899999999999996],\"type\":\"scatter\",\"name\":\"2p_3s.csv\"},{\"x\":[0.497,0.505,0.515,0.521,0.524,0.527,0.529,0.53,0.531],\"y\":[-0.11359999999999999,-0.092,-0.0665,-0.045,-0.0334,-0.0219,-0.0134,-0.0079,-0.005],\"type\":\"scatter\",\"name\":\"3_parallel.csv\"},{\"x\":[0.68,0.98,1.384,1.474,1.485,1.503,1.522],\"y\":[-0.133,-0.132,-0.11,-0.0708,-0.0635,-0.0485,-0.0314],\"type\":\"scatter\",\"name\":\"3p_3s.csv\"}],\n",
       "  {\"xaxis\":{\"range\":[0,3]},\"yasix\":{\"range\":[0,-0.2]}},\n",
       "  {\"linkText\":\"Export to plot.ly\",\"showLink\":true}\n",
       ")\n",
       "\n",
       "window.addEventListener('resize', function() {\n",
       "  Plotly.Plots.resize(document.getElementById('0663aee1-4d60-4a9a-8b59-8954209aef12'))\n",
       "})\n",
       " }) \n",
       "</script>"
      ],
      "text/plain": [
       "#<Plotly::Offline::HTML:0x007fa794507a88 @id=\"0663aee1-4d60-4a9a-8b59-8954209aef12\", @data=[{:x=>[0.369, 0.486, 0.51, 0.521, 0.526, 0.53, 0.532, 0.534, nil], :y=>[-0.08, -0.0623, -0.0436, -0.0314, -0.0232, -0.016300000000000002, -0.0106, -0.0063, -0.005], :type=>:scatter, :name=>\"mono.csv\"}, {:x=>[0.496, 0.507, 0.515, 0.518, 0.521, 0.524, 0.526, 0.528, 0.529, 0.53, nil, nil], :y=>[-0.098, -0.079, -0.0604, -0.0522, -0.0428, -0.0329, -0.0254, -0.0184, -0.012199999999999999, -0.0076, -0.0035, -0.00256], :type=>:scatter, :name=>\"2_parallel.csv\"}, {:x=>[0.534, 0.936, 0.996, 1.013, 1.028, 1.036, 1.045, 1.051, nil], :y=>[-0.116, -0.102, -0.0735, -0.0582, -0.0442, -0.033600000000000005, -0.022, -0.012, -0.0099], :type=>:scatter, :name=>\"2p_2s.csv\"}, {:x=>[0.44, 0.99, 1.45, 1.494, 1.515], :y=>[-0.0941, -0.09570000000000001, -0.0706, -0.0502, -0.037899999999999996], :type=>:scatter, :name=>\"2p_3s.csv\"}, {:x=>[0.497, 0.505, 0.515, 0.521, 0.524, 0.527, 0.529, 0.53, 0.531], :y=>[-0.11359999999999999, -0.092, -0.0665, -0.045, -0.0334, -0.0219, -0.0134, -0.0079, -0.005], :type=>:scatter, :name=>\"3_parallel.csv\"}, {:x=>[0.68, 0.98, 1.384, 1.474, 1.485, 1.503, 1.522], :y=>[-0.133, -0.132, -0.11, -0.0708, -0.0635, -0.0485, -0.0314], :type=>:scatter, :name=>\"3p_3s.csv\"}], @layout={:xaxis=>{:range=>[0, 3]}, :yasix=>{:range=>[0, -0.2]}}, @config={:linkText=>\"Export to plot.ly\", :showLink=>true}, @embedded=true>"
      ]
     },
     "metadata": {},
     "output_type": "display_data"
    }
   ],
   "source": [
    "names = [\n",
    "  'mono.csv',\n",
    "  '2_parallel.csv',\n",
    "  '2p_2s.csv',\n",
    "  '2p_3s.csv',\n",
    "  '3_parallel.csv',\n",
    "  '3p_3s.csv',\n",
    "]\n",
    "\n",
    "names.map { |name| [name, Daru::DataFrame.from_csv(name)] }.map do |name, df|\n",
    "  { x: df['v'].to_a, y: df['i'].to_a, type: :scatter, name: name }\n",
    "end.tap do |data|\n",
    "  Plotly::Plot.new(data: data, layout: { xaxis: { range: [0, 3] }, yasix: { range: [0, -0.2] }}).show\n",
    "end\n",
    "nil"
   ]
  },
  {
   "cell_type": "markdown",
   "metadata": {},
   "source": [
    "# 最大電力"
   ]
  },
  {
   "cell_type": "code",
   "execution_count": 5,
   "metadata": {
    "collapsed": false
   },
   "outputs": [
    {
     "name": "stdout",
     "output_type": "stream",
     "text": [
      "最大を出した配列：\t3p_3s.csv\n",
      "最大の電力：    \t0.15224(W)\n",
      "その時の電流：   \t-0.11(A)\n",
      "その時の電圧：   \t1.384(V)\n",
      "\n"
     ]
    }
   ],
   "source": [
    "[\n",
    "  '2_series.csv',\n",
    "  '2_parallel.csv',\n",
    "  'mono.csv',\n",
    "  '3_parallel.csv',\n",
    "  '2p_2s.csv',\n",
    "  '2p_3s.csv',\n",
    "  '3p_3s.csv',\n",
    "  '1p_9s.csv',\n",
    "  '1p_5s.csv',\n",
    "  '1p_4s.csv',\n",
    "  '2_series_new.csv',\n",
    "  '3_series.csv',\n",
    "  'extra.csv',\n",
    "  '3p_3s_new.csv',\n",
    "].map { |name| [name, Daru::DataFrame.from_csv(name)] }.map do |name, df|\n",
    "  w = df.map_rows do |row|\n",
    "    if !row['v'].nil? && !row['i'].nil?\n",
    "      (row['v'] * row['i']).abs\n",
    "    else\n",
    "      0\n",
    "    end\n",
    "  end.max\n",
    "  [name, w]\n",
    "end.max_by { |name, w| w }.tap do |name, _|\n",
    "  i, v, w = Daru::DataFrame.from_csv(name).map_rows { |row| [row['i'], row['v'], (row['i'] * row['v']).abs] }.max_by { |i, v, w| w }\n",
    "  puts <<MAX\n",
    "最大を出した配列：\\t#{name}\n",
    "最大の電力：    \\t#{w}(W)\n",
    "その時の電流：   \\t#{i}(A)\n",
    "その時の電圧：   \\t#{v}(V)\n",
    "MAX\n",
    "end\n",
    "nil"
   ]
  }
 ],
 "metadata": {
  "kernelspec": {
   "display_name": "Ruby 2.3.0",
   "language": "ruby",
   "name": "ruby"
  },
  "language_info": {
   "file_extension": ".rb",
   "mimetype": "application/x-ruby",
   "name": "ruby",
   "version": "2.3.0"
  }
 },
 "nbformat": 4,
 "nbformat_minor": 0
}
