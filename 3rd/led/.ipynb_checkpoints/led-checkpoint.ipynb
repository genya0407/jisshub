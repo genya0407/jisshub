{
 "cells": [
  {
   "cell_type": "code",
   "execution_count": 1,
   "metadata": {
    "collapsed": false
   },
   "outputs": [
    {
     "data": {
      "application/javascript": [
       "if(window['d3'] === undefined ||\n",
       "   window['Nyaplot'] === undefined){\n",
       "    var path = {\"d3\":\"https://cdnjs.cloudflare.com/ajax/libs/d3/3.5.5/d3.min\",\"downloadable\":\"http://cdn.rawgit.com/domitry/d3-downloadable/master/d3-downloadable\"};\n",
       "\n",
       "\n",
       "\n",
       "    var shim = {\"d3\":{\"exports\":\"d3\"},\"downloadable\":{\"exports\":\"downloadable\"}};\n",
       "\n",
       "    require.config({paths: path, shim:shim});\n",
       "\n",
       "\n",
       "require(['d3'], function(d3){window['d3']=d3;console.log('finished loading d3');require(['downloadable'], function(downloadable){window['downloadable']=downloadable;console.log('finished loading downloadable');\n",
       "\n",
       "\tvar script = d3.select(\"head\")\n",
       "\t    .append(\"script\")\n",
       "\t    .attr(\"src\", \"http://cdn.rawgit.com/domitry/Nyaplotjs/master/release/nyaplot.js\")\n",
       "\t    .attr(\"async\", true);\n",
       "\n",
       "\tscript[0][0].onload = script[0][0].onreadystatechange = function(){\n",
       "\n",
       "\n",
       "\t    var event = document.createEvent(\"HTMLEvents\");\n",
       "\t    event.initEvent(\"load_nyaplot\",false,false);\n",
       "\t    window.dispatchEvent(event);\n",
       "\t    console.log('Finished loading Nyaplotjs');\n",
       "\n",
       "\t};\n",
       "\n",
       "\n",
       "});});\n",
       "}\n"
      ],
      "text/plain": [
       "\"if(window['d3'] === undefined ||\\n   window['Nyaplot'] === undefined){\\n    var path = {\\\"d3\\\":\\\"https://cdnjs.cloudflare.com/ajax/libs/d3/3.5.5/d3.min\\\",\\\"downloadable\\\":\\\"http://cdn.rawgit.com/domitry/d3-downloadable/master/d3-downloadable\\\"};\\n\\n\\n\\n    var shim = {\\\"d3\\\":{\\\"exports\\\":\\\"d3\\\"},\\\"downloadable\\\":{\\\"exports\\\":\\\"downloadable\\\"}};\\n\\n    require.config({paths: path, shim:shim});\\n\\n\\nrequire(['d3'], function(d3){window['d3']=d3;console.log('finished loading d3');require(['downloadable'], function(downloadable){window['downloadable']=downloadable;console.log('finished loading downloadable');\\n\\n\\tvar script = d3.select(\\\"head\\\")\\n\\t    .append(\\\"script\\\")\\n\\t    .attr(\\\"src\\\", \\\"http://cdn.rawgit.com/domitry/Nyaplotjs/master/release/nyaplot.js\\\")\\n\\t    .attr(\\\"async\\\", true);\\n\\n\\tscript[0][0].onload = script[0][0].onreadystatechange = function(){\\n\\n\\n\\t    var event = document.createEvent(\\\"HTMLEvents\\\");\\n\\t    event.initEvent(\\\"load_nyaplot\\\",false,false);\\n\\t    window.dispatchEvent(event);\\n\\t    console.log('Finished loading Nyaplotjs');\\n\\n\\t};\\n\\n\\n});});\\n}\\n\""
      ]
     },
     "metadata": {},
     "output_type": "display_data"
    },
    {
     "data": {
      "text/plain": [
       ":micro"
      ]
     },
     "execution_count": 1,
     "metadata": {},
     "output_type": "execute_result"
    }
   ],
   "source": [
    "require 'daru'\n",
    "require 'daru_plotting_plotly'\n",
    "require 'rbplotly'\n",
    "require 'hg'\n",
    "\n",
    "Daru.plotting_library = :plotly\n",
    "\n",
    "class Numeric\n",
    "  def mili\n",
    "    (self * 10 ** (-3)).to_f\n",
    "  end\n",
    "  \n",
    "  def micro\n",
    "    (self * 10 ** (-6)).to_f\n",
    "  end\n",
    "end"
   ]
  },
  {
   "cell_type": "code",
   "execution_count": 2,
   "metadata": {
    "collapsed": false
   },
   "outputs": [
    {
     "data": {
      "text/html": [
       "\n",
       "  <script>\n",
       "  requirejs.config({paths: { 'plotly': ['https://cdn.plot.ly/plotly-latest.min'] }})\n",
       "  </script>\n",
       "\n",
       "\n",
       "<div id=\"b61c657a-67e6-4912-969d-8d52081408ee\" style=\"height: 100%; width: 100%;\"></div>\n",
       "\n",
       "<script>\n",
       " require(['plotly'], function(Plotly) { \n",
       "Plotly.newPlot(\n",
       "  'b61c657a-67e6-4912-969d-8d52081408ee',\n",
       "  [{\"name\":\"red\",\"x\":[0.54,1.076,1.629,1.72,1.78,1.863,1.934,1.996],\"y\":[1.0e-14,2.0e-14,6.0e-06,0.00068,0.0023,0.006,0.011,0.0146],\"type\":\"scatter\",\"marker\":{\"color\":\"red\"}},{\"name\":\"yellow\",\"x\":[1.62,1.768,1.817,1.897,1.945,1.983,2.01],\"y\":[2.8e-05,0.000505,0.0013000000000000002,0.004900000000000001,0.0087,0.012400000000000001,0.0162],\"type\":\"scatter\",\"marker\":{\"color\":\"orange\"}},{\"name\":\"blue\",\"x\":[4.01,3.54,3.22,3.03,2.72,2.32,1.64,1.18],\"y\":[0.0146,0.0078,0.0038,0.002,0.00038,2.8e-05,1.1e-05,5.7999999999999995e-06],\"type\":\"scatter\",\"marker\":{\"color\":\"blue\"}},{\"name\":\"white\",\"x\":[3.23,3.03,2.83,2.74,2.61,2.5,2.33,0.852],\"y\":[0.0154,0.0075,0.0026000000000000003,0.0013000000000000002,0.00038,6.0e-05,1.0e-06,8.0e-08],\"type\":\"scatter\",\"marker\":{\"color\":\"black\"}},{\"name\":\"green\",\"x\":[3.11,2.96,2.82,2.73,2.59,2.04,1.5],\"y\":[0.0156,0.008400000000000001,0.0034700000000000004,0.00161,0.000388,1.0e-06,1.0e-07],\"type\":\"scatter\",\"marker\":{\"color\":\"green\"}}],\n",
       "  {},\n",
       "  {\"linkText\":\"Export to plot.ly\",\"showLink\":true}\n",
       ")\n",
       "\n",
       "window.addEventListener('resize', function() {\n",
       "  Plotly.Plots.resize(document.getElementById('b61c657a-67e6-4912-969d-8d52081408ee'))\n",
       "})\n",
       " }) \n",
       "</script>"
      ],
      "text/plain": [
       "#<Plotly::Offline::HTML:0x007fb544b6c780 @id=\"b61c657a-67e6-4912-969d-8d52081408ee\", @data=[{:name=>\"red\", :x=>[0.54, 1.076, 1.629, 1.72, 1.78, 1.863, 1.934, 1.996], :y=>[1.0e-14, 2.0e-14, 6.0e-06, 0.00068, 0.0023, 0.006, 0.011, 0.0146], :type=>:scatter, :marker=>{:color=>\"red\"}}, {:name=>\"yellow\", :x=>[1.62, 1.768, 1.817, 1.897, 1.945, 1.983, 2.01], :y=>[2.8e-05, 0.000505, 0.0013000000000000002, 0.004900000000000001, 0.0087, 0.012400000000000001, 0.0162], :type=>:scatter, :marker=>{:color=>\"orange\"}}, {:name=>\"blue\", :x=>[4.01, 3.54, 3.22, 3.03, 2.72, 2.32, 1.64, 1.18], :y=>[0.0146, 0.0078, 0.0038, 0.002, 0.00038, 2.8e-05, 1.1e-05, 5.7999999999999995e-06], :type=>:scatter, :marker=>{:color=>\"blue\"}}, {:name=>\"white\", :x=>[3.23, 3.03, 2.83, 2.74, 2.61, 2.5, 2.33, 0.852], :y=>[0.0154, 0.0075, 0.0026000000000000003, 0.0013000000000000002, 0.00038, 6.0e-05, 1.0e-06, 8.0e-08], :type=>:scatter, :marker=>{:color=>\"black\"}}, {:name=>\"green\", :x=>[3.11, 2.96, 2.82, 2.73, 2.59, 2.04, 1.5], :y=>[0.0156, 0.008400000000000001, 0.0034700000000000004, 0.00161, 0.000388, 1.0e-06, 1.0e-07], :type=>:scatter, :marker=>{:color=>\"green\"}}], @layout={}, @config={:linkText=>\"Export to plot.ly\", :showLink=>true}, @embedded=true>"
      ]
     },
     "metadata": {},
     "output_type": "display_data"
    }
   ],
   "source": [
    "def map_color(x)\n",
    "  if x == 'yellow'\n",
    "    'orange'\n",
    "  elsif x == 'white'\n",
    "    'black'\n",
    "  else\n",
    "    x\n",
    "  end\n",
    "end\n",
    "\n",
    "['red.csv', 'yellow.csv', 'blue.csv', 'white.csv', 'green.csv'].map { |name| [name, Daru::DataFrame.from_csv(name)] }.map do |name, df|\n",
    "  color = File.basename(name, '.csv')\n",
    "  {\n",
    "    name: color,\n",
    "    x: df['v'].to_a,\n",
    "    y: df['i'].to_a,\n",
    "    type: :scatter,\n",
    "    marker: { color: map_color(color) }\n",
    "  }\n",
    "end.tap do |data|\n",
    "  Plotly::Plot.new(data: data).show\n",
    "end\n",
    "nil"
   ]
  }
 ],
 "metadata": {
  "kernelspec": {
   "display_name": "Ruby 2.3.0",
   "language": "ruby",
   "name": "ruby"
  },
  "language_info": {
   "file_extension": ".rb",
   "mimetype": "application/x-ruby",
   "name": "ruby",
   "version": "2.3.0"
  }
 },
 "nbformat": 4,
 "nbformat_minor": 0
}
