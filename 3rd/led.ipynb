{
 "cells": [
  {
   "cell_type": "code",
   "execution_count": 1,
   "metadata": {
    "collapsed": false
   },
   "outputs": [
    {
     "data": {
      "application/javascript": [
       "if(window['d3'] === undefined ||\n",
       "   window['Nyaplot'] === undefined){\n",
       "    var path = {\"d3\":\"https://cdnjs.cloudflare.com/ajax/libs/d3/3.5.5/d3.min\",\"downloadable\":\"http://cdn.rawgit.com/domitry/d3-downloadable/master/d3-downloadable\"};\n",
       "\n",
       "\n",
       "\n",
       "    var shim = {\"d3\":{\"exports\":\"d3\"},\"downloadable\":{\"exports\":\"downloadable\"}};\n",
       "\n",
       "    require.config({paths: path, shim:shim});\n",
       "\n",
       "\n",
       "require(['d3'], function(d3){window['d3']=d3;console.log('finished loading d3');require(['downloadable'], function(downloadable){window['downloadable']=downloadable;console.log('finished loading downloadable');\n",
       "\n",
       "\tvar script = d3.select(\"head\")\n",
       "\t    .append(\"script\")\n",
       "\t    .attr(\"src\", \"http://cdn.rawgit.com/domitry/Nyaplotjs/master/release/nyaplot.js\")\n",
       "\t    .attr(\"async\", true);\n",
       "\n",
       "\tscript[0][0].onload = script[0][0].onreadystatechange = function(){\n",
       "\n",
       "\n",
       "\t    var event = document.createEvent(\"HTMLEvents\");\n",
       "\t    event.initEvent(\"load_nyaplot\",false,false);\n",
       "\t    window.dispatchEvent(event);\n",
       "\t    console.log('Finished loading Nyaplotjs');\n",
       "\n",
       "\t};\n",
       "\n",
       "\n",
       "});});\n",
       "}\n"
      ],
      "text/plain": [
       "\"if(window['d3'] === undefined ||\\n   window['Nyaplot'] === undefined){\\n    var path = {\\\"d3\\\":\\\"https://cdnjs.cloudflare.com/ajax/libs/d3/3.5.5/d3.min\\\",\\\"downloadable\\\":\\\"http://cdn.rawgit.com/domitry/d3-downloadable/master/d3-downloadable\\\"};\\n\\n\\n\\n    var shim = {\\\"d3\\\":{\\\"exports\\\":\\\"d3\\\"},\\\"downloadable\\\":{\\\"exports\\\":\\\"downloadable\\\"}};\\n\\n    require.config({paths: path, shim:shim});\\n\\n\\nrequire(['d3'], function(d3){window['d3']=d3;console.log('finished loading d3');require(['downloadable'], function(downloadable){window['downloadable']=downloadable;console.log('finished loading downloadable');\\n\\n\\tvar script = d3.select(\\\"head\\\")\\n\\t    .append(\\\"script\\\")\\n\\t    .attr(\\\"src\\\", \\\"http://cdn.rawgit.com/domitry/Nyaplotjs/master/release/nyaplot.js\\\")\\n\\t    .attr(\\\"async\\\", true);\\n\\n\\tscript[0][0].onload = script[0][0].onreadystatechange = function(){\\n\\n\\n\\t    var event = document.createEvent(\\\"HTMLEvents\\\");\\n\\t    event.initEvent(\\\"load_nyaplot\\\",false,false);\\n\\t    window.dispatchEvent(event);\\n\\t    console.log('Finished loading Nyaplotjs');\\n\\n\\t};\\n\\n\\n});});\\n}\\n\""
      ]
     },
     "metadata": {},
     "output_type": "display_data"
    },
    {
     "data": {
      "text/plain": [
       ":daru_dataframe"
      ]
     },
     "execution_count": 1,
     "metadata": {},
     "output_type": "execute_result"
    }
   ],
   "source": [
    "require 'daru'\n",
    "require 'daru_plotting_plotly'\n",
    "require 'rbplotly'\n",
    "require 'csv'\n",
    "\n",
    "Daru.plotting_library = :plotly\n",
    "\n",
    "class Numeric\n",
    "  def mili\n",
    "    (self * 10 ** (-3)).to_f\n",
    "  end\n",
    "  \n",
    "  def micro\n",
    "    (self * 10 ** (-6)).to_f\n",
    "  end\n",
    "end\n",
    "\n",
    "class HashGenerator\n",
    "  require 'deep_merge'\n",
    "\n",
    "  class << self\n",
    "    def create\n",
    "      inst = self.new\n",
    "      yield inst\n",
    "      inst\n",
    "    end\n",
    "  end\n",
    "  \n",
    "  def headers *names\n",
    "    @names = names\n",
    "    @hash = names.map { |name| [name.to_sym, []] }.to_h\n",
    "  end\n",
    "  \n",
    "  def body data_str\n",
    "    data = data_str.split(\"\\n\").map do |row_str|\n",
    "      row_str.split(\",\").map do |cell_str|\n",
    "        eval cell_str\n",
    "      end\n",
    "    end\n",
    "    \n",
    "    data.each do |row|\n",
    "      row.each_with_index do |cell, index|\n",
    "        @hash.deep_merge! @names[index] => [cell]\n",
    "      end\n",
    "    end\n",
    "    \n",
    "  end\n",
    "  \n",
    "  def daru_dataframe\n",
    "    Daru::DataFrame.new(@hash)\n",
    "  end\n",
    "end"
   ]
  },
  {
   "cell_type": "markdown",
   "metadata": {},
   "source": [
    "# red"
   ]
  },
  {
   "cell_type": "code",
   "execution_count": 65,
   "metadata": {
    "collapsed": false
   },
   "outputs": [],
   "source": [
    "hg = HashGenerator.create do |gen|\n",
    "  gen.headers :i, :v\n",
    "  gen.body <<-BODY\n",
    "0.00000001.micro, 540.mili\n",
    "0.00000002.micro, 1076.mili\n",
    "6.micro, 1629.mili\n",
    "0.68.mili, 1720.mili\n",
    "2.3.mili, 1780.mili\n",
    "6.mili, 1863.mili\n",
    "11.mili, 1934.mili\n",
    "14.6.mili, 1996.mili\n",
    "BODY\n",
    "end.daru_dataframe.tap do |df|\n",
    "  df.write_csv('red.csv')\n",
    "end\n",
    "nil"
   ]
  },
  {
   "cell_type": "markdown",
   "metadata": {},
   "source": [
    "# yellow"
   ]
  },
  {
   "cell_type": "code",
   "execution_count": 66,
   "metadata": {
    "collapsed": false
   },
   "outputs": [],
   "source": [
    "hg = HashGenerator.create do |gen|\n",
    "  gen.headers :i, :v\n",
    "  gen.body <<-BODY\n",
    "28.micro, 1620.mili\n",
    "505.micro, 1768.mili\n",
    "1.3.mili, 1817.mili\n",
    "4.9.mili, 1897.mili\n",
    "8.7.mili, 1945.mili\n",
    "12.4.mili, 1983.mili\n",
    "16.2.mili, 2.01\n",
    "BODY\n",
    "end.daru_dataframe.tap do |df|\n",
    "  df.write_csv('yellow.csv')\n",
    "end\n",
    "nil"
   ]
  },
  {
   "cell_type": "markdown",
   "metadata": {},
   "source": [
    "# green"
   ]
  },
  {
   "cell_type": "code",
   "execution_count": 67,
   "metadata": {
    "collapsed": false
   },
   "outputs": [],
   "source": [
    "HashGenerator.create do |gen|\n",
    "  gen.headers :i, :v\n",
    "  gen.body <<-BODY\n",
    "15.6.mili, 3.11\n",
    "8.4.mili, 2.96\n",
    "3.47.mili, 2.82\n",
    "1.61.mili, 2.73\n",
    "388.micro, 2.59\n",
    "1.0.micro, 2.04\n",
    "0.1.micro, 1.5\n",
    "BODY\n",
    "end.daru_dataframe.tap do |df|\n",
    "  df.write_csv('green.csv')\n",
    "end\n",
    "nil"
   ]
  },
  {
   "cell_type": "markdown",
   "metadata": {},
   "source": [
    "# blue"
   ]
  },
  {
   "cell_type": "code",
   "execution_count": 68,
   "metadata": {
    "collapsed": false
   },
   "outputs": [],
   "source": [
    "HashGenerator.create do |gen|\n",
    "  gen.headers :i, :v\n",
    "  gen.body <<-BODY\n",
    "14.6.mili, 4.01\n",
    "7.8.mili, 3.54\n",
    "3.8.mili, 3.22\n",
    "2.0.mili, 3.03\n",
    "380.micro, 2.72\n",
    "28.micro, 2.32\n",
    "11.micro, 1640.mili\n",
    "5.8.micro, 1180.mili\n",
    "BODY\n",
    "end.daru_dataframe.tap do |df|\n",
    "  df.write_csv('blue.csv')\n",
    "end\n",
    "nil"
   ]
  },
  {
   "cell_type": "markdown",
   "metadata": {},
   "source": [
    "# white"
   ]
  },
  {
   "cell_type": "code",
   "execution_count": 69,
   "metadata": {
    "collapsed": false
   },
   "outputs": [],
   "source": [
    "HashGenerator.create do |gen|\n",
    "  gen.headers :i, :v\n",
    "  gen.body <<-BODY\n",
    "15.4.mili, 3.23\n",
    "7.5.mili, 3.03\n",
    "2.6.mili, 2.83\n",
    "1.3.mili, 2.74\n",
    "380.micro, 2.61\n",
    "60.micro, 2.5\n",
    "1.micro, 2.33\n",
    "0.08.micro, 852.mili\n",
    "BODY\n",
    "end.daru_dataframe.tap do |df|\n",
    "  df.write_csv('white.csv')\n",
    "end\n",
    "nil"
   ]
  },
  {
   "cell_type": "code",
   "execution_count": 70,
   "metadata": {
    "collapsed": false
   },
   "outputs": [
    {
     "data": {
      "text/html": [
       "\n",
       "  <script>\n",
       "  requirejs.config({paths: { 'plotly': ['https://cdn.plot.ly/plotly-latest.min'] }})\n",
       "  </script>\n",
       "\n",
       "\n",
       "<div id=\"2ab6281b-6f48-443e-b10d-b2021f23d506\" style=\"height: 100%; width: 100%;\"></div>\n",
       "\n",
       "<script>\n",
       " require(['plotly'], function(Plotly) { \n",
       "Plotly.newPlot(\n",
       "  '2ab6281b-6f48-443e-b10d-b2021f23d506',\n",
       "  [{\"x\":[0.54,1.076,1.629,1.72,1.78,1.863,1.934,1.996],\"y\":[1.0e-14,2.0e-14,6.0e-06,0.00068,0.0023,0.006,0.011,0.0146],\"type\":\"scatter\",\"name\":\"red.csv\"},{\"x\":[1.62,1.768,1.817,1.897,1.945,1.983,2.01],\"y\":[2.8e-05,0.000505,0.0013000000000000002,0.004900000000000001,0.0087,0.012400000000000001,0.0162],\"type\":\"scatter\",\"name\":\"yellow.csv\"},{\"x\":[4.01,3.54,3.22,3.03,2.72,2.32,1.64,1.18],\"y\":[0.0146,0.0078,0.0038,0.002,0.00038,2.8e-05,1.1e-05,5.7999999999999995e-06],\"type\":\"scatter\",\"name\":\"blue.csv\"},{\"x\":[3.23,3.03,2.83,2.74,2.61,2.5,2.33,0.852],\"y\":[0.0154,0.0075,0.0026000000000000003,0.0013000000000000002,0.00038,6.0e-05,1.0e-06,8.0e-08],\"type\":\"scatter\",\"name\":\"white.csv\"},{\"x\":[3.11,2.96,2.82,2.73,2.59,2.04,1.5],\"y\":[0.0156,0.008400000000000001,0.0034700000000000004,0.00161,0.000388,1.0e-06,1.0e-07],\"type\":\"scatter\",\"name\":\"green.csv\"}],\n",
       "  {},\n",
       "  {\"linkText\":\"Export to plot.ly\",\"showLink\":true}\n",
       ")\n",
       "\n",
       "window.addEventListener('resize', function() {\n",
       "  Plotly.Plots.resize(document.getElementById('2ab6281b-6f48-443e-b10d-b2021f23d506'))\n",
       "})\n",
       " }) \n",
       "</script>"
      ],
      "text/plain": [
       "#<Plotly::Offline::HTML:0x007f88f2f352c8 @id=\"2ab6281b-6f48-443e-b10d-b2021f23d506\", @data=[{:x=>[0.54, 1.076, 1.629, 1.72, 1.78, 1.863, 1.934, 1.996], :y=>[1.0e-14, 2.0e-14, 6.0e-06, 0.00068, 0.0023, 0.006, 0.011, 0.0146], :type=>:scatter, :name=>\"red.csv\"}, {:x=>[1.62, 1.768, 1.817, 1.897, 1.945, 1.983, 2.01], :y=>[2.8e-05, 0.000505, 0.0013000000000000002, 0.004900000000000001, 0.0087, 0.012400000000000001, 0.0162], :type=>:scatter, :name=>\"yellow.csv\"}, {:x=>[4.01, 3.54, 3.22, 3.03, 2.72, 2.32, 1.64, 1.18], :y=>[0.0146, 0.0078, 0.0038, 0.002, 0.00038, 2.8e-05, 1.1e-05, 5.7999999999999995e-06], :type=>:scatter, :name=>\"blue.csv\"}, {:x=>[3.23, 3.03, 2.83, 2.74, 2.61, 2.5, 2.33, 0.852], :y=>[0.0154, 0.0075, 0.0026000000000000003, 0.0013000000000000002, 0.00038, 6.0e-05, 1.0e-06, 8.0e-08], :type=>:scatter, :name=>\"white.csv\"}, {:x=>[3.11, 2.96, 2.82, 2.73, 2.59, 2.04, 1.5], :y=>[0.0156, 0.008400000000000001, 0.0034700000000000004, 0.00161, 0.000388, 1.0e-06, 1.0e-07], :type=>:scatter, :name=>\"green.csv\"}], @layout={}, @config={:linkText=>\"Export to plot.ly\", :showLink=>true}, @embedded=true>"
      ]
     },
     "metadata": {},
     "output_type": "display_data"
    }
   ],
   "source": [
    "['red.csv', 'yellow.csv', 'blue.csv', 'white.csv', 'green.csv'].map { |name| [name, Daru::DataFrame.from_csv(name)] }.map do |name, df|\n",
    "  {\n",
    "    name: name,\n",
    "    x: df['v'].to_a,\n",
    "    y: df['i'].to_a,\n",
    "    type: :scatter\n",
    "  }\n",
    "end.tap do |data|\n",
    "  Plotly::Plot.new(data: data).show\n",
    "end\n",
    "nil"
   ]
  },
  {
   "cell_type": "code",
   "execution_count": null,
   "metadata": {
    "collapsed": true
   },
   "outputs": [],
   "source": []
  }
 ],
 "metadata": {
  "kernelspec": {
   "display_name": "Ruby 2.3.0",
   "language": "ruby",
   "name": "ruby"
  },
  "language_info": {
   "file_extension": ".rb",
   "mimetype": "application/x-ruby",
   "name": "ruby",
   "version": "2.3.0"
  }
 },
 "nbformat": 4,
 "nbformat_minor": 0
}
