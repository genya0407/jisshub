{
 "cells": [
  {
   "cell_type": "code",
   "execution_count": 3,
   "metadata": {
    "collapsed": false
   },
   "outputs": [
    {
     "data": {
      "text/plain": [
       ":plotly"
      ]
     },
     "execution_count": 3,
     "metadata": {},
     "output_type": "execute_result"
    }
   ],
   "source": [
    "require 'daru'\n",
    "require 'daru_plotting_plotly'\n",
    "require 'rbplotly'\n",
    "require 'hg'\n",
    "\n",
    "class Numeric\n",
    "  def mili\n",
    "    self.to_f\n",
    "  end\n",
    "end\n",
    "\n",
    "Daru.plotting_library = :plotly"
   ]
  },
  {
   "cell_type": "markdown",
   "metadata": {},
   "source": [
    "## Io = 0mA"
   ]
  },
  {
   "cell_type": "code",
   "execution_count": 40,
   "metadata": {
    "collapsed": true
   },
   "outputs": [],
   "source": [
    "Hg::Hg.create do |gen|\n",
    "  gen.headers :Ei, :Eo, :Vz\n",
    "  gen.body <<BODY\n",
    "10, 9.4, 5.56\n",
    "11, 9.5, 5.58\n",
    "12, 9.53, 5.59\n",
    "13, 9.58, 5.59\n",
    "14, 9.65, 5.6\n",
    "15, 9.62, 5.6\n",
    "16, 9.65, 5.61\n",
    "17, 9.69, 5.61\n",
    "18, 9.70, 5.61\n",
    "BODY\n",
    "end.daru_dataframe.write_csv('data/jikken5_0.csv')"
   ]
  },
  {
   "cell_type": "markdown",
   "metadata": {},
   "source": [
    "## Io = 75mA"
   ]
  },
  {
   "cell_type": "code",
   "execution_count": 42,
   "metadata": {
    "collapsed": true
   },
   "outputs": [],
   "source": [
    "Hg::Hg.create do |gen|\n",
    "  gen.headers :Ei, :Eo, :Vz\n",
    "  gen.body <<BODY\n",
    "10, 8.23, 5.54\n",
    "11, 9.20, 5.56\n",
    "12, 9.4, 5.57\n",
    "13, 9.5, 5.58\n",
    "14, 9.52, 5.59\n",
    "15, 9.58, 5.59\n",
    "16, 9.60, 5.60\n",
    "17, 9.61, 5.60\n",
    "18, 9.65, 5.61\n",
    "BODY\n",
    "end.daru_dataframe.write_csv('data/jikken5_75.csv')"
   ]
  },
  {
   "cell_type": "markdown",
   "metadata": {},
   "source": [
    "## Io = 150mA"
   ]
  },
  {
   "cell_type": "code",
   "execution_count": 45,
   "metadata": {
    "collapsed": true
   },
   "outputs": [],
   "source": [
    "Hg::Hg.create do |gen|\n",
    "  gen.headers :Ei, :Eo, :Vz\n",
    "  gen.body <<BODY\n",
    "10, 6.82, 5.49\n",
    "11, 7.80, 5.53\n",
    "12, 8.50, 5.55\n",
    "13, 9.54, 5.57\n",
    "14, 9.50, 5.58\n",
    "15, 9.55, 5.59\n",
    "16, 9.60, 5.60\n",
    "17, 9.62, 5.60\n",
    "18, 9.64, 5.61\n",
    "BODY\n",
    "end.daru_dataframe.write_csv('data/jikken5_150.csv')"
   ]
  },
  {
   "cell_type": "markdown",
   "metadata": {},
   "source": [
    "# グラフ"
   ]
  },
  {
   "cell_type": "code",
   "execution_count": 46,
   "metadata": {
    "collapsed": false
   },
   "outputs": [
    {
     "data": {
      "text/html": [
       "\n",
       "  <script>\n",
       "  requirejs.config({paths: { 'plotly': ['https://cdn.plot.ly/plotly-latest.min'] }})\n",
       "  </script>\n",
       "\n",
       "\n",
       "<div id=\"e73b0715-bae8-4a10-95e8-6c1bb79c3ba9\" style=\"height: 100%; width: 100%;\"></div>\n",
       "\n",
       "<script>\n",
       " require(['plotly'], function(Plotly) { \n",
       "Plotly.newPlot(\n",
       "  'e73b0715-bae8-4a10-95e8-6c1bb79c3ba9',\n",
       "  [{\"x\":[10,11,12,13,14,15,16,17,18],\"y\":[9.4,9.5,9.53,9.58,9.65,9.62,9.65,9.69,9.7],\"name\":\"Io=0mA\"},{\"x\":[10,11,12,13,14,15,16,17,18],\"y\":[8.23,9.2,9.4,9.5,9.52,9.58,9.6,9.61,9.65],\"name\":\"Io=75mA\"},{\"x\":[10,11,12,13,14,15,16,17,18],\"y\":[6.82,7.8,8.5,9.54,9.5,9.55,9.6,9.62,9.64],\"name\":\"Io=150mA\"}],\n",
       "  {\"xaxis\":{\"title\":\"Ei(V)\"},\"yaxis\":{\"title\":\"Eo(V)\"},\"title\":\"Eo\"},\n",
       "  {\"linkText\":\"Export to plot.ly\",\"showLink\":true}\n",
       ")\n",
       "\n",
       "window.addEventListener('resize', function() {\n",
       "  Plotly.Plots.resize(document.getElementById('e73b0715-bae8-4a10-95e8-6c1bb79c3ba9'))\n",
       "})\n",
       " }) \n",
       "</script>"
      ],
      "text/plain": [
       "#<Plotly::Offline::HTML:0x007fb1832b3608 @id=\"e73b0715-bae8-4a10-95e8-6c1bb79c3ba9\", @data=[{:x=>[10, 11, 12, 13, 14, 15, 16, 17, 18], :y=>[9.4, 9.5, 9.53, 9.58, 9.65, 9.62, 9.65, 9.69, 9.7], :name=>\"Io=0mA\"}, {:x=>[10, 11, 12, 13, 14, 15, 16, 17, 18], :y=>[8.23, 9.2, 9.4, 9.5, 9.52, 9.58, 9.6, 9.61, 9.65], :name=>\"Io=75mA\"}, {:x=>[10, 11, 12, 13, 14, 15, 16, 17, 18], :y=>[6.82, 7.8, 8.5, 9.54, 9.5, 9.55, 9.6, 9.62, 9.64], :name=>\"Io=150mA\"}], @layout={:xaxis=>{:title=>\"Ei(V)\"}, :yaxis=>{:title=>\"Eo(V)\"}, :title=>\"Eo\"}, @config={:linkText=>\"Export to plot.ly\", :showLink=>true}, @embedded=true>"
      ]
     },
     "metadata": {},
     "output_type": "display_data"
    },
    {
     "data": {
      "text/html": [
       "\n",
       "  <script>\n",
       "  requirejs.config({paths: { 'plotly': ['https://cdn.plot.ly/plotly-latest.min'] }})\n",
       "  </script>\n",
       "\n",
       "\n",
       "<div id=\"3fd37236-1e51-4a25-a52d-c3b3e56e047f\" style=\"height: 100%; width: 100%;\"></div>\n",
       "\n",
       "<script>\n",
       " require(['plotly'], function(Plotly) { \n",
       "Plotly.newPlot(\n",
       "  '3fd37236-1e51-4a25-a52d-c3b3e56e047f',\n",
       "  [{\"x\":[10,11,12,13,14,15,16,17,18],\"y\":[5.56,5.58,5.59,5.59,5.6,5.6,5.61,5.61,5.61],\"name\":\"Io=0mA\"},{\"x\":[10,11,12,13,14,15,16,17,18],\"y\":[5.54,5.56,5.57,5.58,5.59,5.59,5.6,5.6,5.61],\"name\":\"Io=75mA\"},{\"x\":[10,11,12,13,14,15,16,17,18],\"y\":[5.49,5.53,5.55,5.57,5.58,5.59,5.6,5.6,5.61],\"name\":\"Io=150mA\"}],\n",
       "  {\"xaxis\":{\"title\":\"Ei(V)\"},\"yaxis\":{\"title\":\"Vz(V)\"},\"title\":\"Vz\"},\n",
       "  {\"linkText\":\"Export to plot.ly\",\"showLink\":true}\n",
       ")\n",
       "\n",
       "window.addEventListener('resize', function() {\n",
       "  Plotly.Plots.resize(document.getElementById('3fd37236-1e51-4a25-a52d-c3b3e56e047f'))\n",
       "})\n",
       " }) \n",
       "</script>"
      ],
      "text/plain": [
       "#<Plotly::Offline::HTML:0x007fb182a4ed50 @id=\"3fd37236-1e51-4a25-a52d-c3b3e56e047f\", @data=[{:x=>[10, 11, 12, 13, 14, 15, 16, 17, 18], :y=>[5.56, 5.58, 5.59, 5.59, 5.6, 5.6, 5.61, 5.61, 5.61], :name=>\"Io=0mA\"}, {:x=>[10, 11, 12, 13, 14, 15, 16, 17, 18], :y=>[5.54, 5.56, 5.57, 5.58, 5.59, 5.59, 5.6, 5.6, 5.61], :name=>\"Io=75mA\"}, {:x=>[10, 11, 12, 13, 14, 15, 16, 17, 18], :y=>[5.49, 5.53, 5.55, 5.57, 5.58, 5.59, 5.6, 5.6, 5.61], :name=>\"Io=150mA\"}], @layout={:xaxis=>{:title=>\"Ei(V)\"}, :yaxis=>{:title=>\"Vz(V)\"}, :title=>\"Vz\"}, @config={:linkText=>\"Export to plot.ly\", :showLink=>true}, @embedded=true>"
      ]
     },
     "metadata": {},
     "output_type": "display_data"
    }
   ],
   "source": [
    "['0', '75', '150'].select { |name| File.exists? \"data/jikken5_#{name}.csv\" }.map do |name|\n",
    "  h = Daru::DataFrame.from_csv(\"data/jikken5_#{name}.csv\").to_h\n",
    "  [\n",
    "    {x: h['Ei'].to_a, y: h['Eo'].to_a, name: \"Io=#{name}mA\"},\n",
    "    {x: h['Ei'].to_a, y: h['Vz'].to_a, name: \"Io=#{name}mA\"}\n",
    "  ]\n",
    "end.tap do |arr|\n",
    "  arr.transpose.zip(['Eo', 'Vz']).each do |trace, kind|\n",
    "    Plotly::Plot.new(data: trace, layout: { xaxis: { title: 'Ei(V)'}, yaxis: { title: \"#{kind}(V)\" }, title: kind }).show\n",
    "  end\n",
    "end\n",
    "nil"
   ]
  }
 ],
 "metadata": {
  "kernelspec": {
   "display_name": "Ruby 2.3.2",
   "language": "ruby",
   "name": "ruby"
  },
  "language_info": {
   "file_extension": ".rb",
   "mimetype": "application/x-ruby",
   "name": "ruby",
   "version": "2.3.2"
  }
 },
 "nbformat": 4,
 "nbformat_minor": 0
}
