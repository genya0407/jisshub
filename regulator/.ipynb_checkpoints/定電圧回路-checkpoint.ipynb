{
 "cells": [
  {
   "cell_type": "code",
   "execution_count": 51,
   "metadata": {
    "collapsed": false
   },
   "outputs": [
    {
     "data": {
      "text/plain": [
       ":plotly"
      ]
     },
     "execution_count": 51,
     "metadata": {},
     "output_type": "execute_result"
    }
   ],
   "source": [
    "require 'daru'\n",
    "require 'daru_plotting_plotly'\n",
    "require 'rbplotly'\n",
    "require 'hg'\n",
    "\n",
    "class Numeric\n",
    "  def mili\n",
    "    self.to_f * 10**(-3)\n",
    "  end\n",
    "end\n",
    "\n",
    "Daru.plotting_library = :plotly"
   ]
  },
  {
   "cell_type": "markdown",
   "metadata": {},
   "source": [
    "# 実験5"
   ]
  },
  {
   "cell_type": "code",
   "execution_count": 46,
   "metadata": {
    "collapsed": false
   },
   "outputs": [
    {
     "data": {
      "text/html": [
       "\n",
       "  <script>\n",
       "  requirejs.config({paths: { 'plotly': ['https://cdn.plot.ly/plotly-latest.min'] }})\n",
       "  </script>\n",
       "\n",
       "\n",
       "<div id=\"e73b0715-bae8-4a10-95e8-6c1bb79c3ba9\" style=\"height: 100%; width: 100%;\"></div>\n",
       "\n",
       "<script>\n",
       " require(['plotly'], function(Plotly) { \n",
       "Plotly.newPlot(\n",
       "  'e73b0715-bae8-4a10-95e8-6c1bb79c3ba9',\n",
       "  [{\"x\":[10,11,12,13,14,15,16,17,18],\"y\":[9.4,9.5,9.53,9.58,9.65,9.62,9.65,9.69,9.7],\"name\":\"Io=0mA\"},{\"x\":[10,11,12,13,14,15,16,17,18],\"y\":[8.23,9.2,9.4,9.5,9.52,9.58,9.6,9.61,9.65],\"name\":\"Io=75mA\"},{\"x\":[10,11,12,13,14,15,16,17,18],\"y\":[6.82,7.8,8.5,9.54,9.5,9.55,9.6,9.62,9.64],\"name\":\"Io=150mA\"}],\n",
       "  {\"xaxis\":{\"title\":\"Ei(V)\"},\"yaxis\":{\"title\":\"Eo(V)\"},\"title\":\"Eo\"},\n",
       "  {\"linkText\":\"Export to plot.ly\",\"showLink\":true}\n",
       ")\n",
       "\n",
       "window.addEventListener('resize', function() {\n",
       "  Plotly.Plots.resize(document.getElementById('e73b0715-bae8-4a10-95e8-6c1bb79c3ba9'))\n",
       "})\n",
       " }) \n",
       "</script>"
      ],
      "text/plain": [
       "#<Plotly::Offline::HTML:0x007fb1832b3608 @id=\"e73b0715-bae8-4a10-95e8-6c1bb79c3ba9\", @data=[{:x=>[10, 11, 12, 13, 14, 15, 16, 17, 18], :y=>[9.4, 9.5, 9.53, 9.58, 9.65, 9.62, 9.65, 9.69, 9.7], :name=>\"Io=0mA\"}, {:x=>[10, 11, 12, 13, 14, 15, 16, 17, 18], :y=>[8.23, 9.2, 9.4, 9.5, 9.52, 9.58, 9.6, 9.61, 9.65], :name=>\"Io=75mA\"}, {:x=>[10, 11, 12, 13, 14, 15, 16, 17, 18], :y=>[6.82, 7.8, 8.5, 9.54, 9.5, 9.55, 9.6, 9.62, 9.64], :name=>\"Io=150mA\"}], @layout={:xaxis=>{:title=>\"Ei(V)\"}, :yaxis=>{:title=>\"Eo(V)\"}, :title=>\"Eo\"}, @config={:linkText=>\"Export to plot.ly\", :showLink=>true}, @embedded=true>"
      ]
     },
     "metadata": {},
     "output_type": "display_data"
    },
    {
     "data": {
      "text/html": [
       "\n",
       "  <script>\n",
       "  requirejs.config({paths: { 'plotly': ['https://cdn.plot.ly/plotly-latest.min'] }})\n",
       "  </script>\n",
       "\n",
       "\n",
       "<div id=\"3fd37236-1e51-4a25-a52d-c3b3e56e047f\" style=\"height: 100%; width: 100%;\"></div>\n",
       "\n",
       "<script>\n",
       " require(['plotly'], function(Plotly) { \n",
       "Plotly.newPlot(\n",
       "  '3fd37236-1e51-4a25-a52d-c3b3e56e047f',\n",
       "  [{\"x\":[10,11,12,13,14,15,16,17,18],\"y\":[5.56,5.58,5.59,5.59,5.6,5.6,5.61,5.61,5.61],\"name\":\"Io=0mA\"},{\"x\":[10,11,12,13,14,15,16,17,18],\"y\":[5.54,5.56,5.57,5.58,5.59,5.59,5.6,5.6,5.61],\"name\":\"Io=75mA\"},{\"x\":[10,11,12,13,14,15,16,17,18],\"y\":[5.49,5.53,5.55,5.57,5.58,5.59,5.6,5.6,5.61],\"name\":\"Io=150mA\"}],\n",
       "  {\"xaxis\":{\"title\":\"Ei(V)\"},\"yaxis\":{\"title\":\"Vz(V)\"},\"title\":\"Vz\"},\n",
       "  {\"linkText\":\"Export to plot.ly\",\"showLink\":true}\n",
       ")\n",
       "\n",
       "window.addEventListener('resize', function() {\n",
       "  Plotly.Plots.resize(document.getElementById('3fd37236-1e51-4a25-a52d-c3b3e56e047f'))\n",
       "})\n",
       " }) \n",
       "</script>"
      ],
      "text/plain": [
       "#<Plotly::Offline::HTML:0x007fb182a4ed50 @id=\"3fd37236-1e51-4a25-a52d-c3b3e56e047f\", @data=[{:x=>[10, 11, 12, 13, 14, 15, 16, 17, 18], :y=>[5.56, 5.58, 5.59, 5.59, 5.6, 5.6, 5.61, 5.61, 5.61], :name=>\"Io=0mA\"}, {:x=>[10, 11, 12, 13, 14, 15, 16, 17, 18], :y=>[5.54, 5.56, 5.57, 5.58, 5.59, 5.59, 5.6, 5.6, 5.61], :name=>\"Io=75mA\"}, {:x=>[10, 11, 12, 13, 14, 15, 16, 17, 18], :y=>[5.49, 5.53, 5.55, 5.57, 5.58, 5.59, 5.6, 5.6, 5.61], :name=>\"Io=150mA\"}], @layout={:xaxis=>{:title=>\"Ei(V)\"}, :yaxis=>{:title=>\"Vz(V)\"}, :title=>\"Vz\"}, @config={:linkText=>\"Export to plot.ly\", :showLink=>true}, @embedded=true>"
      ]
     },
     "metadata": {},
     "output_type": "display_data"
    }
   ],
   "source": [
    "['0', '75', '150'].select { |name| File.exists? \"data/jikken5_#{name}.csv\" }.map do |name|\n",
    "  h = Daru::DataFrame.from_csv(\"data/jikken5_#{name}.csv\").to_h\n",
    "  [\n",
    "    {x: h['Ei'].to_a, y: h['Eo'].to_a, name: \"Io=#{name}mA\"},\n",
    "    {x: h['Ei'].to_a, y: h['Vz'].to_a, name: \"Io=#{name}mA\"}\n",
    "  ]\n",
    "end.tap do |arr|\n",
    "  arr.transpose.zip(['Eo', 'Vz']).each do |trace, kind|\n",
    "    Plotly::Plot.new(data: trace, layout: { xaxis: { title: 'Ei(V)'}, yaxis: { title: \"#{kind}(V)\" }, title: kind }).show\n",
    "  end\n",
    "end\n",
    "nil"
   ]
  },
  {
   "cell_type": "markdown",
   "metadata": {},
   "source": [
    "# 実験6"
   ]
  },
  {
   "cell_type": "code",
   "execution_count": 74,
   "metadata": {
    "collapsed": true
   },
   "outputs": [],
   "source": [
    "Hg::Hg.create do |gen|\n",
    "  gen.headers :Io, :Vo, :ripple\n",
    "  gen.body <<BODY\n",
    "2.mili, 9.72, 24.mili\n",
    "22.mili, 9.7, 56.mili\n",
    "42.mili, 9.69, 88.mili\n",
    "60.mili, 9.65, 120.mili\n",
    "80.mili, 9.62, 165.mili\n",
    "98.mili, 9.60, 235.mili\n",
    "120.mili, 9.51, 920.mili\n",
    "140.mili, 9.34, 1900.mili\n",
    "158.mili, 9.13, 2600.mili\n",
    "180.mili, 8.82, 3300.mili\n",
    "200.mili, 8.65, 4000.mili\n",
    "BODY\n",
    "end.daru_dataframe.tap do |df|\n",
    "  df.add_vector :ripple_ratio, df.map_rows { |row| row[:ripple].to_f / row[:Vo] * 100 }\n",
    "end.write_csv('data/jikken6.csv')"
   ]
  },
  {
   "cell_type": "code",
   "execution_count": 76,
   "metadata": {
    "collapsed": false
   },
   "outputs": [
    {
     "data": {
      "text/html": [
       "\n",
       "  <script>\n",
       "  requirejs.config({paths: { 'plotly': ['https://cdn.plot.ly/plotly-latest.min'] }})\n",
       "  </script>\n",
       "\n",
       "\n",
       "<div id=\"a4b75005-3749-44b8-ad47-052e109b7f48\" style=\"height: 100%; width: 100%;\"></div>\n",
       "\n",
       "<script>\n",
       " require(['plotly'], function(Plotly) { \n",
       "Plotly.newPlot(\n",
       "  'a4b75005-3749-44b8-ad47-052e109b7f48',\n",
       "  [{\"x\":[0.002,0.022,0.042,0.06,0.08,0.098,0.12,0.14,0.158,0.18,0.2],\"y\":[9.72,9.7,9.69,9.65,9.62,9.6,9.51,9.34,9.13,8.82,8.65],\"name\":\"Vo\",\"type\":\"scatter\",\"mode\":\"\"}],\n",
       "  {\"xaxis\":{\"title\":\"出力電流(A)\"},\"yaxis\":{\"title\":\"出力電圧(V)\"},\"title\":\"出力電圧\",\"width\":1000,\"height\":500},\n",
       "  {\"linkText\":\"Export to plot.ly\",\"showLink\":true}\n",
       ")\n",
       "\n",
       "window.addEventListener('resize', function() {\n",
       "  Plotly.Plots.resize(document.getElementById('a4b75005-3749-44b8-ad47-052e109b7f48'))\n",
       "})\n",
       " }) \n",
       "</script>"
      ],
      "text/plain": [
       "#<Plotly::Offline::HTML:0x007fb18330a2c8 @id=\"a4b75005-3749-44b8-ad47-052e109b7f48\", @data=[{:x=>[0.002, 0.022, 0.042, 0.06, 0.08, 0.098, 0.12, 0.14, 0.158, 0.18, 0.2], :y=>[9.72, 9.7, 9.69, 9.65, 9.62, 9.6, 9.51, 9.34, 9.13, 8.82, 8.65], :name=>\"Vo\", :type=>:scatter, :mode=>\"\"}], @layout={:xaxis=>{:title=>\"出力電流(A)\"}, :yaxis=>{:title=>\"出力電圧(V)\"}, :title=>\"出力電圧\", :width=>1000, :height=>500}, @config={:linkText=>\"Export to plot.ly\", :showLink=>true}, @embedded=true>"
      ]
     },
     "metadata": {},
     "output_type": "display_data"
    },
    {
     "data": {
      "text/html": [
       "\n",
       "  <script>\n",
       "  requirejs.config({paths: { 'plotly': ['https://cdn.plot.ly/plotly-latest.min'] }})\n",
       "  </script>\n",
       "\n",
       "\n",
       "<div id=\"14b294c4-1b96-4322-ae3e-b6f5544283cb\" style=\"height: 100%; width: 100%;\"></div>\n",
       "\n",
       "<script>\n",
       " require(['plotly'], function(Plotly) { \n",
       "Plotly.newPlot(\n",
       "  '14b294c4-1b96-4322-ae3e-b6f5544283cb',\n",
       "  [{\"x\":[0.002,0.022,0.042,0.06,0.08,0.098,0.12,0.14,0.158,0.18,0.2],\"y\":[0.24691358024691357,0.577319587628866,0.9081527347781218,1.2435233160621761,1.7151767151767152,2.447916666666667,9.674027339642482,20.342612419700217,28.477546549835704,37.41496598639456,46.24277456647399],\"name\":\"ripple_ratio\",\"type\":\"scatter\",\"mode\":\"\"}],\n",
       "  {\"xaxis\":{\"title\":\"出力電流(A)\"},\"yaxis\":{\"title\":\"リップル含有率(％)\"},\"title\":\"リップル含有率\",\"width\":1000,\"height\":500},\n",
       "  {\"linkText\":\"Export to plot.ly\",\"showLink\":true}\n",
       ")\n",
       "\n",
       "window.addEventListener('resize', function() {\n",
       "  Plotly.Plots.resize(document.getElementById('14b294c4-1b96-4322-ae3e-b6f5544283cb'))\n",
       "})\n",
       " }) \n",
       "</script>"
      ],
      "text/plain": [
       "#<Plotly::Offline::HTML:0x007fb1819639a0 @id=\"14b294c4-1b96-4322-ae3e-b6f5544283cb\", @data=[{:x=>[0.002, 0.022, 0.042, 0.06, 0.08, 0.098, 0.12, 0.14, 0.158, 0.18, 0.2], :y=>[0.24691358024691357, 0.577319587628866, 0.9081527347781218, 1.2435233160621761, 1.7151767151767152, 2.447916666666667, 9.674027339642482, 20.342612419700217, 28.477546549835704, 37.41496598639456, 46.24277456647399], :name=>\"ripple_ratio\", :type=>:scatter, :mode=>\"\"}], @layout={:xaxis=>{:title=>\"出力電流(A)\"}, :yaxis=>{:title=>\"リップル含有率(％)\"}, :title=>\"リップル含有率\", :width=>1000, :height=>500}, @config={:linkText=>\"Export to plot.ly\", :showLink=>true}, @embedded=true>"
      ]
     },
     "metadata": {},
     "output_type": "display_data"
    }
   ],
   "source": [
    "Daru::DataFrame.from_csv('data/jikken6.csv').plot(\n",
    "  x: 'Io', y: 'Vo',\n",
    "  layout: {\n",
    "    title: '出力電圧',\n",
    "    yaxis: { title: '出力電圧(V)' },\n",
    "    xaxis: { title: '出力電流(A)' }\n",
    "    }\n",
    "  ).show\n",
    "Daru::DataFrame.from_csv('data/jikken6.csv').plot(\n",
    "  x: 'Io', y: 'ripple_ratio',\n",
    "  layout: {\n",
    "    title: 'リップル含有率',\n",
    "    yaxis: { title: 'リップル含有率(％)' },\n",
    "    xaxis: { title: '出力電流(A)' }\n",
    "    }\n",
    "  ).show"
   ]
  },
  {
   "cell_type": "markdown",
   "metadata": {},
   "source": [
    "# 実験7"
   ]
  },
  {
   "cell_type": "code",
   "execution_count": 85,
   "metadata": {
    "collapsed": true
   },
   "outputs": [],
   "source": [
    "Hg::Hg.create do |gen|\n",
    "  gen.headers :Vi, :Vo\n",
    "  gen.body <<BODY\n",
    "13.01, 9.67\n",
    "14.03, 9.70\n",
    "15.01, 9.72\n",
    "16.01, 9.76\n",
    "17.0,  9.79\n",
    "BODY\n",
    "end.daru_dataframe.write_csv('data/jikken7_0.csv')"
   ]
  },
  {
   "cell_type": "code",
   "execution_count": 88,
   "metadata": {
    "collapsed": true
   },
   "outputs": [],
   "source": [
    "Hg::Hg.create do |gen|\n",
    "  gen.headers :Vi, :Vo\n",
    "  gen.body <<BODY\n",
    "13, 9.55\n",
    "14.01, 9.6\n",
    "15.0, 9.64\n",
    "15.99, 9.69\n",
    "17.0, 9.71\n",
    "BODY\n",
    "end.daru_dataframe.write_csv('data/jikken7_75.csv')"
   ]
  },
  {
   "cell_type": "code",
   "execution_count": 90,
   "metadata": {
    "collapsed": true
   },
   "outputs": [],
   "source": [
    "Hg::Hg.create do |gen|\n",
    "  gen.headers :Vi, :Vo\n",
    "  gen.body <<BODY\n",
    "12.99, 8.59\n",
    "14.03, 8.99\n",
    "15.01, 9.25\n",
    "16.04, 9.48\n",
    "17.03, 9.62\n",
    "BODY\n",
    "end.daru_dataframe.write_csv('data/jikken7_150.csv')"
   ]
  },
  {
   "cell_type": "code",
   "execution_count": 91,
   "metadata": {
    "collapsed": false
   },
   "outputs": [
    {
     "data": {
      "text/html": [
       "\n",
       "  <script>\n",
       "  requirejs.config({paths: { 'plotly': ['https://cdn.plot.ly/plotly-latest.min'] }})\n",
       "  </script>\n",
       "\n",
       "\n",
       "<div id=\"8f99bc30-e4f1-4a82-8740-6c028dd52be3\" style=\"height: 100%; width: 100%;\"></div>\n",
       "\n",
       "<script>\n",
       " require(['plotly'], function(Plotly) { \n",
       "Plotly.newPlot(\n",
       "  '8f99bc30-e4f1-4a82-8740-6c028dd52be3',\n",
       "  [{\"x\":[13.01,14.03,15.01,16.01,17.0],\"y\":[9.67,9.7,9.72,9.76,9.79],\"name\":\"Io=0mA\"},{\"x\":[13,14.01,15.0,15.99,17.0],\"y\":[9.55,9.6,9.64,9.69,9.71],\"name\":\"Io=75mA\"},{\"x\":[12.99,14.03,15.01,16.04,17.03],\"y\":[8.59,8.99,9.25,9.48,9.62],\"name\":\"Io=150mA\"}],\n",
       "  {\"xaxis\":{\"title\":\"Vi(V)\"},\"yaxis\":{\"title\":\"Vo(V)\"}},\n",
       "  {\"linkText\":\"Export to plot.ly\",\"showLink\":true}\n",
       ")\n",
       "\n",
       "window.addEventListener('resize', function() {\n",
       "  Plotly.Plots.resize(document.getElementById('8f99bc30-e4f1-4a82-8740-6c028dd52be3'))\n",
       "})\n",
       " }) \n",
       "</script>"
      ],
      "text/plain": [
       "#<Plotly::Offline::HTML:0x007fb18191acc8 @id=\"8f99bc30-e4f1-4a82-8740-6c028dd52be3\", @data=[{:x=>[13.01, 14.03, 15.01, 16.01, 17.0], :y=>[9.67, 9.7, 9.72, 9.76, 9.79], :name=>\"Io=0mA\"}, {:x=>[13, 14.01, 15.0, 15.99, 17.0], :y=>[9.55, 9.6, 9.64, 9.69, 9.71], :name=>\"Io=75mA\"}, {:x=>[12.99, 14.03, 15.01, 16.04, 17.03], :y=>[8.59, 8.99, 9.25, 9.48, 9.62], :name=>\"Io=150mA\"}], @layout={:xaxis=>{:title=>\"Vi(V)\"}, :yaxis=>{:title=>\"Vo(V)\"}}, @config={:linkText=>\"Export to plot.ly\", :showLink=>true}, @embedded=true>"
      ]
     },
     "metadata": {},
     "output_type": "display_data"
    }
   ],
   "source": [
    "['0', '75', '150'].select { |name| File.exists? \"data/jikken7_#{name}.csv\" }.map do |name|\n",
    "  h = Daru::DataFrame.from_csv(\"data/jikken7_#{name}.csv\").to_h\n",
    "  {x: h['Vi'].to_a, y: h['Vo'].to_a, name: \"Io=#{name}mA\"}\n",
    "end.tap do |trace|\n",
    "  Plotly::Plot.new(data: trace, layout: { xaxis: { title: 'Vi(V)'}, yaxis: { title: 'Vo(V)' } }).show\n",
    "end\n",
    "nil"
   ]
  }
 ],
 "metadata": {
  "kernelspec": {
   "display_name": "Ruby 2.3.2",
   "language": "ruby",
   "name": "ruby"
  },
  "language_info": {
   "file_extension": ".rb",
   "mimetype": "application/x-ruby",
   "name": "ruby",
   "version": "2.3.2"
  }
 },
 "nbformat": 4,
 "nbformat_minor": 0
}
