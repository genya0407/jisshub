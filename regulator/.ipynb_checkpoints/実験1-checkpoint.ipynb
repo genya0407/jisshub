{
 "cells": [
  {
   "cell_type": "code",
   "execution_count": 2,
   "metadata": {
    "collapsed": false,
    "scrolled": true
   },
   "outputs": [
    {
     "data": {
      "text/plain": [
       ":plotly"
      ]
     },
     "execution_count": 2,
     "metadata": {},
     "output_type": "execute_result"
    }
   ],
   "source": [
    "require 'daru'\n",
    "require 'daru_plotting_plotly'\n",
    "require 'hg'\n",
    "require 'rbplotly'\n",
    "\n",
    "class Numeric\n",
    "  def mili\n",
    "    (self * 10 ** (-3)).to_f\n",
    "  end\n",
    "  \n",
    "  def micro\n",
    "    (self * 10 ** (-6)).to_f\n",
    "  end\n",
    "end\n",
    "\n",
    "Daru.plotting_library = :plotly"
   ]
  },
  {
   "cell_type": "markdown",
   "metadata": {},
   "source": [
    "# 実験1"
   ]
  },
  {
   "cell_type": "code",
   "execution_count": 21,
   "metadata": {
    "collapsed": false
   },
   "outputs": [
    {
     "data": {
      "text/html": [
       "\n",
       "  <script>\n",
       "  requirejs.config({paths: { 'plotly': ['https://cdn.plot.ly/plotly-latest.min'] }})\n",
       "  </script>\n",
       "\n",
       "\n",
       "<div id=\"4dc0c512-c74b-4485-886f-97ecf7d56e8d\" style=\"height: 100%; width: 100%;\"></div>\n",
       "\n",
       "<script>\n",
       " require(['plotly'], function(Plotly) { \n",
       "Plotly.newPlot(\n",
       "  '4dc0c512-c74b-4485-886f-97ecf7d56e8d',\n",
       "  [{\"x\":[0.227,0.2052,0.1825,0.1699,0.1468,0.1228,0.0989,0.0742,0.0502,0.0258,0],\"y\":[1.6271186440677965,1.6118143459915613,1.625,1.625,1.6265560165975104,1.6363636363636365,1.6229508196721314,1.6298116298116296,1.6244897959183673,1.6,1.5873015873015874],\"name\":\"ripple\",\"type\":\"scatter\",\"mode\":\"\"}],\n",
       "  {\"xaxis\":{\"title\":\"電流(A)\"},\"yaxis\":{\"title\":\"リップル含有率\"},\"title\":\"リップル含有率\",\"width\":1000,\"height\":500},\n",
       "  {\"linkText\":\"Export to plot.ly\",\"showLink\":true}\n",
       ")\n",
       "\n",
       "window.addEventListener('resize', function() {\n",
       "  Plotly.Plots.resize(document.getElementById('4dc0c512-c74b-4485-886f-97ecf7d56e8d'))\n",
       "})\n",
       " }) \n",
       "</script>"
      ],
      "text/plain": [
       "#<Plotly::Offline::HTML:0x007f872abd16f0 @id=\"4dc0c512-c74b-4485-886f-97ecf7d56e8d\", @data=[{:x=>[0.227, 0.2052, 0.1825, 0.1699, 0.1468, 0.1228, 0.0989, 0.0742, 0.0502, 0.0258, 0], :y=>[1.6271186440677965, 1.6118143459915613, 1.625, 1.625, 1.6265560165975104, 1.6363636363636365, 1.6229508196721314, 1.6298116298116296, 1.6244897959183673, 1.6, 1.5873015873015874], :name=>\"ripple\", :type=>:scatter, :mode=>\"\"}], @layout={:xaxis=>{:title=>\"電流(A)\"}, :yaxis=>{:title=>\"リップル含有率\"}, :title=>\"リップル含有率\", :width=>1000, :height=>500}, @config={:linkText=>\"Export to plot.ly\", :showLink=>true}, @embedded=true>"
      ]
     },
     "metadata": {},
     "output_type": "display_data"
    },
    {
     "data": {
      "text/html": [
       "\n",
       "  <script>\n",
       "  requirejs.config({paths: { 'plotly': ['https://cdn.plot.ly/plotly-latest.min'] }})\n",
       "  </script>\n",
       "\n",
       "\n",
       "<div id=\"e94ec727-15c4-486e-b413-bac8ea17cb85\" style=\"height: 100%; width: 100%;\"></div>\n",
       "\n",
       "<script>\n",
       " require(['plotly'], function(Plotly) { \n",
       "Plotly.newPlot(\n",
       "  'e94ec727-15c4-486e-b413-bac8ea17cb85',\n",
       "  [{\"x\":[0.227,0.2052,0.1825,0.1699,0.1468,0.1228,0.0989,0.0742,0.0502,0.0258,0],\"y\":[11.8,11.85,12.0,12.0,12.05,12.1,12.2,12.21,12.25,12.5,12.6],\"name\":\"v_mean\",\"type\":\"scatter\",\"mode\":\"\"}],\n",
       "  {\"xaxis\":{\"title\":\"電流(A)\"},\"yaxis\":{\"title\":\"電圧(V)\"},\"title\":\"電圧\",\"width\":1000,\"height\":500},\n",
       "  {\"linkText\":\"Export to plot.ly\",\"showLink\":true}\n",
       ")\n",
       "\n",
       "window.addEventListener('resize', function() {\n",
       "  Plotly.Plots.resize(document.getElementById('e94ec727-15c4-486e-b413-bac8ea17cb85'))\n",
       "})\n",
       " }) \n",
       "</script>"
      ],
      "text/plain": [
       "#<Plotly::Offline::HTML:0x007f872a8353c0 @id=\"e94ec727-15c4-486e-b413-bac8ea17cb85\", @data=[{:x=>[0.227, 0.2052, 0.1825, 0.1699, 0.1468, 0.1228, 0.0989, 0.0742, 0.0502, 0.0258, 0], :y=>[11.8, 11.85, 12.0, 12.0, 12.05, 12.1, 12.2, 12.21, 12.25, 12.5, 12.6], :name=>\"v_mean\", :type=>:scatter, :mode=>\"\"}], @layout={:xaxis=>{:title=>\"電流(A)\"}, :yaxis=>{:title=>\"電圧(V)\"}, :title=>\"電圧\", :width=>1000, :height=>500}, @config={:linkText=>\"Export to plot.ly\", :showLink=>true}, @embedded=true>"
      ]
     },
     "metadata": {},
     "output_type": "display_data"
    }
   ],
   "source": [
    "Daru::DataFrame.from_csv('data/jikken_1.csv').tap do |df|\n",
    "  df.plot(\n",
    "    x: 'i', y: 'ripple',\n",
    "    layout: {\n",
    "      title: 'リップル含有率',\n",
    "      xaxis: { title: '電流(A)' },\n",
    "      yaxis: { title: 'リップル含有率' }\n",
    "    }\n",
    "  ).show\n",
    "  df.plot(\n",
    "    x: 'i', y: 'v_mean',\n",
    "    layout: {\n",
    "      title: '電圧',\n",
    "      xaxis: { title: '電流(A)' },\n",
    "      yaxis: { title: '電圧(V)' }\n",
    "    }\n",
    "  ).show\n",
    "end\n",
    "nil"
   ]
  },
  {
   "cell_type": "markdown",
   "metadata": {},
   "source": [
    "# 実験2"
   ]
  },
  {
   "cell_type": "code",
   "execution_count": 23,
   "metadata": {
    "collapsed": false
   },
   "outputs": [
    {
     "data": {
      "text/html": [
       "\n",
       "  <script>\n",
       "  requirejs.config({paths: { 'plotly': ['https://cdn.plot.ly/plotly-latest.min'] }})\n",
       "  </script>\n",
       "\n",
       "\n",
       "<div id=\"bee8624b-651d-47ca-b047-e856aafbef7a\" style=\"height: 100%; width: 100%;\"></div>\n",
       "\n",
       "<script>\n",
       " require(['plotly'], function(Plotly) { \n",
       "Plotly.newPlot(\n",
       "  'bee8624b-651d-47ca-b047-e856aafbef7a',\n",
       "  [{\"x\":[0,0.0358,0.065,0.09,0.1138,0.1264,0.18230000000000002,0.19380000000000003,0.215,0.2379],\"y\":[0.015228426395939087,0.3023255813953489,0.5316455696202531,0.7027027027027027,0.8226950354609929,0.9446494464944649,1.0852713178294573,1.1093749999999998,1.1605723370429253,1.2077294685990339],\"name\":\"ripple\",\"type\":\"scatter\",\"mode\":\"\"}],\n",
       "  {\"xaxis\":{\"title\":\"電流(A)\"},\"yaxis\":{\"title\":\"リップル含有率\"},\"title\":\"リップル含有率\",\"width\":1000,\"height\":500},\n",
       "  {\"linkText\":\"Export to plot.ly\",\"showLink\":true}\n",
       ")\n",
       "\n",
       "window.addEventListener('resize', function() {\n",
       "  Plotly.Plots.resize(document.getElementById('bee8624b-651d-47ca-b047-e856aafbef7a'))\n",
       "})\n",
       " }) \n",
       "</script>"
      ],
      "text/plain": [
       "#<Plotly::Offline::HTML:0x007f872ab435d0 @id=\"bee8624b-651d-47ca-b047-e856aafbef7a\", @data=[{:x=>[0, 0.0358, 0.065, 0.09, 0.1138, 0.1264, 0.18230000000000002, 0.19380000000000003, 0.215, 0.2379], :y=>[0.015228426395939087, 0.3023255813953489, 0.5316455696202531, 0.7027027027027027, 0.8226950354609929, 0.9446494464944649, 1.0852713178294573, 1.1093749999999998, 1.1605723370429253, 1.2077294685990339], :name=>\"ripple\", :type=>:scatter, :mode=>\"\"}], @layout={:xaxis=>{:title=>\"電流(A)\"}, :yaxis=>{:title=>\"リップル含有率\"}, :title=>\"リップル含有率\", :width=>1000, :height=>500}, @config={:linkText=>\"Export to plot.ly\", :showLink=>true}, @embedded=true>"
      ]
     },
     "metadata": {},
     "output_type": "display_data"
    },
    {
     "data": {
      "text/html": [
       "\n",
       "  <script>\n",
       "  requirejs.config({paths: { 'plotly': ['https://cdn.plot.ly/plotly-latest.min'] }})\n",
       "  </script>\n",
       "\n",
       "\n",
       "<div id=\"b2aa83a8-312c-479a-b272-3143668e5d7d\" style=\"height: 100%; width: 100%;\"></div>\n",
       "\n",
       "<script>\n",
       " require(['plotly'], function(Plotly) { \n",
       "Plotly.newPlot(\n",
       "  'b2aa83a8-312c-479a-b272-3143668e5d7d',\n",
       "  [{\"x\":[0,0.0358,0.065,0.09,0.1138,0.1264,0.18230000000000002,0.19380000000000003,0.215,0.2379],\"y\":[19.7,17.2,15.8,14.8,14.1,13.55,12.9,12.8,12.58,12.42],\"name\":\"v_mean\",\"type\":\"scatter\",\"mode\":\"\"}],\n",
       "  {\"xaxis\":{\"title\":\"電流(A)\"},\"yaxis\":{\"title\":\"電圧(V)\"},\"title\":\"電圧\",\"width\":1000,\"height\":500},\n",
       "  {\"linkText\":\"Export to plot.ly\",\"showLink\":true}\n",
       ")\n",
       "\n",
       "window.addEventListener('resize', function() {\n",
       "  Plotly.Plots.resize(document.getElementById('b2aa83a8-312c-479a-b272-3143668e5d7d'))\n",
       "})\n",
       " }) \n",
       "</script>"
      ],
      "text/plain": [
       "#<Plotly::Offline::HTML:0x007f872ab32d48 @id=\"b2aa83a8-312c-479a-b272-3143668e5d7d\", @data=[{:x=>[0, 0.0358, 0.065, 0.09, 0.1138, 0.1264, 0.18230000000000002, 0.19380000000000003, 0.215, 0.2379], :y=>[19.7, 17.2, 15.8, 14.8, 14.1, 13.55, 12.9, 12.8, 12.58, 12.42], :name=>\"v_mean\", :type=>:scatter, :mode=>\"\"}], @layout={:xaxis=>{:title=>\"電流(A)\"}, :yaxis=>{:title=>\"電圧(V)\"}, :title=>\"電圧\", :width=>1000, :height=>500}, @config={:linkText=>\"Export to plot.ly\", :showLink=>true}, @embedded=true>"
      ]
     },
     "metadata": {},
     "output_type": "display_data"
    }
   ],
   "source": [
    "Daru::DataFrame.from_csv('data/jikken_2.csv').tap do |df|\n",
    "  df.plot(\n",
    "    x: 'i', y: 'ripple',\n",
    "    layout: {\n",
    "      title: 'リップル含有率',\n",
    "      xaxis: { title: '電流(A)' },\n",
    "      yaxis: { title: 'リップル含有率' }\n",
    "    }\n",
    "  ).show\n",
    "  df.plot(\n",
    "    x: 'i', y: 'v_mean',\n",
    "    layout: {\n",
    "      title: '電圧',\n",
    "      xaxis: { title: '電流(A)' },\n",
    "      yaxis: { title: '電圧(V)' }\n",
    "    }\n",
    "  ).show\n",
    "end\n",
    "nil"
   ]
  },
  {
   "cell_type": "markdown",
   "metadata": {},
   "source": [
    "# 実験3"
   ]
  },
  {
   "cell_type": "code",
   "execution_count": 15,
   "metadata": {
    "collapsed": false
   },
   "outputs": [
    {
     "data": {
      "text/html": [
       "\n",
       "  <script>\n",
       "  requirejs.config({paths: { 'plotly': ['https://cdn.plot.ly/plotly-latest.min'] }})\n",
       "  </script>\n",
       "\n",
       "\n",
       "<div id=\"1575f3df-ef1f-4ed3-b58c-ab4f5911a7bd\" style=\"height: 100%; width: 100%;\"></div>\n",
       "\n",
       "<script>\n",
       " require(['plotly'], function(Plotly) { \n",
       "Plotly.newPlot(\n",
       "  '1575f3df-ef1f-4ed3-b58c-ab4f5911a7bd',\n",
       "  [{\"x\":[3,4,5,5.5,6,7,8,9,11,12],\"y\":[0.004893617021276596,0.006808510638297872,0.007659574468085106,0.008085106382978723,0.008297872340425533,0.00851063829787234,0.008723404255319148,0.008723404255319148,0.008936170212765958,0.008936170212765958],\"name\":\"47Ω\"},{\"x\":[5,6,7,8,8.5,9,9.5,10,12,14,15],\"y\":[0.004404255319148936,0.005319148936170213,0.006276595744680851,0.007872340425531916,0.008404255319148936,0.00848936170212766,0.00851063829787234,0.00853191489361702,0.008659574468085107,0.008723404255319148,0.00874468085106383],\"name\":\"470Ω\"},{\"x\":[7,9,10,11,12,12.5,13,15],\"y\":[0.00365,0.005019999999999999,0.005849999999999999,0.006730000000000001,0.00775,0.008119999999999999,0.008199999999999999,0.0083],\"name\":\"1000Ω\"},{\"x\":[6,8,10,12,13,14,15,16],\"y\":[0.001681818181818182,0.0022727272727272726,0.0028636363636363633,0.0036363636363636364,0.004045454545454546,0.004454545454545455,0.004931818181818181,0.005272727272727273],\"name\":\"2200Ω\"}],\n",
       "  {\"xaxis\":{\"title\":\"Ei(V)\"},\"yaxis\":{\"title\":\"Io(A)\"},\"title\":\"出力電流\"},\n",
       "  {\"linkText\":\"Export to plot.ly\",\"showLink\":true}\n",
       ")\n",
       "\n",
       "window.addEventListener('resize', function() {\n",
       "  Plotly.Plots.resize(document.getElementById('1575f3df-ef1f-4ed3-b58c-ab4f5911a7bd'))\n",
       "})\n",
       " }) \n",
       "</script>"
      ],
      "text/plain": [
       "#<Plotly::Offline::HTML:0x007f872c1ab2a0 @id=\"1575f3df-ef1f-4ed3-b58c-ab4f5911a7bd\", @data=[{:x=>[3, 4, 5, 5.5, 6, 7, 8, 9, 11, 12], :y=>[0.004893617021276596, 0.006808510638297872, 0.007659574468085106, 0.008085106382978723, 0.008297872340425533, 0.00851063829787234, 0.008723404255319148, 0.008723404255319148, 0.008936170212765958, 0.008936170212765958], :name=>\"47Ω\"}, {:x=>[5, 6, 7, 8, 8.5, 9, 9.5, 10, 12, 14, 15], :y=>[0.004404255319148936, 0.005319148936170213, 0.006276595744680851, 0.007872340425531916, 0.008404255319148936, 0.00848936170212766, 0.00851063829787234, 0.00853191489361702, 0.008659574468085107, 0.008723404255319148, 0.00874468085106383], :name=>\"470Ω\"}, {:x=>[7, 9, 10, 11, 12, 12.5, 13, 15], :y=>[0.00365, 0.005019999999999999, 0.005849999999999999, 0.006730000000000001, 0.00775, 0.008119999999999999, 0.008199999999999999, 0.0083], :name=>\"1000Ω\"}, {:x=>[6, 8, 10, 12, 13, 14, 15, 16], :y=>[0.001681818181818182, 0.0022727272727272726, 0.0028636363636363633, 0.0036363636363636364, 0.004045454545454546, 0.004454545454545455, 0.004931818181818181, 0.005272727272727273], :name=>\"2200Ω\"}], @layout={:xaxis=>{:title=>\"Ei(V)\"}, :yaxis=>{:title=>\"Io(A)\"}, :title=>\"出力電流\"}, @config={:linkText=>\"Export to plot.ly\", :showLink=>true}, @embedded=true>"
      ]
     },
     "metadata": {},
     "output_type": "display_data"
    }
   ],
   "source": [
    "trace = ['47', '470', '1000', '2200'].map do |orm|\n",
    "  df = Daru::DataFrame.from_csv(\"data/jikken_3/#{orm}.csv\")\n",
    "  {x: df['ei'].to_a, y: df['i'].to_a, name: \"#{orm}Ω\"}\n",
    "end\n",
    "Plotly::Plot.new(\n",
    "  data: trace,\n",
    "  layout: {\n",
    "    xaxis: { title: 'Ei(V)' },\n",
    "    yaxis: { title: 'Io(A)' },\n",
    "    title: '出力電流'\n",
    "  }\n",
    ").show"
   ]
  },
  {
   "cell_type": "markdown",
   "metadata": {},
   "source": [
    "# 実験4"
   ]
  },
  {
   "cell_type": "code",
   "execution_count": 13,
   "metadata": {
    "collapsed": false
   },
   "outputs": [
    {
     "data": {
      "text/html": [
       "\n",
       "  <script>\n",
       "  requirejs.config({paths: { 'plotly': ['https://cdn.plot.ly/plotly-latest.min'] }})\n",
       "  </script>\n",
       "\n",
       "\n",
       "<div id=\"3eabb44a-5b17-405b-b067-ce202ee0dad9\" style=\"height: 100%; width: 100%;\"></div>\n",
       "\n",
       "<script>\n",
       " require(['plotly'], function(Plotly) { \n",
       "Plotly.newPlot(\n",
       "  '3eabb44a-5b17-405b-b067-ce202ee0dad9',\n",
       "  [{\"x\":[470,1000,1330,1430,1500,1600,1720,1830,2200,3300],\"y\":[0.007228915662650602,0.006818181818181817,0.010256410256410256,0.06774193548387096,0.09652509652509653,0.16666666666666669,0.22388059701492538,0.22794117647058826,0.21897810218978103,0.20863309352517984],\"name\":\"ripple\",\"type\":\"scatter\",\"mode\":\"\"}],\n",
       "  {\"xaxis\":{\"title\":\"負荷抵抗(Ω)\"},\"yaxis\":{\"title\":\"リップル含有率\"},\"title\":\"リップル含有率\",\"width\":1000,\"height\":500},\n",
       "  {\"linkText\":\"Export to plot.ly\",\"showLink\":true}\n",
       ")\n",
       "\n",
       "window.addEventListener('resize', function() {\n",
       "  Plotly.Plots.resize(document.getElementById('3eabb44a-5b17-405b-b067-ce202ee0dad9'))\n",
       "})\n",
       " }) \n",
       "</script>"
      ],
      "text/plain": [
       "#<Plotly::Offline::HTML:0x007f872b185c90 @id=\"3eabb44a-5b17-405b-b067-ce202ee0dad9\", @data=[{:x=>[470, 1000, 1330, 1430, 1500, 1600, 1720, 1830, 2200, 3300], :y=>[0.007228915662650602, 0.006818181818181817, 0.010256410256410256, 0.06774193548387096, 0.09652509652509653, 0.16666666666666669, 0.22388059701492538, 0.22794117647058826, 0.21897810218978103, 0.20863309352517984], :name=>\"ripple\", :type=>:scatter, :mode=>\"\"}], @layout={:xaxis=>{:title=>\"負荷抵抗(Ω)\"}, :yaxis=>{:title=>\"リップル含有率\"}, :title=>\"リップル含有率\", :width=>1000, :height=>500}, @config={:linkText=>\"Export to plot.ly\", :showLink=>true}, @embedded=true>"
      ]
     },
     "metadata": {},
     "output_type": "display_data"
    },
    {
     "data": {
      "text/html": [
       "\n",
       "  <script>\n",
       "  requirejs.config({paths: { 'plotly': ['https://cdn.plot.ly/plotly-latest.min'] }})\n",
       "  </script>\n",
       "\n",
       "\n",
       "<div id=\"e5d937c6-2d13-401b-acba-f050cf3e9aca\" style=\"height: 100%; width: 100%;\"></div>\n",
       "\n",
       "<script>\n",
       " require(['plotly'], function(Plotly) { \n",
       "Plotly.newPlot(\n",
       "  'e5d937c6-2d13-401b-acba-f050cf3e9aca',\n",
       "  [{\"x\":[470,1000,1330,1430,1500,1600,1720,1830,2200,3300],\"y\":[0.008829787234042553,0.0088,0.008796992481203006,0.008671328671328672,0.008633333333333333,0.00825,0.007790697674418605,0.007431693989071038,0.006227272727272727,0.004212121212121212],\"name\":\"i_mean\",\"type\":\"scatter\",\"mode\":\"\"}],\n",
       "  {\"xaxis\":{\"title\":\"負荷抵抗(Ω)\"},\"yaxis\":{\"title\":\"出力電流(A)\"},\"title\":\"出力電流\",\"width\":1000,\"height\":500},\n",
       "  {\"linkText\":\"Export to plot.ly\",\"showLink\":true}\n",
       ")\n",
       "\n",
       "window.addEventListener('resize', function() {\n",
       "  Plotly.Plots.resize(document.getElementById('e5d937c6-2d13-401b-acba-f050cf3e9aca'))\n",
       "})\n",
       " }) \n",
       "</script>"
      ],
      "text/plain": [
       "#<Plotly::Offline::HTML:0x007f872ab110f8 @id=\"e5d937c6-2d13-401b-acba-f050cf3e9aca\", @data=[{:x=>[470, 1000, 1330, 1430, 1500, 1600, 1720, 1830, 2200, 3300], :y=>[0.008829787234042553, 0.0088, 0.008796992481203006, 0.008671328671328672, 0.008633333333333333, 0.00825, 0.007790697674418605, 0.007431693989071038, 0.006227272727272727, 0.004212121212121212], :name=>\"i_mean\", :type=>:scatter, :mode=>\"\"}], @layout={:xaxis=>{:title=>\"負荷抵抗(Ω)\"}, :yaxis=>{:title=>\"出力電流(A)\"}, :title=>\"出力電流\", :width=>1000, :height=>500}, @config={:linkText=>\"Export to plot.ly\", :showLink=>true}, @embedded=true>"
      ]
     },
     "metadata": {},
     "output_type": "display_data"
    }
   ],
   "source": [
    "Daru::DataFrame.from_csv('data/jikken_4/data.csv').tap do |df|\n",
    "  df.plot(\n",
    "    x: 'orm', y: 'ripple',\n",
    "    layout: {\n",
    "      title: 'リップル含有率',\n",
    "      yaxis: { title: 'リップル含有率' },\n",
    "      xaxis: { title: '負荷抵抗(Ω)' }\n",
    "    }\n",
    "  ).show\n",
    "  df.plot(\n",
    "    x: 'orm', y: 'i_mean',\n",
    "    layout: {\n",
    "      title: '出力電流',\n",
    "      xaxis: { title: '負荷抵抗(Ω)' },\n",
    "      yaxis: { title: '出力電流(A)' }\n",
    "    }\n",
    "  ).show\n",
    "end\n",
    "nil"
   ]
  }
 ],
 "metadata": {
  "kernelspec": {
   "display_name": "Ruby 2.3.2",
   "language": "ruby",
   "name": "ruby"
  },
  "language_info": {
   "file_extension": ".rb",
   "mimetype": "application/x-ruby",
   "name": "ruby",
   "version": "2.3.2"
  }
 },
 "nbformat": 4,
 "nbformat_minor": 0
}
