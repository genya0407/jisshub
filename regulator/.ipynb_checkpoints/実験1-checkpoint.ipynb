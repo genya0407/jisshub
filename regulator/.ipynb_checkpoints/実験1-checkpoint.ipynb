{
 "cells": [
  {
   "cell_type": "code",
   "execution_count": 1,
   "metadata": {
    "collapsed": false
   },
   "outputs": [
    {
     "data": {
      "text/plain": [
       ":plotly"
      ]
     },
     "execution_count": 1,
     "metadata": {},
     "output_type": "execute_result"
    }
   ],
   "source": [
    "require 'daru'\n",
    "require 'daru_plotting_plotly'\n",
    "require 'hg'\n",
    "\n",
    "class Numeric\n",
    "  def mili\n",
    "    (self * 10 ** (-3)).to_f\n",
    "  end\n",
    "  \n",
    "  def micro\n",
    "    (self * 10 ** (-6)).to_f\n",
    "  end\n",
    "end\n",
    "\n",
    "Daru.plotting_library = :plotly"
   ]
  },
  {
   "cell_type": "code",
   "execution_count": 24,
   "metadata": {
    "collapsed": false
   },
   "outputs": [
    {
     "data": {
      "text/html": [
       "\n",
       "  <script>\n",
       "  requirejs.config({paths: { 'plotly': ['https://cdn.plot.ly/plotly-latest.min'] }})\n",
       "  </script>\n",
       "\n",
       "\n",
       "<div id=\"c62d09f2-1b1e-42ce-be67-887173c4dc62\" style=\"height: 100%; width: 100%;\"></div>\n",
       "\n",
       "<script>\n",
       " require(['plotly'], function(Plotly) { \n",
       "Plotly.newPlot(\n",
       "  'c62d09f2-1b1e-42ce-be67-887173c4dc62',\n",
       "  [{\"x\":[0],\"y\":[0.16],\"type\":\"scatter\",\"mode\":\"markers+lines\",\"name\":null}],\n",
       "  {\"width\":1000,\"height\":500},\n",
       "  {\"linkText\":\"Export to plot.ly\",\"showLink\":true}\n",
       ")\n",
       "\n",
       "window.addEventListener('resize', function() {\n",
       "  Plotly.Plots.resize(document.getElementById('c62d09f2-1b1e-42ce-be67-887173c4dc62'))\n",
       "})\n",
       " }) \n",
       "</script>"
      ],
      "text/plain": [
       "#<Plotly::Offline::HTML:0x007fbbd912ae48 @id=\"c62d09f2-1b1e-42ce-be67-887173c4dc62\", @data=[{:x=>[0], :y=>[0.16], :type=>:scatter, :mode=>\"markers+lines\", :name=>nil}], @layout={:width=>1000, :height=>500}, @config={:linkText=>\"Export to plot.ly\", :showLink=>true}, @embedded=true>"
      ]
     },
     "metadata": {},
     "output_type": "display_data"
    }
   ],
   "source": [
    "Hg::Hg.create do |gen|\n",
    "  gen.headers :i, :v_mean, :v_diff\n",
    "  gen.body <<BODY\n",
    "202.mili, 11.78, 1.9\n",
    "224.mili, 11.7, 1.9\n",
    "BODY\n",
    "end.daru_dataframe.tap do |df|\n",
    "  vector = df.map_rows do |row|\n",
    "    row[:v_diff].to_f / row[:v_mean].to_f\n",
    "  end.to_a\n",
    "  vector = Daru::Vector.new(vector)\n",
    "  df.add_vector :ripple, vector\n",
    "  df\n",
    "end.plot(x: :i, y: :ripple, mode: [:markers, :lines]).show"
   ]
  }
 ],
 "metadata": {
  "kernelspec": {
   "display_name": "Ruby 2.3.2",
   "language": "ruby",
   "name": "ruby"
  },
  "language_info": {
   "file_extension": ".rb",
   "mimetype": "application/x-ruby",
   "name": "ruby",
   "version": "2.3.2"
  }
 },
 "nbformat": 4,
 "nbformat_minor": 0
}
