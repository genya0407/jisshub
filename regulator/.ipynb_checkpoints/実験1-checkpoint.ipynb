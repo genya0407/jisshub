{
 "cells": [
  {
   "cell_type": "code",
   "execution_count": 98,
   "metadata": {
    "collapsed": false,
    "scrolled": true
   },
   "outputs": [
    {
     "data": {
      "text/plain": [
       ":plotly"
      ]
     },
     "execution_count": 98,
     "metadata": {},
     "output_type": "execute_result"
    }
   ],
   "source": [
    "require 'daru'\n",
    "require 'daru_plotting_plotly'\n",
    "require 'hg'\n",
    "require 'rbplotly'\n",
    "\n",
    "class Numeric\n",
    "  def mili\n",
    "    (self * 10 ** (-3)).to_f\n",
    "  end\n",
    "  \n",
    "  def micro\n",
    "    (self * 10 ** (-6)).to_f\n",
    "  end\n",
    "end\n",
    "\n",
    "Daru.plotting_library = :plotly"
   ]
  },
  {
   "cell_type": "code",
   "execution_count": 129,
   "metadata": {
    "collapsed": false
   },
   "outputs": [
    {
     "data": {
      "text/html": [
       "\n",
       "  <script>\n",
       "  requirejs.config({paths: { 'plotly': ['https://cdn.plot.ly/plotly-latest.min'] }})\n",
       "  </script>\n",
       "\n",
       "\n",
       "<div id=\"2781c77d-e4b4-4b85-a09f-870c5c992f8b\" style=\"height: 100%; width: 100%;\"></div>\n",
       "\n",
       "<script>\n",
       " require(['plotly'], function(Plotly) { \n",
       "Plotly.newPlot(\n",
       "  '2781c77d-e4b4-4b85-a09f-870c5c992f8b',\n",
       "  [{\"x\":[470,1000],\"y\":[0.008936170212765958,0.00835],\"type\":\"scatter\",\"mode\":\"\",\"name\":\"i_mean\"}],\n",
       "  {\"width\":1000,\"height\":500,\"title\":\"出力電流\"},\n",
       "  {\"linkText\":\"Export to plot.ly\",\"showLink\":true}\n",
       ")\n",
       "\n",
       "window.addEventListener('resize', function() {\n",
       "  Plotly.Plots.resize(document.getElementById('2781c77d-e4b4-4b85-a09f-870c5c992f8b'))\n",
       "})\n",
       " }) \n",
       "</script>"
      ],
      "text/plain": [
       "#<Plotly::Offline::HTML:0x007fbbd99bc5e8 @id=\"2781c77d-e4b4-4b85-a09f-870c5c992f8b\", @data=[{:x=>[470, 1000], :y=>[0.008936170212765958, 0.00835], :type=>:scatter, :mode=>\"\", :name=>:i_mean}], @layout={:width=>1000, :height=>500, :title=>\"出力電流\"}, @config={:linkText=>\"Export to plot.ly\", :showLink=>true}, @embedded=true>"
      ]
     },
     "metadata": {},
     "output_type": "display_data"
    },
    {
     "data": {
      "text/html": [
       "\n",
       "  <script>\n",
       "  requirejs.config({paths: { 'plotly': ['https://cdn.plot.ly/plotly-latest.min'] }})\n",
       "  </script>\n",
       "\n",
       "\n",
       "<div id=\"7ee30b50-71a1-42f5-abd8-87b80b26af3a\" style=\"height: 100%; width: 100%;\"></div>\n",
       "\n",
       "<script>\n",
       " require(['plotly'], function(Plotly) { \n",
       "Plotly.newPlot(\n",
       "  '7ee30b50-71a1-42f5-abd8-87b80b26af3a',\n",
       "  [{\"x\":[470,1000],\"y\":[0.0008333333333333333,0.00718562874251497],\"type\":\"scatter\",\"mode\":\"\",\"name\":\"ripple\"}],\n",
       "  {\"width\":1000,\"height\":500,\"title\":\"リップル含有率\"},\n",
       "  {\"linkText\":\"Export to plot.ly\",\"showLink\":true}\n",
       ")\n",
       "\n",
       "window.addEventListener('resize', function() {\n",
       "  Plotly.Plots.resize(document.getElementById('7ee30b50-71a1-42f5-abd8-87b80b26af3a'))\n",
       "})\n",
       " }) \n",
       "</script>"
      ],
      "text/plain": [
       "#<Plotly::Offline::HTML:0x007fbbd9975878 @id=\"7ee30b50-71a1-42f5-abd8-87b80b26af3a\", @data=[{:x=>[470, 1000], :y=>[0.0008333333333333333, 0.00718562874251497], :type=>:scatter, :mode=>\"\", :name=>:ripple}], @layout={:width=>1000, :height=>500, :title=>\"リップル含有率\"}, @config={:linkText=>\"Export to plot.ly\", :showLink=>true}, @embedded=true>"
      ]
     },
     "metadata": {},
     "output_type": "display_data"
    },
    {
     "ename": "NameError",
     "evalue": "undefined local variable or method `orm' for main:Object",
     "output_type": "error",
     "traceback": [
      "\u001b[31mNameError\u001b[0m: undefined local variable or method `orm' for main:Object",
      "\u001b[37m<main>:12:in `<main>'\u001b[0m",
      "\u001b[37m/Users/sangenya/.rbenv/versions/2.3.0-dev/lib/ruby/gems/2.3.0/gems/iruby-0.2.9/lib/iruby/backend.rb:44:in `eval'\u001b[0m",
      "\u001b[37m/Users/sangenya/.rbenv/versions/2.3.0-dev/lib/ruby/gems/2.3.0/gems/iruby-0.2.9/lib/iruby/backend.rb:44:in `eval'\u001b[0m",
      "\u001b[37m/Users/sangenya/.rbenv/versions/2.3.0-dev/lib/ruby/gems/2.3.0/gems/iruby-0.2.9/lib/iruby/backend.rb:12:in `eval'\u001b[0m",
      "\u001b[37m/Users/sangenya/.rbenv/versions/2.3.0-dev/lib/ruby/gems/2.3.0/gems/iruby-0.2.9/lib/iruby/kernel.rb:87:in `execute_request'\u001b[0m",
      "\u001b[37m/Users/sangenya/.rbenv/versions/2.3.0-dev/lib/ruby/gems/2.3.0/gems/iruby-0.2.9/lib/iruby/kernel.rb:47:in `dispatch'\u001b[0m",
      "\u001b[37m/Users/sangenya/.rbenv/versions/2.3.0-dev/lib/ruby/gems/2.3.0/gems/iruby-0.2.9/lib/iruby/kernel.rb:37:in `run'\u001b[0m",
      "\u001b[37m/Users/sangenya/.rbenv/versions/2.3.0-dev/lib/ruby/gems/2.3.0/gems/iruby-0.2.9/lib/iruby/command.rb:70:in `run_kernel'\u001b[0m",
      "\u001b[37m/Users/sangenya/.rbenv/versions/2.3.0-dev/lib/ruby/gems/2.3.0/gems/iruby-0.2.9/lib/iruby/command.rb:34:in `run'\u001b[0m",
      "\u001b[37m/Users/sangenya/.rbenv/versions/2.3.0-dev/lib/ruby/gems/2.3.0/gems/iruby-0.2.9/bin/iruby:5:in `<top (required)>'\u001b[0m",
      "\u001b[37m/Users/sangenya/.rbenv/versions/2.3.0-dev/bin/iruby:22:in `load'\u001b[0m",
      "\u001b[37m/Users/sangenya/.rbenv/versions/2.3.0-dev/bin/iruby:22:in `<main>'\u001b[0m"
     ]
    }
   ],
   "source": [
    "Hg::Hg.create do |gen|\n",
    "  gen.headers :orm, :v_mean, :v_diff\n",
    "  gen.body <<BODY\n",
    "470, 4.15, 30.mili\n",
    "1000, 8.35, 60.mili\n",
    "1500, 12.95, \n",
    "\n",
    "BODY\n",
    "end.daru_dataframe.tap do |df|\n",
    "  df.sort! [:orm]\n",
    "  df.add_vector :ripple, df.map_rows { |row| row[:v_diff].to_f / row[:v_mean].to_f }\n",
    "  df.add_vector :i_mean, df.map_rows { |row| row[:v_mean].to_f / row[:orm].to_f }\n",
    "  df.plot(x: :orm, y: :i_mean, layout: { title: '出力電流' }).show\n",
    "  df.plot(x: :orm, y: :ripple, layout: { title: 'リップル含有率' }).show\n",
    "end.write_csv(\"data/jikken_4/#{orm}.csv\")"
   ]
  },
  {
   "cell_type": "code",
   "execution_count": 126,
   "metadata": {
    "collapsed": false
   },
   "outputs": [
    {
     "data": {
      "text/html": [
       "\n",
       "  <script>\n",
       "  requirejs.config({paths: { 'plotly': ['https://cdn.plot.ly/plotly-latest.min'] }})\n",
       "  </script>\n",
       "\n",
       "\n",
       "<div id=\"77d9f28b-98b5-4c38-ae20-cdfe358548d1\" style=\"height: 100%; width: 100%;\"></div>\n",
       "\n",
       "<script>\n",
       " require(['plotly'], function(Plotly) { \n",
       "Plotly.newPlot(\n",
       "  '77d9f28b-98b5-4c38-ae20-cdfe358548d1',\n",
       "  [{\"x\":[3,4,5,5.5,6,7,8,9,11,12],\"y\":[0.004893617021276596,0.006808510638297872,0.007659574468085106,0.008085106382978723,0.008297872340425533,0.00851063829787234,0.008723404255319148,0.008723404255319148,0.008936170212765958,0.008936170212765958],\"name\":\"47Ω\"},{\"x\":[5,6,7,8,8.5,9,9.5,10,12,14,15],\"y\":[0.004404255319148936,0.005319148936170213,0.006276595744680851,0.007872340425531916,0.008404255319148936,0.00848936170212766,0.00851063829787234,0.00853191489361702,0.008659574468085107,0.008723404255319148,0.00874468085106383],\"name\":\"470Ω\"},{\"x\":[7,9,10,11,12,12.5,13,15],\"y\":[0.00365,0.005019999999999999,0.005849999999999999,0.006730000000000001,0.00775,0.008119999999999999,0.008199999999999999,0.0083],\"name\":\"1000Ω\"},{\"x\":[6,8,10,12,13,14,15,16],\"y\":[0.001681818181818182,0.0022727272727272726,0.0028636363636363633,0.0036363636363636364,0.004045454545454546,0.004454545454545455,0.004931818181818181,0.005272727272727273],\"name\":\"2200Ω\"}],\n",
       "  {\"xaxis\":{\"title\":\"Ei(V)\"},\"yaxis\":{\"title\":\"Io(A)\"}},\n",
       "  {\"linkText\":\"Export to plot.ly\",\"showLink\":true}\n",
       ")\n",
       "\n",
       "window.addEventListener('resize', function() {\n",
       "  Plotly.Plots.resize(document.getElementById('77d9f28b-98b5-4c38-ae20-cdfe358548d1'))\n",
       "})\n",
       " }) \n",
       "</script>"
      ],
      "text/plain": [
       "#<Plotly::Offline::HTML:0x007fbbd899e580 @id=\"77d9f28b-98b5-4c38-ae20-cdfe358548d1\", @data=[{:x=>[3, 4, 5, 5.5, 6, 7, 8, 9, 11, 12], :y=>[0.004893617021276596, 0.006808510638297872, 0.007659574468085106, 0.008085106382978723, 0.008297872340425533, 0.00851063829787234, 0.008723404255319148, 0.008723404255319148, 0.008936170212765958, 0.008936170212765958], :name=>\"47Ω\"}, {:x=>[5, 6, 7, 8, 8.5, 9, 9.5, 10, 12, 14, 15], :y=>[0.004404255319148936, 0.005319148936170213, 0.006276595744680851, 0.007872340425531916, 0.008404255319148936, 0.00848936170212766, 0.00851063829787234, 0.00853191489361702, 0.008659574468085107, 0.008723404255319148, 0.00874468085106383], :name=>\"470Ω\"}, {:x=>[7, 9, 10, 11, 12, 12.5, 13, 15], :y=>[0.00365, 0.005019999999999999, 0.005849999999999999, 0.006730000000000001, 0.00775, 0.008119999999999999, 0.008199999999999999, 0.0083], :name=>\"1000Ω\"}, {:x=>[6, 8, 10, 12, 13, 14, 15, 16], :y=>[0.001681818181818182, 0.0022727272727272726, 0.0028636363636363633, 0.0036363636363636364, 0.004045454545454546, 0.004454545454545455, 0.004931818181818181, 0.005272727272727273], :name=>\"2200Ω\"}], @layout={:xaxis=>{:title=>\"Ei(V)\"}, :yaxis=>{:title=>\"Io(A)\"}}, @config={:linkText=>\"Export to plot.ly\", :showLink=>true}, @embedded=true>"
      ]
     },
     "metadata": {},
     "output_type": "display_data"
    }
   ],
   "source": [
    "trace = ['47', '470', '1000', '2200'].map do |orm|\n",
    "  df = Daru::DataFrame.from_csv(\"data/jikken_3/#{orm}.csv\")\n",
    "  {x: df['ei'].to_a, y: df['i'].to_a, name: \"#{orm}Ω\"}\n",
    "end\n",
    "Plotly::Plot.new(data: trace, layout: { xaxis: { title: 'Ei(V)' }, yaxis: { title: 'Io(A)' } }).show"
   ]
  },
  {
   "cell_type": "code",
   "execution_count": null,
   "metadata": {
    "collapsed": true
   },
   "outputs": [],
   "source": []
  }
 ],
 "metadata": {
  "kernelspec": {
   "display_name": "Ruby 2.3.2",
   "language": "ruby",
   "name": "ruby"
  },
  "language_info": {
   "file_extension": ".rb",
   "mimetype": "application/x-ruby",
   "name": "ruby",
   "version": "2.3.2"
  }
 },
 "nbformat": 4,
 "nbformat_minor": 0
}
