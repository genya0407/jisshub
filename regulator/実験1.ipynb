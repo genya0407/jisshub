{
 "cells": [
  {
   "cell_type": "code",
   "execution_count": 1,
   "metadata": {
    "collapsed": false,
    "scrolled": true
   },
   "outputs": [
    {
     "data": {
      "text/plain": [
       ":plotly"
      ]
     },
     "execution_count": 1,
     "metadata": {},
     "output_type": "execute_result"
    }
   ],
   "source": [
    "require 'daru'\n",
    "require 'daru_plotting_plotly'\n",
    "require 'hg'\n",
    "\n",
    "class Numeric\n",
    "  def mili\n",
    "    (self * 10 ** (-3)).to_f\n",
    "  end\n",
    "  \n",
    "  def micro\n",
    "    (self * 10 ** (-6)).to_f\n",
    "  end\n",
    "end\n",
    "\n",
    "Daru.plotting_library = :plotly"
   ]
  },
  {
   "cell_type": "code",
   "execution_count": 45,
   "metadata": {
    "collapsed": false
   },
   "outputs": [
    {
     "data": {
      "text/html": [
       "\n",
       "  <script>\n",
       "  requirejs.config({paths: { 'plotly': ['https://cdn.plot.ly/plotly-latest.min'] }})\n",
       "  </script>\n",
       "\n",
       "\n",
       "<div id=\"30f70667-d1c4-4499-8d04-88c4bcfaf9f5\" style=\"height: 100%; width: 100%;\"></div>\n",
       "\n",
       "<script>\n",
       " require(['plotly'], function(Plotly) { \n",
       "Plotly.newPlot(\n",
       "  '30f70667-d1c4-4499-8d04-88c4bcfaf9f5',\n",
       "  [{\"x\":[0.227,0.2052,0.1825,0.1699,0.1468,0.1228,0.0989,0.0742,0.0502,0.0258,0],\"y\":[1.6271186440677965,1.6118143459915613,1.625,1.625,1.6265560165975104,1.6363636363636365,1.6229508196721314,1.6298116298116296,1.6244897959183673,1.6,1.5873015873015874],\"type\":\"scatter\",\"mode\":\"markers+lines\",\"name\":null}],\n",
       "  {\"width\":1000,\"height\":500},\n",
       "  {\"linkText\":\"Export to plot.ly\",\"showLink\":true}\n",
       ")\n",
       "\n",
       "window.addEventListener('resize', function() {\n",
       "  Plotly.Plots.resize(document.getElementById('30f70667-d1c4-4499-8d04-88c4bcfaf9f5'))\n",
       "})\n",
       " }) \n",
       "</script>"
      ],
      "text/plain": [
       "#<Plotly::Offline::HTML:0x007fbbd92a8130 @id=\"30f70667-d1c4-4499-8d04-88c4bcfaf9f5\", @data=[{:x=>[0.227, 0.2052, 0.1825, 0.1699, 0.1468, 0.1228, 0.0989, 0.0742, 0.0502, 0.0258, 0], :y=>[1.6271186440677965, 1.6118143459915613, 1.625, 1.625, 1.6265560165975104, 1.6363636363636365, 1.6229508196721314, 1.6298116298116296, 1.6244897959183673, 1.6, 1.5873015873015874], :type=>:scatter, :mode=>\"markers+lines\", :name=>nil}], @layout={:width=>1000, :height=>500}, @config={:linkText=>\"Export to plot.ly\", :showLink=>true}, @embedded=true>"
      ]
     },
     "metadata": {},
     "output_type": "display_data"
    },
    {
     "data": {
      "text/html": [
       "\n",
       "  <script>\n",
       "  requirejs.config({paths: { 'plotly': ['https://cdn.plot.ly/plotly-latest.min'] }})\n",
       "  </script>\n",
       "\n",
       "\n",
       "<div id=\"d46863b6-a15c-4c80-9ff5-319f0a8e1299\" style=\"height: 100%; width: 100%;\"></div>\n",
       "\n",
       "<script>\n",
       " require(['plotly'], function(Plotly) { \n",
       "Plotly.newPlot(\n",
       "  'd46863b6-a15c-4c80-9ff5-319f0a8e1299',\n",
       "  [{\"x\":[0.227,0.2052,0.1825,0.1699,0.1468,0.1228,0.0989,0.0742,0.0502,0.0258,0],\"y\":[11.8,11.85,12.0,12.0,12.05,12.1,12.2,12.21,12.25,12.5,12.6],\"type\":\"scatter\",\"mode\":\"\",\"name\":\"v_mean\"}],\n",
       "  {\"width\":1000,\"height\":500},\n",
       "  {\"linkText\":\"Export to plot.ly\",\"showLink\":true}\n",
       ")\n",
       "\n",
       "window.addEventListener('resize', function() {\n",
       "  Plotly.Plots.resize(document.getElementById('d46863b6-a15c-4c80-9ff5-319f0a8e1299'))\n",
       "})\n",
       " }) \n",
       "</script>"
      ],
      "text/plain": [
       "#<Plotly::Offline::HTML:0x007fbbd8a6d358 @id=\"d46863b6-a15c-4c80-9ff5-319f0a8e1299\", @data=[{:x=>[0.227, 0.2052, 0.1825, 0.1699, 0.1468, 0.1228, 0.0989, 0.0742, 0.0502, 0.0258, 0], :y=>[11.8, 11.85, 12.0, 12.0, 12.05, 12.1, 12.2, 12.21, 12.25, 12.5, 12.6], :type=>:scatter, :mode=>\"\", :name=>:v_mean}], @layout={:width=>1000, :height=>500}, @config={:linkText=>\"Export to plot.ly\", :showLink=>true}, @embedded=true>"
      ]
     },
     "metadata": {},
     "output_type": "display_data"
    }
   ],
   "source": [
    "Hg::Hg.create do |gen|\n",
    "  gen.headers :i, :v_mean, :v_diff\n",
    "  gen.body <<BODY\n",
    "227.mili, 11.8, 19.2\n",
    "205.2.mili, 11.85, 19.1\n",
    "182.5.mili, 12.0, 19.5\n",
    "169.9.mili, 12.0, 19.5\n",
    "146.8.mili, 12.05, 19.6\n",
    "122.8.mili, 12.10, 19.8\n",
    "98.9.mili, 12.2, 19.8\n",
    "74.2.mili, 12.21, 19.9\n",
    "50.2.mili, 12.25, 19.9\n",
    "25.8.mili, 12.5, 20\n",
    "0, 12.6, 20\n",
    "\n",
    "BODY\n",
    "end.daru_dataframe.tap do |df|\n",
    "  vector = df.map_rows do |row|\n",
    "    row[:v_diff].to_f / row[:v_mean].to_f\n",
    "  end.to_a\n",
    "  vector = Daru::Vector.new(vector)\n",
    "  df.add_vector :ripple, vector\n",
    "  df.sort [:i]\n",
    "  df.plot(x: :i, y: :ripple, mode: [:markers, :lines]).show\n",
    "  df.plot(x: :i, y: :v_mean).show\n",
    "end.write_csv('data/jikken_1.csv')"
   ]
  }
 ],
 "metadata": {
  "kernelspec": {
   "display_name": "Ruby 2.3.2",
   "language": "ruby",
   "name": "ruby"
  },
  "language_info": {
   "file_extension": ".rb",
   "mimetype": "application/x-ruby",
   "name": "ruby",
   "version": "2.3.2"
  }
 },
 "nbformat": 4,
 "nbformat_minor": 0
}
