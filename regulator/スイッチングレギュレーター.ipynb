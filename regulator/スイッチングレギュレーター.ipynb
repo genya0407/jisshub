{
 "cells": [
  {
   "cell_type": "code",
   "execution_count": 1,
   "metadata": {
    "collapsed": false,
    "scrolled": true
   },
   "outputs": [
    {
     "data": {
      "text/plain": [
       ":plotly"
      ]
     },
     "execution_count": 1,
     "metadata": {},
     "output_type": "execute_result"
    }
   ],
   "source": [
    "require 'daru'\n",
    "require 'daru_plotting_plotly'\n",
    "require 'rbplotly'\n",
    "require 'hg'\n",
    "\n",
    "class Numeric\n",
    "  def mili\n",
    "    self.to_f * 10**(-3)\n",
    "  end\n",
    "  \n",
    "  def micro\n",
    "    self.to_f * 10**(-6)\n",
    "  end\n",
    "end\n",
    "\n",
    "Daru.plotting_library = :plotly"
   ]
  },
  {
   "cell_type": "markdown",
   "metadata": {},
   "source": [
    "# 実験10"
   ]
  },
  {
   "cell_type": "code",
   "execution_count": 2,
   "metadata": {
    "collapsed": false
   },
   "outputs": [
    {
     "data": {
      "text/html": [
       "\n",
       "  <script>\n",
       "  requirejs.config({paths: { 'plotly': ['https://cdn.plot.ly/plotly-latest.min'] }})\n",
       "  </script>\n",
       "\n",
       "\n",
       "<div id=\"a7b5b42c-559a-4d6b-ae3c-cb10f536d192\" style=\"height: 100%; width: 100%;\"></div>\n",
       "\n",
       "<script>\n",
       " require(['plotly'], function(Plotly) { \n",
       "Plotly.newPlot(\n",
       "  'a7b5b42c-559a-4d6b-ae3c-cb10f536d192',\n",
       "  [{\"x\":[0.0014,0.0012,0.001,0.0008,0.0006,0.0004,0.0002,0.0],\"y\":[0.138,0.133,0.1179,0.10300000000000001,0.084,0.0559,0.028800000000000003,0],\"type\":\"scatter\",\"mode\":\"\",\"name\":\"Ic\"}],\n",
       "  {\"width\":1000,\"height\":500,\"title\":\"Ic\"},\n",
       "  {\"linkText\":\"Export to plot.ly\",\"showLink\":true}\n",
       ")\n",
       "\n",
       "window.addEventListener('resize', function() {\n",
       "  Plotly.Plots.resize(document.getElementById('a7b5b42c-559a-4d6b-ae3c-cb10f536d192'))\n",
       "})\n",
       " }) \n",
       "</script>"
      ],
      "text/plain": [
       "#<Plotly::Offline::HTML:0x007f85593dc5d0 @id=\"a7b5b42c-559a-4d6b-ae3c-cb10f536d192\", @data=[{:x=>[0.0014, 0.0012, 0.001, 0.0008, 0.0006, 0.0004, 0.0002, 0.0], :y=>[0.138, 0.133, 0.1179, 0.10300000000000001, 0.084, 0.0559, 0.028800000000000003, 0], :type=>:scatter, :mode=>\"\", :name=>\"Ic\"}], @layout={:width=>1000, :height=>500, :title=>\"Ic\"}, @config={:linkText=>\"Export to plot.ly\", :showLink=>true}, @embedded=true>"
      ]
     },
     "metadata": {},
     "output_type": "display_data"
    },
    {
     "data": {
      "text/html": [
       "\n",
       "  <script>\n",
       "  requirejs.config({paths: { 'plotly': ['https://cdn.plot.ly/plotly-latest.min'] }})\n",
       "  </script>\n",
       "\n",
       "\n",
       "<div id=\"6fa4f260-2abb-4164-9632-f17ce846063c\" style=\"height: 100%; width: 100%;\"></div>\n",
       "\n",
       "<script>\n",
       " require(['plotly'], function(Plotly) { \n",
       "Plotly.newPlot(\n",
       "  '6fa4f260-2abb-4164-9632-f17ce846063c',\n",
       "  [{\"x\":[0.0014,0.0012,0.001,0.0008,0.0006,0.0004,0.0002,0.0],\"y\":[0.2,2.54,10,16.9,24.2,31.8,34.3,35.8],\"type\":\"scatter\",\"mode\":\"\",\"name\":\"Vc\"}],\n",
       "  {\"width\":1000,\"height\":500,\"title\":\"Vc\"},\n",
       "  {\"linkText\":\"Export to plot.ly\",\"showLink\":true}\n",
       ")\n",
       "\n",
       "window.addEventListener('resize', function() {\n",
       "  Plotly.Plots.resize(document.getElementById('6fa4f260-2abb-4164-9632-f17ce846063c'))\n",
       "})\n",
       " }) \n",
       "</script>"
      ],
      "text/plain": [
       "#<Plotly::Offline::HTML:0x007f855aa46140 @id=\"6fa4f260-2abb-4164-9632-f17ce846063c\", @data=[{:x=>[0.0014, 0.0012, 0.001, 0.0008, 0.0006, 0.0004, 0.0002, 0.0], :y=>[0.2, 2.54, 10, 16.9, 24.2, 31.8, 34.3, 35.8], :type=>:scatter, :mode=>\"\", :name=>\"Vc\"}], @layout={:width=>1000, :height=>500, :title=>\"Vc\"}, @config={:linkText=>\"Export to plot.ly\", :showLink=>true}, @embedded=true>"
      ]
     },
     "metadata": {},
     "output_type": "display_data"
    },
    {
     "data": {
      "text/html": [
       "\n",
       "  <script>\n",
       "  requirejs.config({paths: { 'plotly': ['https://cdn.plot.ly/plotly-latest.min'] }})\n",
       "  </script>\n",
       "\n",
       "\n",
       "<div id=\"cf1d9375-cf3f-425a-9bed-816be2b0beeb\" style=\"height: 100%; width: 100%;\"></div>\n",
       "\n",
       "<script>\n",
       " require(['plotly'], function(Plotly) { \n",
       "Plotly.newPlot(\n",
       "  'cf1d9375-cf3f-425a-9bed-816be2b0beeb',\n",
       "  [{\"x\":[0.0014,0.0012,0.001,0.0008,0.0006,0.0004,0.0002,0.0],\"y\":[0.027600000000000003,0.33782,1.179,1.7407,2.0328,1.77762,0.98784,0.0],\"type\":\"scatter\",\"mode\":\"\",\"name\":\"Pc\"}],\n",
       "  {\"width\":1000,\"height\":500,\"title\":\"トランジスタの消費電力\"},\n",
       "  {\"linkText\":\"Export to plot.ly\",\"showLink\":true}\n",
       ")\n",
       "\n",
       "window.addEventListener('resize', function() {\n",
       "  Plotly.Plots.resize(document.getElementById('cf1d9375-cf3f-425a-9bed-816be2b0beeb'))\n",
       "})\n",
       " }) \n",
       "</script>"
      ],
      "text/plain": [
       "#<Plotly::Offline::HTML:0x007f855aa5ef10 @id=\"cf1d9375-cf3f-425a-9bed-816be2b0beeb\", @data=[{:x=>[0.0014, 0.0012, 0.001, 0.0008, 0.0006, 0.0004, 0.0002, 0.0], :y=>[0.027600000000000003, 0.33782, 1.179, 1.7407, 2.0328, 1.77762, 0.98784, 0.0], :type=>:scatter, :mode=>\"\", :name=>\"Pc\"}], @layout={:width=>1000, :height=>500, :title=>\"トランジスタの消費電力\"}, @config={:linkText=>\"Export to plot.ly\", :showLink=>true}, @embedded=true>"
      ]
     },
     "metadata": {},
     "output_type": "display_data"
    },
    {
     "data": {
      "text/html": [
       "\n",
       "  <script>\n",
       "  requirejs.config({paths: { 'plotly': ['https://cdn.plot.ly/plotly-latest.min'] }})\n",
       "  </script>\n",
       "\n",
       "\n",
       "<div id=\"a18e0200-c8cb-4e0f-804a-8b807d3c7f8b\" style=\"height: 100%; width: 100%;\"></div>\n",
       "\n",
       "<script>\n",
       " require(['plotly'], function(Plotly) { \n",
       "Plotly.newPlot(\n",
       "  'a18e0200-c8cb-4e0f-804a-8b807d3c7f8b',\n",
       "  [{\"x\":[0.0014,0.0012,0.001,0.0008,0.0006,0.0004,0.0002,0.0],\"y\":[4.9404,4.4501800000000005,3.0654000000000003,1.9673000000000003,0.9912000000000001,0.23477999999999996,0.04896000000000009,0.0],\"type\":\"scatter\",\"mode\":\"\",\"name\":\"Pl\"}],\n",
       "  {\"width\":1000,\"height\":500,\"title\":\"電球の消費電力\"},\n",
       "  {\"linkText\":\"Export to plot.ly\",\"showLink\":true}\n",
       ")\n",
       "\n",
       "window.addEventListener('resize', function() {\n",
       "  Plotly.Plots.resize(document.getElementById('a18e0200-c8cb-4e0f-804a-8b807d3c7f8b'))\n",
       "})\n",
       " }) \n",
       "</script>"
      ],
      "text/plain": [
       "#<Plotly::Offline::HTML:0x007f85593f5850 @id=\"a18e0200-c8cb-4e0f-804a-8b807d3c7f8b\", @data=[{:x=>[0.0014, 0.0012, 0.001, 0.0008, 0.0006, 0.0004, 0.0002, 0.0], :y=>[4.9404, 4.4501800000000005, 3.0654000000000003, 1.9673000000000003, 0.9912000000000001, 0.23477999999999996, 0.04896000000000009, 0.0], :type=>:scatter, :mode=>\"\", :name=>\"Pl\"}], @layout={:width=>1000, :height=>500, :title=>\"電球の消費電力\"}, @config={:linkText=>\"Export to plot.ly\", :showLink=>true}, @embedded=true>"
      ]
     },
     "metadata": {},
     "output_type": "display_data"
    },
    {
     "data": {
      "text/html": [
       "\n",
       "  <script>\n",
       "  requirejs.config({paths: { 'plotly': ['https://cdn.plot.ly/plotly-latest.min'] }})\n",
       "  </script>\n",
       "\n",
       "\n",
       "<div id=\"7b2763c5-12e5-408a-aed4-010412f837ad\" style=\"height: 100%; width: 100%;\"></div>\n",
       "\n",
       "<script>\n",
       " require(['plotly'], function(Plotly) { \n",
       "Plotly.newPlot(\n",
       "  '7b2763c5-12e5-408a-aed4-010412f837ad',\n",
       "  [{\"x\":[0.0014,0.0012,0.001,0.0008,0.0006,0.0004,0.0002,0.0],\"y\":[0.9944444444444446,0.9294444444444445,0.7222222222222222,0.5305555555555556,0.3277777777777778,0.11666666666666665,0.0472222222222223,\"NaN\"],\"type\":\"scatter\",\"mode\":\"\",\"name\":\"ef\"}],\n",
       "  {\"width\":1000,\"height\":500,\"title\":\"変換効率\"},\n",
       "  {\"linkText\":\"Export to plot.ly\",\"showLink\":true}\n",
       ")\n",
       "\n",
       "window.addEventListener('resize', function() {\n",
       "  Plotly.Plots.resize(document.getElementById('7b2763c5-12e5-408a-aed4-010412f837ad'))\n",
       "})\n",
       " }) \n",
       "</script>"
      ],
      "text/plain": [
       "#<Plotly::Offline::HTML:0x007f855a211d80 @id=\"7b2763c5-12e5-408a-aed4-010412f837ad\", @data=[{:x=>[0.0014, 0.0012, 0.001, 0.0008, 0.0006, 0.0004, 0.0002, 0.0], :y=>[0.9944444444444446, 0.9294444444444445, 0.7222222222222222, 0.5305555555555556, 0.3277777777777778, 0.11666666666666665, 0.0472222222222223, \"NaN\"], :type=>:scatter, :mode=>\"\", :name=>\"ef\"}], @layout={:width=>1000, :height=>500, :title=>\"変換効率\"}, @config={:linkText=>\"Export to plot.ly\", :showLink=>true}, @embedded=true>"
      ]
     },
     "metadata": {},
     "output_type": "display_data"
    },
    {
     "data": {
      "text/html": [
       "<table>\n",
       "  <tr>\n",
       "    <th colspan='8'>Daru::DataFrame(8x7)</th>\n",
       "  </tr>\n",
       "\n",
       "  \n",
       "    <tr>\n",
       "      <th></th>\n",
       "      \n",
       "        <th>Ib</th>\n",
       "      \n",
       "        <th>Ic</th>\n",
       "      \n",
       "        <th>Vc</th>\n",
       "      \n",
       "        <th>temp</th>\n",
       "      \n",
       "        <th>Pc</th>\n",
       "      \n",
       "        <th>Pl</th>\n",
       "      \n",
       "        <th>ef</th>\n",
       "      \n",
       "    </tr>\n",
       "  \n",
       "\n",
       "  \n",
       "    <tr>\n",
       "      <td>0</td>\n",
       "      \n",
       "        <td>0.0014</td>\n",
       "      \n",
       "        <td>0.138</td>\n",
       "      \n",
       "        <td>0.2</td>\n",
       "      \n",
       "        <td>冷たい</td>\n",
       "      \n",
       "        <td>0.027600000000000003</td>\n",
       "      \n",
       "        <td>4.9404</td>\n",
       "      \n",
       "        <td>0.9944444444444446</td>\n",
       "      \n",
       "    </tr>\n",
       "  \n",
       "    <tr>\n",
       "      <td>1</td>\n",
       "      \n",
       "        <td>0.0012</td>\n",
       "      \n",
       "        <td>0.133</td>\n",
       "      \n",
       "        <td>2.54</td>\n",
       "      \n",
       "        <td>冷たい</td>\n",
       "      \n",
       "        <td>0.33782</td>\n",
       "      \n",
       "        <td>4.4501800000000005</td>\n",
       "      \n",
       "        <td>0.9294444444444445</td>\n",
       "      \n",
       "    </tr>\n",
       "  \n",
       "    <tr>\n",
       "      <td>2</td>\n",
       "      \n",
       "        <td>0.001</td>\n",
       "      \n",
       "        <td>0.1179</td>\n",
       "      \n",
       "        <td>10</td>\n",
       "      \n",
       "        <td>暖かい</td>\n",
       "      \n",
       "        <td>1.179</td>\n",
       "      \n",
       "        <td>3.0654000000000003</td>\n",
       "      \n",
       "        <td>0.7222222222222222</td>\n",
       "      \n",
       "    </tr>\n",
       "  \n",
       "    <tr>\n",
       "      <td>3</td>\n",
       "      \n",
       "        <td>0.0008</td>\n",
       "      \n",
       "        <td>0.10300000000000001</td>\n",
       "      \n",
       "        <td>16.9</td>\n",
       "      \n",
       "        <td>暖かい</td>\n",
       "      \n",
       "        <td>1.7407</td>\n",
       "      \n",
       "        <td>1.9673000000000003</td>\n",
       "      \n",
       "        <td>0.5305555555555556</td>\n",
       "      \n",
       "    </tr>\n",
       "  \n",
       "    <tr>\n",
       "      <td>4</td>\n",
       "      \n",
       "        <td>0.0006</td>\n",
       "      \n",
       "        <td>0.084</td>\n",
       "      \n",
       "        <td>24.2</td>\n",
       "      \n",
       "        <td>暖かい</td>\n",
       "      \n",
       "        <td>2.0328</td>\n",
       "      \n",
       "        <td>0.9912000000000001</td>\n",
       "      \n",
       "        <td>0.3277777777777778</td>\n",
       "      \n",
       "    </tr>\n",
       "  \n",
       "    <tr>\n",
       "      <td>5</td>\n",
       "      \n",
       "        <td>0.0004</td>\n",
       "      \n",
       "        <td>0.0559</td>\n",
       "      \n",
       "        <td>31.8</td>\n",
       "      \n",
       "        <td>暖かい</td>\n",
       "      \n",
       "        <td>1.77762</td>\n",
       "      \n",
       "        <td>0.23477999999999996</td>\n",
       "      \n",
       "        <td>0.11666666666666665</td>\n",
       "      \n",
       "    </tr>\n",
       "  \n",
       "    <tr>\n",
       "      <td>6</td>\n",
       "      \n",
       "        <td>0.0002</td>\n",
       "      \n",
       "        <td>0.028800000000000003</td>\n",
       "      \n",
       "        <td>34.3</td>\n",
       "      \n",
       "        <td>暖かい</td>\n",
       "      \n",
       "        <td>0.98784</td>\n",
       "      \n",
       "        <td>0.04896000000000009</td>\n",
       "      \n",
       "        <td>0.0472222222222223</td>\n",
       "      \n",
       "    </tr>\n",
       "  \n",
       "    <tr>\n",
       "      <td>7</td>\n",
       "      \n",
       "        <td>0.0</td>\n",
       "      \n",
       "        <td>0</td>\n",
       "      \n",
       "        <td>35.8</td>\n",
       "      \n",
       "        <td>暖かい</td>\n",
       "      \n",
       "        <td>0.0</td>\n",
       "      \n",
       "        <td>0.0</td>\n",
       "      \n",
       "        <td>NaN</td>\n",
       "      \n",
       "    </tr>\n",
       "  \n",
       "\n",
       "  \n",
       "</table>"
      ],
      "text/plain": [
       "#<Daru::DataFrame(8x7)>\n",
       "                    Ib         Ic         Vc       temp         Pc         Pl         ef\n",
       "          0     0.0014      0.138        0.2        冷たい 0.02760000     4.9404 0.99444444\n",
       "          1     0.0012      0.133       2.54        冷たい    0.33782 4.45018000 0.92944444\n",
       "          2      0.001     0.1179         10        暖かい      1.179 3.06540000 0.72222222\n",
       "          3     0.0008 0.10300000       16.9        暖かい     1.7407 1.96730000 0.53055555\n",
       "          4     0.0006      0.084       24.2        暖かい     2.0328 0.99120000 0.32777777\n",
       "          5     0.0004     0.0559       31.8        暖かい    1.77762 0.23477999 0.11666666\n",
       "          6     0.0002 0.02880000       34.3        暖かい    0.98784 0.04896000 0.04722222\n",
       "          7        0.0          0       35.8        暖かい        0.0        0.0        NaN"
      ]
     },
     "execution_count": 2,
     "metadata": {},
     "output_type": "execute_result"
    }
   ],
   "source": [
    "Daru::DataFrame.from_csv('data/jikken10.csv', encoding: 'UTF-8').tap do |df|\n",
    "  df.plot(x: 'Ib', y: 'Ic', layout: {title: 'Ic'}).show\n",
    "  df.plot(x: 'Ib', y: 'Vc', layout: {title: 'Vc'}).show\n",
    "  df.plot(x: 'Ib', y: 'Pc', layout: {title: 'トランジスタの消費電力'}).show\n",
    "  df.plot(x: 'Ib', y: 'Pl', layout: {title: '電球の消費電力'}).show\n",
    "  df.plot(x: 'Ib', y: 'ef', layout: {title: '変換効率'}).show\n",
    "end"
   ]
  },
  {
   "cell_type": "markdown",
   "metadata": {},
   "source": [
    "# 実験11"
   ]
  },
  {
   "cell_type": "code",
   "execution_count": 3,
   "metadata": {
    "collapsed": false
   },
   "outputs": [],
   "source": [
    "Hg::Hg.create do |gen|\n",
    "  gen.headers :duty_ratio, :Ic, :Vc\n",
    "  gen.body <<BODY\n",
    "50, 82.8.mili , 17.5\n",
    "76, 111.8.mili, 8.9\n",
    "33, 61.9.mili , 23.8\n",
    "66, 102.mili  , 11.9\n",
    "22, 46.5.mili , 27.7\n",
    "78, 114.mili,   8\n",
    "12, 32.mili,   31\n",
    "88, 124.mili, 4.81\n",
    "BODY\n",
    "end.daru_dataframe.tap do |df|\n",
    "  df.sort! [:duty_ratio]\n",
    "  df.add_vector :Pl, df.map_rows { |row| 36 * row[:Ic] }\n",
    "end.write_csv('data/jikken11.csv')"
   ]
  },
  {
   "cell_type": "code",
   "execution_count": 4,
   "metadata": {
    "collapsed": false
   },
   "outputs": [
    {
     "data": {
      "text/html": [
       "\n",
       "  <script>\n",
       "  requirejs.config({paths: { 'plotly': ['https://cdn.plot.ly/plotly-latest.min'] }})\n",
       "  </script>\n",
       "\n",
       "\n",
       "<div id=\"3a00534d-51da-428a-b8bc-8adf4863ca6a\" style=\"height: 100%; width: 100%;\"></div>\n",
       "\n",
       "<script>\n",
       " require(['plotly'], function(Plotly) { \n",
       "Plotly.newPlot(\n",
       "  '3a00534d-51da-428a-b8bc-8adf4863ca6a',\n",
       "  [{\"x\":[12,22,33,50,66,76,78,88],\"y\":[0.032,0.0465,0.0619,0.0828,0.10200000000000001,0.1118,0.114,0.124],\"type\":\"scatter\",\"mode\":\"\",\"name\":\"Ic\"}],\n",
       "  {\"width\":1000,\"height\":500,\"title\":\"コレクタ電流\"},\n",
       "  {\"linkText\":\"Export to plot.ly\",\"showLink\":true}\n",
       ")\n",
       "\n",
       "window.addEventListener('resize', function() {\n",
       "  Plotly.Plots.resize(document.getElementById('3a00534d-51da-428a-b8bc-8adf4863ca6a'))\n",
       "})\n",
       " }) \n",
       "</script>"
      ],
      "text/plain": [
       "#<Plotly::Offline::HTML:0x007f855aa8d478 @id=\"3a00534d-51da-428a-b8bc-8adf4863ca6a\", @data=[{:x=>[12, 22, 33, 50, 66, 76, 78, 88], :y=>[0.032, 0.0465, 0.0619, 0.0828, 0.10200000000000001, 0.1118, 0.114, 0.124], :type=>:scatter, :mode=>\"\", :name=>\"Ic\"}], @layout={:width=>1000, :height=>500, :title=>\"コレクタ電流\"}, @config={:linkText=>\"Export to plot.ly\", :showLink=>true}, @embedded=true>"
      ]
     },
     "metadata": {},
     "output_type": "display_data"
    },
    {
     "data": {
      "text/html": [
       "\n",
       "  <script>\n",
       "  requirejs.config({paths: { 'plotly': ['https://cdn.plot.ly/plotly-latest.min'] }})\n",
       "  </script>\n",
       "\n",
       "\n",
       "<div id=\"61b1a7e3-ed7c-4563-a859-8b2822f92042\" style=\"height: 100%; width: 100%;\"></div>\n",
       "\n",
       "<script>\n",
       " require(['plotly'], function(Plotly) { \n",
       "Plotly.newPlot(\n",
       "  '61b1a7e3-ed7c-4563-a859-8b2822f92042',\n",
       "  [{\"x\":[12,22,33,50,66,76,78,88],\"y\":[31,27.7,23.8,17.5,11.9,8.9,8,4.81],\"type\":\"scatter\",\"mode\":\"\",\"name\":\"Vc\"}],\n",
       "  {\"width\":1000,\"height\":500,\"title\":\"コレクタ電圧\"},\n",
       "  {\"linkText\":\"Export to plot.ly\",\"showLink\":true}\n",
       ")\n",
       "\n",
       "window.addEventListener('resize', function() {\n",
       "  Plotly.Plots.resize(document.getElementById('61b1a7e3-ed7c-4563-a859-8b2822f92042'))\n",
       "})\n",
       " }) \n",
       "</script>"
      ],
      "text/plain": [
       "#<Plotly::Offline::HTML:0x007f855a173f40 @id=\"61b1a7e3-ed7c-4563-a859-8b2822f92042\", @data=[{:x=>[12, 22, 33, 50, 66, 76, 78, 88], :y=>[31, 27.7, 23.8, 17.5, 11.9, 8.9, 8, 4.81], :type=>:scatter, :mode=>\"\", :name=>\"Vc\"}], @layout={:width=>1000, :height=>500, :title=>\"コレクタ電圧\"}, @config={:linkText=>\"Export to plot.ly\", :showLink=>true}, @embedded=true>"
      ]
     },
     "metadata": {},
     "output_type": "display_data"
    },
    {
     "data": {
      "text/html": [
       "\n",
       "  <script>\n",
       "  requirejs.config({paths: { 'plotly': ['https://cdn.plot.ly/plotly-latest.min'] }})\n",
       "  </script>\n",
       "\n",
       "\n",
       "<div id=\"d29e1af6-d14b-46a1-bc19-539366c99325\" style=\"height: 100%; width: 100%;\"></div>\n",
       "\n",
       "<script>\n",
       " require(['plotly'], function(Plotly) { \n",
       "Plotly.newPlot(\n",
       "  'd29e1af6-d14b-46a1-bc19-539366c99325',\n",
       "  [{\"x\":[12,22,33,50,66,76,78,88],\"y\":[1.1520000000000001,1.674,2.2283999999999997,2.9808,3.672,4.0248,4.104,4.464],\"type\":\"scatter\",\"mode\":\"\",\"name\":\"Pl\"}],\n",
       "  {\"width\":1000,\"height\":500,\"title\":\"負荷の消費電力\"},\n",
       "  {\"linkText\":\"Export to plot.ly\",\"showLink\":true}\n",
       ")\n",
       "\n",
       "window.addEventListener('resize', function() {\n",
       "  Plotly.Plots.resize(document.getElementById('d29e1af6-d14b-46a1-bc19-539366c99325'))\n",
       "})\n",
       " }) \n",
       "</script>"
      ],
      "text/plain": [
       "#<Plotly::Offline::HTML:0x007f855aab78e0 @id=\"d29e1af6-d14b-46a1-bc19-539366c99325\", @data=[{:x=>[12, 22, 33, 50, 66, 76, 78, 88], :y=>[1.1520000000000001, 1.674, 2.2283999999999997, 2.9808, 3.672, 4.0248, 4.104, 4.464], :type=>:scatter, :mode=>\"\", :name=>\"Pl\"}], @layout={:width=>1000, :height=>500, :title=>\"負荷の消費電力\"}, @config={:linkText=>\"Export to plot.ly\", :showLink=>true}, @embedded=true>"
      ]
     },
     "metadata": {},
     "output_type": "display_data"
    }
   ],
   "source": [
    "Daru::DataFrame.from_csv('data/jikken11.csv').tap do |df|\n",
    "  df.plot(x: 'duty_ratio', y: 'Ic', layout: { title: 'コレクタ電流' }).show\n",
    "  df.plot(x: 'duty_ratio', y: 'Vc', layout: { title: 'コレクタ電圧' }).show\n",
    "  df.plot(x: 'duty_ratio', y: 'Pl', layout: { title: '負荷の消費電力' }).show\n",
    "end\n",
    "nil"
   ]
  },
  {
   "cell_type": "markdown",
   "metadata": {
    "collapsed": false
   },
   "source": [
    "# 実験12"
   ]
  },
  {
   "cell_type": "code",
   "execution_count": 27,
   "metadata": {
    "collapsed": false
   },
   "outputs": [
    {
     "data": {
      "text/html": [
       "\n",
       "  <script>\n",
       "  requirejs.config({paths: { 'plotly': ['https://cdn.plot.ly/plotly-latest.min'] }})\n",
       "  </script>\n",
       "\n",
       "\n",
       "<div id=\"c933daa2-990b-4bed-9b14-e0c8f7572019\" style=\"height: 100%; width: 100%;\"></div>\n",
       "\n",
       "<script>\n",
       " require(['plotly'], function(Plotly) { \n",
       "Plotly.newPlot(\n",
       "  'c933daa2-990b-4bed-9b14-e0c8f7572019',\n",
       "  [{\"x\":[0.002,0.004,0.006,0.008,0.009000000000000001,0.009800000000000001,0.012,0.014,0.016,0.018000000000000002],\"y\":[0.0004,0.0004,0.0004,0.0004,0.0004,0.1365,0.137,0.137,0.137,0.137],\"type\":\"scatter\",\"mode\":\"\",\"name\":\"Ia\"}],\n",
       "  {\"width\":1000,\"height\":500,\"title\":\"Ig - Ia\",\"xaxis\":{\"title\":\"Ig(A)\"},\"yaxis\":{\"title\":\"Ia(A)\"}},\n",
       "  {\"linkText\":\"Export to plot.ly\",\"showLink\":true}\n",
       ")\n",
       "\n",
       "window.addEventListener('resize', function() {\n",
       "  Plotly.Plots.resize(document.getElementById('c933daa2-990b-4bed-9b14-e0c8f7572019'))\n",
       "})\n",
       " }) \n",
       "</script>"
      ],
      "text/plain": [
       "#<Plotly::Offline::HTML:0x007f855a3bcd38 @id=\"c933daa2-990b-4bed-9b14-e0c8f7572019\", @data=[{:x=>[0.002, 0.004, 0.006, 0.008, 0.009000000000000001, 0.009800000000000001, 0.012, 0.014, 0.016, 0.018000000000000002], :y=>[0.0004, 0.0004, 0.0004, 0.0004, 0.0004, 0.1365, 0.137, 0.137, 0.137, 0.137], :type=>:scatter, :mode=>\"\", :name=>:Ia}], @layout={:width=>1000, :height=>500, :title=>\"Ig - Ia\", :xaxis=>{:title=>\"Ig(A)\"}, :yaxis=>{:title=>\"Ia(A)\"}}, @config={:linkText=>\"Export to plot.ly\", :showLink=>true}, @embedded=true>"
      ]
     },
     "metadata": {},
     "output_type": "display_data"
    },
    {
     "data": {
      "text/html": [
       "\n",
       "  <script>\n",
       "  requirejs.config({paths: { 'plotly': ['https://cdn.plot.ly/plotly-latest.min'] }})\n",
       "  </script>\n",
       "\n",
       "\n",
       "<div id=\"86fcdd7b-424d-4be7-b1ea-195f763976ba\" style=\"height: 100%; width: 100%;\"></div>\n",
       "\n",
       "<script>\n",
       " require(['plotly'], function(Plotly) { \n",
       "Plotly.newPlot(\n",
       "  '86fcdd7b-424d-4be7-b1ea-195f763976ba',\n",
       "  [{\"x\":[0.002,0.004,0.006,0.008,0.009000000000000001,0.009800000000000001,0.012,0.014,0.016,0.018000000000000002],\"y\":[36,36,36,36,36,0.95,0.95,0.95,0.95,0.95],\"type\":\"scatter\",\"mode\":\"\",\"name\":\"Vak\"}],\n",
       "  {\"width\":1000,\"height\":500,\"title\":\"Ig - Vak\",\"xaxis\":{\"title\":\"Ig(A)\"},\"yaxis\":{\"title\":\"Vak(V)\"}},\n",
       "  {\"linkText\":\"Export to plot.ly\",\"showLink\":true}\n",
       ")\n",
       "\n",
       "window.addEventListener('resize', function() {\n",
       "  Plotly.Plots.resize(document.getElementById('86fcdd7b-424d-4be7-b1ea-195f763976ba'))\n",
       "})\n",
       " }) \n",
       "</script>"
      ],
      "text/plain": [
       "#<Plotly::Offline::HTML:0x007f855a90e1d8 @id=\"86fcdd7b-424d-4be7-b1ea-195f763976ba\", @data=[{:x=>[0.002, 0.004, 0.006, 0.008, 0.009000000000000001, 0.009800000000000001, 0.012, 0.014, 0.016, 0.018000000000000002], :y=>[36, 36, 36, 36, 36, 0.95, 0.95, 0.95, 0.95, 0.95], :type=>:scatter, :mode=>\"\", :name=>:Vak}], @layout={:width=>1000, :height=>500, :title=>\"Ig - Vak\", :xaxis=>{:title=>\"Ig(A)\"}, :yaxis=>{:title=>\"Vak(V)\"}}, @config={:linkText=>\"Export to plot.ly\", :showLink=>true}, @embedded=true>"
      ]
     },
     "metadata": {},
     "output_type": "display_data"
    },
    {
     "data": {
      "text/html": [
       "\n",
       "  <script>\n",
       "  requirejs.config({paths: { 'plotly': ['https://cdn.plot.ly/plotly-latest.min'] }})\n",
       "  </script>\n",
       "\n",
       "\n",
       "<div id=\"d93c584d-0562-4f7a-bff4-ec209026fdef\" style=\"height: 100%; width: 100%;\"></div>\n",
       "\n",
       "<script>\n",
       " require(['plotly'], function(Plotly) { \n",
       "Plotly.newPlot(\n",
       "  'd93c584d-0562-4f7a-bff4-ec209026fdef',\n",
       "  [{\"x\":[0.002,0.004,0.006,0.008,0.009000000000000001,0.009800000000000001,0.012,0.014,0.016,0.018000000000000002],\"y\":[0.014400000000000001,0.014400000000000001,0.014400000000000001,0.014400000000000001,0.014400000000000001,0.129675,0.13015000000000002,0.13015000000000002,0.13015000000000002,0.13015000000000002],\"type\":\"scatter\",\"mode\":\"\",\"name\":\"P\"}],\n",
       "  {\"width\":1000,\"height\":500,\"title\":\"Ig - P\",\"xaxis\":{\"title\":\"Ig(A)\"},\"yaxis\":{\"title\":\"P(W)\"}},\n",
       "  {\"linkText\":\"Export to plot.ly\",\"showLink\":true}\n",
       ")\n",
       "\n",
       "window.addEventListener('resize', function() {\n",
       "  Plotly.Plots.resize(document.getElementById('d93c584d-0562-4f7a-bff4-ec209026fdef'))\n",
       "})\n",
       " }) \n",
       "</script>"
      ],
      "text/plain": [
       "#<Plotly::Offline::HTML:0x007f855a8e6c28 @id=\"d93c584d-0562-4f7a-bff4-ec209026fdef\", @data=[{:x=>[0.002, 0.004, 0.006, 0.008, 0.009000000000000001, 0.009800000000000001, 0.012, 0.014, 0.016, 0.018000000000000002], :y=>[0.014400000000000001, 0.014400000000000001, 0.014400000000000001, 0.014400000000000001, 0.014400000000000001, 0.129675, 0.13015000000000002, 0.13015000000000002, 0.13015000000000002, 0.13015000000000002], :type=>:scatter, :mode=>\"\", :name=>:P}], @layout={:width=>1000, :height=>500, :title=>\"Ig - P\", :xaxis=>{:title=>\"Ig(A)\"}, :yaxis=>{:title=>\"P(W)\"}}, @config={:linkText=>\"Export to plot.ly\", :showLink=>true}, @embedded=true>"
      ]
     },
     "metadata": {},
     "output_type": "display_data"
    }
   ],
   "source": [
    "# 上り\n",
    "Hg::Hg.create do |gen|\n",
    "  gen.headers :Vak, :Ia, :Ig\n",
    "  gen.body <<BODY\n",
    "36, 0.4.mili, 2.mili\n",
    "36, 0.4.mili, 4.mili\n",
    "36, 0.4.mili, 6.mili\n",
    "36, 0.4.mili, 8.mili\n",
    "36, 0.4.mili, 9.mili\n",
    "0.95, 136.5.mili, 9.8.mili\n",
    "0.95, 137.mili, 12.mili\n",
    "0.95, 137.mili, 14.mili\n",
    "0.95, 137.mili, 16.mili\n",
    "0.95, 137.mili, 18.mili\n",
    "BODY\n",
    "end.daru_dataframe.tap do |df|\n",
    "  df.add_vector :P, df[:Ia].to_a.zip(df[:Vak].to_a).map { |i, v| i * v }\n",
    "  df.plot(x: :Ig, y: :Ia, layout: { title: \"Ig - Ia\", xaxis: { title: 'Ig(A)' }, yaxis: { title: 'Ia(A)' } }).show\n",
    "  df.plot(x: :Ig, y: :Vak, layout: { title: \"Ig - Vak\", xaxis: { title: 'Ig(A)' }, yaxis: { title: 'Vak(V)' } }).show\n",
    "  df.plot(x: :Ig, y: :P, layout: { title: \"Ig - P\", xaxis: { title: 'Ig(A)' }, yaxis: { title: 'P(W)' } }).show\n",
    "end\n",
    "nil"
   ]
  },
  {
   "cell_type": "code",
   "execution_count": 29,
   "metadata": {
    "collapsed": false
   },
   "outputs": [
    {
     "data": {
      "text/html": [
       "\n",
       "  <script>\n",
       "  requirejs.config({paths: { 'plotly': ['https://cdn.plot.ly/plotly-latest.min'] }})\n",
       "  </script>\n",
       "\n",
       "\n",
       "<div id=\"3397fa79-a150-49e5-957f-428387c13832\" style=\"height: 100%; width: 100%;\"></div>\n",
       "\n",
       "<script>\n",
       " require(['plotly'], function(Plotly) { \n",
       "Plotly.newPlot(\n",
       "  '3397fa79-a150-49e5-957f-428387c13832',\n",
       "  [{\"x\":[0.018000000000000002,0.016,0.014,0.012,0.01,0.008,0.006,0.004,0.002,0.0],\"y\":[0.137,0.137,0.137,0.137,0.137,0.137,0.137,0.137,0.137,0.137],\"type\":\"scatter\",\"mode\":\"\",\"name\":\"Ia\"}],\n",
       "  {\"width\":1000,\"height\":500,\"title\":\"Ig - Ia\",\"xaxis\":{\"title\":\"Ig(A)\"},\"yaxis\":{\"title\":\"Ia(A)\"}},\n",
       "  {\"linkText\":\"Export to plot.ly\",\"showLink\":true}\n",
       ")\n",
       "\n",
       "window.addEventListener('resize', function() {\n",
       "  Plotly.Plots.resize(document.getElementById('3397fa79-a150-49e5-957f-428387c13832'))\n",
       "})\n",
       " }) \n",
       "</script>"
      ],
      "text/plain": [
       "#<Plotly::Offline::HTML:0x007f8559230420 @id=\"3397fa79-a150-49e5-957f-428387c13832\", @data=[{:x=>[0.018000000000000002, 0.016, 0.014, 0.012, 0.01, 0.008, 0.006, 0.004, 0.002, 0.0], :y=>[0.137, 0.137, 0.137, 0.137, 0.137, 0.137, 0.137, 0.137, 0.137, 0.137], :type=>:scatter, :mode=>\"\", :name=>:Ia}], @layout={:width=>1000, :height=>500, :title=>\"Ig - Ia\", :xaxis=>{:title=>\"Ig(A)\"}, :yaxis=>{:title=>\"Ia(A)\"}}, @config={:linkText=>\"Export to plot.ly\", :showLink=>true}, @embedded=true>"
      ]
     },
     "metadata": {},
     "output_type": "display_data"
    },
    {
     "data": {
      "text/html": [
       "\n",
       "  <script>\n",
       "  requirejs.config({paths: { 'plotly': ['https://cdn.plot.ly/plotly-latest.min'] }})\n",
       "  </script>\n",
       "\n",
       "\n",
       "<div id=\"1b7bd9c6-9bd0-46bb-a7bf-b597c4928afd\" style=\"height: 100%; width: 100%;\"></div>\n",
       "\n",
       "<script>\n",
       " require(['plotly'], function(Plotly) { \n",
       "Plotly.newPlot(\n",
       "  '1b7bd9c6-9bd0-46bb-a7bf-b597c4928afd',\n",
       "  [{\"x\":[0.018000000000000002,0.016,0.014,0.012,0.01,0.008,0.006,0.004,0.002,0.0],\"y\":[0.95,0.95,0.95,0.95,0.95,0.95,0.95,0.95,0.95,0.95],\"type\":\"scatter\",\"mode\":\"\",\"name\":\"Vak\"}],\n",
       "  {\"width\":1000,\"height\":500,\"title\":\"Ig - Vak\",\"xaxis\":{\"title\":\"Ig(A)\"},\"yaxis\":{\"title\":\"Vak(V)\"}},\n",
       "  {\"linkText\":\"Export to plot.ly\",\"showLink\":true}\n",
       ")\n",
       "\n",
       "window.addEventListener('resize', function() {\n",
       "  Plotly.Plots.resize(document.getElementById('1b7bd9c6-9bd0-46bb-a7bf-b597c4928afd'))\n",
       "})\n",
       " }) \n",
       "</script>"
      ],
      "text/plain": [
       "#<Plotly::Offline::HTML:0x007f8559201d00 @id=\"1b7bd9c6-9bd0-46bb-a7bf-b597c4928afd\", @data=[{:x=>[0.018000000000000002, 0.016, 0.014, 0.012, 0.01, 0.008, 0.006, 0.004, 0.002, 0.0], :y=>[0.95, 0.95, 0.95, 0.95, 0.95, 0.95, 0.95, 0.95, 0.95, 0.95], :type=>:scatter, :mode=>\"\", :name=>:Vak}], @layout={:width=>1000, :height=>500, :title=>\"Ig - Vak\", :xaxis=>{:title=>\"Ig(A)\"}, :yaxis=>{:title=>\"Vak(V)\"}}, @config={:linkText=>\"Export to plot.ly\", :showLink=>true}, @embedded=true>"
      ]
     },
     "metadata": {},
     "output_type": "display_data"
    },
    {
     "data": {
      "text/html": [
       "\n",
       "  <script>\n",
       "  requirejs.config({paths: { 'plotly': ['https://cdn.plot.ly/plotly-latest.min'] }})\n",
       "  </script>\n",
       "\n",
       "\n",
       "<div id=\"e49cee63-abde-48b9-8530-156a194ad439\" style=\"height: 100%; width: 100%;\"></div>\n",
       "\n",
       "<script>\n",
       " require(['plotly'], function(Plotly) { \n",
       "Plotly.newPlot(\n",
       "  'e49cee63-abde-48b9-8530-156a194ad439',\n",
       "  [{\"x\":[0.018000000000000002,0.016,0.014,0.012,0.01,0.008,0.006,0.004,0.002,0.0],\"y\":[0.13015000000000002,0.13015000000000002,0.13015000000000002,0.13015000000000002,0.13015000000000002,0.13015000000000002,0.13015000000000002,0.13015000000000002,0.13015000000000002,0.13015000000000002],\"type\":\"scatter\",\"mode\":\"\",\"name\":\"P\"}],\n",
       "  {\"width\":1000,\"height\":500,\"title\":\"Ig - P\",\"xaxis\":{\"title\":\"Ig(A)\"},\"yaxis\":{\"title\":\"P(W)\"}},\n",
       "  {\"linkText\":\"Export to plot.ly\",\"showLink\":true}\n",
       ")\n",
       "\n",
       "window.addEventListener('resize', function() {\n",
       "  Plotly.Plots.resize(document.getElementById('e49cee63-abde-48b9-8530-156a194ad439'))\n",
       "})\n",
       " }) \n",
       "</script>"
      ],
      "text/plain": [
       "#<Plotly::Offline::HTML:0x007f85591c3fa0 @id=\"e49cee63-abde-48b9-8530-156a194ad439\", @data=[{:x=>[0.018000000000000002, 0.016, 0.014, 0.012, 0.01, 0.008, 0.006, 0.004, 0.002, 0.0], :y=>[0.13015000000000002, 0.13015000000000002, 0.13015000000000002, 0.13015000000000002, 0.13015000000000002, 0.13015000000000002, 0.13015000000000002, 0.13015000000000002, 0.13015000000000002, 0.13015000000000002], :type=>:scatter, :mode=>\"\", :name=>:P}], @layout={:width=>1000, :height=>500, :title=>\"Ig - P\", :xaxis=>{:title=>\"Ig(A)\"}, :yaxis=>{:title=>\"P(W)\"}}, @config={:linkText=>\"Export to plot.ly\", :showLink=>true}, @embedded=true>"
      ]
     },
     "metadata": {},
     "output_type": "display_data"
    }
   ],
   "source": [
    "#下り\n",
    "Hg::Hg.create do |gen|\n",
    "  gen.headers :Vak, :Ia, :Ig\n",
    "  gen.body <<BODY\n",
    "0.95, 137.mili, 18.mili\n",
    "0.95, 137.mili, 16.mili\n",
    "0.95, 137.mili, 14.mili\n",
    "0.95, 137.mili, 12.mili\n",
    "0.95, 137.mili, 10.mili\n",
    "0.95, 137.mili, 8.mili\n",
    "0.95, 137.mili, 6.mili\n",
    "0.95, 137.mili, 4.mili\n",
    "0.95, 137.mili, 2.mili\n",
    "0.95, 137.mili, 0.mili\n",
    "BODY\n",
    "end.daru_dataframe.tap do |df|\n",
    "  df.add_vector :P, df[:Ia].to_a.zip(df[:Vak].to_a).map { |i, v| i * v }\n",
    "  df.plot(x: :Ig, y: :Ia, layout: { title: \"Ig - Ia\", xaxis: { title: 'Ig(A)' }, yaxis: { title: 'Ia(A)' } }).show\n",
    "  df.plot(x: :Ig, y: :Vak, layout: { title: \"Ig - Vak\", xaxis: { title: 'Ig(A)' }, yaxis: { title: 'Vak(V)' } }).show\n",
    "  df.plot(x: :Ig, y: :P, layout: { title: \"Ig - P\", xaxis: { title: 'Ig(A)' }, yaxis: { title: 'P(W)' } }).show\n",
    "end\n",
    "nil"
   ]
  },
  {
   "cell_type": "markdown",
   "metadata": {},
   "source": [
    "# 実験13"
   ]
  },
  {
   "cell_type": "code",
   "execution_count": 41,
   "metadata": {
    "collapsed": false
   },
   "outputs": [
    {
     "data": {
      "text/html": [
       "\n",
       "  <script>\n",
       "  requirejs.config({paths: { 'plotly': ['https://cdn.plot.ly/plotly-latest.min'] }})\n",
       "  </script>\n",
       "\n",
       "\n",
       "<div id=\"4b22e02d-1b46-4781-b61c-231319eb88da\" style=\"height: 100%; width: 100%;\"></div>\n",
       "\n",
       "<script>\n",
       " require(['plotly'], function(Plotly) { \n",
       "Plotly.newPlot(\n",
       "  '4b22e02d-1b46-4781-b61c-231319eb88da',\n",
       "  [{\"x\":[0.101,0.075,0.068,0.06,0.048,0.038,0.029,0.0006],\"y\":[0.8,0.79,0.78,0.779,0.776,0.772,0.77,1.82],\"type\":\"scatter\",\"mode\":\"\",\"name\":\"Vak\"}],\n",
       "  {\"width\":1000,\"height\":500,\"title\":\"Ia - Vak\",\"xaxis\":{\"title\":\"Ia(A)\"},\"yaxis\":{\"title\":\"Vak(V)\"}},\n",
       "  {\"linkText\":\"Export to plot.ly\",\"showLink\":true}\n",
       ")\n",
       "\n",
       "window.addEventListener('resize', function() {\n",
       "  Plotly.Plots.resize(document.getElementById('4b22e02d-1b46-4781-b61c-231319eb88da'))\n",
       "})\n",
       " }) \n",
       "</script>"
      ],
      "text/plain": [
       "#<Plotly::Offline::HTML:0x007f8559884600 @id=\"4b22e02d-1b46-4781-b61c-231319eb88da\", @data=[{:x=>[0.101, 0.075, 0.068, 0.06, 0.048, 0.038, 0.029, 0.0006], :y=>[0.8, 0.79, 0.78, 0.779, 0.776, 0.772, 0.77, 1.82], :type=>:scatter, :mode=>\"\", :name=>:Vak}], @layout={:width=>1000, :height=>500, :title=>\"Ia - Vak\", :xaxis=>{:title=>\"Ia(A)\"}, :yaxis=>{:title=>\"Vak(V)\"}}, @config={:linkText=>\"Export to plot.ly\", :showLink=>true}, @embedded=true>"
      ]
     },
     "metadata": {},
     "output_type": "display_data"
    }
   ],
   "source": [
    "Hg::Hg.create do |gen|\n",
    "  gen.headers :Vak, :Ia\n",
    "  gen.body <<BODY\n",
    "0.8, 101.mili\n",
    "0.79, 75.mili\n",
    "0.78, 68.mili\n",
    "0.779, 60.mili\n",
    "0.776, 48.mili\n",
    "0.772, 38.mili\n",
    "0.77, 29.mili\n",
    "1.82, 0.6.mili\n",
    "BODY\n",
    "end.daru_dataframe.tap do |df|\n",
    "  df.plot(x: :Ia, y: :Vak, layout: { title: 'Ia - Vak', xaxis: { title: 'Ia(A)' }, yaxis: { title: 'Vak(V)' } }).show\n",
    "end\n",
    "nil"
   ]
  },
  {
   "cell_type": "code",
   "execution_count": 59,
   "metadata": {
    "collapsed": false
   },
   "outputs": [
    {
     "data": {
      "text/html": [
       "\n",
       "  <script>\n",
       "  requirejs.config({paths: { 'plotly': ['https://cdn.plot.ly/plotly-latest.min'] }})\n",
       "  </script>\n",
       "\n",
       "\n",
       "<div id=\"a0dc9758-65de-45f1-ba7b-cd6c0cc32259\" style=\"height: 100%; width: 100%;\"></div>\n",
       "\n",
       "<script>\n",
       " require(['plotly'], function(Plotly) { \n",
       "Plotly.newPlot(\n",
       "  'a0dc9758-65de-45f1-ba7b-cd6c0cc32259',\n",
       "  [{\"x\":[0.77,0.76,0.758,0.754,0.778,0.81,1.84,1.75,1.58,1.38,1.19,0.98,0.8,0.6,0.4,0.2,0.1],\"y\":[0.0684,0.06,0.0489,0.04020000000000001,0.0282,0.0249,0.0009000000000000001,0.0009000000000000001,0.0009000000000000001,0.0005,0.00045000000000000004,0.0004,0.00034,0.00024,0.0002,0.00013000000000000002,0.0001],\"type\":\"scatter\",\"mode\":\"\",\"name\":\"Ia\"}],\n",
       "  {\"width\":1000,\"height\":500,\"title\":\"Ia - Vak\",\"xaxis\":{\"title\":\"Vak(V)\"},\"yaxis\":{\"title\":\"Ia(A)\"}},\n",
       "  {\"linkText\":\"Export to plot.ly\",\"showLink\":true}\n",
       ")\n",
       "\n",
       "window.addEventListener('resize', function() {\n",
       "  Plotly.Plots.resize(document.getElementById('a0dc9758-65de-45f1-ba7b-cd6c0cc32259'))\n",
       "})\n",
       " }) \n",
       "</script>"
      ],
      "text/plain": [
       "#<Plotly::Offline::HTML:0x007f85593bddd8 @id=\"a0dc9758-65de-45f1-ba7b-cd6c0cc32259\", @data=[{:x=>[0.77, 0.76, 0.758, 0.754, 0.778, 0.81, 1.84, 1.75, 1.58, 1.38, 1.19, 0.98, 0.8, 0.6, 0.4, 0.2, 0.1], :y=>[0.0684, 0.06, 0.0489, 0.04020000000000001, 0.0282, 0.0249, 0.0009000000000000001, 0.0009000000000000001, 0.0009000000000000001, 0.0005, 0.00045000000000000004, 0.0004, 0.00034, 0.00024, 0.0002, 0.00013000000000000002, 0.0001], :type=>:scatter, :mode=>\"\", :name=>:Ia}], @layout={:width=>1000, :height=>500, :title=>\"Ia - Vak\", :xaxis=>{:title=>\"Vak(V)\"}, :yaxis=>{:title=>\"Ia(A)\"}}, @config={:linkText=>\"Export to plot.ly\", :showLink=>true}, @embedded=true>"
      ]
     },
     "metadata": {},
     "output_type": "display_data"
    }
   ],
   "source": [
    "Hg::Hg.create do |gen|\n",
    "  gen.headers :Vak, :Ia\n",
    "  gen.body <<BODY\n",
    "0.77, 68.4.mili\n",
    "0.76, 60.mili\n",
    "0.758, 48.9.mili\n",
    "0.754, 40.2.mili\n",
    "0.778, 28.2.mili\n",
    "0.81, 24.9.mili\n",
    "1.84, 0.9.mili\n",
    "1.75, 0.9.mili\n",
    "1.58, 0.9.mili\n",
    "1.38, 0.5.mili\n",
    "1.19, 0.45.mili\n",
    "0.98, 0.4.mili\n",
    "0.8, 0.34.mili\n",
    "0.6, 0.24.mili\n",
    "0.4, 0.2.mili\n",
    "0.2, 0.13.mili\n",
    "0.1, 0.1.mili\n",
    "BODY\n",
    "end.daru_dataframe.tap do |df|\n",
    "  df.plot(x: :Vak, y: :Ia, layout: { title: 'Ia - Vak', xaxis: { title: 'Vak(V)' }, yaxis: { title: 'Ia(A)' } }).show\n",
    "end\n",
    "nil"
   ]
  },
  {
   "cell_type": "markdown",
   "metadata": {},
   "source": [
    "Vakのターンオン時"
   ]
  },
  {
   "cell_type": "code",
   "execution_count": 60,
   "metadata": {
    "collapsed": false
   },
   "outputs": [
    {
     "data": {
      "image/png": "[encoded data removed]",
      "text/plain": [
       "#<File:data/Vak_turn_on.png>"
      ]
     },
     "execution_count": 60,
     "metadata": {},
     "output_type": "execute_result"
    }
   ],
   "source": [
    "File.open('data/Vak_turn_on.png')"
   ]
  },
  {
   "cell_type": "markdown",
   "metadata": {},
   "source": [
    "Iaのターンオン時"
   ]
  },
  {
   "cell_type": "code",
   "execution_count": 63,
   "metadata": {
    "collapsed": false
   },
   "outputs": [
    {
     "data": {
      "image/png": "[encoded data removed]",
      "text/plain": [
       "#<File:data/Ia_turn_on_1.png>"
      ]
     },
     "execution_count": 63,
     "metadata": {},
     "output_type": "execute_result"
    }
   ],
   "source": [
    "File.open('data/Ia_turn_on_1.png')"
   ]
  },
  {
   "cell_type": "code",
   "execution_count": 64,
   "metadata": {
    "collapsed": false
   },
   "outputs": [
    {
     "data": {
      "image/png": "[encoded data removed]",
      "text/plain": [
       "#<File:data/Ia_turn_on_2.png>"
      ]
     },
     "execution_count": 64,
     "metadata": {},
     "output_type": "execute_result"
    }
   ],
   "source": [
    "File.open('data/Ia_turn_on_2.png')"
   ]
  }
 ],
 "metadata": {
  "kernelspec": {
   "display_name": "Ruby 2.3.2",
   "language": "ruby",
   "name": "ruby"
  },
  "language_info": {
   "file_extension": ".rb",
   "mimetype": "application/x-ruby",
   "name": "ruby",
   "version": "2.3.2"
  }
 },
 "nbformat": 4,
 "nbformat_minor": 0
}
