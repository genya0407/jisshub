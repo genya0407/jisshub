{
 "cells": [
  {
   "cell_type": "code",
   "execution_count": 1,
   "metadata": {
    "collapsed": false
   },
   "outputs": [
    {
     "data": {
      "application/javascript": [
       "if(window['d3'] === undefined ||\n",
       "   window['Nyaplot'] === undefined){\n",
       "    var path = {\"d3\":\"https://cdnjs.cloudflare.com/ajax/libs/d3/3.5.5/d3.min\",\"downloadable\":\"http://cdn.rawgit.com/domitry/d3-downloadable/master/d3-downloadable\"};\n",
       "\n",
       "\n",
       "\n",
       "    var shim = {\"d3\":{\"exports\":\"d3\"},\"downloadable\":{\"exports\":\"downloadable\"}};\n",
       "\n",
       "    require.config({paths: path, shim:shim});\n",
       "\n",
       "\n",
       "require(['d3'], function(d3){window['d3']=d3;console.log('finished loading d3');require(['downloadable'], function(downloadable){window['downloadable']=downloadable;console.log('finished loading downloadable');\n",
       "\n",
       "\tvar script = d3.select(\"head\")\n",
       "\t    .append(\"script\")\n",
       "\t    .attr(\"src\", \"http://cdn.rawgit.com/domitry/Nyaplotjs/master/release/nyaplot.js\")\n",
       "\t    .attr(\"async\", true);\n",
       "\n",
       "\tscript[0][0].onload = script[0][0].onreadystatechange = function(){\n",
       "\n",
       "\n",
       "\t    var event = document.createEvent(\"HTMLEvents\");\n",
       "\t    event.initEvent(\"load_nyaplot\",false,false);\n",
       "\t    window.dispatchEvent(event);\n",
       "\t    console.log('Finished loading Nyaplotjs');\n",
       "\n",
       "\t};\n",
       "\n",
       "\n",
       "});});\n",
       "}\n"
      ],
      "text/plain": [
       "\"if(window['d3'] === undefined ||\\n   window['Nyaplot'] === undefined){\\n    var path = {\\\"d3\\\":\\\"https://cdnjs.cloudflare.com/ajax/libs/d3/3.5.5/d3.min\\\",\\\"downloadable\\\":\\\"http://cdn.rawgit.com/domitry/d3-downloadable/master/d3-downloadable\\\"};\\n\\n\\n\\n    var shim = {\\\"d3\\\":{\\\"exports\\\":\\\"d3\\\"},\\\"downloadable\\\":{\\\"exports\\\":\\\"downloadable\\\"}};\\n\\n    require.config({paths: path, shim:shim});\\n\\n\\nrequire(['d3'], function(d3){window['d3']=d3;console.log('finished loading d3');require(['downloadable'], function(downloadable){window['downloadable']=downloadable;console.log('finished loading downloadable');\\n\\n\\tvar script = d3.select(\\\"head\\\")\\n\\t    .append(\\\"script\\\")\\n\\t    .attr(\\\"src\\\", \\\"http://cdn.rawgit.com/domitry/Nyaplotjs/master/release/nyaplot.js\\\")\\n\\t    .attr(\\\"async\\\", true);\\n\\n\\tscript[0][0].onload = script[0][0].onreadystatechange = function(){\\n\\n\\n\\t    var event = document.createEvent(\\\"HTMLEvents\\\");\\n\\t    event.initEvent(\\\"load_nyaplot\\\",false,false);\\n\\t    window.dispatchEvent(event);\\n\\t    console.log('Finished loading Nyaplotjs');\\n\\n\\t};\\n\\n\\n});});\\n}\\n\""
      ]
     },
     "metadata": {},
     "output_type": "display_data"
    },
    {
     "data": {
      "text/plain": [
       ":plotly"
      ]
     },
     "execution_count": 1,
     "metadata": {},
     "output_type": "execute_result"
    }
   ],
   "source": [
    "require 'daru'\n",
    "require 'daru_plotting_plotly'\n",
    "require 'csv'\n",
    "\n",
    "Daru.plotting_library = :plotly"
   ]
  },
  {
   "cell_type": "code",
   "execution_count": 2,
   "metadata": {
    "collapsed": false
   },
   "outputs": [
    {
     "data": {
      "text/plain": [
       ":micro"
      ]
     },
     "execution_count": 2,
     "metadata": {},
     "output_type": "execute_result"
    }
   ],
   "source": [
    "class Float\n",
    "  def mili\n",
    "    self * 10 ** (-3)\n",
    "  end\n",
    "  \n",
    "  def micro\n",
    "    self * 10 ** (-6)\n",
    "  end\n",
    "end\n",
    "\n",
    "class Fixnum\n",
    "  def mili\n",
    "    self.to_f * 10 ** (-3)\n",
    "  end\n",
    "  \n",
    "  def micro\n",
    "    self.to_f * 10 ** (-6)\n",
    "  end\n",
    "end"
   ]
  },
  {
   "cell_type": "code",
   "execution_count": 3,
   "metadata": {
    "collapsed": false
   },
   "outputs": [],
   "source": [
    "=begin\n",
    "d = {\n",
    "  v: [721.mili, 1295.mili, 1385.mili, 1423.mili, 1435.mili, 1442.mili, 1450.mili, 1453.mili, 1458.mili, 1462.mili, 1464.mili, 1463.mili],\n",
    "  i: [-164.mili, -153.mili, -125.5.mili, -92.8.mili, -77.1.mili, -66.1.mili, -53.8.mili, -46.7.mili, -35.5.mili, -27.mili, -19.mili, -13.3.mili]\n",
    "}\n",
    "\n",
    "CSV.open('solar_5cm.csv', 'w') do |csv|\n",
    "  csv << ['i', 'v']\n",
    "  d[:v].each_with_index do |_, ind|\n",
    "    csv << [d[:i][ind], d[:v][ind]]\n",
    "  end\n",
    "end\n",
    "=end"
   ]
  },
  {
   "cell_type": "code",
   "execution_count": 4,
   "metadata": {
    "collapsed": false
   },
   "outputs": [],
   "source": [
    "=begin\n",
    "d = {\n",
    "  v: [760.mili , 910.mili   , 1270.mili  , 1332.mili  , 1369.mili , 1427.mili , 1449.mili , 1463.mili , 1481.mili , 1492.mili, 1504.mili],\n",
    "  i: [-129.mili, -129.8.mili, -116.8.mili, -105.6.mili, -95.3.mili, -76.9.mili, -64.9.mili, -56.4.mili, -42.3.mili,-33.5.mili, -20.7.mili],\n",
    "}\n",
    "\n",
    "CSV.open('solar_15cm.csv', 'w') do |csv|\n",
    "  csv << ['i', 'v']\n",
    "  d[:v].each_with_index do |_, ind|\n",
    "    csv << [d[:i][ind], d[:v][ind]]\n",
    "  end\n",
    "end\n",
    "=end"
   ]
  },
  {
   "cell_type": "code",
   "execution_count": 5,
   "metadata": {
    "collapsed": false
   },
   "outputs": [],
   "source": [
    "=begin\n",
    "d = {\n",
    "  v: [455.mili  , 1390.mili  , 1434.mili , 1469.mili , 1494.mili , 1510.mili , 1512.mili],\n",
    "  i: [-61.8.mili, - 51.4.mili, -43.1.mili, -32.5.mili, -22.0.mili, -15.1.mili, -14.mili],\n",
    "}\n",
    "\n",
    "CSV.open('solar_25cm.csv', 'w') do |csv|\n",
    "  csv << ['i', 'v']\n",
    "  d[:v].each_with_index do |_, ind|\n",
    "    csv << [d[:i][ind], d[:v][ind]]\n",
    "  end\n",
    "end\n",
    "=end"
   ]
  },
  {
   "cell_type": "code",
   "execution_count": 24,
   "metadata": {
    "collapsed": false
   },
   "outputs": [
    {
     "data": {
      "text/plain": [
       "[0.975, 1.25, 1.327, 1.428, 1.48, 1.5110000000000001, 1.532, 1.55, 1.56, 1.568, 1.574]"
      ]
     },
     "execution_count": 24,
     "metadata": {},
     "output_type": "execute_result"
    }
   ],
   "source": [
    "=begin\n",
    "d = {\n",
    "  v: [975.mili , 1250.mili, 1327.mili  , 1428.mili  , 1480.mili , 1511.mili , 1532.mili , 1550.mili , 1560.mili , 1568.mili , 1574.mili],\n",
    "  i: [-115.mili, -118.mili, -117.5.mili, -110.2.mili, -96.1.mili, -79.1.mili, -64.2.mili, -47.0.mili, -35.4.mili, -25.1.mili, -14.8.mili],\n",
    "}\n",
    "\n",
    "CSV.open('solar_good_15cm.csv', 'w') do |csv|\n",
    "  csv << ['i', 'v']\n",
    "  d[:v].each_with_index do |_, ind|\n",
    "    csv << [d[:i][ind], d[:v][ind]]\n",
    "  end\n",
    "end\n",
    "=end"
   ]
  },
  {
   "cell_type": "code",
   "execution_count": 29,
   "metadata": {
    "collapsed": false
   },
   "outputs": [
    {
     "data": {
      "text/plain": [
       "[0.52, 1.448, 1.5030000000000001, 1.518, 1.53, 1.543, 1.551]"
      ]
     },
     "execution_count": 29,
     "metadata": {},
     "output_type": "execute_result"
    }
   ],
   "source": [
    "d = {\n",
    "  v: [520.mili  , 1448.mili, 1503.mili , 1518.mili , 1530.mili, 1543.mili , 1551.mili],\n",
    "  i: [-85.4.mili, -74.mili , -53.1.mili, -43.5.mili, -33.mili , -22.9.mili, -14.5.mili],\n",
    "}\n",
    "\n",
    "CSV.open('solar_bad_15cm.csv', 'w') do |csv|\n",
    "  csv << ['i', 'v']\n",
    "  d[:v].each_with_index do |_, ind|\n",
    "    csv << [d[:i][ind], d[:v][ind]]\n",
    "  end\n",
    "end"
   ]
  },
  {
   "cell_type": "code",
   "execution_count": 30,
   "metadata": {
    "collapsed": false
   },
   "outputs": [
    {
     "data": {
      "text/html": [
       "\n",
       "  <script>\n",
       "  requirejs.config({paths: { 'plotly': ['https://cdn.plot.ly/plotly-latest.min'] }})\n",
       "  </script>\n",
       "\n",
       "\n",
       "<div id=\"ed72b180-e23e-4933-9fe7-2db4c6ffb83e\" style=\"height: 100%; width: 100%;\"></div>\n",
       "\n",
       "<script>\n",
       " require(['plotly'], function(Plotly) { \n",
       "Plotly.newPlot(\n",
       "  'ed72b180-e23e-4933-9fe7-2db4c6ffb83e',\n",
       "  [{\"x\":[0.001,0.051000000000000004,0.12,0.149,0.199,0.243,0.305,0.356,0.4,0.45,0.496,0.548,0.602,0.647,0.7000000000000001,0.752,0.799,0.85,0.907,0.9500000000000001,1.002,1.055,1.097,1.1500000000000001,1.203,1.248,1.295,1.347,1.403,1.453,1.5,1.549,1.6,1.6480000000000001,1.703,1.747,1.795,-0.314,-0.748,-1.189,-1.7,-1.93],\"y\":[-9.8e-07,2.7e-06,9.0e-06,1.2199999999999998e-05,1.8399999999999997e-05,2.5699999999999998e-05,3.7e-05,4.95e-05,6.379999999999999e-05,7.890000000000001e-05,9.82e-05,0.0001248,0.0001609,0.00019969999999999998,0.0002562,0.00033099999999999997,0.000419,0.0005394,0.0007152,0.0008837,0.00114,0.001501,0.001858,0.002447,0.003243,0.004162,0.005437,0.007385,0.010379,0.014433,0.019973,0.028683,0.04352,0.06515,0.10543,0.1572,0.238,-1.74e-05,-3.54e-05,-5.2799999999999996e-05,-7.46e-05,-8.46e-05],\"type\":\"scatter\",\"mode\":\"markers\",\"name\":\"dark\"},{\"x\":[0.76,0.91,1.27,1.332,1.369,1.427,1.449,1.463,1.481,1.492,1.504],\"y\":[-0.129,-0.12980000000000003,-0.1168,-0.1056,-0.0953,-0.07690000000000001,-0.06490000000000001,-0.0564,-0.0423,-0.0335,-0.0207],\"type\":\"scatter\",\"mode\":\"markers\",\"name\":\"15cm\"},{\"x\":[0.975,1.25,1.327,1.428,1.48,1.5110000000000001,1.532,1.55,1.56,1.568,1.574],\"y\":[-0.115,-0.11800000000000001,-0.11750000000000001,-0.1102,-0.09609999999999999,-0.07909999999999999,-0.06420000000000001,-0.047,-0.0354,-0.0251,-0.0148],\"type\":\"scatter\",\"mode\":\"markers\",\"name\":\"good_15cm\"},{\"x\":[0.52,1.448,1.5030000000000001,1.518,1.53,1.543,1.551],\"y\":[-0.0854,-0.074,-0.0531,-0.043500000000000004,-0.033,-0.0229,-0.0145],\"type\":\"scatter\",\"mode\":\"markers\",\"name\":\"bad_15cm\"}],\n",
       "  {\"width\":1000,\"height\":500},\n",
       "  {\"linkText\":\"Export to plot.ly\",\"showLink\":true}\n",
       ")\n",
       "\n",
       "window.addEventListener('resize', function() {\n",
       "  Plotly.Plots.resize(document.getElementById('ed72b180-e23e-4933-9fe7-2db4c6ffb83e'))\n",
       "})\n",
       " }) \n",
       "</script>"
      ],
      "text/plain": [
       "#<Plotly::Offline::HTML:0x007fee624e1080 @id=\"ed72b180-e23e-4933-9fe7-2db4c6ffb83e\", @data=[{:x=>[0.001, 0.051000000000000004, 0.12, 0.149, 0.199, 0.243, 0.305, 0.356, 0.4, 0.45, 0.496, 0.548, 0.602, 0.647, 0.7000000000000001, 0.752, 0.799, 0.85, 0.907, 0.9500000000000001, 1.002, 1.055, 1.097, 1.1500000000000001, 1.203, 1.248, 1.295, 1.347, 1.403, 1.453, 1.5, 1.549, 1.6, 1.6480000000000001, 1.703, 1.747, 1.795, -0.314, -0.748, -1.189, -1.7, -1.93], :y=>[-9.8e-07, 2.7e-06, 9.0e-06, 1.2199999999999998e-05, 1.8399999999999997e-05, 2.5699999999999998e-05, 3.7e-05, 4.95e-05, 6.379999999999999e-05, 7.890000000000001e-05, 9.82e-05, 0.0001248, 0.0001609, 0.00019969999999999998, 0.0002562, 0.00033099999999999997, 0.000419, 0.0005394, 0.0007152, 0.0008837, 0.00114, 0.001501, 0.001858, 0.002447, 0.003243, 0.004162, 0.005437, 0.007385, 0.010379, 0.014433, 0.019973, 0.028683, 0.04352, 0.06515, 0.10543, 0.1572, 0.238, -1.74e-05, -3.54e-05, -5.2799999999999996e-05, -7.46e-05, -8.46e-05], :type=>:scatter, :mode=>:markers, :name=>\"dark\"}, {:x=>[0.76, 0.91, 1.27, 1.332, 1.369, 1.427, 1.449, 1.463, 1.481, 1.492, 1.504], :y=>[-0.129, -0.12980000000000003, -0.1168, -0.1056, -0.0953, -0.07690000000000001, -0.06490000000000001, -0.0564, -0.0423, -0.0335, -0.0207], :type=>:scatter, :mode=>:markers, :name=>\"15cm\"}, {:x=>[0.975, 1.25, 1.327, 1.428, 1.48, 1.5110000000000001, 1.532, 1.55, 1.56, 1.568, 1.574], :y=>[-0.115, -0.11800000000000001, -0.11750000000000001, -0.1102, -0.09609999999999999, -0.07909999999999999, -0.06420000000000001, -0.047, -0.0354, -0.0251, -0.0148], :type=>:scatter, :mode=>:markers, :name=>\"good_15cm\"}, {:x=>[0.52, 1.448, 1.5030000000000001, 1.518, 1.53, 1.543, 1.551], :y=>[-0.0854, -0.074, -0.0531, -0.043500000000000004, -0.033, -0.0229, -0.0145], :type=>:scatter, :mode=>:markers, :name=>\"bad_15cm\"}], @layout={:width=>1000, :height=>500}, @config={:linkText=>\"Export to plot.ly\", :showLink=>true}, @embedded=true>"
      ]
     },
     "metadata": {},
     "output_type": "display_data"
    }
   ],
   "source": [
    "df = nil\n",
    "data = ['dark', '15cm', 'good_15cm', 'bad_15cm'].map do |base_name|\n",
    "  df = Daru::DataFrame.from_csv(\"solar_#{base_name}.csv\")\n",
    "  {\n",
    "    x: df['v'].to_a, y: df['i'].to_a.map { |x| x.is_a?(String) ? x.to_r.to_f : x }, type: :scatter, mode: :'markers', name: base_name\n",
    "  }\n",
    "end\n",
    "df.plot(type: :scatter, data: data)"
   ]
  },
  {
   "cell_type": "code",
   "execution_count": 25,
   "metadata": {
    "collapsed": false
   },
   "outputs": [
    {
     "data": {
      "text/html": [
       "\n",
       "  <script>\n",
       "  requirejs.config({paths: { 'plotly': ['https://cdn.plot.ly/plotly-latest.min'] }})\n",
       "  </script>\n",
       "\n",
       "\n",
       "<div id=\"dcb5b23b-8c41-45a5-ae4a-71f1054b70ef\" style=\"height: 100%; width: 100%;\"></div>\n",
       "\n",
       "<script>\n",
       " require(['plotly'], function(Plotly) { \n",
       "Plotly.newPlot(\n",
       "  'dcb5b23b-8c41-45a5-ae4a-71f1054b70ef',\n",
       "  [{\"x\":[0.001,0.051000000000000004,0.12,0.149,0.199,0.243,0.305,0.356,0.4,0.45,0.496,0.548,0.602,0.647,0.7000000000000001,0.752,0.799,0.85,0.907,0.9500000000000001,1.002,1.055,1.097,1.1500000000000001,1.203,1.248,1.295,1.347,1.403,1.453,1.5,1.549,1.6,1.6480000000000001,1.703,1.747,1.795,-0.314,-0.748,-1.189,-1.7,-1.93],\"y\":[-9.8e-07,2.7e-06,9.0e-06,1.2199999999999998e-05,1.8399999999999997e-05,2.5699999999999998e-05,3.7e-05,4.95e-05,6.379999999999999e-05,7.890000000000001e-05,9.82e-05,0.0001248,0.0001609,0.00019969999999999998,0.0002562,0.00033099999999999997,0.000419,0.0005394,0.0007152,0.0008837,0.00114,0.001501,0.001858,0.002447,0.003243,0.004162,0.005437,0.007385,0.010379,0.014433,0.019973,0.028683,0.04352,0.06515,0.10543,0.1572,0.238,-1.74e-05,-3.54e-05,-5.2799999999999996e-05,-7.46e-05,-8.46e-05],\"type\":\"scatter\",\"mode\":\"markers\",\"name\":\"dark\"},{\"x\":[0.721,1.295,1.385,1.423,1.435,1.442,1.45,1.453,1.458,1.462,1.464,1.463],\"y\":[-0.164,-0.153,-0.1255,-0.0928,-0.0771,-0.06609999999999999,-0.0538,-0.046700000000000005,-0.035500000000000004,-0.027,-0.019,-0.013300000000000001],\"type\":\"scatter\",\"mode\":\"markers\",\"name\":\"5cm\"},{\"x\":[0.76,0.91,1.27,1.332,1.369,1.427,1.449,1.463,1.481,1.492,1.504],\"y\":[-0.129,-0.12980000000000003,-0.1168,-0.1056,-0.0953,-0.07690000000000001,-0.06490000000000001,-0.0564,-0.0423,-0.0335,-0.0207],\"type\":\"scatter\",\"mode\":\"markers\",\"name\":\"15cm\"},{\"x\":[0.975,1.25,1.327,1.428,1.48,1.5110000000000001,1.532,1.55,1.56,1.568,1.574],\"y\":[-0.115,-0.11800000000000001,-0.11750000000000001,-0.1102,-0.09609999999999999,-0.07909999999999999,-0.06420000000000001,-0.047,-0.0354,-0.0251,-0.0148],\"type\":\"scatter\",\"mode\":\"markers\",\"name\":\"good_15cm\"},{\"x\":[0.455,1.3900000000000001,1.434,1.469,1.494,1.51,1.512],\"y\":[-0.0618,-0.0514,-0.0431,-0.0325,-0.022,-0.0151,-0.014],\"type\":\"scatter\",\"mode\":\"markers\",\"name\":\"25cm\"}],\n",
       "  {\"width\":1000,\"height\":500},\n",
       "  {\"linkText\":\"Export to plot.ly\",\"showLink\":true}\n",
       ")\n",
       "\n",
       "window.addEventListener('resize', function() {\n",
       "  Plotly.Plots.resize(document.getElementById('dcb5b23b-8c41-45a5-ae4a-71f1054b70ef'))\n",
       "})\n",
       " }) \n",
       "</script>"
      ],
      "text/plain": [
       "#<Plotly::Offline::HTML:0x007fee634a6e70 @id=\"dcb5b23b-8c41-45a5-ae4a-71f1054b70ef\", @data=[{:x=>[0.001, 0.051000000000000004, 0.12, 0.149, 0.199, 0.243, 0.305, 0.356, 0.4, 0.45, 0.496, 0.548, 0.602, 0.647, 0.7000000000000001, 0.752, 0.799, 0.85, 0.907, 0.9500000000000001, 1.002, 1.055, 1.097, 1.1500000000000001, 1.203, 1.248, 1.295, 1.347, 1.403, 1.453, 1.5, 1.549, 1.6, 1.6480000000000001, 1.703, 1.747, 1.795, -0.314, -0.748, -1.189, -1.7, -1.93], :y=>[-9.8e-07, 2.7e-06, 9.0e-06, 1.2199999999999998e-05, 1.8399999999999997e-05, 2.5699999999999998e-05, 3.7e-05, 4.95e-05, 6.379999999999999e-05, 7.890000000000001e-05, 9.82e-05, 0.0001248, 0.0001609, 0.00019969999999999998, 0.0002562, 0.00033099999999999997, 0.000419, 0.0005394, 0.0007152, 0.0008837, 0.00114, 0.001501, 0.001858, 0.002447, 0.003243, 0.004162, 0.005437, 0.007385, 0.010379, 0.014433, 0.019973, 0.028683, 0.04352, 0.06515, 0.10543, 0.1572, 0.238, -1.74e-05, -3.54e-05, -5.2799999999999996e-05, -7.46e-05, -8.46e-05], :type=>:scatter, :mode=>:markers, :name=>\"dark\"}, {:x=>[0.721, 1.295, 1.385, 1.423, 1.435, 1.442, 1.45, 1.453, 1.458, 1.462, 1.464, 1.463], :y=>[-0.164, -0.153, -0.1255, -0.0928, -0.0771, -0.06609999999999999, -0.0538, -0.046700000000000005, -0.035500000000000004, -0.027, -0.019, -0.013300000000000001], :type=>:scatter, :mode=>:markers, :name=>\"5cm\"}, {:x=>[0.76, 0.91, 1.27, 1.332, 1.369, 1.427, 1.449, 1.463, 1.481, 1.492, 1.504], :y=>[-0.129, -0.12980000000000003, -0.1168, -0.1056, -0.0953, -0.07690000000000001, -0.06490000000000001, -0.0564, -0.0423, -0.0335, -0.0207], :type=>:scatter, :mode=>:markers, :name=>\"15cm\"}, {:x=>[0.975, 1.25, 1.327, 1.428, 1.48, 1.5110000000000001, 1.532, 1.55, 1.56, 1.568, 1.574], :y=>[-0.115, -0.11800000000000001, -0.11750000000000001, -0.1102, -0.09609999999999999, -0.07909999999999999, -0.06420000000000001, -0.047, -0.0354, -0.0251, -0.0148], :type=>:scatter, :mode=>:markers, :name=>\"good_15cm\"}, {:x=>[0.455, 1.3900000000000001, 1.434, 1.469, 1.494, 1.51, 1.512], :y=>[-0.0618, -0.0514, -0.0431, -0.0325, -0.022, -0.0151, -0.014], :type=>:scatter, :mode=>:markers, :name=>\"25cm\"}], @layout={:width=>1000, :height=>500}, @config={:linkText=>\"Export to plot.ly\", :showLink=>true}, @embedded=true>"
      ]
     },
     "metadata": {},
     "output_type": "display_data"
    },
    {
     "data": {
      "text/html": [
       "\n",
       "  <script>\n",
       "  requirejs.config({paths: { 'plotly': ['https://cdn.plot.ly/plotly-latest.min'] }})\n",
       "  </script>\n",
       "\n",
       "\n",
       "<div id=\"b067c4f5-83d2-4bb6-a6d9-def12c9b43ba\" style=\"height: 100%; width: 100%;\"></div>\n",
       "\n",
       "<script>\n",
       " require(['plotly'], function(Plotly) { \n",
       "Plotly.newPlot(\n",
       "  'b067c4f5-83d2-4bb6-a6d9-def12c9b43ba',\n",
       "  [{\"x\":[0.001,0.051000000000000004,0.12,0.149,0.199,0.243,0.305,0.356,0.4,0.45,0.496,0.548,0.602,0.647,0.7000000000000001,0.752,0.799,0.85,0.907,0.9500000000000001,1.002,1.055,1.097,1.1500000000000001,1.203,1.248,1.295,1.347,1.403,1.453,1.5,1.549,1.6,1.6480000000000001,1.703,1.747,1.795,-0.314,-0.748,-1.189,-1.7,-1.93],\"y\":[9.8e-07,2.7e-06,9.0e-06,1.2199999999999998e-05,1.8399999999999997e-05,2.5699999999999998e-05,3.7e-05,4.95e-05,6.379999999999999e-05,7.890000000000001e-05,9.82e-05,0.0001248,0.0001609,0.00019969999999999998,0.0002562,0.00033099999999999997,0.000419,0.0005394,0.0007152,0.0008837,0.00114,0.001501,0.001858,0.002447,0.003243,0.004162,0.005437,0.007385,0.010379,0.014433,0.019973,0.028683,0.04352,0.06515,0.10543,0.1572,0.238,1.74e-05,3.54e-05,5.2799999999999996e-05,7.46e-05,8.46e-05],\"type\":\"scatter\",\"mode\":\"markers\",\"name\":\"dark\"},{\"x\":[0.721,1.295,1.385,1.423,1.435,1.442,1.45,1.453,1.458,1.462,1.464,1.463],\"y\":[0.164,0.153,0.1255,0.0928,0.0771,0.06609999999999999,0.0538,0.046700000000000005,0.035500000000000004,0.027,0.019,0.013300000000000001],\"type\":\"scatter\",\"mode\":\"markers\",\"name\":\"5cm\"},{\"x\":[0.76,0.91,1.27,1.332,1.369,1.427,1.449,1.463,1.481,1.492,1.504],\"y\":[0.129,0.12980000000000003,0.1168,0.1056,0.0953,0.07690000000000001,0.06490000000000001,0.0564,0.0423,0.0335,0.0207],\"type\":\"scatter\",\"mode\":\"markers\",\"name\":\"15cm\"},{\"x\":[0.975,1.25,1.327,1.428,1.48,1.5110000000000001,1.532,1.55,1.56,1.568,1.574],\"y\":[0.115,0.11800000000000001,0.11750000000000001,0.1102,0.09609999999999999,0.07909999999999999,0.06420000000000001,0.047,0.0354,0.0251,0.0148],\"type\":\"scatter\",\"mode\":\"markers\",\"name\":\"good_15cm\"},{\"x\":[0.455,1.3900000000000001,1.434,1.469,1.494,1.51,1.512],\"y\":[0.0618,0.0514,0.0431,0.0325,0.022,0.0151,0.014],\"type\":\"scatter\",\"mode\":\"markers\",\"name\":\"25cm\"}],\n",
       "  {\"width\":1000,\"height\":500,\"yaxis\":{\"type\":\"log\"}},\n",
       "  {\"linkText\":\"Export to plot.ly\",\"showLink\":true}\n",
       ")\n",
       "\n",
       "window.addEventListener('resize', function() {\n",
       "  Plotly.Plots.resize(document.getElementById('b067c4f5-83d2-4bb6-a6d9-def12c9b43ba'))\n",
       "})\n",
       " }) \n",
       "</script>"
      ],
      "text/plain": [
       "#<Plotly::Offline::HTML:0x007fee626818b8 @id=\"b067c4f5-83d2-4bb6-a6d9-def12c9b43ba\", @data=[{:x=>[0.001, 0.051000000000000004, 0.12, 0.149, 0.199, 0.243, 0.305, 0.356, 0.4, 0.45, 0.496, 0.548, 0.602, 0.647, 0.7000000000000001, 0.752, 0.799, 0.85, 0.907, 0.9500000000000001, 1.002, 1.055, 1.097, 1.1500000000000001, 1.203, 1.248, 1.295, 1.347, 1.403, 1.453, 1.5, 1.549, 1.6, 1.6480000000000001, 1.703, 1.747, 1.795, -0.314, -0.748, -1.189, -1.7, -1.93], :y=>[9.8e-07, 2.7e-06, 9.0e-06, 1.2199999999999998e-05, 1.8399999999999997e-05, 2.5699999999999998e-05, 3.7e-05, 4.95e-05, 6.379999999999999e-05, 7.890000000000001e-05, 9.82e-05, 0.0001248, 0.0001609, 0.00019969999999999998, 0.0002562, 0.00033099999999999997, 0.000419, 0.0005394, 0.0007152, 0.0008837, 0.00114, 0.001501, 0.001858, 0.002447, 0.003243, 0.004162, 0.005437, 0.007385, 0.010379, 0.014433, 0.019973, 0.028683, 0.04352, 0.06515, 0.10543, 0.1572, 0.238, 1.74e-05, 3.54e-05, 5.2799999999999996e-05, 7.46e-05, 8.46e-05], :type=>:scatter, :mode=>:markers, :name=>\"dark\"}, {:x=>[0.721, 1.295, 1.385, 1.423, 1.435, 1.442, 1.45, 1.453, 1.458, 1.462, 1.464, 1.463], :y=>[0.164, 0.153, 0.1255, 0.0928, 0.0771, 0.06609999999999999, 0.0538, 0.046700000000000005, 0.035500000000000004, 0.027, 0.019, 0.013300000000000001], :type=>:scatter, :mode=>:markers, :name=>\"5cm\"}, {:x=>[0.76, 0.91, 1.27, 1.332, 1.369, 1.427, 1.449, 1.463, 1.481, 1.492, 1.504], :y=>[0.129, 0.12980000000000003, 0.1168, 0.1056, 0.0953, 0.07690000000000001, 0.06490000000000001, 0.0564, 0.0423, 0.0335, 0.0207], :type=>:scatter, :mode=>:markers, :name=>\"15cm\"}, {:x=>[0.975, 1.25, 1.327, 1.428, 1.48, 1.5110000000000001, 1.532, 1.55, 1.56, 1.568, 1.574], :y=>[0.115, 0.11800000000000001, 0.11750000000000001, 0.1102, 0.09609999999999999, 0.07909999999999999, 0.06420000000000001, 0.047, 0.0354, 0.0251, 0.0148], :type=>:scatter, :mode=>:markers, :name=>\"good_15cm\"}, {:x=>[0.455, 1.3900000000000001, 1.434, 1.469, 1.494, 1.51, 1.512], :y=>[0.0618, 0.0514, 0.0431, 0.0325, 0.022, 0.0151, 0.014], :type=>:scatter, :mode=>:markers, :name=>\"25cm\"}], @layout={:width=>1000, :height=>500, :yaxis=>{:type=>:log}}, @config={:linkText=>\"Export to plot.ly\", :showLink=>true}, @embedded=true>"
      ]
     },
     "metadata": {},
     "output_type": "display_data"
    }
   ],
   "source": [
    "df = nil\n",
    "data = ['dark', '5cm', '15cm', 'good_15cm', '25cm'].map do |base_name|\n",
    "  df = Daru::DataFrame.from_csv(\"solar_#{base_name}.csv\")\n",
    "  {\n",
    "    x: df['v'].to_a, y: df['i'].to_a.map { |x| x.is_a?(String) ? x.to_r.to_f : x }, type: :scatter, mode: :'markers', name: base_name\n",
    "  }\n",
    "end\n",
    "df.plot(type: :scatter, data: data)\n",
    "\n",
    "data = ['dark', '5cm', '15cm', 'good_15cm', '25cm'].map do |base_name|\n",
    "  df = Daru::DataFrame.from_csv(\"solar_#{base_name}.csv\")\n",
    "  {\n",
    "    x: df['v'].to_a, y: df['i'].to_a.map { |x| x.is_a?(String) ? x.to_r.to_f : x }.map(&:abs), type: :scatter, mode: :'markers', name: base_name\n",
    "  }\n",
    "end\n",
    "df.plot(type: :scatter, data: data, layout: { yaxis: { type: :log } })"
   ]
  },
  {
   "cell_type": "code",
   "execution_count": null,
   "metadata": {
    "collapsed": true
   },
   "outputs": [],
   "source": [
    "require 'math'\n",
    "\n",
    "def f(a)\n",
    "  return I * (1 + a) * Math.exp(a)\n",
    "end\n",
    "\n",
    "Daru::DataFrame.new(\n",
    "  a: (-1000..1000).to_a.map { |x| }\n",
    ")"
   ]
  }
 ],
 "metadata": {
  "kernelspec": {
   "display_name": "Ruby 2.3.0",
   "language": "ruby",
   "name": "ruby"
  },
  "language_info": {
   "file_extension": ".rb",
   "mimetype": "application/x-ruby",
   "name": "ruby",
   "version": "2.3.0"
  }
 },
 "nbformat": 4,
 "nbformat_minor": 0
}
