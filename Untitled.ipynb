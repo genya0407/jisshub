{
 "cells": [
  {
   "cell_type": "code",
   "execution_count": 1,
   "metadata": {
    "collapsed": false
   },
   "outputs": [
    {
     "data": {
      "application/javascript": [
       "if(window['d3'] === undefined ||\n",
       "   window['Nyaplot'] === undefined){\n",
       "    var path = {\"d3\":\"https://cdnjs.cloudflare.com/ajax/libs/d3/3.5.5/d3.min\",\"downloadable\":\"http://cdn.rawgit.com/domitry/d3-downloadable/master/d3-downloadable\"};\n",
       "\n",
       "\n",
       "\n",
       "    var shim = {\"d3\":{\"exports\":\"d3\"},\"downloadable\":{\"exports\":\"downloadable\"}};\n",
       "\n",
       "    require.config({paths: path, shim:shim});\n",
       "\n",
       "\n",
       "require(['d3'], function(d3){window['d3']=d3;console.log('finished loading d3');require(['downloadable'], function(downloadable){window['downloadable']=downloadable;console.log('finished loading downloadable');\n",
       "\n",
       "\tvar script = d3.select(\"head\")\n",
       "\t    .append(\"script\")\n",
       "\t    .attr(\"src\", \"http://cdn.rawgit.com/domitry/Nyaplotjs/master/release/nyaplot.js\")\n",
       "\t    .attr(\"async\", true);\n",
       "\n",
       "\tscript[0][0].onload = script[0][0].onreadystatechange = function(){\n",
       "\n",
       "\n",
       "\t    var event = document.createEvent(\"HTMLEvents\");\n",
       "\t    event.initEvent(\"load_nyaplot\",false,false);\n",
       "\t    window.dispatchEvent(event);\n",
       "\t    console.log('Finished loading Nyaplotjs');\n",
       "\n",
       "\t};\n",
       "\n",
       "\n",
       "});});\n",
       "}\n"
      ],
      "text/plain": [
       "\"if(window['d3'] === undefined ||\\n   window['Nyaplot'] === undefined){\\n    var path = {\\\"d3\\\":\\\"https://cdnjs.cloudflare.com/ajax/libs/d3/3.5.5/d3.min\\\",\\\"downloadable\\\":\\\"http://cdn.rawgit.com/domitry/d3-downloadable/master/d3-downloadable\\\"};\\n\\n\\n\\n    var shim = {\\\"d3\\\":{\\\"exports\\\":\\\"d3\\\"},\\\"downloadable\\\":{\\\"exports\\\":\\\"downloadable\\\"}};\\n\\n    require.config({paths: path, shim:shim});\\n\\n\\nrequire(['d3'], function(d3){window['d3']=d3;console.log('finished loading d3');require(['downloadable'], function(downloadable){window['downloadable']=downloadable;console.log('finished loading downloadable');\\n\\n\\tvar script = d3.select(\\\"head\\\")\\n\\t    .append(\\\"script\\\")\\n\\t    .attr(\\\"src\\\", \\\"http://cdn.rawgit.com/domitry/Nyaplotjs/master/release/nyaplot.js\\\")\\n\\t    .attr(\\\"async\\\", true);\\n\\n\\tscript[0][0].onload = script[0][0].onreadystatechange = function(){\\n\\n\\n\\t    var event = document.createEvent(\\\"HTMLEvents\\\");\\n\\t    event.initEvent(\\\"load_nyaplot\\\",false,false);\\n\\t    window.dispatchEvent(event);\\n\\t    console.log('Finished loading Nyaplotjs');\\n\\n\\t};\\n\\n\\n});});\\n}\\n\""
      ]
     },
     "metadata": {},
     "output_type": "display_data"
    },
    {
     "data": {
      "text/plain": [
       ":plotly"
      ]
     },
     "execution_count": 1,
     "metadata": {},
     "output_type": "execute_result"
    }
   ],
   "source": [
    "require 'daru'\n",
    "require 'daru_plotting_plotly'\n",
    "require 'csv'\n",
    "\n",
    "Daru.plotting_library = :plotly"
   ]
  },
  {
   "cell_type": "code",
   "execution_count": null,
   "metadata": {
    "collapsed": true
   },
   "outputs": [],
   "source": [
    "class Float\n",
    "  def mili\n",
    "    self * 10 ** (-3)\n",
    "  end\n",
    "  \n",
    "  def micro\n",
    "    self * 10 ** (-6)\n",
    "  end\n",
    "end\n",
    "\n",
    "class Fixnum\n",
    "  def mili\n",
    "    self.to_f * 10 ** (-3)\n",
    "  end\n",
    "  \n",
    "  def micro\n",
    "    self.to_f * 10 ** (-6)\n",
    "  end\n",
    "end"
   ]
  },
  {
   "cell_type": "code",
   "execution_count": 34,
   "metadata": {
    "collapsed": false
   },
   "outputs": [
    {
     "ename": "NameError",
     "evalue": "undefined local variable or method `v' for main:Object",
     "output_type": "error",
     "traceback": [
      "\u001b[31mNameError\u001b[0m: undefined local variable or method `v' for main:Object",
      "\u001b[37m<main>:7:in `block in <main>'\u001b[0m",
      "\u001b[37m/Users/sangenya/.rbenv/versions/2.3.0/lib/ruby/2.3.0/csv.rb:1282:in `open'\u001b[0m",
      "\u001b[37m<main>:5:in `<main>'\u001b[0m",
      "\u001b[37m/Users/sangenya/.rbenv/versions/2.3.0/lib/ruby/gems/2.3.0/gems/iruby-0.2.9/lib/iruby/backend.rb:44:in `eval'\u001b[0m",
      "\u001b[37m/Users/sangenya/.rbenv/versions/2.3.0/lib/ruby/gems/2.3.0/gems/iruby-0.2.9/lib/iruby/backend.rb:44:in `eval'\u001b[0m",
      "\u001b[37m/Users/sangenya/.rbenv/versions/2.3.0/lib/ruby/gems/2.3.0/gems/iruby-0.2.9/lib/iruby/backend.rb:12:in `eval'\u001b[0m",
      "\u001b[37m/Users/sangenya/.rbenv/versions/2.3.0/lib/ruby/gems/2.3.0/gems/iruby-0.2.9/lib/iruby/kernel.rb:87:in `execute_request'\u001b[0m",
      "\u001b[37m/Users/sangenya/.rbenv/versions/2.3.0/lib/ruby/gems/2.3.0/gems/iruby-0.2.9/lib/iruby/kernel.rb:47:in `dispatch'\u001b[0m",
      "\u001b[37m/Users/sangenya/.rbenv/versions/2.3.0/lib/ruby/gems/2.3.0/gems/iruby-0.2.9/lib/iruby/kernel.rb:37:in `run'\u001b[0m",
      "\u001b[37m/Users/sangenya/.rbenv/versions/2.3.0/lib/ruby/gems/2.3.0/gems/iruby-0.2.9/lib/iruby/command.rb:70:in `run_kernel'\u001b[0m",
      "\u001b[37m/Users/sangenya/.rbenv/versions/2.3.0/lib/ruby/gems/2.3.0/gems/iruby-0.2.9/lib/iruby/command.rb:34:in `run'\u001b[0m",
      "\u001b[37m/Users/sangenya/.rbenv/versions/2.3.0/lib/ruby/gems/2.3.0/gems/iruby-0.2.9/bin/iruby:5:in `<top (required)>'\u001b[0m",
      "\u001b[37m/Users/sangenya/.rbenv/versions/2.3.0/bin/iruby:23:in `load'\u001b[0m",
      "\u001b[37m/Users/sangenya/.rbenv/versions/2.3.0/bin/iruby:23:in `<main>'\u001b[0m"
     ]
    }
   ],
   "source": [
    "d = {\n",
    "  v: [721.mili, 1295.mili, 1385.mili, 1423.mili, 1435.mili, 1442.mili, 1450.mili, 1453.mili, 1458.mili, 1462.mili, 1464.mili, 1463.mili],\n",
    "  i: [1164.mili, -153.mili, -125.5.mili, -92.8.mili, -77.1.mili, -66.1.mili, -53.8.mili, -46.7.mili, -35.5.mili, -27.mili, -19.mili, -13.3.mili]\n",
    "}\n",
    "\n",
    "CSV.open('solar_5cm.csv', 'w') do |csv|\n",
    "  csv << ['i', 'v']\n",
    "  d[:v].each_with_index do |_, ind|\n",
    "    csv << [d[:i][ind], d[:v][ind]]\n",
    "  end\n",
    "end"
   ]
  },
  {
   "cell_type": "code",
   "execution_count": 20,
   "metadata": {
    "collapsed": false
   },
   "outputs": [
    {
     "data": {
      "text/html": [
       "\n",
       "  <script>\n",
       "  requirejs.config({paths: { 'plotly': ['https://cdn.plot.ly/plotly-latest.min'] }})\n",
       "  </script>\n",
       "\n",
       "\n",
       "<div id=\"5914b5d9-b29c-455e-b502-47e694924e38\" style=\"height: 100%; width: 100%;\"></div>\n",
       "\n",
       "<script>\n",
       " require(['plotly'], function(Plotly) { \n",
       "Plotly.newPlot(\n",
       "  '5914b5d9-b29c-455e-b502-47e694924e38',\n",
       "  [{\"x\":[0.001,0.051000000000000004,0.12,0.149,0.199,0.243,0.305,0.356,0.4,0.45,0.496,0.548,0.602,0.647,0.7000000000000001,0.752,0.799,0.85,0.907,0.9500000000000001,1.002,1.055,1.097,1.1500000000000001,1.203,1.248,1.295,1.347,1.403,1.453,1.5,1.549,1.6,1.6480000000000001,1.903,1.747,1.795,-0.314,-0.748,-1.189,-1.7,-1.93],\"y\":[-9.8e-07,2.7e-06,9.0e-06,1.2199999999999998e-05,1.8399999999999997e-05,2.5699999999999998e-05,3.7e-05,4.95e-05,6.379999999999999e-05,7.890000000000001e-05,9.82e-05,0.0001248,0.0001609,0.00019969999999999998,0.0002562,0.00033099999999999997,0.000419,0.0005394,0.0007152,0.0008837,\"57/50000\",\"1501/1000000\",\"929/500000\",\"2447/1000000\",\"3243/1000000\",\"2081/500000\",\"5437/1000000\",\"1477/200000\",\"10379/1000000\",\"14433/1000000\",\"19973/1000000\",\"28683/1000000\",\"136/3125\",\"1303/20000\",\"10543/100000\",\"393/2500\",\"119/500\",-1.74e-05,-3.54e-05,-5.2799999999999996e-05,-7.46e-05,-8.46e-05],\"type\":\"scatter\",\"mode\":\"markers+lines\",\"name\":\"dark\"}],\n",
       "  {\"width\":1000,\"height\":500},\n",
       "  {\"linkText\":\"Export to plot.ly\",\"showLink\":true}\n",
       ")\n",
       "\n",
       "window.addEventListener('resize', function() {\n",
       "  Plotly.Plots.resize(document.getElementById('5914b5d9-b29c-455e-b502-47e694924e38'))\n",
       "})\n",
       " }) \n",
       "</script>"
      ],
      "text/plain": [
       "#<Plotly::Offline::HTML:0x007fd0539bd2c0 @id=\"5914b5d9-b29c-455e-b502-47e694924e38\", @data=[{:x=>[0.001, 0.051000000000000004, 0.12, 0.149, 0.199, 0.243, 0.305, 0.356, 0.4, 0.45, 0.496, 0.548, 0.602, 0.647, 0.7000000000000001, 0.752, 0.799, 0.85, 0.907, 0.9500000000000001, 1.002, 1.055, 1.097, 1.1500000000000001, 1.203, 1.248, 1.295, 1.347, 1.403, 1.453, 1.5, 1.549, 1.6, 1.6480000000000001, 1.903, 1.747, 1.795, -0.314, -0.748, -1.189, -1.7, -1.93], :y=>[-9.8e-07, 2.7e-06, 9.0e-06, 1.2199999999999998e-05, 1.8399999999999997e-05, 2.5699999999999998e-05, 3.7e-05, 4.95e-05, 6.379999999999999e-05, 7.890000000000001e-05, 9.82e-05, 0.0001248, 0.0001609, 0.00019969999999999998, 0.0002562, 0.00033099999999999997, 0.000419, 0.0005394, 0.0007152, 0.0008837, \"57/50000\", \"1501/1000000\", \"929/500000\", \"2447/1000000\", \"3243/1000000\", \"2081/500000\", \"5437/1000000\", \"1477/200000\", \"10379/1000000\", \"14433/1000000\", \"19973/1000000\", \"28683/1000000\", \"136/3125\", \"1303/20000\", \"10543/100000\", \"393/2500\", \"119/500\", -1.74e-05, -3.54e-05, -5.2799999999999996e-05, -7.46e-05, -8.46e-05], :type=>:scatter, :mode=>:\"markers+lines\", :name=>\"dark\"}], @layout={:width=>1000, :height=>500}, @config={:linkText=>\"Export to plot.ly\", :showLink=>true}, @embedded=true>"
      ]
     },
     "metadata": {},
     "output_type": "display_data"
    },
    {
     "data": {
      "text/html": [
       "\n",
       "  <script>\n",
       "  requirejs.config({paths: { 'plotly': ['https://cdn.plot.ly/plotly-latest.min'] }})\n",
       "  </script>\n",
       "\n",
       "\n",
       "<div id=\"2ac7320f-f622-41c9-8c19-700799a81a64\" style=\"height: 100%; width: 100%;\"></div>\n",
       "\n",
       "<script>\n",
       " require(['plotly'], function(Plotly) { \n",
       "Plotly.newPlot(\n",
       "  '2ac7320f-f622-41c9-8c19-700799a81a64',\n",
       "  [{\"x\":[0.001,0.051000000000000004,0.12,0.149,0.199,0.243,0.305,0.356,0.4,0.45,0.496,0.548,0.602,0.647,0.7000000000000001,0.752,0.799,0.85,0.907,0.9500000000000001,1.002,1.055,1.097,1.1500000000000001,1.203,1.248,1.295,1.347,1.403,1.453,1.5,1.549,1.6,1.6480000000000001,1.903,1.747,1.795,-0.314,-0.748,-1.189,-1.7,-1.93],\"y\":[-9.8e-07,2.7e-06,9.0e-06,1.2199999999999998e-05,1.8399999999999997e-05,2.5699999999999998e-05,3.7e-05,4.95e-05,6.379999999999999e-05,7.890000000000001e-05,9.82e-05,0.0001248,0.0001609,0.00019969999999999998,0.0002562,0.00033099999999999997,0.000419,0.0005394,0.0007152,0.0008837,\"57/50000\",\"1501/1000000\",\"929/500000\",\"2447/1000000\",\"3243/1000000\",\"2081/500000\",\"5437/1000000\",\"1477/200000\",\"10379/1000000\",\"14433/1000000\",\"19973/1000000\",\"28683/1000000\",\"136/3125\",\"1303/20000\",\"10543/100000\",\"393/2500\",\"119/500\",-1.74e-05,-3.54e-05,-5.2799999999999996e-05,-7.46e-05,-8.46e-05],\"type\":\"scatter\",\"mode\":\"markers+lines\",\"name\":\"dark\"}],\n",
       "  {\"width\":1000,\"height\":500,\"yaxis\":{\"type\":\"log\"}},\n",
       "  {\"linkText\":\"Export to plot.ly\",\"showLink\":true}\n",
       ")\n",
       "\n",
       "window.addEventListener('resize', function() {\n",
       "  Plotly.Plots.resize(document.getElementById('2ac7320f-f622-41c9-8c19-700799a81a64'))\n",
       "})\n",
       " }) \n",
       "</script>"
      ],
      "text/plain": [
       "#<Plotly::Offline::HTML:0x007fd0532ae330 @id=\"2ac7320f-f622-41c9-8c19-700799a81a64\", @data=[{:x=>[0.001, 0.051000000000000004, 0.12, 0.149, 0.199, 0.243, 0.305, 0.356, 0.4, 0.45, 0.496, 0.548, 0.602, 0.647, 0.7000000000000001, 0.752, 0.799, 0.85, 0.907, 0.9500000000000001, 1.002, 1.055, 1.097, 1.1500000000000001, 1.203, 1.248, 1.295, 1.347, 1.403, 1.453, 1.5, 1.549, 1.6, 1.6480000000000001, 1.903, 1.747, 1.795, -0.314, -0.748, -1.189, -1.7, -1.93], :y=>[-9.8e-07, 2.7e-06, 9.0e-06, 1.2199999999999998e-05, 1.8399999999999997e-05, 2.5699999999999998e-05, 3.7e-05, 4.95e-05, 6.379999999999999e-05, 7.890000000000001e-05, 9.82e-05, 0.0001248, 0.0001609, 0.00019969999999999998, 0.0002562, 0.00033099999999999997, 0.000419, 0.0005394, 0.0007152, 0.0008837, \"57/50000\", \"1501/1000000\", \"929/500000\", \"2447/1000000\", \"3243/1000000\", \"2081/500000\", \"5437/1000000\", \"1477/200000\", \"10379/1000000\", \"14433/1000000\", \"19973/1000000\", \"28683/1000000\", \"136/3125\", \"1303/20000\", \"10543/100000\", \"393/2500\", \"119/500\", -1.74e-05, -3.54e-05, -5.2799999999999996e-05, -7.46e-05, -8.46e-05], :type=>:scatter, :mode=>:\"markers+lines\", :name=>\"dark\"}], @layout={:width=>1000, :height=>500, :yaxis=>{:type=>:log}}, @config={:linkText=>\"Export to plot.ly\", :showLink=>true}, @embedded=true>"
      ]
     },
     "metadata": {},
     "output_type": "display_data"
    }
   ],
   "source": [
    "data = ['dark'].map do |base_name|\n",
    "  df = Daru::DataFrame.from_csv(\"solar_#{base_name}.csv\")\n",
    "  {\n",
    "    x: df['v'].to_a, y: df['i'].to_a, type: :scatter, mode: :'markers+lines', name: base_name\n",
    "  }\n",
    "end\n",
    "df.plot(type: :scatter, data: data)\n",
    "df.plot(type: :scatter, data: data, layout: { yaxis: { type: :log } })"
   ]
  }
 ],
 "metadata": {
  "kernelspec": {
   "display_name": "Ruby 2.3.0",
   "language": "ruby",
   "name": "ruby"
  },
  "language_info": {
   "file_extension": ".rb",
   "mimetype": "application/x-ruby",
   "name": "ruby",
   "version": "2.3.0"
  }
 },
 "nbformat": 4,
 "nbformat_minor": 0
}
