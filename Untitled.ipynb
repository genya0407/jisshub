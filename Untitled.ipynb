{
 "cells": [
  {
   "cell_type": "code",
   "execution_count": 1,
   "metadata": {
    "collapsed": false
   },
   "outputs": [
    {
     "data": {
      "application/javascript": [
       "if(window['d3'] === undefined ||\n",
       "   window['Nyaplot'] === undefined){\n",
       "    var path = {\"d3\":\"https://cdnjs.cloudflare.com/ajax/libs/d3/3.5.5/d3.min\",\"downloadable\":\"http://cdn.rawgit.com/domitry/d3-downloadable/master/d3-downloadable\"};\n",
       "\n",
       "\n",
       "\n",
       "    var shim = {\"d3\":{\"exports\":\"d3\"},\"downloadable\":{\"exports\":\"downloadable\"}};\n",
       "\n",
       "    require.config({paths: path, shim:shim});\n",
       "\n",
       "\n",
       "require(['d3'], function(d3){window['d3']=d3;console.log('finished loading d3');require(['downloadable'], function(downloadable){window['downloadable']=downloadable;console.log('finished loading downloadable');\n",
       "\n",
       "\tvar script = d3.select(\"head\")\n",
       "\t    .append(\"script\")\n",
       "\t    .attr(\"src\", \"http://cdn.rawgit.com/domitry/Nyaplotjs/master/release/nyaplot.js\")\n",
       "\t    .attr(\"async\", true);\n",
       "\n",
       "\tscript[0][0].onload = script[0][0].onreadystatechange = function(){\n",
       "\n",
       "\n",
       "\t    var event = document.createEvent(\"HTMLEvents\");\n",
       "\t    event.initEvent(\"load_nyaplot\",false,false);\n",
       "\t    window.dispatchEvent(event);\n",
       "\t    console.log('Finished loading Nyaplotjs');\n",
       "\n",
       "\t};\n",
       "\n",
       "\n",
       "});});\n",
       "}\n"
      ],
      "text/plain": [
       "\"if(window['d3'] === undefined ||\\n   window['Nyaplot'] === undefined){\\n    var path = {\\\"d3\\\":\\\"https://cdnjs.cloudflare.com/ajax/libs/d3/3.5.5/d3.min\\\",\\\"downloadable\\\":\\\"http://cdn.rawgit.com/domitry/d3-downloadable/master/d3-downloadable\\\"};\\n\\n\\n\\n    var shim = {\\\"d3\\\":{\\\"exports\\\":\\\"d3\\\"},\\\"downloadable\\\":{\\\"exports\\\":\\\"downloadable\\\"}};\\n\\n    require.config({paths: path, shim:shim});\\n\\n\\nrequire(['d3'], function(d3){window['d3']=d3;console.log('finished loading d3');require(['downloadable'], function(downloadable){window['downloadable']=downloadable;console.log('finished loading downloadable');\\n\\n\\tvar script = d3.select(\\\"head\\\")\\n\\t    .append(\\\"script\\\")\\n\\t    .attr(\\\"src\\\", \\\"http://cdn.rawgit.com/domitry/Nyaplotjs/master/release/nyaplot.js\\\")\\n\\t    .attr(\\\"async\\\", true);\\n\\n\\tscript[0][0].onload = script[0][0].onreadystatechange = function(){\\n\\n\\n\\t    var event = document.createEvent(\\\"HTMLEvents\\\");\\n\\t    event.initEvent(\\\"load_nyaplot\\\",false,false);\\n\\t    window.dispatchEvent(event);\\n\\t    console.log('Finished loading Nyaplotjs');\\n\\n\\t};\\n\\n\\n});});\\n}\\n\""
      ]
     },
     "metadata": {},
     "output_type": "display_data"
    },
    {
     "data": {
      "text/plain": [
       ":plotly"
      ]
     },
     "execution_count": 1,
     "metadata": {},
     "output_type": "execute_result"
    }
   ],
   "source": [
    "require 'daru'\n",
    "require 'daru_plotting_plotly'\n",
    "require 'csv'\n",
    "\n",
    "Daru.plotting_library = :plotly"
   ]
  },
  {
   "cell_type": "code",
   "execution_count": 2,
   "metadata": {
    "collapsed": false
   },
   "outputs": [
    {
     "data": {
      "text/plain": [
       ":micro"
      ]
     },
     "execution_count": 2,
     "metadata": {},
     "output_type": "execute_result"
    }
   ],
   "source": [
    "class Float\n",
    "  def mili\n",
    "    self * 10 ** (-3)\n",
    "  end\n",
    "  \n",
    "  def micro\n",
    "    self * 10 ** (-6)\n",
    "  end\n",
    "end\n",
    "\n",
    "class Fixnum\n",
    "  def mili\n",
    "    self.to_f * 10 ** (-3)\n",
    "  end\n",
    "  \n",
    "  def micro\n",
    "    self.to_f * 10 ** (-6)\n",
    "  end\n",
    "end"
   ]
  },
  {
   "cell_type": "code",
   "execution_count": 3,
   "metadata": {
    "collapsed": false
   },
   "outputs": [],
   "source": [
    "=begin\n",
    "d = {\n",
    "  v: [721.mili, 1295.mili, 1385.mili, 1423.mili, 1435.mili, 1442.mili, 1450.mili, 1453.mili, 1458.mili, 1462.mili, 1464.mili, 1463.mili],\n",
    "  i: [-164.mili, -153.mili, -125.5.mili, -92.8.mili, -77.1.mili, -66.1.mili, -53.8.mili, -46.7.mili, -35.5.mili, -27.mili, -19.mili, -13.3.mili]\n",
    "}\n",
    "\n",
    "CSV.open('solar_5cm.csv', 'w') do |csv|\n",
    "  csv << ['i', 'v']\n",
    "  d[:v].each_with_index do |_, ind|\n",
    "    csv << [d[:i][ind], d[:v][ind]]\n",
    "  end\n",
    "end\n",
    "=end"
   ]
  },
  {
   "cell_type": "code",
   "execution_count": 13,
   "metadata": {
    "collapsed": false
   },
   "outputs": [
    {
     "data": {
      "text/html": [
       "\n",
       "  <script>\n",
       "  requirejs.config({paths: { 'plotly': ['https://cdn.plot.ly/plotly-latest.min'] }})\n",
       "  </script>\n",
       "\n",
       "\n",
       "<div id=\"425bb079-9e37-4451-a06d-103476d74b98\" style=\"height: 100%; width: 100%;\"></div>\n",
       "\n",
       "<script>\n",
       " require(['plotly'], function(Plotly) { \n",
       "Plotly.newPlot(\n",
       "  '425bb079-9e37-4451-a06d-103476d74b98',\n",
       "  [{\"x\":[0.721,1.295,1.385,1.423,1.435,1.442,1.45,1.453,1.458,1.462,1.464,1.463],\"y\":[-0.164,-0.153,-0.1255,-0.0928,-0.0771,-0.06609999999999999,-0.0538,-0.046700000000000005,-0.035500000000000004,-0.027,-0.019,-0.013300000000000001],\"type\":\"scatter\",\"mode\":\"markers\",\"name\":\"5cm\"},{\"x\":[0.001,0.051000000000000004,0.12,0.149,0.199,0.243,0.305,0.356,0.4,0.45,0.496,0.548,0.602,0.647,0.7000000000000001,0.752,0.799,0.85,0.907,0.9500000000000001,1.002,1.055,1.097,1.1500000000000001,1.203,1.248,1.295,1.347,1.403,1.453,1.5,1.549,1.6,1.6480000000000001,1.703,1.747,1.795,-0.314,-0.748,-1.189,-1.7,-1.93],\"y\":[-9.8e-07,2.7e-06,9.0e-06,1.2199999999999998e-05,1.8399999999999997e-05,2.5699999999999998e-05,3.7e-05,4.95e-05,6.379999999999999e-05,7.890000000000001e-05,9.82e-05,0.0001248,0.0001609,0.00019969999999999998,0.0002562,0.00033099999999999997,0.000419,0.0005394,0.0007152,0.0008837,0.00114,0.001501,0.001858,0.002447,0.003243,0.004162,0.005437,0.007385,0.010379,0.014433,0.019973,0.028683,0.04352,0.06515,0.10543,0.1572,0.238,-1.74e-05,-3.54e-05,-5.2799999999999996e-05,-7.46e-05,-8.46e-05],\"type\":\"scatter\",\"mode\":\"markers\",\"name\":\"dark\"}],\n",
       "  {\"width\":1000,\"height\":500},\n",
       "  {\"linkText\":\"Export to plot.ly\",\"showLink\":true}\n",
       ")\n",
       "\n",
       "window.addEventListener('resize', function() {\n",
       "  Plotly.Plots.resize(document.getElementById('425bb079-9e37-4451-a06d-103476d74b98'))\n",
       "})\n",
       " }) \n",
       "</script>"
      ],
      "text/plain": [
       "#<Plotly::Offline::HTML:0x007fd5d393d900 @id=\"425bb079-9e37-4451-a06d-103476d74b98\", @data=[{:x=>[0.721, 1.295, 1.385, 1.423, 1.435, 1.442, 1.45, 1.453, 1.458, 1.462, 1.464, 1.463], :y=>[-0.164, -0.153, -0.1255, -0.0928, -0.0771, -0.06609999999999999, -0.0538, -0.046700000000000005, -0.035500000000000004, -0.027, -0.019, -0.013300000000000001], :type=>:scatter, :mode=>:markers, :name=>\"5cm\"}, {:x=>[0.001, 0.051000000000000004, 0.12, 0.149, 0.199, 0.243, 0.305, 0.356, 0.4, 0.45, 0.496, 0.548, 0.602, 0.647, 0.7000000000000001, 0.752, 0.799, 0.85, 0.907, 0.9500000000000001, 1.002, 1.055, 1.097, 1.1500000000000001, 1.203, 1.248, 1.295, 1.347, 1.403, 1.453, 1.5, 1.549, 1.6, 1.6480000000000001, 1.703, 1.747, 1.795, -0.314, -0.748, -1.189, -1.7, -1.93], :y=>[-9.8e-07, 2.7e-06, 9.0e-06, 1.2199999999999998e-05, 1.8399999999999997e-05, 2.5699999999999998e-05, 3.7e-05, 4.95e-05, 6.379999999999999e-05, 7.890000000000001e-05, 9.82e-05, 0.0001248, 0.0001609, 0.00019969999999999998, 0.0002562, 0.00033099999999999997, 0.000419, 0.0005394, 0.0007152, 0.0008837, 0.00114, 0.001501, 0.001858, 0.002447, 0.003243, 0.004162, 0.005437, 0.007385, 0.010379, 0.014433, 0.019973, 0.028683, 0.04352, 0.06515, 0.10543, 0.1572, 0.238, -1.74e-05, -3.54e-05, -5.2799999999999996e-05, -7.46e-05, -8.46e-05], :type=>:scatter, :mode=>:markers, :name=>\"dark\"}], @layout={:width=>1000, :height=>500}, @config={:linkText=>\"Export to plot.ly\", :showLink=>true}, @embedded=true>"
      ]
     },
     "metadata": {},
     "output_type": "display_data"
    },
    {
     "name": "stdout",
     "output_type": "stream",
     "text": [
      "[{:x=>[0.721, 1.295, 1.385, 1.423, 1.435, 1.442, 1.45, 1.453, 1.458, 1.462, 1.464, 1.463], :y=>[0.164, 0.153, 0.1255, 0.0928, 0.0771, 0.06609999999999999, 0.0538, 0.046700000000000005, 0.035500000000000004, 0.027, 0.019, 0.013300000000000001], :type=>:scatter, :mode=>:markers, :name=>\"5cm\"}, {:x=>[0.001, 0.051000000000000004, 0.12, 0.149, 0.199, 0.243, 0.305, 0.356, 0.4, 0.45, 0.496, 0.548, 0.602, 0.647, 0.7000000000000001, 0.752, 0.799, 0.85, 0.907, 0.9500000000000001, 1.002, 1.055, 1.097, 1.1500000000000001, 1.203, 1.248, 1.295, 1.347, 1.403, 1.453, 1.5, 1.549, 1.6, 1.6480000000000001, 1.703, 1.747, 1.795, -0.314, -0.748, -1.189, -1.7, -1.93], :y=>[9.8e-07, 2.7e-06, 9.0e-06, 1.2199999999999998e-05, 1.8399999999999997e-05, 2.5699999999999998e-05, 3.7e-05, 4.95e-05, 6.379999999999999e-05, 7.890000000000001e-05, 9.82e-05, 0.0001248, 0.0001609, 0.00019969999999999998, 0.0002562, 0.00033099999999999997, 0.000419, 0.0005394, 0.0007152, 0.0008837, 0.00114, 0.001501, 0.001858, 0.002447, 0.003243, 0.004162, 0.005437, 0.007385, 0.010379, 0.014433, 0.019973, 0.028683, 0.04352, 0.06515, 0.10543, 0.1572, 0.238, 1.74e-05, 3.54e-05, 5.2799999999999996e-05, 7.46e-05, 8.46e-05], :type=>:scatter, :mode=>:markers, :name=>\"dark\"}]\n"
     ]
    },
    {
     "data": {
      "text/html": [
       "\n",
       "  <script>\n",
       "  requirejs.config({paths: { 'plotly': ['https://cdn.plot.ly/plotly-latest.min'] }})\n",
       "  </script>\n",
       "\n",
       "\n",
       "<div id=\"70fff856-ea35-4e3f-a45c-00fc467da6c0\" style=\"height: 100%; width: 100%;\"></div>\n",
       "\n",
       "<script>\n",
       " require(['plotly'], function(Plotly) { \n",
       "Plotly.newPlot(\n",
       "  '70fff856-ea35-4e3f-a45c-00fc467da6c0',\n",
       "  [{\"x\":[0.721,1.295,1.385,1.423,1.435,1.442,1.45,1.453,1.458,1.462,1.464,1.463],\"y\":[0.164,0.153,0.1255,0.0928,0.0771,0.06609999999999999,0.0538,0.046700000000000005,0.035500000000000004,0.027,0.019,0.013300000000000001],\"type\":\"scatter\",\"mode\":\"markers\",\"name\":\"5cm\"},{\"x\":[0.001,0.051000000000000004,0.12,0.149,0.199,0.243,0.305,0.356,0.4,0.45,0.496,0.548,0.602,0.647,0.7000000000000001,0.752,0.799,0.85,0.907,0.9500000000000001,1.002,1.055,1.097,1.1500000000000001,1.203,1.248,1.295,1.347,1.403,1.453,1.5,1.549,1.6,1.6480000000000001,1.703,1.747,1.795,-0.314,-0.748,-1.189,-1.7,-1.93],\"y\":[9.8e-07,2.7e-06,9.0e-06,1.2199999999999998e-05,1.8399999999999997e-05,2.5699999999999998e-05,3.7e-05,4.95e-05,6.379999999999999e-05,7.890000000000001e-05,9.82e-05,0.0001248,0.0001609,0.00019969999999999998,0.0002562,0.00033099999999999997,0.000419,0.0005394,0.0007152,0.0008837,0.00114,0.001501,0.001858,0.002447,0.003243,0.004162,0.005437,0.007385,0.010379,0.014433,0.019973,0.028683,0.04352,0.06515,0.10543,0.1572,0.238,1.74e-05,3.54e-05,5.2799999999999996e-05,7.46e-05,8.46e-05],\"type\":\"scatter\",\"mode\":\"markers\",\"name\":\"dark\"}],\n",
       "  {\"width\":1000,\"height\":500,\"yaxis\":{\"type\":\"log\"}},\n",
       "  {\"linkText\":\"Export to plot.ly\",\"showLink\":true}\n",
       ")\n",
       "\n",
       "window.addEventListener('resize', function() {\n",
       "  Plotly.Plots.resize(document.getElementById('70fff856-ea35-4e3f-a45c-00fc467da6c0'))\n",
       "})\n",
       " }) \n",
       "</script>"
      ],
      "text/plain": [
       "#<Plotly::Offline::HTML:0x007fd5d390e808 @id=\"70fff856-ea35-4e3f-a45c-00fc467da6c0\", @data=[{:x=>[0.721, 1.295, 1.385, 1.423, 1.435, 1.442, 1.45, 1.453, 1.458, 1.462, 1.464, 1.463], :y=>[0.164, 0.153, 0.1255, 0.0928, 0.0771, 0.06609999999999999, 0.0538, 0.046700000000000005, 0.035500000000000004, 0.027, 0.019, 0.013300000000000001], :type=>:scatter, :mode=>:markers, :name=>\"5cm\"}, {:x=>[0.001, 0.051000000000000004, 0.12, 0.149, 0.199, 0.243, 0.305, 0.356, 0.4, 0.45, 0.496, 0.548, 0.602, 0.647, 0.7000000000000001, 0.752, 0.799, 0.85, 0.907, 0.9500000000000001, 1.002, 1.055, 1.097, 1.1500000000000001, 1.203, 1.248, 1.295, 1.347, 1.403, 1.453, 1.5, 1.549, 1.6, 1.6480000000000001, 1.703, 1.747, 1.795, -0.314, -0.748, -1.189, -1.7, -1.93], :y=>[9.8e-07, 2.7e-06, 9.0e-06, 1.2199999999999998e-05, 1.8399999999999997e-05, 2.5699999999999998e-05, 3.7e-05, 4.95e-05, 6.379999999999999e-05, 7.890000000000001e-05, 9.82e-05, 0.0001248, 0.0001609, 0.00019969999999999998, 0.0002562, 0.00033099999999999997, 0.000419, 0.0005394, 0.0007152, 0.0008837, 0.00114, 0.001501, 0.001858, 0.002447, 0.003243, 0.004162, 0.005437, 0.007385, 0.010379, 0.014433, 0.019973, 0.028683, 0.04352, 0.06515, 0.10543, 0.1572, 0.238, 1.74e-05, 3.54e-05, 5.2799999999999996e-05, 7.46e-05, 8.46e-05], :type=>:scatter, :mode=>:markers, :name=>\"dark\"}], @layout={:width=>1000, :height=>500, :yaxis=>{:type=>:log}}, @config={:linkText=>\"Export to plot.ly\", :showLink=>true}, @embedded=true>"
      ]
     },
     "metadata": {},
     "output_type": "display_data"
    }
   ],
   "source": [
    "df = nil\n",
    "data = ['5cm', 'dark'].map do |base_name|\n",
    "  df = Daru::DataFrame.from_csv(\"solar_#{base_name}.csv\")\n",
    "  {\n",
    "    x: df['v'].to_a, y: df['i'].to_a.map { |x| x.is_a?(String) ? x.to_r.to_f : x }, type: :scatter, mode: :'markers', name: base_name\n",
    "  }\n",
    "end\n",
    "df.plot(type: :scatter, data: data)\n",
    "\n",
    "data = ['5cm', 'dark'].map do |base_name|\n",
    "  df = Daru::DataFrame.from_csv(\"solar_#{base_name}.csv\")\n",
    "  {\n",
    "    x: df['v'].to_a, y: df['i'].to_a.map { |x| x.is_a?(String) ? x.to_r.to_f : x }.map(&:abs), type: :scatter, mode: :'markers', name: base_name\n",
    "  }\n",
    "end\n",
    "p data\n",
    "df.plot(type: :scatter, data: data, layout: { yaxis: { type: :log } })"
   ]
  }
 ],
 "metadata": {
  "kernelspec": {
   "display_name": "Ruby 2.3.0",
   "language": "ruby",
   "name": "ruby"
  },
  "language_info": {
   "file_extension": ".rb",
   "mimetype": "application/x-ruby",
   "name": "ruby",
   "version": "2.3.0"
  }
 },
 "nbformat": 4,
 "nbformat_minor": 0
}
