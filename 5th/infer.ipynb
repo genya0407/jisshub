{
 "cells": [
  {
   "cell_type": "code",
   "execution_count": 4,
   "metadata": {
    "collapsed": false
   },
   "outputs": [
    {
     "data": {
      "text/plain": [
       ":plotly"
      ]
     },
     "execution_count": 4,
     "metadata": {},
     "output_type": "execute_result"
    }
   ],
   "source": [
    "require 'daru'\n",
    "require 'daru_plotting_plotly'\n",
    "\n",
    "Daru.plotting_library = :plotly"
   ]
  },
  {
   "cell_type": "code",
   "execution_count": 10,
   "metadata": {
    "collapsed": false
   },
   "outputs": [
    {
     "data": {
      "text/html": [
       "\n",
       "  <script>\n",
       "  requirejs.config({paths: { 'plotly': ['https://cdn.plot.ly/plotly-latest.min'] }})\n",
       "  </script>\n",
       "\n",
       "\n",
       "<div id=\"9ba482a0-6dc5-4b37-bf84-9930068cdde9\" style=\"height: 100%; width: 100%;\"></div>\n",
       "\n",
       "<script>\n",
       " require(['plotly'], function(Plotly) { \n",
       "Plotly.newPlot(\n",
       "  '9ba482a0-6dc5-4b37-bf84-9930068cdde9',\n",
       "  [{\"x\":[0.844,0.815,0.785,0.704,0.542,0.455,0.348,0.275,0.207,0.146,0.121,0.0903,0.0783,0.06559999999999999,0.022,0.0007,-0.0003,-0.0158,-0.028300000000000002,-0.0594,-0.07790000000000001,-0.103,-0.115,-0.143,-0.159,-0.184,-0.203,-0.617,-1.218],\"y\":[0.01,0.0091,0.008199999999999999,0.0066,0.0045000000000000005,0.0037,0.0028,0.0022,0.0017,0.0012,0.0009699999999999999,0.0007199999999999999,0.00062,0.0005200000000000001,0.000176,5.0e-06,-3.0e-06,-0.000126,-0.000226,-0.000472,-0.000618,-0.00082,-0.00092,-0.0011,-0.00127,-0.00147,-0.0016,-0.004900000000000001,-0.0099],\"type\":\"scatter\",\"mode\":\"\",\"name\":\"i\"}],\n",
       "  {\"width\":1000,\"height\":500},\n",
       "  {\"linkText\":\"Export to plot.ly\",\"showLink\":true}\n",
       ")\n",
       "\n",
       "window.addEventListener('resize', function() {\n",
       "  Plotly.Plots.resize(document.getElementById('9ba482a0-6dc5-4b37-bf84-9930068cdde9'))\n",
       "})\n",
       " }) \n",
       "</script>"
      ],
      "text/plain": [
       "#<Plotly::Offline::HTML:0x007fe252246d78 @id=\"9ba482a0-6dc5-4b37-bf84-9930068cdde9\", @data=[{:x=>[0.844, 0.815, 0.785, 0.704, 0.542, 0.455, 0.348, 0.275, 0.207, 0.146, 0.121, 0.0903, 0.0783, 0.06559999999999999, 0.022, 0.0007, -0.0003, -0.0158, -0.028300000000000002, -0.0594, -0.07790000000000001, -0.103, -0.115, -0.143, -0.159, -0.184, -0.203, -0.617, -1.218], :y=>[0.01, 0.0091, 0.008199999999999999, 0.0066, 0.0045000000000000005, 0.0037, 0.0028, 0.0022, 0.0017, 0.0012, 0.0009699999999999999, 0.0007199999999999999, 0.00062, 0.0005200000000000001, 0.000176, 5.0e-06, -3.0e-06, -0.000126, -0.000226, -0.000472, -0.000618, -0.00082, -0.00092, -0.0011, -0.00127, -0.00147, -0.0016, -0.004900000000000001, -0.0099], :type=>:scatter, :mode=>\"\", :name=>\"i\"}], @layout={:width=>1000, :height=>500}, @config={:linkText=>\"Export to plot.ly\", :showLink=>true}, @embedded=true>"
      ]
     },
     "metadata": {},
     "output_type": "display_data"
    }
   ],
   "source": [
    "def f(r1, r2, k, v, i)\n",
    "  r1\n",
    "end\n",
    "\n",
    "Daru::DataFrame.from_csv('nakagawa_dark_solar_battery.csv').tap do |df|\n",
    "  df.map_rows! do |row|\n",
    "    row['v'] = - row['v']\n",
    "    row['i'] = - row['i']\n",
    "    row\n",
    "  end\n",
    "  df.plot(x: 'v', y: 'i').show\n",
    "end\n",
    "nil"
   ]
  }
 ],
 "metadata": {
  "kernelspec": {
   "display_name": "Ruby 2.3.0",
   "language": "ruby",
   "name": "ruby"
  },
  "language_info": {
   "file_extension": ".rb",
   "mimetype": "application/x-ruby",
   "name": "ruby",
   "version": "2.3.0"
  }
 },
 "nbformat": 4,
 "nbformat_minor": 0
}
