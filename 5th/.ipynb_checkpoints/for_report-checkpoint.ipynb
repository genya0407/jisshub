{
 "cells": [
  {
   "cell_type": "code",
   "execution_count": 1,
   "metadata": {
    "collapsed": false
   },
   "outputs": [
    {
     "data": {
      "application/javascript": [
       "if(window['d3'] === undefined ||\n",
       "   window['Nyaplot'] === undefined){\n",
       "    var path = {\"d3\":\"https://cdnjs.cloudflare.com/ajax/libs/d3/3.5.5/d3.min\",\"downloadable\":\"http://cdn.rawgit.com/domitry/d3-downloadable/master/d3-downloadable\"};\n",
       "\n",
       "\n",
       "\n",
       "    var shim = {\"d3\":{\"exports\":\"d3\"},\"downloadable\":{\"exports\":\"downloadable\"}};\n",
       "\n",
       "    require.config({paths: path, shim:shim});\n",
       "\n",
       "\n",
       "require(['d3'], function(d3){window['d3']=d3;console.log('finished loading d3');require(['downloadable'], function(downloadable){window['downloadable']=downloadable;console.log('finished loading downloadable');\n",
       "\n",
       "\tvar script = d3.select(\"head\")\n",
       "\t    .append(\"script\")\n",
       "\t    .attr(\"src\", \"http://cdn.rawgit.com/domitry/Nyaplotjs/master/release/nyaplot.js\")\n",
       "\t    .attr(\"async\", true);\n",
       "\n",
       "\tscript[0][0].onload = script[0][0].onreadystatechange = function(){\n",
       "\n",
       "\n",
       "\t    var event = document.createEvent(\"HTMLEvents\");\n",
       "\t    event.initEvent(\"load_nyaplot\",false,false);\n",
       "\t    window.dispatchEvent(event);\n",
       "\t    console.log('Finished loading Nyaplotjs');\n",
       "\n",
       "\t};\n",
       "\n",
       "\n",
       "});});\n",
       "}\n"
      ],
      "text/plain": [
       "\"if(window['d3'] === undefined ||\\n   window['Nyaplot'] === undefined){\\n    var path = {\\\"d3\\\":\\\"https://cdnjs.cloudflare.com/ajax/libs/d3/3.5.5/d3.min\\\",\\\"downloadable\\\":\\\"http://cdn.rawgit.com/domitry/d3-downloadable/master/d3-downloadable\\\"};\\n\\n\\n\\n    var shim = {\\\"d3\\\":{\\\"exports\\\":\\\"d3\\\"},\\\"downloadable\\\":{\\\"exports\\\":\\\"downloadable\\\"}};\\n\\n    require.config({paths: path, shim:shim});\\n\\n\\nrequire(['d3'], function(d3){window['d3']=d3;console.log('finished loading d3');require(['downloadable'], function(downloadable){window['downloadable']=downloadable;console.log('finished loading downloadable');\\n\\n\\tvar script = d3.select(\\\"head\\\")\\n\\t    .append(\\\"script\\\")\\n\\t    .attr(\\\"src\\\", \\\"http://cdn.rawgit.com/domitry/Nyaplotjs/master/release/nyaplot.js\\\")\\n\\t    .attr(\\\"async\\\", true);\\n\\n\\tscript[0][0].onload = script[0][0].onreadystatechange = function(){\\n\\n\\n\\t    var event = document.createEvent(\\\"HTMLEvents\\\");\\n\\t    event.initEvent(\\\"load_nyaplot\\\",false,false);\\n\\t    window.dispatchEvent(event);\\n\\t    console.log('Finished loading Nyaplotjs');\\n\\n\\t};\\n\\n\\n});});\\n}\\n\""
      ]
     },
     "metadata": {},
     "output_type": "display_data"
    },
    {
     "data": {
      "text/plain": [
       ":plotly"
      ]
     },
     "execution_count": 1,
     "metadata": {},
     "output_type": "execute_result"
    }
   ],
   "source": [
    "require 'daru'\n",
    "require 'daru_plotting_plotly'\n",
    "require 'hg'\n",
    "\n",
    "Daru.plotting_library = :plotly"
   ]
  },
  {
   "cell_type": "code",
   "execution_count": 2,
   "metadata": {
    "collapsed": false
   },
   "outputs": [
    {
     "data": {
      "text/plain": [
       ":to_s"
      ]
     },
     "execution_count": 2,
     "metadata": {},
     "output_type": "execute_result"
    }
   ],
   "source": [
    "class LeastSquareFitting\n",
    "  def initialize(xs, ys)\n",
    "    raise ArgumentError \"xs and ys should be same size\" if xs.size != ys.size\n",
    "    @xs = xs\n",
    "    @ys = ys\n",
    "  end\n",
    "  \n",
    "  def fit\n",
    "    xy = @xs.zip(@ys).map { |x, y| x * y }.sum\n",
    "    x = @xs.sum\n",
    "    y = @ys.sum\n",
    "    x2 = @xs.sum { |x| x ** 2 }\n",
    "    n = @xs.size\n",
    "    \n",
    "    @a = (n*xy - x*y)/(n*x2 - x**2)\n",
    "    @b = (x2*y - xy*x)/(n*x2 - x**2)\n",
    "  end\n",
    "  \n",
    "  def sigma_y\n",
    "    @sigma_y ||= Math.sqrt(1.0/(@xs.size - 2)*(@xs.zip(@ys).map {|x, y| (x * @a + @b - y) ** 2}.sum))\n",
    "  end\n",
    "  \n",
    "  def sigma_a\n",
    "    x = @xs.sum\n",
    "    x2 = @xs.sum { |x| x ** 2 }\n",
    "    @sigma_a ||= sigma_y * Math.sqrt(@xs.size.to_f/(@xs.size.to_f*x2 - x**2))\n",
    "  end\n",
    "  \n",
    "  def sigma_b\n",
    "    x = @xs.sum\n",
    "    x2 = @xs.sum { |x| x ** 2 }\n",
    "    @sigma_b ||= sigma_y * Math.sqrt(x2/(@xs.size.to_f*x2 - x**2))\n",
    "  end\n",
    "  \n",
    "  attr_reader :a, :b\n",
    "end\n",
    "\n",
    "class ExpFitting < LeastSquareFitting\n",
    "  def initialize(xs, ys)\n",
    "    super(xs, ys.map{ |y| Math.log(y) })\n",
    "  end\n",
    "  \n",
    "  def to_s\n",
    "    \"log y = #{'%1.2e' % @a} x #{ @b.positive? ? '+' : '-' } #{'%1.2e' % @b.abs }\"\n",
    "  end\n",
    "  \n",
    "  def points(min, max)\n",
    "    ys = [min, max].map { |x| Math.exp(@b) * Math.exp( @a * x ) }\n",
    "    { x: [min, max], y: ys, name: to_s }\n",
    "  end\n",
    "end\n",
    "\n",
    "class LinearFitting < LeastSquareFitting\n",
    "  def points(min, max)\n",
    "    ys = [min, max].map { |x| x * @a + @b }\n",
    "    { x: [min, max], y: ys , name: to_s}\n",
    "  end\n",
    "  \n",
    "  def to_s\n",
    "    \"y = #{'%1.2f' % @a} x + #{'%1.2f' % @b}\"\n",
    "  end\n",
    "end"
   ]
  },
  {
   "cell_type": "code",
   "execution_count": 3,
   "metadata": {
    "collapsed": false,
    "scrolled": false
   },
   "outputs": [
    {
     "data": {
      "text/html": [
       "\n",
       "  <script>\n",
       "  requirejs.config({paths: { 'plotly': ['https://cdn.plot.ly/plotly-latest.min'] }})\n",
       "  </script>\n",
       "\n",
       "\n",
       "<div id=\"0ac13511-9732-4292-990f-1290125c2652\" style=\"height: 100%; width: 100%;\"></div>\n",
       "\n",
       "<script>\n",
       " require(['plotly'], function(Plotly) { \n",
       "Plotly.newPlot(\n",
       "  '0ac13511-9732-4292-990f-1290125c2652',\n",
       "  [{\"y\":[-0.082,-0.0274,-0.0135,-0.011800000000000001,-0.0111,-0.0092,-0.0074,-0.004200000000000001,-0.0024,-0.0012,-0.00096,-0.00067,-0.000407,-0.000321,-0.000261,-0.000127,-7.7e-05,-4.4e-06,0.0011,0.0019,0.0031000000000000003,0.004,0.0063,0.0070999999999999995,0.008,0.009800000000000001,0.010199999999999999,0.0109],\"x\":[-10.2,-3.48,-1.712,-1.506,-1.418,-1.186,-0.95,-0.537,-0.307,-0.1555,-0.1237,-0.0857,-0.0523,-0.0412,-0.0334,-0.0162,-0.0097,-0.0003,0.142,0.247,0.383,0.466,0.554,0.57,0.588,0.62,0.626,0.636],\"name\":\"itano_dark\",\"mode\":\"markers+lines\"},{\"y\":[-0.0033799999999999998,-0.0033,-0.00317,-0.0029300000000000003,-0.0024100000000000002,-0.0035600000000000002,-0.0025499999999999997,-0.0022,-0.0019,-0.0016,-0.0013000000000000002,-0.001,-0.0008,-0.0006,-0.0004,0],\"x\":[0.34,0.343,0.356,0.357,0.359,0.359,0.362,0.366,0.371,0.375,0.379,0.384,0.387,0.39,0.393,0.422],\"name\":\"itano_5cm\",\"mode\":\"markers+lines\"},{\"y\":[-0.0025,-0.002,-0.0017,-0.0014,-0.0011,-0.0008,-0.0005,-0.00035,0],\"x\":[0.253,0.302,0.329,0.352,0.372,0.389,0.403,0.409,0.428],\"name\":\"itano_15cm\",\"mode\":\"markers+lines\"},{\"y\":[-0.0017,-0.0015,-0.0013000000000000002,-0.0011,-0.0009000000000000001,-0.0007,-0.0005,-0.0003,0],\"x\":[0.173,0.201,0.222,0.246,0.272,0.293,0.316,0.336,0.37],\"name\":\"itano_25cm\",\"mode\":\"markers+lines\"}],\n",
       "  {\"xaxis\":{\"title\":\"電圧(V)\"},\"yaxis\":{\"title\":\"電流(I)\"}},\n",
       "  {\"linkText\":\"Export to plot.ly\",\"showLink\":true}\n",
       ")\n",
       "\n",
       "window.addEventListener('resize', function() {\n",
       "  Plotly.Plots.resize(document.getElementById('0ac13511-9732-4292-990f-1290125c2652'))\n",
       "})\n",
       " }) \n",
       "</script>"
      ],
      "text/plain": [
       "#<Plotly::Offline::HTML:0x007fb38b7776d0 @id=\"0ac13511-9732-4292-990f-1290125c2652\", @data=[{:y=>[-0.082, -0.0274, -0.0135, -0.011800000000000001, -0.0111, -0.0092, -0.0074, -0.004200000000000001, -0.0024, -0.0012, -0.00096, -0.00067, -0.000407, -0.000321, -0.000261, -0.000127, -7.7e-05, -4.4e-06, 0.0011, 0.0019, 0.0031000000000000003, 0.004, 0.0063, 0.0070999999999999995, 0.008, 0.009800000000000001, 0.010199999999999999, 0.0109], :x=>[-10.2, -3.48, -1.712, -1.506, -1.418, -1.186, -0.95, -0.537, -0.307, -0.1555, -0.1237, -0.0857, -0.0523, -0.0412, -0.0334, -0.0162, -0.0097, -0.0003, 0.142, 0.247, 0.383, 0.466, 0.554, 0.57, 0.588, 0.62, 0.626, 0.636], :name=>\"itano_dark\", :mode=>\"markers+lines\"}, {:y=>[-0.0033799999999999998, -0.0033, -0.00317, -0.0029300000000000003, -0.0024100000000000002, -0.0035600000000000002, -0.0025499999999999997, -0.0022, -0.0019, -0.0016, -0.0013000000000000002, -0.001, -0.0008, -0.0006, -0.0004, 0], :x=>[0.34, 0.343, 0.356, 0.357, 0.359, 0.359, 0.362, 0.366, 0.371, 0.375, 0.379, 0.384, 0.387, 0.39, 0.393, 0.422], :name=>\"itano_5cm\", :mode=>\"markers+lines\"}, {:y=>[-0.0025, -0.002, -0.0017, -0.0014, -0.0011, -0.0008, -0.0005, -0.00035, 0], :x=>[0.253, 0.302, 0.329, 0.352, 0.372, 0.389, 0.403, 0.409, 0.428], :name=>\"itano_15cm\", :mode=>\"markers+lines\"}, {:y=>[-0.0017, -0.0015, -0.0013000000000000002, -0.0011, -0.0009000000000000001, -0.0007, -0.0005, -0.0003, 0], :x=>[0.173, 0.201, 0.222, 0.246, 0.272, 0.293, 0.316, 0.336, 0.37], :name=>\"itano_25cm\", :mode=>\"markers+lines\"}], @layout={:xaxis=>{:title=>\"電圧(V)\"}, :yaxis=>{:title=>\"電流(I)\"}}, @config={:linkText=>\"Export to plot.ly\", :showLink=>true}, @embedded=true>"
      ]
     },
     "metadata": {},
     "output_type": "display_data"
    },
    {
     "data": {
      "text/html": [
       "\n",
       "  <script>\n",
       "  requirejs.config({paths: { 'plotly': ['https://cdn.plot.ly/plotly-latest.min'] }})\n",
       "  </script>\n",
       "\n",
       "\n",
       "<div id=\"1fe073de-4492-48a4-bd36-46ea2e82e1c5\" style=\"height: 100%; width: 100%;\"></div>\n",
       "\n",
       "<script>\n",
       " require(['plotly'], function(Plotly) { \n",
       "Plotly.newPlot(\n",
       "  '1fe073de-4492-48a4-bd36-46ea2e82e1c5',\n",
       "  [{\"y\":[-0.0099,-0.004900000000000001,-0.0016,-0.00147,-0.00127,-0.0011,-0.00092,-0.00082,-0.000618,-0.000472,-0.000226,-0.000126,-3.0e-06,5.0e-06,0.000176,0.0005200000000000001,0.00062,0.0007199999999999999,0.0009699999999999999,0.0012,0.0017,0.0022,0.0028,0.0037,0.0045000000000000005,0.0066,0.008199999999999999,0.0091,0.01],\"x\":[-1.218,-0.617,-0.203,-0.184,-0.159,-0.143,-0.115,-0.103,-0.07790000000000001,-0.0594,-0.028300000000000002,-0.0158,-0.0003,0.0007,0.022,0.06559999999999999,0.0783,0.0903,0.121,0.146,0.207,0.275,0.348,0.455,0.542,0.704,0.785,0.815,0.844],\"name\":\"nakagawa_dark\",\"mode\":\"markers+lines\"},{\"y\":[-0.0024500000000000004,-0.0021000000000000003,-0.0019,-0.0016,-0.0014,-0.0011,-0.00091,-0.0007,-0.0005,-0.00026,0],\"x\":[0.247,0.254,0.258,0.266,0.271,0.277,0.281,0.286,0.292,0.298,0.322],\"name\":\"nakagawa_5cm\",\"mode\":\"markers+lines\"},{\"y\":[-0.0024,-0.0021000000000000003,-0.0017,-0.0014,-0.0011,-0.0008,-0.0006,-0.0004,-0.00029,0],\"x\":[0.24,0.254,0.272,0.286,0.299,0.312,0.32,0.329,0.334,0.35],\"name\":\"nakagawa_15cm\",\"mode\":\"markers+lines\"},{\"y\":[-0.0015600000000000002,-0.0014,-0.0012,-0.001,-0.0008,-0.0006,-0.0004,-0.00025,0],\"x\":[0.157,0.174,0.195,0.215,0.23,0.256,0.277,0.291,0.314],\"name\":\"nakagawa_25cm\",\"mode\":\"markers+lines\"}],\n",
       "  {\"xaxis\":{\"title\":\"電圧(V)\"},\"yaxis\":{\"title\":\"電流(I)\"}},\n",
       "  {\"linkText\":\"Export to plot.ly\",\"showLink\":true}\n",
       ")\n",
       "\n",
       "window.addEventListener('resize', function() {\n",
       "  Plotly.Plots.resize(document.getElementById('1fe073de-4492-48a4-bd36-46ea2e82e1c5'))\n",
       "})\n",
       " }) \n",
       "</script>"
      ],
      "text/plain": [
       "#<Plotly::Offline::HTML:0x007fb38aabb888 @id=\"1fe073de-4492-48a4-bd36-46ea2e82e1c5\", @data=[{:y=>[-0.0099, -0.004900000000000001, -0.0016, -0.00147, -0.00127, -0.0011, -0.00092, -0.00082, -0.000618, -0.000472, -0.000226, -0.000126, -3.0e-06, 5.0e-06, 0.000176, 0.0005200000000000001, 0.00062, 0.0007199999999999999, 0.0009699999999999999, 0.0012, 0.0017, 0.0022, 0.0028, 0.0037, 0.0045000000000000005, 0.0066, 0.008199999999999999, 0.0091, 0.01], :x=>[-1.218, -0.617, -0.203, -0.184, -0.159, -0.143, -0.115, -0.103, -0.07790000000000001, -0.0594, -0.028300000000000002, -0.0158, -0.0003, 0.0007, 0.022, 0.06559999999999999, 0.0783, 0.0903, 0.121, 0.146, 0.207, 0.275, 0.348, 0.455, 0.542, 0.704, 0.785, 0.815, 0.844], :name=>\"nakagawa_dark\", :mode=>\"markers+lines\"}, {:y=>[-0.0024500000000000004, -0.0021000000000000003, -0.0019, -0.0016, -0.0014, -0.0011, -0.00091, -0.0007, -0.0005, -0.00026, 0], :x=>[0.247, 0.254, 0.258, 0.266, 0.271, 0.277, 0.281, 0.286, 0.292, 0.298, 0.322], :name=>\"nakagawa_5cm\", :mode=>\"markers+lines\"}, {:y=>[-0.0024, -0.0021000000000000003, -0.0017, -0.0014, -0.0011, -0.0008, -0.0006, -0.0004, -0.00029, 0], :x=>[0.24, 0.254, 0.272, 0.286, 0.299, 0.312, 0.32, 0.329, 0.334, 0.35], :name=>\"nakagawa_15cm\", :mode=>\"markers+lines\"}, {:y=>[-0.0015600000000000002, -0.0014, -0.0012, -0.001, -0.0008, -0.0006, -0.0004, -0.00025, 0], :x=>[0.157, 0.174, 0.195, 0.215, 0.23, 0.256, 0.277, 0.291, 0.314], :name=>\"nakagawa_25cm\", :mode=>\"markers+lines\"}], @layout={:xaxis=>{:title=>\"電圧(V)\"}, :yaxis=>{:title=>\"電流(I)\"}}, @config={:linkText=>\"Export to plot.ly\", :showLink=>true}, @embedded=true>"
      ]
     },
     "metadata": {},
     "output_type": "display_data"
    },
    {
     "data": {
      "text/html": [
       "\n",
       "  <script>\n",
       "  requirejs.config({paths: { 'plotly': ['https://cdn.plot.ly/plotly-latest.min'] }})\n",
       "  </script>\n",
       "\n",
       "\n",
       "<div id=\"6bfbbc1d-8333-4c8c-a57a-b7275716295b\" style=\"height: 100%; width: 100%;\"></div>\n",
       "\n",
       "<script>\n",
       " require(['plotly'], function(Plotly) { \n",
       "Plotly.newPlot(\n",
       "  '6bfbbc1d-8333-4c8c-a57a-b7275716295b',\n",
       "  [{\"y\":[-0.009000000000000001,-0.0068,-0.005900000000000001,-0.0044,-0.0039,-0.0033,-0.0029,-0.0017,-0.00115,-0.000743,-0.000439,-0.00014,-7.3e-05,-3.3e-05,-8.0e-07,8.0e-07,9.6e-05,0.00023,0.000226,0.00041,0.00059,0.00077,0.0013000000000000002,0.0018000000000000002,0.0023,0.0029,0.0039,0.0048,0.0055,0.006500000000000001,0.0075,0.0083,0.0094],\"x\":[-0.991,-0.911,-0.874,-0.802,-0.774,-0.734,-0.709,-0.614,-0.538,-0.458,-0.35,-0.142,-0.07529999999999999,-0.0346,-0.0008,0.105,0.123,0.165,0.19,0.267,0.311,0.339,0.39,0.418,0.44,0.459,0.486,0.505,0.519,0.538,0.554,0.565,0.582],\"name\":\"sangenya_dark\",\"mode\":\"markers+lines\"},{\"y\":[-0.003,-0.0023,-0.0018000000000000002,-0.0014,-0.001,-0.0008,-0.0006,-0.0004,-0.00034,0],\"x\":[0.309,0.345,0.36,0.37,0.379,0.384,0.388,0.391,0.392,0.416],\"name\":\"sangenya_5cm\",\"mode\":\"markers+lines\"},{\"y\":[-0.00145,-0.0013000000000000002,-0.0011,-0.0009000000000000001,-0.0007,-0.0005,-0.00031,0],\"x\":[0.144,0.212,0.263,0.298,0.321,0.341,0.355,0.374],\"name\":\"sangenya_15cm\",\"mode\":\"markers+lines\"},{\"y\":[-0.0012,-0.001,-0.000804,-0.000616,-0.00041,-0.000295,0],\"x\":[0.119,0.203,0.27,0.303,0.328,0.339,0.361],\"name\":\"sangenya_25cm\",\"mode\":\"markers+lines\"}],\n",
       "  {\"xaxis\":{\"title\":\"電圧(V)\"},\"yaxis\":{\"title\":\"電流(I)\"}},\n",
       "  {\"linkText\":\"Export to plot.ly\",\"showLink\":true}\n",
       ")\n",
       "\n",
       "window.addEventListener('resize', function() {\n",
       "  Plotly.Plots.resize(document.getElementById('6bfbbc1d-8333-4c8c-a57a-b7275716295b'))\n",
       "})\n",
       " }) \n",
       "</script>"
      ],
      "text/plain": [
       "#<Plotly::Offline::HTML:0x007fb38b56dd30 @id=\"6bfbbc1d-8333-4c8c-a57a-b7275716295b\", @data=[{:y=>[-0.009000000000000001, -0.0068, -0.005900000000000001, -0.0044, -0.0039, -0.0033, -0.0029, -0.0017, -0.00115, -0.000743, -0.000439, -0.00014, -7.3e-05, -3.3e-05, -8.0e-07, 8.0e-07, 9.6e-05, 0.00023, 0.000226, 0.00041, 0.00059, 0.00077, 0.0013000000000000002, 0.0018000000000000002, 0.0023, 0.0029, 0.0039, 0.0048, 0.0055, 0.006500000000000001, 0.0075, 0.0083, 0.0094], :x=>[-0.991, -0.911, -0.874, -0.802, -0.774, -0.734, -0.709, -0.614, -0.538, -0.458, -0.35, -0.142, -0.07529999999999999, -0.0346, -0.0008, 0.105, 0.123, 0.165, 0.19, 0.267, 0.311, 0.339, 0.39, 0.418, 0.44, 0.459, 0.486, 0.505, 0.519, 0.538, 0.554, 0.565, 0.582], :name=>\"sangenya_dark\", :mode=>\"markers+lines\"}, {:y=>[-0.003, -0.0023, -0.0018000000000000002, -0.0014, -0.001, -0.0008, -0.0006, -0.0004, -0.00034, 0], :x=>[0.309, 0.345, 0.36, 0.37, 0.379, 0.384, 0.388, 0.391, 0.392, 0.416], :name=>\"sangenya_5cm\", :mode=>\"markers+lines\"}, {:y=>[-0.00145, -0.0013000000000000002, -0.0011, -0.0009000000000000001, -0.0007, -0.0005, -0.00031, 0], :x=>[0.144, 0.212, 0.263, 0.298, 0.321, 0.341, 0.355, 0.374], :name=>\"sangenya_15cm\", :mode=>\"markers+lines\"}, {:y=>[-0.0012, -0.001, -0.000804, -0.000616, -0.00041, -0.000295, 0], :x=>[0.119, 0.203, 0.27, 0.303, 0.328, 0.339, 0.361], :name=>\"sangenya_25cm\", :mode=>\"markers+lines\"}], @layout={:xaxis=>{:title=>\"電圧(V)\"}, :yaxis=>{:title=>\"電流(I)\"}}, @config={:linkText=>\"Export to plot.ly\", :showLink=>true}, @embedded=true>"
      ]
     },
     "metadata": {},
     "output_type": "display_data"
    },
    {
     "data": {
      "text/html": [
       "\n",
       "  <script>\n",
       "  requirejs.config({paths: { 'plotly': ['https://cdn.plot.ly/plotly-latest.min'] }})\n",
       "  </script>\n",
       "\n",
       "\n",
       "<div id=\"3473fe65-2a4c-4ad1-a7de-aa705afab5cd\" style=\"height: 100%; width: 100%;\"></div>\n",
       "\n",
       "<script>\n",
       " require(['plotly'], function(Plotly) { \n",
       "Plotly.newPlot(\n",
       "  '3473fe65-2a4c-4ad1-a7de-aa705afab5cd',\n",
       "  [{\"y\":[-0.010400000000000001,-0.0079,-0.0037,-0.0025,-0.0018000000000000002,-0.0011,-0.00071,-0.00044,-0.00022,-0.00017,-6.8e-05,-2.8e-05,-1.4e-05,-7.4e-06,-2.0e-06,-1.0e-06,-5.0e-07,-3.0e-07,0,6.3e-06,5.7e-05,0.000173,0.00041,0.0006,0.0013000000000000002,0.0018000000000000002,0.0025,0.0034,0.0039,0.0048,0.006200000000000001,0.008199999999999999],\"x\":[-1.708,-1.626,-1.4,-1.296,-1.209,-1.111,-1.018,-0.929,-0.814,-0.744,-0.62,-0.499,-0.396,-0.308,-0.115,-0.0594,-0.0292,-0.013800000000000002,-0.0009000000000000001,0.13,0.272,0.342,0.408,0.417,0.479,0.506,0.54,0.572,0.59,0.617,0.651,0.693],\"name\":\"nagura_dark\",\"mode\":\"markers+lines\"},{\"y\":[-0.0018000000000000002,-0.0017,-0.0015,-0.0013000000000000002,-0.0011,-0.0009,-0.0007,-0.0005,0,-0.0003],\"x\":[0.18,0.194,0.224,0.247,0.27,0.293,0.31,0.331,0.344,0.35],\"name\":\"nagura_5cm\",\"mode\":\"markers+lines\"},{\"y\":[-0.00094,-0.00086,-0.0007,-0.00055,-0.0004,-0.00026,0],\"x\":[0.094,0.154,0.213,0.252,0.278,0.297,0.32],\"name\":\"nagura_15cm\",\"mode\":\"markers+lines\"},{\"y\":[-0.000466,-0.00045,-0.00041,-0.00037,-0.00033,-0.00029,-0.000245,0],\"x\":[4.7e-05,0.121,0.187,0.222,0.249,0.267,0.282,0.339],\"name\":\"nagura_25cm\",\"mode\":\"markers+lines\"}],\n",
       "  {\"xaxis\":{\"title\":\"電圧(V)\"},\"yaxis\":{\"title\":\"電流(I)\"}},\n",
       "  {\"linkText\":\"Export to plot.ly\",\"showLink\":true}\n",
       ")\n",
       "\n",
       "window.addEventListener('resize', function() {\n",
       "  Plotly.Plots.resize(document.getElementById('3473fe65-2a4c-4ad1-a7de-aa705afab5cd'))\n",
       "})\n",
       " }) \n",
       "</script>"
      ],
      "text/plain": [
       "#<Plotly::Offline::HTML:0x007fb38b4eeb98 @id=\"3473fe65-2a4c-4ad1-a7de-aa705afab5cd\", @data=[{:y=>[-0.010400000000000001, -0.0079, -0.0037, -0.0025, -0.0018000000000000002, -0.0011, -0.00071, -0.00044, -0.00022, -0.00017, -6.8e-05, -2.8e-05, -1.4e-05, -7.4e-06, -2.0e-06, -1.0e-06, -5.0e-07, -3.0e-07, 0, 6.3e-06, 5.7e-05, 0.000173, 0.00041, 0.0006, 0.0013000000000000002, 0.0018000000000000002, 0.0025, 0.0034, 0.0039, 0.0048, 0.006200000000000001, 0.008199999999999999], :x=>[-1.708, -1.626, -1.4, -1.296, -1.209, -1.111, -1.018, -0.929, -0.814, -0.744, -0.62, -0.499, -0.396, -0.308, -0.115, -0.0594, -0.0292, -0.013800000000000002, -0.0009000000000000001, 0.13, 0.272, 0.342, 0.408, 0.417, 0.479, 0.506, 0.54, 0.572, 0.59, 0.617, 0.651, 0.693], :name=>\"nagura_dark\", :mode=>\"markers+lines\"}, {:y=>[-0.0018000000000000002, -0.0017, -0.0015, -0.0013000000000000002, -0.0011, -0.0009, -0.0007, -0.0005, 0, -0.0003], :x=>[0.18, 0.194, 0.224, 0.247, 0.27, 0.293, 0.31, 0.331, 0.344, 0.35], :name=>\"nagura_5cm\", :mode=>\"markers+lines\"}, {:y=>[-0.00094, -0.00086, -0.0007, -0.00055, -0.0004, -0.00026, 0], :x=>[0.094, 0.154, 0.213, 0.252, 0.278, 0.297, 0.32], :name=>\"nagura_15cm\", :mode=>\"markers+lines\"}, {:y=>[-0.000466, -0.00045, -0.00041, -0.00037, -0.00033, -0.00029, -0.000245, 0], :x=>[4.7e-05, 0.121, 0.187, 0.222, 0.249, 0.267, 0.282, 0.339], :name=>\"nagura_25cm\", :mode=>\"markers+lines\"}], @layout={:xaxis=>{:title=>\"電圧(V)\"}, :yaxis=>{:title=>\"電流(I)\"}}, @config={:linkText=>\"Export to plot.ly\", :showLink=>true}, @embedded=true>"
      ]
     },
     "metadata": {},
     "output_type": "display_data"
    }
   ],
   "source": [
    "['itano', 'nakagawa', 'sangenya', 'nagura'].each do |member|\n",
    "  data = ['dark', '5cm', '15cm', '25cm'].map do |name|\n",
    "    file_name = \"data/#{member}/#{name}_solar_battery.csv\"\n",
    "    if File.exists?(file_name)\n",
    "      Daru::DataFrame.from_csv(file_name).sort(['v']).to_h.map { |k, v| [k == 'v' ? 'x' : 'y', v.to_a] }.to_h.merge(name: \"#{member}_#{name}\", mode: 'markers+lines')\n",
    "    end\n",
    "  end\n",
    "  Plotly::Plot.new(data: data, layout: { xaxis: { title: '電圧(V)' }, yaxis: { title: '電流(I)' } }).show\n",
    "end\n",
    "nil"
   ]
  },
  {
   "cell_type": "code",
   "execution_count": 4,
   "metadata": {
    "collapsed": false
   },
   "outputs": [
    {
     "name": "stdout",
     "output_type": "stream",
     "text": [
      "itano\n"
     ]
    },
    {
     "data": {
      "text/html": [
       "\n",
       "  <script>\n",
       "  requirejs.config({paths: { 'plotly': ['https://cdn.plot.ly/plotly-latest.min'] }})\n",
       "  </script>\n",
       "\n",
       "\n",
       "<div id=\"e9cc2967-2921-4392-abf4-efe8286018b1\" style=\"height: 100%; width: 100%;\"></div>\n",
       "\n",
       "<script>\n",
       " require(['plotly'], function(Plotly) { \n",
       "Plotly.newPlot(\n",
       "  'e9cc2967-2921-4392-abf4-efe8286018b1',\n",
       "  [{\"y\":[-0.0018412255844616615,-5.8578394955616925e-05,-5.457240819272194e-05,2.6324216961776115e-05,3.466840634816504e-05,0.00011121217836682594,5.6317049903050614e-05,1.0250575091442192e-05,2.513797351321248e-06,1.1765441579024167e-05,1.8261827436508518e-06,-6.843371839499704e-06,-6.3581908678477135e-06,-7.601139706610034e-06,-8.90699564736196e-06,-1.0094267721840575e-05,-1.1182481005800527e-05,-1.2463897139527209e-05,-2.6502781802219396e-05,-5.177391946618783e-05,7.930346413095824e-05,0.00032694627912039243,0.0019352904685067812,0.0026095348665770334,0.0033680598144060683,0.004916548610546574,0.005269390259822916,0.005890793008616825],\"x\":[-10.2,-3.48,-1.712,-1.506,-1.418,-1.186,-0.95,-0.537,-0.307,-0.1555,-0.1237,-0.0857,-0.0523,-0.0412,-0.0334,-0.0162,-0.0097,-0.0003,0.142,0.247,0.383,0.466,0.554,0.57,0.588,0.62,0.626,0.636],\"name\":\"i\",\"mode\":\"markers+lines\",\"type\":\"scatter\"}],\n",
       "  {\"width\":1000,\"height\":500},\n",
       "  {\"linkText\":\"Export to plot.ly\",\"showLink\":true}\n",
       ")\n",
       "\n",
       "window.addEventListener('resize', function() {\n",
       "  Plotly.Plots.resize(document.getElementById('e9cc2967-2921-4392-abf4-efe8286018b1'))\n",
       "})\n",
       " }) \n",
       "</script>"
      ],
      "text/plain": [
       "#<Plotly::Offline::HTML:0x007fb38a9eb548 @id=\"e9cc2967-2921-4392-abf4-efe8286018b1\", @data=[{:y=>[-0.0018412255844616615, -5.8578394955616925e-05, -5.457240819272194e-05, 2.6324216961776115e-05, 3.466840634816504e-05, 0.00011121217836682594, 5.6317049903050614e-05, 1.0250575091442192e-05, 2.513797351321248e-06, 1.1765441579024167e-05, 1.8261827436508518e-06, -6.843371839499704e-06, -6.3581908678477135e-06, -7.601139706610034e-06, -8.90699564736196e-06, -1.0094267721840575e-05, -1.1182481005800527e-05, -1.2463897139527209e-05, -2.6502781802219396e-05, -5.177391946618783e-05, 7.930346413095824e-05, 0.00032694627912039243, 0.0019352904685067812, 0.0026095348665770334, 0.0033680598144060683, 0.004916548610546574, 0.005269390259822916, 0.005890793008616825], :x=>[-10.2, -3.48, -1.712, -1.506, -1.418, -1.186, -0.95, -0.537, -0.307, -0.1555, -0.1237, -0.0857, -0.0523, -0.0412, -0.0334, -0.0162, -0.0097, -0.0003, 0.142, 0.247, 0.383, 0.466, 0.554, 0.57, 0.588, 0.62, 0.626, 0.636], :name=>\"i\", :mode=>\"markers+lines\", :type=>:scatter}], @layout={:width=>1000, :height=>500}, @config={:linkText=>\"Export to plot.ly\", :showLink=>true}, @embedded=true>"
      ]
     },
     "metadata": {},
     "output_type": "display_data"
    },
    {
     "name": "stdout",
     "output_type": "stream",
     "text": [
      "nakagawa\n"
     ]
    },
    {
     "data": {
      "text/html": [
       "\n",
       "  <script>\n",
       "  requirejs.config({paths: { 'plotly': ['https://cdn.plot.ly/plotly-latest.min'] }})\n",
       "  </script>\n",
       "\n",
       "\n",
       "<div id=\"4e4ce870-df2a-4459-8ff5-e31514dd1ae1\" style=\"height: 100%; width: 100%;\"></div>\n",
       "\n",
       "<script>\n",
       " require(['plotly'], function(Plotly) { \n",
       "Plotly.newPlot(\n",
       "  '4e4ce870-df2a-4459-8ff5-e31514dd1ae1',\n",
       "  [{\"y\":[0.003168390550630013,0.0025028296659537035,0.0018453528887023458,0.0009001655901236891,0.00010979099296637256,1.3108338937442739e-05,-2.1892166592389975e-05,-3.175232457068751e-05,1.796698032624131e-05,1.109753324848601e-05,-1.6799781127643104e-05,-1.8617683181529755e-05,-2.1608394082071663e-05,-1.894022978514518e-05,-1.047314605711453e-05,-9.281657905576583e-06,-9.197550480621749e-06,-6.89388539382182e-06,-5.842542581886365e-06,-4.2680166579102743e-07,3.1291856958734357e-06,4.040282062239635e-06,1.0495711616977273e-06,4.740457906043287e-05,6.750297859710232e-06,8.852983483581198e-06,3.245102455772301e-05,7.927149848902318e-05,-6.217993911312135e-05],\"x\":[0.844,0.815,0.785,0.704,0.542,0.455,0.348,0.275,0.207,0.146,0.121,0.0903,0.0783,0.06559999999999999,0.022,0.0007,-0.0003,-0.0158,-0.028300000000000002,-0.0594,-0.07790000000000001,-0.103,-0.115,-0.143,-0.159,-0.184,-0.203,-0.617,-1.218],\"name\":\"i\",\"mode\":\"markers+lines\",\"type\":\"scatter\"}],\n",
       "  {\"width\":1000,\"height\":500},\n",
       "  {\"linkText\":\"Export to plot.ly\",\"showLink\":true}\n",
       ")\n",
       "\n",
       "window.addEventListener('resize', function() {\n",
       "  Plotly.Plots.resize(document.getElementById('4e4ce870-df2a-4459-8ff5-e31514dd1ae1'))\n",
       "})\n",
       " }) \n",
       "</script>"
      ],
      "text/plain": [
       "#<Plotly::Offline::HTML:0x007fb38da21348 @id=\"4e4ce870-df2a-4459-8ff5-e31514dd1ae1\", @data=[{:y=>[0.003168390550630013, 0.0025028296659537035, 0.0018453528887023458, 0.0009001655901236891, 0.00010979099296637256, 1.3108338937442739e-05, -2.1892166592389975e-05, -3.175232457068751e-05, 1.796698032624131e-05, 1.109753324848601e-05, -1.6799781127643104e-05, -1.8617683181529755e-05, -2.1608394082071663e-05, -1.894022978514518e-05, -1.047314605711453e-05, -9.281657905576583e-06, -9.197550480621749e-06, -6.89388539382182e-06, -5.842542581886365e-06, -4.2680166579102743e-07, 3.1291856958734357e-06, 4.040282062239635e-06, 1.0495711616977273e-06, 4.740457906043287e-05, 6.750297859710232e-06, 8.852983483581198e-06, 3.245102455772301e-05, 7.927149848902318e-05, -6.217993911312135e-05], :x=>[0.844, 0.815, 0.785, 0.704, 0.542, 0.455, 0.348, 0.275, 0.207, 0.146, 0.121, 0.0903, 0.0783, 0.06559999999999999, 0.022, 0.0007, -0.0003, -0.0158, -0.028300000000000002, -0.0594, -0.07790000000000001, -0.103, -0.115, -0.143, -0.159, -0.184, -0.203, -0.617, -1.218], :name=>\"i\", :mode=>\"markers+lines\", :type=>:scatter}], @layout={:width=>1000, :height=>500}, @config={:linkText=>\"Export to plot.ly\", :showLink=>true}, @embedded=true>"
      ]
     },
     "metadata": {},
     "output_type": "display_data"
    }
   ],
   "source": [
    "['itano','nakagawa'].each do |member|\n",
    "  Daru::DataFrame.from_csv(\"data/#{member}/dark_solar_battery.csv\").tap do |df|\n",
    "    line = df.filter_rows { |row| -4 < row['v'] && row['v'] < 0.3 }\n",
    "    f = LinearFitting.new(line['v'].to_a, line['i'].to_a)\n",
    "    f.fit\n",
    "    df.map_rows! do |row|\n",
    "      row['i'] = row['i'] - (f.a * row['v'] + f.b)\n",
    "      row\n",
    "    end\n",
    "    puts member\n",
    "    df.write_csv(\"data/#{member}/dark_solar_battery_without_parallel_resistance.csv\")\n",
    "    df.plot(x: 'v', y: 'i', mode: [:markers, :lines]).show\n",
    "  end\n",
    "end\n",
    "nil"
   ]
  },
  {
   "cell_type": "code",
   "execution_count": 5,
   "metadata": {
    "collapsed": false
   },
   "outputs": [
    {
     "data": {
      "text/html": [
       "\n",
       "  <script>\n",
       "  requirejs.config({paths: { 'plotly': ['https://cdn.plot.ly/plotly-latest.min'] }})\n",
       "  </script>\n",
       "\n",
       "\n",
       "<div id=\"e3b334d8-87bd-4035-88b5-37d2622e51fd\" style=\"height: 100%; width: 100%;\"></div>\n",
       "\n",
       "<script>\n",
       " require(['plotly'], function(Plotly) { \n",
       "Plotly.newPlot(\n",
       "  'e3b334d8-87bd-4035-88b5-37d2622e51fd',\n",
       "  [{\"y\":[8.0e-07,9.6e-05,0.00023,0.000226,0.00041,0.00059,0.00077,0.0013000000000000002,0.0018000000000000002,0.0023,0.0029,0.0039,0.0048,0.0055,0.006500000000000001,0.0075,0.0083,0.0094],\"x\":[0.105,0.123,0.165,0.19,0.267,0.311,0.339,0.39,0.418,0.44,0.459,0.486,0.505,0.519,0.538,0.554,0.565,0.582],\"name\":\"sangenya_dark\",\"mode\":\"markers+lines\"},{\"y\":[6.3e-06,5.7e-05,0.000173,0.00041,0.0006,0.0013000000000000002,0.0018000000000000002,0.0025,0.0034,0.0039,0.0048,0.006200000000000001,0.008199999999999999],\"x\":[0.13,0.272,0.342,0.408,0.417,0.479,0.506,0.54,0.572,0.59,0.617,0.651,0.693],\"name\":\"nagura_dark\",\"mode\":\"markers+lines\"},{\"y\":[3.496088566606789e-05,0.5204962071065878],\"x\":[0,1],\"name\":\"log y = 9.61e+00 x - 1.03e+01\"},{\"y\":[1.12438847148944e-06,2.1453111538025276],\"x\":[0,1],\"name\":\"log y = 1.45e+01 x - 1.37e+01\"}],\n",
       "  {\"xaxis\":{\"title\":\"電圧(V)\"},\"yaxis\":{\"title\":\"電流(I)\",\"type\":\"log\"}},\n",
       "  {\"linkText\":\"Export to plot.ly\",\"showLink\":true}\n",
       ")\n",
       "\n",
       "window.addEventListener('resize', function() {\n",
       "  Plotly.Plots.resize(document.getElementById('e3b334d8-87bd-4035-88b5-37d2622e51fd'))\n",
       "})\n",
       " }) \n",
       "</script>"
      ],
      "text/plain": [
       "#<Plotly::Offline::HTML:0x007fb38d881290 @id=\"e3b334d8-87bd-4035-88b5-37d2622e51fd\", @data=[{:y=>[8.0e-07, 9.6e-05, 0.00023, 0.000226, 0.00041, 0.00059, 0.00077, 0.0013000000000000002, 0.0018000000000000002, 0.0023, 0.0029, 0.0039, 0.0048, 0.0055, 0.006500000000000001, 0.0075, 0.0083, 0.0094], :x=>[0.105, 0.123, 0.165, 0.19, 0.267, 0.311, 0.339, 0.39, 0.418, 0.44, 0.459, 0.486, 0.505, 0.519, 0.538, 0.554, 0.565, 0.582], :name=>\"sangenya_dark\", :mode=>\"markers+lines\"}, {:y=>[6.3e-06, 5.7e-05, 0.000173, 0.00041, 0.0006, 0.0013000000000000002, 0.0018000000000000002, 0.0025, 0.0034, 0.0039, 0.0048, 0.006200000000000001, 0.008199999999999999], :x=>[0.13, 0.272, 0.342, 0.408, 0.417, 0.479, 0.506, 0.54, 0.572, 0.59, 0.617, 0.651, 0.693], :name=>\"nagura_dark\", :mode=>\"markers+lines\"}, {:y=>[3.496088566606789e-05, 0.5204962071065878], :x=>[0, 1], :name=>\"log y = 9.61e+00 x - 1.03e+01\"}, {:y=>[1.12438847148944e-06, 2.1453111538025276], :x=>[0, 1], :name=>\"log y = 1.45e+01 x - 1.37e+01\"}], @layout={:xaxis=>{:title=>\"電圧(V)\"}, :yaxis=>{:title=>\"電流(I)\", :type=>:log}}, @config={:linkText=>\"Export to plot.ly\", :showLink=>true}, @embedded=true>"
      ]
     },
     "metadata": {},
     "output_type": "display_data"
    }
   ],
   "source": [
    "sangenya_df = Daru::DataFrame.from_csv('data/sangenya/dark_solar_battery.csv').filter_rows{ |row| row['v'] > 0 }.sort(['v'])\n",
    "sangenya_hash = sangenya_df.to_h.map { |k, v| [k == 'v' ? 'x' : 'y', v.to_a] }.to_h.merge(name: \"sangenya_dark\", mode: 'markers+lines')\n",
    "nagura_df = Daru::DataFrame.from_csv('data/nagura/dark_solar_battery.csv').filter_rows{ |row| row['v'] > 0 }.sort(['v'])\n",
    "nagura_hash = nagura_df.to_h.map { |k, v| [k == 'v' ? 'x' : 'y', v.to_a] }.to_h.merge(name: \"nagura_dark\", mode: 'markers+lines')\n",
    "\n",
    "sangenya_to_line = sangenya_df.filter_rows { |row| row['v'] > 0.14 }\n",
    "sangenya_fit = ExpFitting.new(sangenya_to_line['v'].to_a, sangenya_to_line['i'].to_a)\n",
    "sangenya_fit.fit\n",
    "\n",
    "nagura_to_line = nagura_df.filter_rows { |row| row['v'] > 0.1 && row['v'] < 0.58 }\n",
    "nagura_fit = ExpFitting.new(nagura_to_line['v'].to_a, nagura_to_line['i'].to_a)\n",
    "nagura_fit.fit\n",
    "\n",
    "Plotly::Plot.new(data: [sangenya_hash, nagura_hash, sangenya_fit.points(0, 1), nagura_fit.points(0, 1)], layout: { xaxis: { title: '電圧(V)' }, yaxis: { title: '電流(I)', type: :log } }).show\n",
    "nil"
   ]
  },
  {
   "cell_type": "code",
   "execution_count": 6,
   "metadata": {
    "collapsed": false
   },
   "outputs": [
    {
     "ename": "IndexError",
     "evalue": "Specified index :x does not exist",
     "output_type": "error",
     "traceback": [
      "\u001b[31mIndexError\u001b[0m: Specified index :x does not exist",
      "\u001b[37m/Users/sangenya/.rbenv/versions/2.3.0/lib/ruby/gems/2.3.0/gems/daru-0.1.4.1/lib/daru/index/index.rb:261:in `by_single_key'\u001b[0m",
      "\u001b[37m/Users/sangenya/.rbenv/versions/2.3.0/lib/ruby/gems/2.3.0/gems/daru-0.1.4.1/lib/daru/index/index.rb:81:in `[]'\u001b[0m",
      "\u001b[37m/Users/sangenya/.rbenv/versions/2.3.0/lib/ruby/gems/2.3.0/gems/daru-0.1.4.1/lib/daru/dataframe.rb:2074:in `access_vector_single_index'\u001b[0m",
      "\u001b[37m/Users/sangenya/.rbenv/versions/2.3.0/lib/ruby/gems/2.3.0/gems/daru-0.1.4.1/lib/daru/dataframe.rb:2056:in `access_vector'\u001b[0m",
      "\u001b[37m/Users/sangenya/.rbenv/versions/2.3.0/lib/ruby/gems/2.3.0/gems/daru-0.1.4.1/lib/daru/dataframe.rb:2022:in `dispatch_to_axis'\u001b[0m",
      "\u001b[37m/Users/sangenya/.rbenv/versions/2.3.0/lib/ruby/gems/2.3.0/gems/daru-0.1.4.1/lib/daru/dataframe.rb:284:in `[]'\u001b[0m",
      "\u001b[37m/Users/sangenya/.rbenv/versions/2.3.0/lib/ruby/gems/2.3.0/gems/daru_plotting_plotly-0.0.0.1/lib/daru_plotting_plotly/plotting/plotly/dataframe.rb:38:in `generate_data'\u001b[0m",
      "\u001b[37m/Users/sangenya/.rbenv/versions/2.3.0/lib/ruby/gems/2.3.0/gems/daru_plotting_plotly-0.0.0.1/lib/daru_plotting_plotly/plotting/plotly/dataframe.rb:10:in `plot'\u001b[0m",
      "\u001b[37m<main>:9:in `block in <main>'\u001b[0m",
      "\u001b[37m<main>:4:in `map'\u001b[0m",
      "\u001b[37m<main>:4:in `<main>'\u001b[0m",
      "\u001b[37m/Users/sangenya/.rbenv/versions/2.3.0/lib/ruby/gems/2.3.0/gems/iruby-0.2.9/lib/iruby/backend.rb:44:in `eval'\u001b[0m",
      "\u001b[37m/Users/sangenya/.rbenv/versions/2.3.0/lib/ruby/gems/2.3.0/gems/iruby-0.2.9/lib/iruby/backend.rb:44:in `eval'\u001b[0m",
      "\u001b[37m/Users/sangenya/.rbenv/versions/2.3.0/lib/ruby/gems/2.3.0/gems/iruby-0.2.9/lib/iruby/backend.rb:12:in `eval'\u001b[0m",
      "\u001b[37m/Users/sangenya/.rbenv/versions/2.3.0/lib/ruby/gems/2.3.0/gems/iruby-0.2.9/lib/iruby/kernel.rb:87:in `execute_request'\u001b[0m",
      "\u001b[37m/Users/sangenya/.rbenv/versions/2.3.0/lib/ruby/gems/2.3.0/gems/iruby-0.2.9/lib/iruby/kernel.rb:47:in `dispatch'\u001b[0m",
      "\u001b[37m/Users/sangenya/.rbenv/versions/2.3.0/lib/ruby/gems/2.3.0/gems/iruby-0.2.9/lib/iruby/kernel.rb:37:in `run'\u001b[0m",
      "\u001b[37m/Users/sangenya/.rbenv/versions/2.3.0/lib/ruby/gems/2.3.0/gems/iruby-0.2.9/lib/iruby/command.rb:70:in `run_kernel'\u001b[0m",
      "\u001b[37m/Users/sangenya/.rbenv/versions/2.3.0/lib/ruby/gems/2.3.0/gems/iruby-0.2.9/lib/iruby/command.rb:34:in `run'\u001b[0m",
      "\u001b[37m/Users/sangenya/.rbenv/versions/2.3.0/lib/ruby/gems/2.3.0/gems/iruby-0.2.9/bin/iruby:5:in `<top (required)>'\u001b[0m",
      "\u001b[37m/Users/sangenya/.rbenv/versions/2.3.0/bin/iruby:23:in `load'\u001b[0m",
      "\u001b[37m/Users/sangenya/.rbenv/versions/2.3.0/bin/iruby:23:in `<main>'\u001b[0m"
     ]
    }
   ],
   "source": [
    "line_conditions = {\n",
    "  'data/sangenya/dark_solar_battery.csv' => proc { |row| row['v'] > 0 && row ['i'] > 0 },\n",
    "    'data/nakagawa/dark_solar_battery_without_parallel_resistance.csv' => proc { |row| row['v'] > 0 && row ['i'] > 0 },\n",
    "}\n",
    "['data/sangenya/dark_solar_battery.csv', 'data/nakagawa/dark_solar_battery_without_parallel_resistance.csv'].map do |filename|\n",
    "  df = Daru::DataFrame.from_csv(filename)\n",
    "  line = df.filter_rows &line_conditions[filename]\n",
    "  fit = ExpFitting.new(line['v'].to_a, line['i'].to_a)\n",
    "  fit.fit\n",
    "  df.plot(x: 'v', y: 'i').tap do |plot|\n",
    "  end\n",
    "end\n",
    "nil"
   ]
  }
 ],
 "metadata": {
  "kernelspec": {
   "display_name": "Ruby 2.3.0",
   "language": "ruby",
   "name": "ruby"
  },
  "language_info": {
   "file_extension": ".rb",
   "mimetype": "application/x-ruby",
   "name": "ruby",
   "version": "2.3.0"
  }
 },
 "nbformat": 4,
 "nbformat_minor": 0
}
