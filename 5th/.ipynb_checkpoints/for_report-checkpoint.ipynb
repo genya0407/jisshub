{
 "cells": [
  {
   "cell_type": "code",
   "execution_count": 3,
   "metadata": {
    "collapsed": false
   },
   "outputs": [
    {
     "data": {
      "application/javascript": [
       "if(window['d3'] === undefined ||\n",
       "   window['Nyaplot'] === undefined){\n",
       "    var path = {\"d3\":\"https://cdnjs.cloudflare.com/ajax/libs/d3/3.5.5/d3.min\",\"downloadable\":\"http://cdn.rawgit.com/domitry/d3-downloadable/master/d3-downloadable\"};\n",
       "\n",
       "\n",
       "\n",
       "    var shim = {\"d3\":{\"exports\":\"d3\"},\"downloadable\":{\"exports\":\"downloadable\"}};\n",
       "\n",
       "    require.config({paths: path, shim:shim});\n",
       "\n",
       "\n",
       "require(['d3'], function(d3){window['d3']=d3;console.log('finished loading d3');require(['downloadable'], function(downloadable){window['downloadable']=downloadable;console.log('finished loading downloadable');\n",
       "\n",
       "\tvar script = d3.select(\"head\")\n",
       "\t    .append(\"script\")\n",
       "\t    .attr(\"src\", \"http://cdn.rawgit.com/domitry/Nyaplotjs/master/release/nyaplot.js\")\n",
       "\t    .attr(\"async\", true);\n",
       "\n",
       "\tscript[0][0].onload = script[0][0].onreadystatechange = function(){\n",
       "\n",
       "\n",
       "\t    var event = document.createEvent(\"HTMLEvents\");\n",
       "\t    event.initEvent(\"load_nyaplot\",false,false);\n",
       "\t    window.dispatchEvent(event);\n",
       "\t    console.log('Finished loading Nyaplotjs');\n",
       "\n",
       "\t};\n",
       "\n",
       "\n",
       "});});\n",
       "}\n"
      ],
      "text/plain": [
       "\"if(window['d3'] === undefined ||\\n   window['Nyaplot'] === undefined){\\n    var path = {\\\"d3\\\":\\\"https://cdnjs.cloudflare.com/ajax/libs/d3/3.5.5/d3.min\\\",\\\"downloadable\\\":\\\"http://cdn.rawgit.com/domitry/d3-downloadable/master/d3-downloadable\\\"};\\n\\n\\n\\n    var shim = {\\\"d3\\\":{\\\"exports\\\":\\\"d3\\\"},\\\"downloadable\\\":{\\\"exports\\\":\\\"downloadable\\\"}};\\n\\n    require.config({paths: path, shim:shim});\\n\\n\\nrequire(['d3'], function(d3){window['d3']=d3;console.log('finished loading d3');require(['downloadable'], function(downloadable){window['downloadable']=downloadable;console.log('finished loading downloadable');\\n\\n\\tvar script = d3.select(\\\"head\\\")\\n\\t    .append(\\\"script\\\")\\n\\t    .attr(\\\"src\\\", \\\"http://cdn.rawgit.com/domitry/Nyaplotjs/master/release/nyaplot.js\\\")\\n\\t    .attr(\\\"async\\\", true);\\n\\n\\tscript[0][0].onload = script[0][0].onreadystatechange = function(){\\n\\n\\n\\t    var event = document.createEvent(\\\"HTMLEvents\\\");\\n\\t    event.initEvent(\\\"load_nyaplot\\\",false,false);\\n\\t    window.dispatchEvent(event);\\n\\t    console.log('Finished loading Nyaplotjs');\\n\\n\\t};\\n\\n\\n});});\\n}\\n\""
      ]
     },
     "metadata": {},
     "output_type": "display_data"
    },
    {
     "data": {
      "text/plain": [
       ":plotly"
      ]
     },
     "execution_count": 3,
     "metadata": {},
     "output_type": "execute_result"
    }
   ],
   "source": [
    "require 'daru'\n",
    "require 'daru_plotting_plotly'\n",
    "require 'hg'\n",
    "\n",
    "Daru.plotting_library = :plotly"
   ]
  },
  {
   "cell_type": "code",
   "execution_count": 5,
   "metadata": {
    "collapsed": false,
    "scrolled": false
   },
   "outputs": [
    {
     "data": {
      "text/html": [
       "\n",
       "  <script>\n",
       "  requirejs.config({paths: { 'plotly': ['https://cdn.plot.ly/plotly-latest.min'] }})\n",
       "  </script>\n",
       "\n",
       "\n",
       "<div id=\"b5893604-b91e-4977-8a8e-c1247cfba0c8\" style=\"height: 100%; width: 100%;\"></div>\n",
       "\n",
       "<script>\n",
       " require(['plotly'], function(Plotly) { \n",
       "Plotly.newPlot(\n",
       "  'b5893604-b91e-4977-8a8e-c1247cfba0c8',\n",
       "  [{\"x\":[-10.2,-3.48,-1.712,-1.506,-1.418,-1.186,-0.95,-0.537,-0.307,-0.1555,-0.1237,-0.0857,-0.0523,-0.0412,-0.0334,-0.0162,-0.0097,-0.0003,0.142,0.247,0.383,0.466,0.554,0.57,0.588,0.62,0.626,0.636],\"y\":[-0.082,-0.0274,-0.0135,-0.011800000000000001,-0.0111,-0.0092,-0.0074,-0.004200000000000001,-0.0024,-0.0012,-0.00096,-0.00067,-0.000407,-0.000321,-0.000261,-0.000127,-7.7e-05,-4.4e-06,0.0011,0.0019,0.0031000000000000003,0.004,0.0063,0.0070999999999999995,0.008,0.009800000000000001,0.010199999999999999,0.0109],\"type\":\"scatter\",\"mode\":\"\",\"name\":\"i\"}],\n",
       "  {\"width\":1000,\"height\":500,\"xaxis\":{\"title\":\"電圧(V)\"},\"yaxis\":{\"title\":\"電流(I)\"}},\n",
       "  {\"linkText\":\"Export to plot.ly\",\"showLink\":true}\n",
       ")\n",
       "\n",
       "window.addEventListener('resize', function() {\n",
       "  Plotly.Plots.resize(document.getElementById('b5893604-b91e-4977-8a8e-c1247cfba0c8'))\n",
       "})\n",
       " }) \n",
       "</script>"
      ],
      "text/plain": [
       "#<Plotly::Offline::HTML:0x007f9c9c2198b0 @id=\"b5893604-b91e-4977-8a8e-c1247cfba0c8\", @data=[{:x=>[-10.2, -3.48, -1.712, -1.506, -1.418, -1.186, -0.95, -0.537, -0.307, -0.1555, -0.1237, -0.0857, -0.0523, -0.0412, -0.0334, -0.0162, -0.0097, -0.0003, 0.142, 0.247, 0.383, 0.466, 0.554, 0.57, 0.588, 0.62, 0.626, 0.636], :y=>[-0.082, -0.0274, -0.0135, -0.011800000000000001, -0.0111, -0.0092, -0.0074, -0.004200000000000001, -0.0024, -0.0012, -0.00096, -0.00067, -0.000407, -0.000321, -0.000261, -0.000127, -7.7e-05, -4.4e-06, 0.0011, 0.0019, 0.0031000000000000003, 0.004, 0.0063, 0.0070999999999999995, 0.008, 0.009800000000000001, 0.010199999999999999, 0.0109], :type=>:scatter, :mode=>\"\", :name=>\"i\"}], @layout={:width=>1000, :height=>500, :xaxis=>{:title=>\"電圧(V)\"}, :yaxis=>{:title=>\"電流(I)\"}}, @config={:linkText=>\"Export to plot.ly\", :showLink=>true}, @embedded=true>"
      ]
     },
     "metadata": {},
     "output_type": "display_data"
    },
    {
     "data": {
      "text/html": [
       "\n",
       "  <script>\n",
       "  requirejs.config({paths: { 'plotly': ['https://cdn.plot.ly/plotly-latest.min'] }})\n",
       "  </script>\n",
       "\n",
       "\n",
       "<div id=\"b2c33bbe-0ca4-4f08-98c1-36d2f2526621\" style=\"height: 100%; width: 100%;\"></div>\n",
       "\n",
       "<script>\n",
       " require(['plotly'], function(Plotly) { \n",
       "Plotly.newPlot(\n",
       "  'b2c33bbe-0ca4-4f08-98c1-36d2f2526621',\n",
       "  [{\"x\":[0.34,0.343,0.356,0.357,0.359,0.359,0.362,0.366,0.371,0.375,0.379,0.384,0.387,0.39,0.393,0.422],\"y\":[-0.0033799999999999998,-0.0033,-0.00317,-0.0029300000000000003,-0.0024100000000000002,-0.0035600000000000002,-0.0025499999999999997,-0.0022,-0.0019,-0.0016,-0.0013000000000000002,-0.001,-0.0008,-0.0006,-0.0004,0],\"type\":\"scatter\",\"mode\":\"\",\"name\":\"i\"}],\n",
       "  {\"width\":1000,\"height\":500,\"xaxis\":{\"title\":\"電圧(V)\"},\"yaxis\":{\"title\":\"電流(I)\"}},\n",
       "  {\"linkText\":\"Export to plot.ly\",\"showLink\":true}\n",
       ")\n",
       "\n",
       "window.addEventListener('resize', function() {\n",
       "  Plotly.Plots.resize(document.getElementById('b2c33bbe-0ca4-4f08-98c1-36d2f2526621'))\n",
       "})\n",
       " }) \n",
       "</script>"
      ],
      "text/plain": [
       "#<Plotly::Offline::HTML:0x007f9c9c191758 @id=\"b2c33bbe-0ca4-4f08-98c1-36d2f2526621\", @data=[{:x=>[0.34, 0.343, 0.356, 0.357, 0.359, 0.359, 0.362, 0.366, 0.371, 0.375, 0.379, 0.384, 0.387, 0.39, 0.393, 0.422], :y=>[-0.0033799999999999998, -0.0033, -0.00317, -0.0029300000000000003, -0.0024100000000000002, -0.0035600000000000002, -0.0025499999999999997, -0.0022, -0.0019, -0.0016, -0.0013000000000000002, -0.001, -0.0008, -0.0006, -0.0004, 0], :type=>:scatter, :mode=>\"\", :name=>\"i\"}], @layout={:width=>1000, :height=>500, :xaxis=>{:title=>\"電圧(V)\"}, :yaxis=>{:title=>\"電流(I)\"}}, @config={:linkText=>\"Export to plot.ly\", :showLink=>true}, @embedded=true>"
      ]
     },
     "metadata": {},
     "output_type": "display_data"
    },
    {
     "data": {
      "text/html": [
       "\n",
       "  <script>\n",
       "  requirejs.config({paths: { 'plotly': ['https://cdn.plot.ly/plotly-latest.min'] }})\n",
       "  </script>\n",
       "\n",
       "\n",
       "<div id=\"0cd46b16-9309-4206-a3d3-dbca3dbccf4a\" style=\"height: 100%; width: 100%;\"></div>\n",
       "\n",
       "<script>\n",
       " require(['plotly'], function(Plotly) { \n",
       "Plotly.newPlot(\n",
       "  '0cd46b16-9309-4206-a3d3-dbca3dbccf4a',\n",
       "  [{\"x\":[0.253,0.302,0.329,0.352,0.372,0.389,0.403,0.409,0.428],\"y\":[-0.0025,-0.002,-0.0017,-0.0014,-0.0011,-0.0008,-0.0005,-0.00035,0],\"type\":\"scatter\",\"mode\":\"\",\"name\":\"i\"}],\n",
       "  {\"width\":1000,\"height\":500,\"xaxis\":{\"title\":\"電圧(V)\"},\"yaxis\":{\"title\":\"電流(I)\"}},\n",
       "  {\"linkText\":\"Export to plot.ly\",\"showLink\":true}\n",
       ")\n",
       "\n",
       "window.addEventListener('resize', function() {\n",
       "  Plotly.Plots.resize(document.getElementById('0cd46b16-9309-4206-a3d3-dbca3dbccf4a'))\n",
       "})\n",
       " }) \n",
       "</script>"
      ],
      "text/plain": [
       "#<Plotly::Offline::HTML:0x007f9c9b15f9c0 @id=\"0cd46b16-9309-4206-a3d3-dbca3dbccf4a\", @data=[{:x=>[0.253, 0.302, 0.329, 0.352, 0.372, 0.389, 0.403, 0.409, 0.428], :y=>[-0.0025, -0.002, -0.0017, -0.0014, -0.0011, -0.0008, -0.0005, -0.00035, 0], :type=>:scatter, :mode=>\"\", :name=>\"i\"}], @layout={:width=>1000, :height=>500, :xaxis=>{:title=>\"電圧(V)\"}, :yaxis=>{:title=>\"電流(I)\"}}, @config={:linkText=>\"Export to plot.ly\", :showLink=>true}, @embedded=true>"
      ]
     },
     "metadata": {},
     "output_type": "display_data"
    },
    {
     "data": {
      "text/html": [
       "\n",
       "  <script>\n",
       "  requirejs.config({paths: { 'plotly': ['https://cdn.plot.ly/plotly-latest.min'] }})\n",
       "  </script>\n",
       "\n",
       "\n",
       "<div id=\"2fced8ec-e265-47fe-98a4-6bc3bbb14e9c\" style=\"height: 100%; width: 100%;\"></div>\n",
       "\n",
       "<script>\n",
       " require(['plotly'], function(Plotly) { \n",
       "Plotly.newPlot(\n",
       "  '2fced8ec-e265-47fe-98a4-6bc3bbb14e9c',\n",
       "  [{\"x\":[0.173,0.201,0.222,0.246,0.272,0.293,0.316,0.336,0.37],\"y\":[-0.0017,-0.0015,-0.0013000000000000002,-0.0011,-0.0009000000000000001,-0.0007,-0.0005,-0.0003,0],\"type\":\"scatter\",\"mode\":\"\",\"name\":\"i\"}],\n",
       "  {\"width\":1000,\"height\":500,\"xaxis\":{\"title\":\"電圧(V)\"},\"yaxis\":{\"title\":\"電流(I)\"}},\n",
       "  {\"linkText\":\"Export to plot.ly\",\"showLink\":true}\n",
       ")\n",
       "\n",
       "window.addEventListener('resize', function() {\n",
       "  Plotly.Plots.resize(document.getElementById('2fced8ec-e265-47fe-98a4-6bc3bbb14e9c'))\n",
       "})\n",
       " }) \n",
       "</script>"
      ],
      "text/plain": [
       "#<Plotly::Offline::HTML:0x007f9c9b14cff0 @id=\"2fced8ec-e265-47fe-98a4-6bc3bbb14e9c\", @data=[{:x=>[0.173, 0.201, 0.222, 0.246, 0.272, 0.293, 0.316, 0.336, 0.37], :y=>[-0.0017, -0.0015, -0.0013000000000000002, -0.0011, -0.0009000000000000001, -0.0007, -0.0005, -0.0003, 0], :type=>:scatter, :mode=>\"\", :name=>\"i\"}], @layout={:width=>1000, :height=>500, :xaxis=>{:title=>\"電圧(V)\"}, :yaxis=>{:title=>\"電流(I)\"}}, @config={:linkText=>\"Export to plot.ly\", :showLink=>true}, @embedded=true>"
      ]
     },
     "metadata": {},
     "output_type": "display_data"
    },
    {
     "data": {
      "text/html": [
       "\n",
       "  <script>\n",
       "  requirejs.config({paths: { 'plotly': ['https://cdn.plot.ly/plotly-latest.min'] }})\n",
       "  </script>\n",
       "\n",
       "\n",
       "<div id=\"0b9f40fb-3f1f-43ca-ab73-d13ef7841a35\" style=\"height: 100%; width: 100%;\"></div>\n",
       "\n",
       "<script>\n",
       " require(['plotly'], function(Plotly) { \n",
       "Plotly.newPlot(\n",
       "  '0b9f40fb-3f1f-43ca-ab73-d13ef7841a35',\n",
       "  [{\"x\":[0.844,0.815,0.785,0.704,0.542,0.455,0.348,0.275,0.207,0.146,0.121,0.0903,0.0783,0.06559999999999999,0.022,0.0007,-0.0003,-0.0158,-0.028300000000000002,-0.0594,-0.07790000000000001,-0.103,-0.115,-0.143,-0.159,-0.184,-0.203,-0.617,-1.218],\"y\":[0.01,0.0091,0.008199999999999999,0.0066,0.0045000000000000005,0.0037,0.0028,0.0022,0.0017,0.0012,0.0009699999999999999,0.0007199999999999999,0.00062,0.0005200000000000001,0.000176,5.0e-06,-3.0e-06,-0.000126,-0.000226,-0.000472,-0.000618,-0.00082,-0.00092,-0.0011,-0.00127,-0.00147,-0.0016,-0.004900000000000001,-0.0099],\"type\":\"scatter\",\"mode\":\"\",\"name\":\"i\"}],\n",
       "  {\"width\":1000,\"height\":500,\"xaxis\":{\"title\":\"電圧(V)\"},\"yaxis\":{\"title\":\"電流(I)\"}},\n",
       "  {\"linkText\":\"Export to plot.ly\",\"showLink\":true}\n",
       ")\n",
       "\n",
       "window.addEventListener('resize', function() {\n",
       "  Plotly.Plots.resize(document.getElementById('0b9f40fb-3f1f-43ca-ab73-d13ef7841a35'))\n",
       "})\n",
       " }) \n",
       "</script>"
      ],
      "text/plain": [
       "#<Plotly::Offline::HTML:0x007f9c9b09f148 @id=\"0b9f40fb-3f1f-43ca-ab73-d13ef7841a35\", @data=[{:x=>[0.844, 0.815, 0.785, 0.704, 0.542, 0.455, 0.348, 0.275, 0.207, 0.146, 0.121, 0.0903, 0.0783, 0.06559999999999999, 0.022, 0.0007, -0.0003, -0.0158, -0.028300000000000002, -0.0594, -0.07790000000000001, -0.103, -0.115, -0.143, -0.159, -0.184, -0.203, -0.617, -1.218], :y=>[0.01, 0.0091, 0.008199999999999999, 0.0066, 0.0045000000000000005, 0.0037, 0.0028, 0.0022, 0.0017, 0.0012, 0.0009699999999999999, 0.0007199999999999999, 0.00062, 0.0005200000000000001, 0.000176, 5.0e-06, -3.0e-06, -0.000126, -0.000226, -0.000472, -0.000618, -0.00082, -0.00092, -0.0011, -0.00127, -0.00147, -0.0016, -0.004900000000000001, -0.0099], :type=>:scatter, :mode=>\"\", :name=>\"i\"}], @layout={:width=>1000, :height=>500, :xaxis=>{:title=>\"電圧(V)\"}, :yaxis=>{:title=>\"電流(I)\"}}, @config={:linkText=>\"Export to plot.ly\", :showLink=>true}, @embedded=true>"
      ]
     },
     "metadata": {},
     "output_type": "display_data"
    },
    {
     "data": {
      "text/html": [
       "\n",
       "  <script>\n",
       "  requirejs.config({paths: { 'plotly': ['https://cdn.plot.ly/plotly-latest.min'] }})\n",
       "  </script>\n",
       "\n",
       "\n",
       "<div id=\"30c07c89-999f-4b11-b9ea-18805f961cb0\" style=\"height: 100%; width: 100%;\"></div>\n",
       "\n",
       "<script>\n",
       " require(['plotly'], function(Plotly) { \n",
       "Plotly.newPlot(\n",
       "  '30c07c89-999f-4b11-b9ea-18805f961cb0',\n",
       "  [{\"x\":[0.247,0.254,0.258,0.266,0.271,0.277,0.281,0.286,0.292,0.298,0.322],\"y\":[-0.0024500000000000004,-0.0021000000000000003,-0.0019,-0.0016,-0.0014,-0.0011,-0.00091,-0.0007,-0.0005,-0.00026,0],\"type\":\"scatter\",\"mode\":\"\",\"name\":\"i\"}],\n",
       "  {\"width\":1000,\"height\":500,\"xaxis\":{\"title\":\"電圧(V)\"},\"yaxis\":{\"title\":\"電流(I)\"}},\n",
       "  {\"linkText\":\"Export to plot.ly\",\"showLink\":true}\n",
       ")\n",
       "\n",
       "window.addEventListener('resize', function() {\n",
       "  Plotly.Plots.resize(document.getElementById('30c07c89-999f-4b11-b9ea-18805f961cb0'))\n",
       "})\n",
       " }) \n",
       "</script>"
      ],
      "text/plain": [
       "#<Plotly::Offline::HTML:0x007f9c9c0d3780 @id=\"30c07c89-999f-4b11-b9ea-18805f961cb0\", @data=[{:x=>[0.247, 0.254, 0.258, 0.266, 0.271, 0.277, 0.281, 0.286, 0.292, 0.298, 0.322], :y=>[-0.0024500000000000004, -0.0021000000000000003, -0.0019, -0.0016, -0.0014, -0.0011, -0.00091, -0.0007, -0.0005, -0.00026, 0], :type=>:scatter, :mode=>\"\", :name=>\"i\"}], @layout={:width=>1000, :height=>500, :xaxis=>{:title=>\"電圧(V)\"}, :yaxis=>{:title=>\"電流(I)\"}}, @config={:linkText=>\"Export to plot.ly\", :showLink=>true}, @embedded=true>"
      ]
     },
     "metadata": {},
     "output_type": "display_data"
    },
    {
     "data": {
      "text/html": [
       "\n",
       "  <script>\n",
       "  requirejs.config({paths: { 'plotly': ['https://cdn.plot.ly/plotly-latest.min'] }})\n",
       "  </script>\n",
       "\n",
       "\n",
       "<div id=\"256c343d-080d-497c-80be-246808884bff\" style=\"height: 100%; width: 100%;\"></div>\n",
       "\n",
       "<script>\n",
       " require(['plotly'], function(Plotly) { \n",
       "Plotly.newPlot(\n",
       "  '256c343d-080d-497c-80be-246808884bff',\n",
       "  [{\"x\":[0.24,0.254,0.272,0.286,0.299,0.312,0.32,0.329,0.334,0.35],\"y\":[-0.0024,-0.0021000000000000003,-0.0017,-0.0014,-0.0011,-0.0008,-0.0006,-0.0004,-0.00029,0],\"type\":\"scatter\",\"mode\":\"\",\"name\":\"i\"}],\n",
       "  {\"width\":1000,\"height\":500,\"xaxis\":{\"title\":\"電圧(V)\"},\"yaxis\":{\"title\":\"電流(I)\"}},\n",
       "  {\"linkText\":\"Export to plot.ly\",\"showLink\":true}\n",
       ")\n",
       "\n",
       "window.addEventListener('resize', function() {\n",
       "  Plotly.Plots.resize(document.getElementById('256c343d-080d-497c-80be-246808884bff'))\n",
       "})\n",
       " }) \n",
       "</script>"
      ],
      "text/plain": [
       "#<Plotly::Offline::HTML:0x007f9c9c8391f0 @id=\"256c343d-080d-497c-80be-246808884bff\", @data=[{:x=>[0.24, 0.254, 0.272, 0.286, 0.299, 0.312, 0.32, 0.329, 0.334, 0.35], :y=>[-0.0024, -0.0021000000000000003, -0.0017, -0.0014, -0.0011, -0.0008, -0.0006, -0.0004, -0.00029, 0], :type=>:scatter, :mode=>\"\", :name=>\"i\"}], @layout={:width=>1000, :height=>500, :xaxis=>{:title=>\"電圧(V)\"}, :yaxis=>{:title=>\"電流(I)\"}}, @config={:linkText=>\"Export to plot.ly\", :showLink=>true}, @embedded=true>"
      ]
     },
     "metadata": {},
     "output_type": "display_data"
    },
    {
     "data": {
      "text/html": [
       "\n",
       "  <script>\n",
       "  requirejs.config({paths: { 'plotly': ['https://cdn.plot.ly/plotly-latest.min'] }})\n",
       "  </script>\n",
       "\n",
       "\n",
       "<div id=\"6dcf35fd-aa73-4de9-a48e-0d14d7ee15b9\" style=\"height: 100%; width: 100%;\"></div>\n",
       "\n",
       "<script>\n",
       " require(['plotly'], function(Plotly) { \n",
       "Plotly.newPlot(\n",
       "  '6dcf35fd-aa73-4de9-a48e-0d14d7ee15b9',\n",
       "  [{\"x\":[0.157,0.174,0.195,0.215,0.23,0.256,0.277,0.291,0.314],\"y\":[-0.0015600000000000002,-0.0014,-0.0012,-0.001,-0.0008,-0.0006,-0.0004,-0.00025,0],\"type\":\"scatter\",\"mode\":\"\",\"name\":\"i\"}],\n",
       "  {\"width\":1000,\"height\":500,\"xaxis\":{\"title\":\"電圧(V)\"},\"yaxis\":{\"title\":\"電流(I)\"}},\n",
       "  {\"linkText\":\"Export to plot.ly\",\"showLink\":true}\n",
       ")\n",
       "\n",
       "window.addEventListener('resize', function() {\n",
       "  Plotly.Plots.resize(document.getElementById('6dcf35fd-aa73-4de9-a48e-0d14d7ee15b9'))\n",
       "})\n",
       " }) \n",
       "</script>"
      ],
      "text/plain": [
       "#<Plotly::Offline::HTML:0x007f9c9b8153a0 @id=\"6dcf35fd-aa73-4de9-a48e-0d14d7ee15b9\", @data=[{:x=>[0.157, 0.174, 0.195, 0.215, 0.23, 0.256, 0.277, 0.291, 0.314], :y=>[-0.0015600000000000002, -0.0014, -0.0012, -0.001, -0.0008, -0.0006, -0.0004, -0.00025, 0], :type=>:scatter, :mode=>\"\", :name=>\"i\"}], @layout={:width=>1000, :height=>500, :xaxis=>{:title=>\"電圧(V)\"}, :yaxis=>{:title=>\"電流(I)\"}}, @config={:linkText=>\"Export to plot.ly\", :showLink=>true}, @embedded=true>"
      ]
     },
     "metadata": {},
     "output_type": "display_data"
    },
    {
     "data": {
      "text/html": [
       "\n",
       "  <script>\n",
       "  requirejs.config({paths: { 'plotly': ['https://cdn.plot.ly/plotly-latest.min'] }})\n",
       "  </script>\n",
       "\n",
       "\n",
       "<div id=\"1c44b802-ccbc-4308-970f-43b6869e7f9a\" style=\"height: 100%; width: 100%;\"></div>\n",
       "\n",
       "<script>\n",
       " require(['plotly'], function(Plotly) { \n",
       "Plotly.newPlot(\n",
       "  '1c44b802-ccbc-4308-970f-43b6869e7f9a',\n",
       "  [{\"x\":[-0.991,-0.911,-0.874,-0.802,-0.774,-0.734,-0.709,-0.614,-0.538,-0.458,-0.35,-0.142,-0.07529999999999999,-0.0346,-0.0008,0.105,0.123,0.165,0.19,0.267,0.311,0.339,0.39,0.418,0.44,0.459,0.486,0.505,0.519,0.538,0.554,0.565,0.582],\"y\":[-0.009000000000000001,-0.0068,-0.005900000000000001,-0.0044,-0.0039,-0.0033,-0.0029,-0.0017,-0.00115,-0.000743,-0.000439,-0.00014,-7.3e-05,-3.3e-05,-8.0e-07,8.0e-07,9.6e-05,0.00023,0.000226,0.00041,0.00059,0.00077,0.0013000000000000002,0.0018000000000000002,0.0023,0.0029,0.0039,0.0048,0.0055,0.006500000000000001,0.0075,0.0083,0.0094],\"type\":\"scatter\",\"mode\":\"\",\"name\":\"i\"}],\n",
       "  {\"width\":1000,\"height\":500,\"xaxis\":{\"title\":\"電圧(V)\"},\"yaxis\":{\"title\":\"電流(I)\"}},\n",
       "  {\"linkText\":\"Export to plot.ly\",\"showLink\":true}\n",
       ")\n",
       "\n",
       "window.addEventListener('resize', function() {\n",
       "  Plotly.Plots.resize(document.getElementById('1c44b802-ccbc-4308-970f-43b6869e7f9a'))\n",
       "})\n",
       " }) \n",
       "</script>"
      ],
      "text/plain": [
       "#<Plotly::Offline::HTML:0x007f9c9c967090 @id=\"1c44b802-ccbc-4308-970f-43b6869e7f9a\", @data=[{:x=>[-0.991, -0.911, -0.874, -0.802, -0.774, -0.734, -0.709, -0.614, -0.538, -0.458, -0.35, -0.142, -0.07529999999999999, -0.0346, -0.0008, 0.105, 0.123, 0.165, 0.19, 0.267, 0.311, 0.339, 0.39, 0.418, 0.44, 0.459, 0.486, 0.505, 0.519, 0.538, 0.554, 0.565, 0.582], :y=>[-0.009000000000000001, -0.0068, -0.005900000000000001, -0.0044, -0.0039, -0.0033, -0.0029, -0.0017, -0.00115, -0.000743, -0.000439, -0.00014, -7.3e-05, -3.3e-05, -8.0e-07, 8.0e-07, 9.6e-05, 0.00023, 0.000226, 0.00041, 0.00059, 0.00077, 0.0013000000000000002, 0.0018000000000000002, 0.0023, 0.0029, 0.0039, 0.0048, 0.0055, 0.006500000000000001, 0.0075, 0.0083, 0.0094], :type=>:scatter, :mode=>\"\", :name=>\"i\"}], @layout={:width=>1000, :height=>500, :xaxis=>{:title=>\"電圧(V)\"}, :yaxis=>{:title=>\"電流(I)\"}}, @config={:linkText=>\"Export to plot.ly\", :showLink=>true}, @embedded=true>"
      ]
     },
     "metadata": {},
     "output_type": "display_data"
    },
    {
     "data": {
      "text/html": [
       "\n",
       "  <script>\n",
       "  requirejs.config({paths: { 'plotly': ['https://cdn.plot.ly/plotly-latest.min'] }})\n",
       "  </script>\n",
       "\n",
       "\n",
       "<div id=\"d51bc55f-0865-41a8-82cb-643e0202a5f8\" style=\"height: 100%; width: 100%;\"></div>\n",
       "\n",
       "<script>\n",
       " require(['plotly'], function(Plotly) { \n",
       "Plotly.newPlot(\n",
       "  'd51bc55f-0865-41a8-82cb-643e0202a5f8',\n",
       "  [{\"x\":[0.309,0.345,0.36,0.37,0.379,0.384,0.388,0.391,0.392,0.416],\"y\":[-0.003,-0.0023,-0.0018000000000000002,-0.0014,-0.001,-0.0008,-0.0006,-0.0004,-0.00034,0],\"type\":\"scatter\",\"mode\":\"\",\"name\":\"i\"}],\n",
       "  {\"width\":1000,\"height\":500,\"xaxis\":{\"title\":\"電圧(V)\"},\"yaxis\":{\"title\":\"電流(I)\"}},\n",
       "  {\"linkText\":\"Export to plot.ly\",\"showLink\":true}\n",
       ")\n",
       "\n",
       "window.addEventListener('resize', function() {\n",
       "  Plotly.Plots.resize(document.getElementById('d51bc55f-0865-41a8-82cb-643e0202a5f8'))\n",
       "})\n",
       " }) \n",
       "</script>"
      ],
      "text/plain": [
       "#<Plotly::Offline::HTML:0x007f9c9c5091b0 @id=\"d51bc55f-0865-41a8-82cb-643e0202a5f8\", @data=[{:x=>[0.309, 0.345, 0.36, 0.37, 0.379, 0.384, 0.388, 0.391, 0.392, 0.416], :y=>[-0.003, -0.0023, -0.0018000000000000002, -0.0014, -0.001, -0.0008, -0.0006, -0.0004, -0.00034, 0], :type=>:scatter, :mode=>\"\", :name=>\"i\"}], @layout={:width=>1000, :height=>500, :xaxis=>{:title=>\"電圧(V)\"}, :yaxis=>{:title=>\"電流(I)\"}}, @config={:linkText=>\"Export to plot.ly\", :showLink=>true}, @embedded=true>"
      ]
     },
     "metadata": {},
     "output_type": "display_data"
    },
    {
     "data": {
      "text/html": [
       "\n",
       "  <script>\n",
       "  requirejs.config({paths: { 'plotly': ['https://cdn.plot.ly/plotly-latest.min'] }})\n",
       "  </script>\n",
       "\n",
       "\n",
       "<div id=\"56a37450-8401-4751-b997-b6bd41a1a641\" style=\"height: 100%; width: 100%;\"></div>\n",
       "\n",
       "<script>\n",
       " require(['plotly'], function(Plotly) { \n",
       "Plotly.newPlot(\n",
       "  '56a37450-8401-4751-b997-b6bd41a1a641',\n",
       "  [{\"x\":[0.374,0.355,0.341,0.321,0.298,0.263,0.212,0.144],\"y\":[0,-0.00031,-0.0005,-0.0007,-0.0009000000000000001,-0.0011,-0.0013000000000000002,-0.00145],\"type\":\"scatter\",\"mode\":\"\",\"name\":\"i\"}],\n",
       "  {\"width\":1000,\"height\":500,\"xaxis\":{\"title\":\"電圧(V)\"},\"yaxis\":{\"title\":\"電流(I)\"}},\n",
       "  {\"linkText\":\"Export to plot.ly\",\"showLink\":true}\n",
       ")\n",
       "\n",
       "window.addEventListener('resize', function() {\n",
       "  Plotly.Plots.resize(document.getElementById('56a37450-8401-4751-b997-b6bd41a1a641'))\n",
       "})\n",
       " }) \n",
       "</script>"
      ],
      "text/plain": [
       "#<Plotly::Offline::HTML:0x007f9c9c4e03f0 @id=\"56a37450-8401-4751-b997-b6bd41a1a641\", @data=[{:x=>[0.374, 0.355, 0.341, 0.321, 0.298, 0.263, 0.212, 0.144], :y=>[0, -0.00031, -0.0005, -0.0007, -0.0009000000000000001, -0.0011, -0.0013000000000000002, -0.00145], :type=>:scatter, :mode=>\"\", :name=>\"i\"}], @layout={:width=>1000, :height=>500, :xaxis=>{:title=>\"電圧(V)\"}, :yaxis=>{:title=>\"電流(I)\"}}, @config={:linkText=>\"Export to plot.ly\", :showLink=>true}, @embedded=true>"
      ]
     },
     "metadata": {},
     "output_type": "display_data"
    },
    {
     "data": {
      "text/html": [
       "\n",
       "  <script>\n",
       "  requirejs.config({paths: { 'plotly': ['https://cdn.plot.ly/plotly-latest.min'] }})\n",
       "  </script>\n",
       "\n",
       "\n",
       "<div id=\"f4176644-685b-4010-be43-62fd049dd09f\" style=\"height: 100%; width: 100%;\"></div>\n",
       "\n",
       "<script>\n",
       " require(['plotly'], function(Plotly) { \n",
       "Plotly.newPlot(\n",
       "  'f4176644-685b-4010-be43-62fd049dd09f',\n",
       "  [{\"x\":[0.361,0.339,0.328,0.303,0.27,0.203,0.119],\"y\":[0,-0.000295,-0.00041,-0.000616,-0.000804,-0.001,-0.0012],\"type\":\"scatter\",\"mode\":\"\",\"name\":\"i\"}],\n",
       "  {\"width\":1000,\"height\":500,\"xaxis\":{\"title\":\"電圧(V)\"},\"yaxis\":{\"title\":\"電流(I)\"}},\n",
       "  {\"linkText\":\"Export to plot.ly\",\"showLink\":true}\n",
       ")\n",
       "\n",
       "window.addEventListener('resize', function() {\n",
       "  Plotly.Plots.resize(document.getElementById('f4176644-685b-4010-be43-62fd049dd09f'))\n",
       "})\n",
       " }) \n",
       "</script>"
      ],
      "text/plain": [
       "#<Plotly::Offline::HTML:0x007f9c9c4b94d0 @id=\"f4176644-685b-4010-be43-62fd049dd09f\", @data=[{:x=>[0.361, 0.339, 0.328, 0.303, 0.27, 0.203, 0.119], :y=>[0, -0.000295, -0.00041, -0.000616, -0.000804, -0.001, -0.0012], :type=>:scatter, :mode=>\"\", :name=>\"i\"}], @layout={:width=>1000, :height=>500, :xaxis=>{:title=>\"電圧(V)\"}, :yaxis=>{:title=>\"電流(I)\"}}, @config={:linkText=>\"Export to plot.ly\", :showLink=>true}, @embedded=true>"
      ]
     },
     "metadata": {},
     "output_type": "display_data"
    },
    {
     "data": {
      "text/html": [
       "\n",
       "  <script>\n",
       "  requirejs.config({paths: { 'plotly': ['https://cdn.plot.ly/plotly-latest.min'] }})\n",
       "  </script>\n",
       "\n",
       "\n",
       "<div id=\"8de5dbbd-cdae-44e8-83f9-4348cd2d370a\" style=\"height: 100%; width: 100%;\"></div>\n",
       "\n",
       "<script>\n",
       " require(['plotly'], function(Plotly) { \n",
       "Plotly.newPlot(\n",
       "  '8de5dbbd-cdae-44e8-83f9-4348cd2d370a',\n",
       "  [{\"x\":[-1.708,-1.626,-1.4,-1.296,-1.209,-1.111,-1.018,-0.929,-0.814,-0.744,-0.62,-0.499,-0.396,-0.308,-0.115,-0.0594,-0.0292,-0.013800000000000002,-0.0009000000000000001,0.13,0.272,0.342,0.408,0.417,0.479,0.506,0.54,0.572,0.59,0.617,0.651,0.693],\"y\":[-0.010400000000000001,-0.0079,-0.0037,-0.0025,-0.0018000000000000002,-0.0011,-0.00071,-0.00044,-0.00022,-0.00017,-6.8e-05,-2.8e-05,-1.4e-05,-7.4e-06,-2.0e-06,-1.0e-06,-5.0e-07,-3.0e-07,0,6.3e-06,5.7e-05,0.000173,0.00041,0.0006,0.0013000000000000002,0.0018000000000000002,0.0025,0.0034,0.0039,0.0048,0.006200000000000001,0.008199999999999999],\"type\":\"scatter\",\"mode\":\"\",\"name\":\"i\"}],\n",
       "  {\"width\":1000,\"height\":500,\"xaxis\":{\"title\":\"電圧(V)\"},\"yaxis\":{\"title\":\"電流(I)\"}},\n",
       "  {\"linkText\":\"Export to plot.ly\",\"showLink\":true}\n",
       ")\n",
       "\n",
       "window.addEventListener('resize', function() {\n",
       "  Plotly.Plots.resize(document.getElementById('8de5dbbd-cdae-44e8-83f9-4348cd2d370a'))\n",
       "})\n",
       " }) \n",
       "</script>"
      ],
      "text/plain": [
       "#<Plotly::Offline::HTML:0x007f9c9b50e210 @id=\"8de5dbbd-cdae-44e8-83f9-4348cd2d370a\", @data=[{:x=>[-1.708, -1.626, -1.4, -1.296, -1.209, -1.111, -1.018, -0.929, -0.814, -0.744, -0.62, -0.499, -0.396, -0.308, -0.115, -0.0594, -0.0292, -0.013800000000000002, -0.0009000000000000001, 0.13, 0.272, 0.342, 0.408, 0.417, 0.479, 0.506, 0.54, 0.572, 0.59, 0.617, 0.651, 0.693], :y=>[-0.010400000000000001, -0.0079, -0.0037, -0.0025, -0.0018000000000000002, -0.0011, -0.00071, -0.00044, -0.00022, -0.00017, -6.8e-05, -2.8e-05, -1.4e-05, -7.4e-06, -2.0e-06, -1.0e-06, -5.0e-07, -3.0e-07, 0, 6.3e-06, 5.7e-05, 0.000173, 0.00041, 0.0006, 0.0013000000000000002, 0.0018000000000000002, 0.0025, 0.0034, 0.0039, 0.0048, 0.006200000000000001, 0.008199999999999999], :type=>:scatter, :mode=>\"\", :name=>\"i\"}], @layout={:width=>1000, :height=>500, :xaxis=>{:title=>\"電圧(V)\"}, :yaxis=>{:title=>\"電流(I)\"}}, @config={:linkText=>\"Export to plot.ly\", :showLink=>true}, @embedded=true>"
      ]
     },
     "metadata": {},
     "output_type": "display_data"
    },
    {
     "data": {
      "text/html": [
       "\n",
       "  <script>\n",
       "  requirejs.config({paths: { 'plotly': ['https://cdn.plot.ly/plotly-latest.min'] }})\n",
       "  </script>\n",
       "\n",
       "\n",
       "<div id=\"183d33b4-030f-4c4e-9665-bd75b66a875f\" style=\"height: 100%; width: 100%;\"></div>\n",
       "\n",
       "<script>\n",
       " require(['plotly'], function(Plotly) { \n",
       "Plotly.newPlot(\n",
       "  '183d33b4-030f-4c4e-9665-bd75b66a875f',\n",
       "  [{\"x\":[0.18,0.194,0.224,0.247,0.27,0.293,0.31,0.331,0.344,0.35],\"y\":[-0.0018000000000000002,-0.0017,-0.0015,-0.0013000000000000002,-0.0011,-0.0009,-0.0007,-0.0005,0,-0.0003],\"type\":\"scatter\",\"mode\":\"\",\"name\":\"i\"}],\n",
       "  {\"width\":1000,\"height\":500,\"xaxis\":{\"title\":\"電圧(V)\"},\"yaxis\":{\"title\":\"電流(I)\"}},\n",
       "  {\"linkText\":\"Export to plot.ly\",\"showLink\":true}\n",
       ")\n",
       "\n",
       "window.addEventListener('resize', function() {\n",
       "  Plotly.Plots.resize(document.getElementById('183d33b4-030f-4c4e-9665-bd75b66a875f'))\n",
       "})\n",
       " }) \n",
       "</script>"
      ],
      "text/plain": [
       "#<Plotly::Offline::HTML:0x007f9c9b4e62b0 @id=\"183d33b4-030f-4c4e-9665-bd75b66a875f\", @data=[{:x=>[0.18, 0.194, 0.224, 0.247, 0.27, 0.293, 0.31, 0.331, 0.344, 0.35], :y=>[-0.0018000000000000002, -0.0017, -0.0015, -0.0013000000000000002, -0.0011, -0.0009, -0.0007, -0.0005, 0, -0.0003], :type=>:scatter, :mode=>\"\", :name=>\"i\"}], @layout={:width=>1000, :height=>500, :xaxis=>{:title=>\"電圧(V)\"}, :yaxis=>{:title=>\"電流(I)\"}}, @config={:linkText=>\"Export to plot.ly\", :showLink=>true}, @embedded=true>"
      ]
     },
     "metadata": {},
     "output_type": "display_data"
    },
    {
     "data": {
      "text/html": [
       "\n",
       "  <script>\n",
       "  requirejs.config({paths: { 'plotly': ['https://cdn.plot.ly/plotly-latest.min'] }})\n",
       "  </script>\n",
       "\n",
       "\n",
       "<div id=\"d643a8d3-c448-4286-b600-a0ade45d9a41\" style=\"height: 100%; width: 100%;\"></div>\n",
       "\n",
       "<script>\n",
       " require(['plotly'], function(Plotly) { \n",
       "Plotly.newPlot(\n",
       "  'd643a8d3-c448-4286-b600-a0ade45d9a41',\n",
       "  [{\"x\":[0.094,0.154,0.213,0.252,0.278,0.297,0.32],\"y\":[-0.00094,-0.00086,-0.0007,-0.00055,-0.0004,-0.00026,0],\"type\":\"scatter\",\"mode\":\"\",\"name\":\"i\"}],\n",
       "  {\"width\":1000,\"height\":500,\"xaxis\":{\"title\":\"電圧(V)\"},\"yaxis\":{\"title\":\"電流(I)\"}},\n",
       "  {\"linkText\":\"Export to plot.ly\",\"showLink\":true}\n",
       ")\n",
       "\n",
       "window.addEventListener('resize', function() {\n",
       "  Plotly.Plots.resize(document.getElementById('d643a8d3-c448-4286-b600-a0ade45d9a41'))\n",
       "})\n",
       " }) \n",
       "</script>"
      ],
      "text/plain": [
       "#<Plotly::Offline::HTML:0x007f9c9c48bbc0 @id=\"d643a8d3-c448-4286-b600-a0ade45d9a41\", @data=[{:x=>[0.094, 0.154, 0.213, 0.252, 0.278, 0.297, 0.32], :y=>[-0.00094, -0.00086, -0.0007, -0.00055, -0.0004, -0.00026, 0], :type=>:scatter, :mode=>\"\", :name=>\"i\"}], @layout={:width=>1000, :height=>500, :xaxis=>{:title=>\"電圧(V)\"}, :yaxis=>{:title=>\"電流(I)\"}}, @config={:linkText=>\"Export to plot.ly\", :showLink=>true}, @embedded=true>"
      ]
     },
     "metadata": {},
     "output_type": "display_data"
    },
    {
     "data": {
      "text/html": [
       "\n",
       "  <script>\n",
       "  requirejs.config({paths: { 'plotly': ['https://cdn.plot.ly/plotly-latest.min'] }})\n",
       "  </script>\n",
       "\n",
       "\n",
       "<div id=\"f6393d9a-8ac1-4acd-a303-917f527dc7bc\" style=\"height: 100%; width: 100%;\"></div>\n",
       "\n",
       "<script>\n",
       " require(['plotly'], function(Plotly) { \n",
       "Plotly.newPlot(\n",
       "  'f6393d9a-8ac1-4acd-a303-917f527dc7bc',\n",
       "  [{\"x\":[4.7e-05,0.121,0.187,0.222,0.249,0.267,0.282,0.339],\"y\":[-0.000466,-0.00045,-0.00041,-0.00037,-0.00033,-0.00029,-0.000245,0],\"type\":\"scatter\",\"mode\":\"\",\"name\":\"i\"}],\n",
       "  {\"width\":1000,\"height\":500,\"xaxis\":{\"title\":\"電圧(V)\"},\"yaxis\":{\"title\":\"電流(I)\"}},\n",
       "  {\"linkText\":\"Export to plot.ly\",\"showLink\":true}\n",
       ")\n",
       "\n",
       "window.addEventListener('resize', function() {\n",
       "  Plotly.Plots.resize(document.getElementById('f6393d9a-8ac1-4acd-a303-917f527dc7bc'))\n",
       "})\n",
       " }) \n",
       "</script>"
      ],
      "text/plain": [
       "#<Plotly::Offline::HTML:0x007f9c9c45b380 @id=\"f6393d9a-8ac1-4acd-a303-917f527dc7bc\", @data=[{:x=>[4.7e-05, 0.121, 0.187, 0.222, 0.249, 0.267, 0.282, 0.339], :y=>[-0.000466, -0.00045, -0.00041, -0.00037, -0.00033, -0.00029, -0.000245, 0], :type=>:scatter, :mode=>\"\", :name=>\"i\"}], @layout={:width=>1000, :height=>500, :xaxis=>{:title=>\"電圧(V)\"}, :yaxis=>{:title=>\"電流(I)\"}}, @config={:linkText=>\"Export to plot.ly\", :showLink=>true}, @embedded=true>"
      ]
     },
     "metadata": {},
     "output_type": "display_data"
    }
   ],
   "source": [
    "['itano', 'nakagawa', 'sangenya', 'nagura'].each do |member|\n",
    "  data = ['dark', '5cm', '15cm', '25cm'].map do |name|\n",
    "    file_name = \"data/#{member}/#{name}_solar_battery.csv\"\n",
    "    if File.exists?(file_name)\n",
    "      Daru::DataFrame.from_csv(file_name).sort(['v']).to_h.map { |k, v| [k == 'v' ? 'x' : 'y', v.to_a] }.to_h.merge(name: \"#{member}_#{name}\", mode: 'markers+lines')\n",
    "    end\n",
    "  end\n",
    "  Plotly::Plot.new(data: data, layout: { xaxis: { title: '電圧(V)' }, yaxis: { title: '電流(I)' } }).show\n",
    "end\n",
    "nil"
   ]
  }
 ],
 "metadata": {
  "kernelspec": {
   "display_name": "Ruby 2.3.0",
   "language": "ruby",
   "name": "ruby"
  },
  "language_info": {
   "file_extension": ".rb",
   "mimetype": "application/x-ruby",
   "name": "ruby",
   "version": "2.3.0"
  }
 },
 "nbformat": 4,
 "nbformat_minor": 0
}
