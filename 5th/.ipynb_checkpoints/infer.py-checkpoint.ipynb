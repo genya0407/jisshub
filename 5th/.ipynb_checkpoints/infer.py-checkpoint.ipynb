{
 "cells": [
  {
   "cell_type": "markdown",
   "metadata": {},
   "source": [
    "# 式\n",
    "\n",
    "$0 = -y + \\frac{x}{r_1} + I_0(e^{k(x-yr_2)}-1)$\n",
    "\n",
    "\n",
    "未知のパラメーター: $r_1, r_2, I_0, k$"
   ]
  },
  {
   "cell_type": "markdown",
   "metadata": {},
   "source": [
    "# fの生成"
   ]
  },
  {
   "cell_type": "code",
   "execution_count": 31,
   "metadata": {
    "collapsed": false
   },
   "outputs": [],
   "source": [
    "import sympy as s\n",
    "import sympy.vector as v\n",
    "import pandas\n",
    "from numpy import array\n",
    "\n",
    "from functools import reduce\n",
    "\n",
    "r1, r2, I0, k = s.symbols(\"r1, r2, I0, k\")\n",
    "Field = [r1, r2, I0, k]\n",
    "\n",
    "def args_for_subs(args):\n",
    "    [(var, arg) for var, arg in zip(Field, args)]\n",
    "\n",
    "def eval_vector(f_vector, args):\n",
    "    array(map(lambda f: f.subs(args_for_subs(args)), f_vector))\n",
    "\n",
    "data = pandas.read_csv('data/nakagawa/dark_solar_battery.csv')\n",
    "f = reduce(lambda x,y: x + y, [ (- row['i'] + row['v']/r1 + I0 * (s.exp(k*(row['v']-row['i']*r2))-1) )**2 for _, row in data.iterrows()])\n",
    "f_grad = array([f.diff(var) for var in field])"
   ]
  },
  {
   "cell_type": "markdown",
   "metadata": {},
   "source": [
    "# 最急降下法"
   ]
  },
  {
   "cell_type": "code",
   "execution_count": 27,
   "metadata": {
    "collapsed": true
   },
   "outputs": [],
   "source": [
    "alpha = 0.01\n",
    "epsilon = 0.001\n",
    "\n",
    "x = array([1,1,1,1])\n",
    "while not all(lambda d: d < epsilon, eval_vector(f_grad, x)):\n",
    "    x = x - alpha * eval_vector()"
   ]
  }
 ],
 "metadata": {
  "kernelspec": {
   "display_name": "Python 3",
   "language": "python",
   "name": "python3"
  },
  "language_info": {
   "codemirror_mode": {
    "name": "ipython",
    "version": 3
   },
   "file_extension": ".py",
   "mimetype": "text/x-python",
   "name": "python",
   "nbconvert_exporter": "python",
   "pygments_lexer": "ipython3",
   "version": "3.5.2"
  }
 },
 "nbformat": 4,
 "nbformat_minor": 0
}
