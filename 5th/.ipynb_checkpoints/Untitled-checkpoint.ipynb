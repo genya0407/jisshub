{
 "cells": [
  {
   "cell_type": "code",
   "execution_count": 11,
   "metadata": {
    "collapsed": false
   },
   "outputs": [
    {
     "data": {
      "text/plain": [
       ":plotly"
      ]
     },
     "execution_count": 11,
     "metadata": {},
     "output_type": "execute_result"
    }
   ],
   "source": [
    "require 'daru'\n",
    "require 'daru_plotting_plotly'\n",
    "require 'hg'\n",
    "\n",
    "class Numeric\n",
    "  def mili\n",
    "    (self * 10 ** (-3)).to_f\n",
    "  end\n",
    "  \n",
    "  def micro\n",
    "    (self * 10 ** (-6)).to_f\n",
    "  end\n",
    "end\n",
    "\n",
    "Daru.plotting_library = :plotly"
   ]
  },
  {
   "cell_type": "markdown",
   "metadata": {},
   "source": [
    "# 白い線の太陽電池"
   ]
  },
  {
   "cell_type": "code",
   "execution_count": 22,
   "metadata": {
    "collapsed": false
   },
   "outputs": [
    {
     "data": {
      "text/html": [
       "\n",
       "  <script>\n",
       "  requirejs.config({paths: { 'plotly': ['https://cdn.plot.ly/plotly-latest.min'] }})\n",
       "  </script>\n",
       "\n",
       "\n",
       "<div id=\"c682e4c1-54c9-4e21-948c-11fbb5191b35\" style=\"height: 100%; width: 100%;\"></div>\n",
       "\n",
       "<script>\n",
       " require(['plotly'], function(Plotly) { \n",
       "Plotly.newPlot(\n",
       "  'c682e4c1-54c9-4e21-948c-11fbb5191b35',\n",
       "  [{\"x\":[0.0003,0.0097,0.0162,0.0334,0.0412,0.0523,0.0857,0.1237,0.1555,0.307,0.537,0.95,1.186,1.418,1.506,1.712],\"y\":[4.4e-06,7.7e-05,0.000127,0.000261,0.000321,0.000407,0.00067,0.00096,0.0012,0.0024,0.004200000000000001,0.0074,0.0092,0.0111,0.011800000000000001,0.0135],\"type\":\"scatter\",\"mode\":\"\",\"name\":\"i\"}],\n",
       "  {\"width\":1000,\"height\":500},\n",
       "  {\"linkText\":\"Export to plot.ly\",\"showLink\":true}\n",
       ")\n",
       "\n",
       "window.addEventListener('resize', function() {\n",
       "  Plotly.Plots.resize(document.getElementById('c682e4c1-54c9-4e21-948c-11fbb5191b35'))\n",
       "})\n",
       " }) \n",
       "</script>"
      ],
      "text/plain": [
       "#<Plotly::Offline::HTML:0x007fbbc4bf1558 @id=\"c682e4c1-54c9-4e21-948c-11fbb5191b35\", @data=[{:x=>[0.0003, 0.0097, 0.0162, 0.0334, 0.0412, 0.0523, 0.0857, 0.1237, 0.1555, 0.307, 0.537, 0.95, 1.186, 1.418, 1.506, 1.712], :y=>[4.4e-06, 7.7e-05, 0.000127, 0.000261, 0.000321, 0.000407, 0.00067, 0.00096, 0.0012, 0.0024, 0.004200000000000001, 0.0074, 0.0092, 0.0111, 0.011800000000000001, 0.0135], :type=>:scatter, :mode=>\"\", :name=>\"i\"}], @layout={:width=>1000, :height=>500}, @config={:linkText=>\"Export to plot.ly\", :showLink=>true}, @embedded=true>"
      ]
     },
     "metadata": {},
     "output_type": "display_data"
    }
   ],
   "source": [
    "Daru::DataFrame.from_csv('whiteline_solar_battery.csv').plot(x: 'v', y: 'i').show"
   ]
  },
  {
   "cell_type": "code",
   "execution_count": 51,
   "metadata": {
    "collapsed": false
   },
   "outputs": [
    {
     "data": {
      "text/html": [
       "\n",
       "  <script>\n",
       "  requirejs.config({paths: { 'plotly': ['https://cdn.plot.ly/plotly-latest.min'] }})\n",
       "  </script>\n",
       "\n",
       "\n",
       "<div id=\"ba13c32a-eb4b-4eac-ae37-02f587310838\" style=\"height: 100%; width: 100%;\"></div>\n",
       "\n",
       "<script>\n",
       " require(['plotly'], function(Plotly) { \n",
       "Plotly.newPlot(\n",
       "  'ba13c32a-eb4b-4eac-ae37-02f587310838',\n",
       "  [{\"x\":[-0.408,-0.342,-0.272,-0.13,0.0009000000000000001,0.013800000000000002,0.0292,0.0594,0.115,0.308,0.396,0.499,0.62,0.744,0.814,0.929,1.018,1.111,1.209,1.296,1.4,1.626,1.708],\"y\":[-0.00041,-0.000173,-5.7e-05,-6.3e-06,0,3.0e-07,5.0e-07,1.0e-06,2.0e-06,7.4e-06,1.4e-05,2.8e-05,6.8e-05,0.00017,0.00022,0.00044,0.00071,0.0011,0.0018000000000000002,0.0025,0.0037,0.0079,0.010400000000000001],\"type\":\"scatter\",\"mode\":\"markers+lines\",\"name\":\"i\"}],\n",
       "  {\"width\":1000,\"height\":500},\n",
       "  {\"linkText\":\"Export to plot.ly\",\"showLink\":true}\n",
       ")\n",
       "\n",
       "window.addEventListener('resize', function() {\n",
       "  Plotly.Plots.resize(document.getElementById('ba13c32a-eb4b-4eac-ae37-02f587310838'))\n",
       "})\n",
       " }) \n",
       "</script>"
      ],
      "text/plain": [
       "#<Plotly::Offline::HTML:0x007fbbc4e19a10 @id=\"ba13c32a-eb4b-4eac-ae37-02f587310838\", @data=[{:x=>[-0.408, -0.342, -0.272, -0.13, 0.0009000000000000001, 0.013800000000000002, 0.0292, 0.0594, 0.115, 0.308, 0.396, 0.499, 0.62, 0.744, 0.814, 0.929, 1.018, 1.111, 1.209, 1.296, 1.4, 1.626, 1.708], :y=>[-0.00041, -0.000173, -5.7e-05, -6.3e-06, 0, 3.0e-07, 5.0e-07, 1.0e-06, 2.0e-06, 7.4e-06, 1.4e-05, 2.8e-05, 6.8e-05, 0.00017, 0.00022, 0.00044, 0.00071, 0.0011, 0.0018000000000000002, 0.0025, 0.0037, 0.0079, 0.010400000000000001], :type=>:scatter, :mode=>\"markers+lines\", :name=>\"i\"}], @layout={:width=>1000, :height=>500}, @config={:linkText=>\"Export to plot.ly\", :showLink=>true}, @embedded=true>"
      ]
     },
     "metadata": {},
     "output_type": "display_data"
    }
   ],
   "source": [
    "Daru::DataFrame.from_csv('itano_solar_battery.csv').plot(x: 'v', y: 'i', mode: [:markers, :lines]).show"
   ]
  },
  {
   "cell_type": "code",
   "execution_count": 73,
   "metadata": {
    "collapsed": false
   },
   "outputs": [
    {
     "data": {
      "text/html": [
       "\n",
       "  <script>\n",
       "  requirejs.config({paths: { 'plotly': ['https://cdn.plot.ly/plotly-latest.min'] }})\n",
       "  </script>\n",
       "\n",
       "\n",
       "<div id=\"748bfb92-1d69-43de-b4ba-7e617956a4ae\" style=\"height: 100%; width: 100%;\"></div>\n",
       "\n",
       "<script>\n",
       " require(['plotly'], function(Plotly) { \n",
       "Plotly.newPlot(\n",
       "  '748bfb92-1d69-43de-b4ba-7e617956a4ae',\n",
       "  [{\"x\":[-0.165,-0.123,-0.105,0.0008,0.0346,0.07529999999999999,0.142,0.35,0.458,0.538,0.614,0.709,0.734,0.774,0.802,0.874,0.911,0.991],\"y\":[-0.00023,-9.6e-05,-8.0e-07,8.0e-07,3.3e-05,7.3e-05,0.00014,0.000439,0.000743,0.00115,0.0017,0.0029,0.0033,0.0039,0.0044,0.005900000000000001,0.0068,0.009000000000000001],\"type\":\"scatter\",\"mode\":\"\",\"name\":\"i\"}],\n",
       "  {\"width\":1000,\"height\":500},\n",
       "  {\"linkText\":\"Export to plot.ly\",\"showLink\":true}\n",
       ")\n",
       "\n",
       "window.addEventListener('resize', function() {\n",
       "  Plotly.Plots.resize(document.getElementById('748bfb92-1d69-43de-b4ba-7e617956a4ae'))\n",
       "})\n",
       " }) \n",
       "</script>"
      ],
      "text/plain": [
       "#<Plotly::Offline::HTML:0x007fbbc4b03830 @id=\"748bfb92-1d69-43de-b4ba-7e617956a4ae\", @data=[{:x=>[-0.165, -0.123, -0.105, 0.0008, 0.0346, 0.07529999999999999, 0.142, 0.35, 0.458, 0.538, 0.614, 0.709, 0.734, 0.774, 0.802, 0.874, 0.911, 0.991], :y=>[-0.00023, -9.6e-05, -8.0e-07, 8.0e-07, 3.3e-05, 7.3e-05, 0.00014, 0.000439, 0.000743, 0.00115, 0.0017, 0.0029, 0.0033, 0.0039, 0.0044, 0.005900000000000001, 0.0068, 0.009000000000000001], :type=>:scatter, :mode=>\"\", :name=>\"i\"}], @layout={:width=>1000, :height=>500}, @config={:linkText=>\"Export to plot.ly\", :showLink=>true}, @embedded=true>"
      ]
     },
     "metadata": {},
     "output_type": "display_data"
    }
   ],
   "source": [
    "Daru::DataFrame.from_csv('sangenya_solar_battery.csv').plot(x: 'v', y: 'i').show"
   ]
  }
 ],
 "metadata": {
  "kernelspec": {
   "display_name": "Ruby 2.3.0",
   "language": "ruby",
   "name": "ruby"
  },
  "language_info": {
   "file_extension": ".rb",
   "mimetype": "application/x-ruby",
   "name": "ruby",
   "version": "2.3.0"
  }
 },
 "nbformat": 4,
 "nbformat_minor": 0
}
